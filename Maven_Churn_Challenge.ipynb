{
  "nbformat": 4,
  "nbformat_minor": 0,
  "metadata": {
    "colab": {
      "name": "Maven Churn Challenge.ipynb",
      "provenance": [],
      "collapsed_sections": [
        "VtPk614z4HqY",
        "6DYmw_Hh4PQM",
        "y5morUKg473u",
        "zvCAS3iB5xr5",
        "ulBOdbPu6FYu",
        "D6hwqevU6Xde",
        "o3oVSVt36tCG",
        "Jt4NHTx_70Cj",
        "LL-JTd4p_vd3",
        "u3sfhUakAF_A",
        "p8JZnr3SBSlQ",
        "6cgF5im6Cyuo",
        "DFjCEJmsDtiC",
        "aLb16pfiEkcV",
        "mQDF3ArCF-DK",
        "igw95XJZGWYB",
        "9v0sTjbqHq-S",
        "k82e2sasIvkl",
        "a_l88yd6Joiu",
        "MTsZOCd8KAB2",
        "BbKhPjoyKSof",
        "S_VbmilyKjZh",
        "iAfmF2wCKw_Z",
        "FAXov8pjK-hP",
        "Tscr8zrdMrqY",
        "GYIvuOJxM9Xt",
        "-pE8OeA1SGje",
        "64TqRkT6SiVK",
        "ZCjbqsV3TD0Y",
        "Jo4gwFILULOo",
        "k7s4jK16UdfK",
        "1BiB2sAjVJNi",
        "Y0TMkNl7Vuj6"
      ],
      "toc_visible": true,
      "authorship_tag": "ABX9TyPfDitWvxiKljY9w1qVqEPe",
      "include_colab_link": true
    },
    "kernelspec": {
      "name": "python3",
      "display_name": "Python 3"
    },
    "language_info": {
      "name": "python"
    }
  },
  "cells": [
    {
      "cell_type": "markdown",
      "metadata": {
        "id": "view-in-github",
        "colab_type": "text"
      },
      "source": [
        "<a href=\"https://colab.research.google.com/github/leticiamchd/Maven-Churn-Challenge/blob/main/Maven_Churn_Challenge.ipynb\" target=\"_parent\"><img src=\"https://colab.research.google.com/assets/colab-badge.svg\" alt=\"Open In Colab\"/></a>"
      ]
    },
    {
      "cell_type": "code",
      "execution_count": null,
      "metadata": {
        "id": "YPpNCBrfxdHd"
      },
      "outputs": [],
      "source": [
        "import pandas as pd"
      ]
    },
    {
      "cell_type": "code",
      "source": [
        "import matplotlib.pyplot as plt\n"
      ],
      "metadata": {
        "id": "mjB5ELP55U2G"
      },
      "execution_count": null,
      "outputs": []
    },
    {
      "cell_type": "code",
      "source": [
        "import seaborn as sns"
      ],
      "metadata": {
        "id": "JKA7bfW3bvT_"
      },
      "execution_count": null,
      "outputs": []
    },
    {
      "cell_type": "code",
      "source": [
        "import numpy as np"
      ],
      "metadata": {
        "id": "k904DwUutlMa"
      },
      "execution_count": null,
      "outputs": []
    },
    {
      "cell_type": "code",
      "source": [
        "df_customers = pd.read_csv(\"https://raw.githubusercontent.com/leticiamchd/Datasets/main/Maven%20Churn%20Challenge/telecom_customer_churn.csv\")"
      ],
      "metadata": {
        "id": "1EzzrCSJytbd"
      },
      "execution_count": null,
      "outputs": []
    },
    {
      "cell_type": "code",
      "source": [
        "df_customers.head()"
      ],
      "metadata": {
        "id": "52wYSymSyxnE"
      },
      "execution_count": null,
      "outputs": []
    },
    {
      "cell_type": "code",
      "source": [
        "df_customers.shape"
      ],
      "metadata": {
        "colab": {
          "base_uri": "https://localhost:8080/"
        },
        "id": "4SMzDiOKzKRx",
        "outputId": "9275dc17-e0cd-473d-ff8b-f0f423cff7c8"
      },
      "execution_count": null,
      "outputs": [
        {
          "output_type": "execute_result",
          "data": {
            "text/plain": [
              "(7043, 38)"
            ]
          },
          "metadata": {},
          "execution_count": 4
        }
      ]
    },
    {
      "cell_type": "code",
      "source": [
        "df_customers.columns\n"
      ],
      "metadata": {
        "colab": {
          "base_uri": "https://localhost:8080/"
        },
        "id": "M9WsRAP4y0ac",
        "outputId": "41d513b4-c8a2-440e-d526-7de124db7f1f"
      },
      "execution_count": null,
      "outputs": [
        {
          "output_type": "execute_result",
          "data": {
            "text/plain": [
              "Index(['Customer ID', 'Gender', 'Age', 'Married', 'Number of Dependents',\n",
              "       'City', 'Zip Code', 'Latitude', 'Longitude', 'Number of Referrals',\n",
              "       'Tenure in Months', 'Offer', 'Phone Service',\n",
              "       'Avg Monthly Long Distance Charges', 'Multiple Lines',\n",
              "       'Internet Service', 'Internet Type', 'Avg Monthly GB Download',\n",
              "       'Online Security', 'Online Backup', 'Device Protection Plan',\n",
              "       'Premium Tech Support', 'Streaming TV', 'Streaming Movies',\n",
              "       'Streaming Music', 'Unlimited Data', 'Contract', 'Paperless Billing',\n",
              "       'Payment Method', 'Monthly Charge', 'Total Charges', 'Total Refunds',\n",
              "       'Total Extra Data Charges', 'Total Long Distance Charges',\n",
              "       'Total Revenue', 'Customer Status', 'Churn Category', 'Churn Reason'],\n",
              "      dtype='object')"
            ]
          },
          "metadata": {},
          "execution_count": 6
        }
      ]
    },
    {
      "cell_type": "code",
      "source": [
        "df_customers.describe()"
      ],
      "metadata": {
        "colab": {
          "base_uri": "https://localhost:8080/",
          "height": 434
        },
        "id": "jU-gJqSQzRgM",
        "outputId": "ae6e4850-3ef4-4ccd-f4e6-9f2f7907d778"
      },
      "execution_count": null,
      "outputs": [
        {
          "output_type": "execute_result",
          "data": {
            "text/plain": [
              "               Age  Number of Dependents      Zip Code     Latitude  \\\n",
              "count  7043.000000           7043.000000   7043.000000  7043.000000   \n",
              "mean     46.509726              0.468692  93486.070567    36.197455   \n",
              "std      16.750352              0.962802   1856.767505     2.468929   \n",
              "min      19.000000              0.000000  90001.000000    32.555828   \n",
              "25%      32.000000              0.000000  92101.000000    33.990646   \n",
              "50%      46.000000              0.000000  93518.000000    36.205465   \n",
              "75%      60.000000              0.000000  95329.000000    38.161321   \n",
              "max      80.000000              9.000000  96150.000000    41.962127   \n",
              "\n",
              "         Longitude  Number of Referrals  Tenure in Months  \\\n",
              "count  7043.000000          7043.000000       7043.000000   \n",
              "mean   -119.756684             1.951867         32.386767   \n",
              "std       2.154425             3.001199         24.542061   \n",
              "min    -124.301372             0.000000          1.000000   \n",
              "25%    -121.788090             0.000000          9.000000   \n",
              "50%    -119.595293             0.000000         29.000000   \n",
              "75%    -117.969795             3.000000         55.000000   \n",
              "max    -114.192901            11.000000         72.000000   \n",
              "\n",
              "       Avg Monthly Long Distance Charges  Avg Monthly GB Download  \\\n",
              "count                        6361.000000              5517.000000   \n",
              "mean                           25.420517                26.189958   \n",
              "std                            14.200374                19.586585   \n",
              "min                             1.010000                 2.000000   \n",
              "25%                            13.050000                13.000000   \n",
              "50%                            25.690000                21.000000   \n",
              "75%                            37.680000                30.000000   \n",
              "max                            49.990000                85.000000   \n",
              "\n",
              "       Monthly Charge  Total Charges  Total Refunds  Total Extra Data Charges  \\\n",
              "count     7043.000000    7043.000000    7043.000000               7043.000000   \n",
              "mean        63.596131    2280.381264       1.962182                  6.860713   \n",
              "std         31.204743    2266.220462       7.902614                 25.104978   \n",
              "min        -10.000000      18.800000       0.000000                  0.000000   \n",
              "25%         30.400000     400.150000       0.000000                  0.000000   \n",
              "50%         70.050000    1394.550000       0.000000                  0.000000   \n",
              "75%         89.750000    3786.600000       0.000000                  0.000000   \n",
              "max        118.750000    8684.800000      49.790000                150.000000   \n",
              "\n",
              "       Total Long Distance Charges  Total Revenue  \n",
              "count                  7043.000000    7043.000000  \n",
              "mean                    749.099262    3034.379056  \n",
              "std                     846.660055    2865.204542  \n",
              "min                       0.000000      21.360000  \n",
              "25%                      70.545000     605.610000  \n",
              "50%                     401.440000    2108.640000  \n",
              "75%                    1191.100000    4801.145000  \n",
              "max                    3564.720000   11979.340000  "
            ],
            "text/html": [
              "\n",
              "  <div id=\"df-84c97350-533e-47b2-91bb-58b140aa68b6\">\n",
              "    <div class=\"colab-df-container\">\n",
              "      <div>\n",
              "<style scoped>\n",
              "    .dataframe tbody tr th:only-of-type {\n",
              "        vertical-align: middle;\n",
              "    }\n",
              "\n",
              "    .dataframe tbody tr th {\n",
              "        vertical-align: top;\n",
              "    }\n",
              "\n",
              "    .dataframe thead th {\n",
              "        text-align: right;\n",
              "    }\n",
              "</style>\n",
              "<table border=\"1\" class=\"dataframe\">\n",
              "  <thead>\n",
              "    <tr style=\"text-align: right;\">\n",
              "      <th></th>\n",
              "      <th>Age</th>\n",
              "      <th>Number of Dependents</th>\n",
              "      <th>Zip Code</th>\n",
              "      <th>Latitude</th>\n",
              "      <th>Longitude</th>\n",
              "      <th>Number of Referrals</th>\n",
              "      <th>Tenure in Months</th>\n",
              "      <th>Avg Monthly Long Distance Charges</th>\n",
              "      <th>Avg Monthly GB Download</th>\n",
              "      <th>Monthly Charge</th>\n",
              "      <th>Total Charges</th>\n",
              "      <th>Total Refunds</th>\n",
              "      <th>Total Extra Data Charges</th>\n",
              "      <th>Total Long Distance Charges</th>\n",
              "      <th>Total Revenue</th>\n",
              "    </tr>\n",
              "  </thead>\n",
              "  <tbody>\n",
              "    <tr>\n",
              "      <th>count</th>\n",
              "      <td>7043.000000</td>\n",
              "      <td>7043.000000</td>\n",
              "      <td>7043.000000</td>\n",
              "      <td>7043.000000</td>\n",
              "      <td>7043.000000</td>\n",
              "      <td>7043.000000</td>\n",
              "      <td>7043.000000</td>\n",
              "      <td>6361.000000</td>\n",
              "      <td>5517.000000</td>\n",
              "      <td>7043.000000</td>\n",
              "      <td>7043.000000</td>\n",
              "      <td>7043.000000</td>\n",
              "      <td>7043.000000</td>\n",
              "      <td>7043.000000</td>\n",
              "      <td>7043.000000</td>\n",
              "    </tr>\n",
              "    <tr>\n",
              "      <th>mean</th>\n",
              "      <td>46.509726</td>\n",
              "      <td>0.468692</td>\n",
              "      <td>93486.070567</td>\n",
              "      <td>36.197455</td>\n",
              "      <td>-119.756684</td>\n",
              "      <td>1.951867</td>\n",
              "      <td>32.386767</td>\n",
              "      <td>25.420517</td>\n",
              "      <td>26.189958</td>\n",
              "      <td>63.596131</td>\n",
              "      <td>2280.381264</td>\n",
              "      <td>1.962182</td>\n",
              "      <td>6.860713</td>\n",
              "      <td>749.099262</td>\n",
              "      <td>3034.379056</td>\n",
              "    </tr>\n",
              "    <tr>\n",
              "      <th>std</th>\n",
              "      <td>16.750352</td>\n",
              "      <td>0.962802</td>\n",
              "      <td>1856.767505</td>\n",
              "      <td>2.468929</td>\n",
              "      <td>2.154425</td>\n",
              "      <td>3.001199</td>\n",
              "      <td>24.542061</td>\n",
              "      <td>14.200374</td>\n",
              "      <td>19.586585</td>\n",
              "      <td>31.204743</td>\n",
              "      <td>2266.220462</td>\n",
              "      <td>7.902614</td>\n",
              "      <td>25.104978</td>\n",
              "      <td>846.660055</td>\n",
              "      <td>2865.204542</td>\n",
              "    </tr>\n",
              "    <tr>\n",
              "      <th>min</th>\n",
              "      <td>19.000000</td>\n",
              "      <td>0.000000</td>\n",
              "      <td>90001.000000</td>\n",
              "      <td>32.555828</td>\n",
              "      <td>-124.301372</td>\n",
              "      <td>0.000000</td>\n",
              "      <td>1.000000</td>\n",
              "      <td>1.010000</td>\n",
              "      <td>2.000000</td>\n",
              "      <td>-10.000000</td>\n",
              "      <td>18.800000</td>\n",
              "      <td>0.000000</td>\n",
              "      <td>0.000000</td>\n",
              "      <td>0.000000</td>\n",
              "      <td>21.360000</td>\n",
              "    </tr>\n",
              "    <tr>\n",
              "      <th>25%</th>\n",
              "      <td>32.000000</td>\n",
              "      <td>0.000000</td>\n",
              "      <td>92101.000000</td>\n",
              "      <td>33.990646</td>\n",
              "      <td>-121.788090</td>\n",
              "      <td>0.000000</td>\n",
              "      <td>9.000000</td>\n",
              "      <td>13.050000</td>\n",
              "      <td>13.000000</td>\n",
              "      <td>30.400000</td>\n",
              "      <td>400.150000</td>\n",
              "      <td>0.000000</td>\n",
              "      <td>0.000000</td>\n",
              "      <td>70.545000</td>\n",
              "      <td>605.610000</td>\n",
              "    </tr>\n",
              "    <tr>\n",
              "      <th>50%</th>\n",
              "      <td>46.000000</td>\n",
              "      <td>0.000000</td>\n",
              "      <td>93518.000000</td>\n",
              "      <td>36.205465</td>\n",
              "      <td>-119.595293</td>\n",
              "      <td>0.000000</td>\n",
              "      <td>29.000000</td>\n",
              "      <td>25.690000</td>\n",
              "      <td>21.000000</td>\n",
              "      <td>70.050000</td>\n",
              "      <td>1394.550000</td>\n",
              "      <td>0.000000</td>\n",
              "      <td>0.000000</td>\n",
              "      <td>401.440000</td>\n",
              "      <td>2108.640000</td>\n",
              "    </tr>\n",
              "    <tr>\n",
              "      <th>75%</th>\n",
              "      <td>60.000000</td>\n",
              "      <td>0.000000</td>\n",
              "      <td>95329.000000</td>\n",
              "      <td>38.161321</td>\n",
              "      <td>-117.969795</td>\n",
              "      <td>3.000000</td>\n",
              "      <td>55.000000</td>\n",
              "      <td>37.680000</td>\n",
              "      <td>30.000000</td>\n",
              "      <td>89.750000</td>\n",
              "      <td>3786.600000</td>\n",
              "      <td>0.000000</td>\n",
              "      <td>0.000000</td>\n",
              "      <td>1191.100000</td>\n",
              "      <td>4801.145000</td>\n",
              "    </tr>\n",
              "    <tr>\n",
              "      <th>max</th>\n",
              "      <td>80.000000</td>\n",
              "      <td>9.000000</td>\n",
              "      <td>96150.000000</td>\n",
              "      <td>41.962127</td>\n",
              "      <td>-114.192901</td>\n",
              "      <td>11.000000</td>\n",
              "      <td>72.000000</td>\n",
              "      <td>49.990000</td>\n",
              "      <td>85.000000</td>\n",
              "      <td>118.750000</td>\n",
              "      <td>8684.800000</td>\n",
              "      <td>49.790000</td>\n",
              "      <td>150.000000</td>\n",
              "      <td>3564.720000</td>\n",
              "      <td>11979.340000</td>\n",
              "    </tr>\n",
              "  </tbody>\n",
              "</table>\n",
              "</div>\n",
              "      <button class=\"colab-df-convert\" onclick=\"convertToInteractive('df-84c97350-533e-47b2-91bb-58b140aa68b6')\"\n",
              "              title=\"Convert this dataframe to an interactive table.\"\n",
              "              style=\"display:none;\">\n",
              "        \n",
              "  <svg xmlns=\"http://www.w3.org/2000/svg\" height=\"24px\"viewBox=\"0 0 24 24\"\n",
              "       width=\"24px\">\n",
              "    <path d=\"M0 0h24v24H0V0z\" fill=\"none\"/>\n",
              "    <path d=\"M18.56 5.44l.94 2.06.94-2.06 2.06-.94-2.06-.94-.94-2.06-.94 2.06-2.06.94zm-11 1L8.5 8.5l.94-2.06 2.06-.94-2.06-.94L8.5 2.5l-.94 2.06-2.06.94zm10 10l.94 2.06.94-2.06 2.06-.94-2.06-.94-.94-2.06-.94 2.06-2.06.94z\"/><path d=\"M17.41 7.96l-1.37-1.37c-.4-.4-.92-.59-1.43-.59-.52 0-1.04.2-1.43.59L10.3 9.45l-7.72 7.72c-.78.78-.78 2.05 0 2.83L4 21.41c.39.39.9.59 1.41.59.51 0 1.02-.2 1.41-.59l7.78-7.78 2.81-2.81c.8-.78.8-2.07 0-2.86zM5.41 20L4 18.59l7.72-7.72 1.47 1.35L5.41 20z\"/>\n",
              "  </svg>\n",
              "      </button>\n",
              "      \n",
              "  <style>\n",
              "    .colab-df-container {\n",
              "      display:flex;\n",
              "      flex-wrap:wrap;\n",
              "      gap: 12px;\n",
              "    }\n",
              "\n",
              "    .colab-df-convert {\n",
              "      background-color: #E8F0FE;\n",
              "      border: none;\n",
              "      border-radius: 50%;\n",
              "      cursor: pointer;\n",
              "      display: none;\n",
              "      fill: #1967D2;\n",
              "      height: 32px;\n",
              "      padding: 0 0 0 0;\n",
              "      width: 32px;\n",
              "    }\n",
              "\n",
              "    .colab-df-convert:hover {\n",
              "      background-color: #E2EBFA;\n",
              "      box-shadow: 0px 1px 2px rgba(60, 64, 67, 0.3), 0px 1px 3px 1px rgba(60, 64, 67, 0.15);\n",
              "      fill: #174EA6;\n",
              "    }\n",
              "\n",
              "    [theme=dark] .colab-df-convert {\n",
              "      background-color: #3B4455;\n",
              "      fill: #D2E3FC;\n",
              "    }\n",
              "\n",
              "    [theme=dark] .colab-df-convert:hover {\n",
              "      background-color: #434B5C;\n",
              "      box-shadow: 0px 1px 3px 1px rgba(0, 0, 0, 0.15);\n",
              "      filter: drop-shadow(0px 1px 2px rgba(0, 0, 0, 0.3));\n",
              "      fill: #FFFFFF;\n",
              "    }\n",
              "  </style>\n",
              "\n",
              "      <script>\n",
              "        const buttonEl =\n",
              "          document.querySelector('#df-84c97350-533e-47b2-91bb-58b140aa68b6 button.colab-df-convert');\n",
              "        buttonEl.style.display =\n",
              "          google.colab.kernel.accessAllowed ? 'block' : 'none';\n",
              "\n",
              "        async function convertToInteractive(key) {\n",
              "          const element = document.querySelector('#df-84c97350-533e-47b2-91bb-58b140aa68b6');\n",
              "          const dataTable =\n",
              "            await google.colab.kernel.invokeFunction('convertToInteractive',\n",
              "                                                     [key], {});\n",
              "          if (!dataTable) return;\n",
              "\n",
              "          const docLinkHtml = 'Like what you see? Visit the ' +\n",
              "            '<a target=\"_blank\" href=https://colab.research.google.com/notebooks/data_table.ipynb>data table notebook</a>'\n",
              "            + ' to learn more about interactive tables.';\n",
              "          element.innerHTML = '';\n",
              "          dataTable['output_type'] = 'display_data';\n",
              "          await google.colab.output.renderOutput(dataTable, element);\n",
              "          const docLink = document.createElement('div');\n",
              "          docLink.innerHTML = docLinkHtml;\n",
              "          element.appendChild(docLink);\n",
              "        }\n",
              "      </script>\n",
              "    </div>\n",
              "  </div>\n",
              "  "
            ]
          },
          "metadata": {},
          "execution_count": 7
        }
      ]
    },
    {
      "cell_type": "code",
      "source": [
        "df_customers.dtypes"
      ],
      "metadata": {
        "colab": {
          "base_uri": "https://localhost:8080/"
        },
        "id": "Q_33bbbQz19-",
        "outputId": "012b0d0d-e45e-4c3a-d288-a0c789a56c7f"
      },
      "execution_count": null,
      "outputs": [
        {
          "output_type": "execute_result",
          "data": {
            "text/plain": [
              "Customer ID                           object\n",
              "Gender                                object\n",
              "Age                                    int64\n",
              "Married                               object\n",
              "Number of Dependents                   int64\n",
              "City                                  object\n",
              "Zip Code                               int64\n",
              "Latitude                             float64\n",
              "Longitude                            float64\n",
              "Number of Referrals                    int64\n",
              "Tenure in Months                       int64\n",
              "Offer                                 object\n",
              "Phone Service                         object\n",
              "Avg Monthly Long Distance Charges    float64\n",
              "Multiple Lines                        object\n",
              "Internet Service                      object\n",
              "Internet Type                         object\n",
              "Avg Monthly GB Download              float64\n",
              "Online Security                       object\n",
              "Online Backup                         object\n",
              "Device Protection Plan                object\n",
              "Premium Tech Support                  object\n",
              "Streaming TV                          object\n",
              "Streaming Movies                      object\n",
              "Streaming Music                       object\n",
              "Unlimited Data                        object\n",
              "Contract                              object\n",
              "Paperless Billing                     object\n",
              "Payment Method                        object\n",
              "Monthly Charge                       float64\n",
              "Total Charges                        float64\n",
              "Total Refunds                        float64\n",
              "Total Extra Data Charges               int64\n",
              "Total Long Distance Charges          float64\n",
              "Total Revenue                        float64\n",
              "Customer Status                       object\n",
              "Churn Category                        object\n",
              "Churn Reason                          object\n",
              "dtype: object"
            ]
          },
          "metadata": {},
          "execution_count": 11
        }
      ]
    },
    {
      "cell_type": "code",
      "source": [
        "df_customers.isnull().sum()"
      ],
      "metadata": {
        "colab": {
          "base_uri": "https://localhost:8080/"
        },
        "id": "H7z-rr-R3pw5",
        "outputId": "b64e88a0-5c28-4f1b-b0b6-fe8e6be13506"
      },
      "execution_count": null,
      "outputs": [
        {
          "output_type": "execute_result",
          "data": {
            "text/plain": [
              "Customer ID                             0\n",
              "Gender                                  0\n",
              "Age                                     0\n",
              "Married                                 0\n",
              "Number of Dependents                    0\n",
              "City                                    0\n",
              "Zip Code                                0\n",
              "Latitude                                0\n",
              "Longitude                               0\n",
              "Number of Referrals                     0\n",
              "Tenure in Months                        0\n",
              "Offer                                   0\n",
              "Phone Service                           0\n",
              "Avg Monthly Long Distance Charges     682\n",
              "Multiple Lines                        682\n",
              "Internet Service                        0\n",
              "Internet Type                        1526\n",
              "Avg Monthly GB Download              1526\n",
              "Online Security                      1526\n",
              "Online Backup                        1526\n",
              "Device Protection Plan               1526\n",
              "Premium Tech Support                 1526\n",
              "Streaming TV                         1526\n",
              "Streaming Movies                     1526\n",
              "Streaming Music                      1526\n",
              "Unlimited Data                       1526\n",
              "Contract                                0\n",
              "Paperless Billing                       0\n",
              "Payment Method                          0\n",
              "Monthly Charge                          0\n",
              "Total Charges                           0\n",
              "Total Refunds                           0\n",
              "Total Extra Data Charges                0\n",
              "Total Long Distance Charges             0\n",
              "Total Revenue                           0\n",
              "Customer Status                         0\n",
              "Churn Category                       5174\n",
              "Churn Reason                         5174\n",
              "dtype: int64"
            ]
          },
          "metadata": {},
          "execution_count": 12
        }
      ]
    },
    {
      "cell_type": "markdown",
      "source": [
        "## Análise exploratória de cada variável"
      ],
      "metadata": {
        "id": "FshZ87kw3jR9"
      }
    },
    {
      "cell_type": "markdown",
      "source": [
        "### Customer ID"
      ],
      "metadata": {
        "id": "VtPk614z4HqY"
      }
    },
    {
      "cell_type": "code",
      "source": [
        "df_customers['Customer ID'].duplicated().sum()"
      ],
      "metadata": {
        "colab": {
          "base_uri": "https://localhost:8080/"
        },
        "id": "FCVfyKayzjFs",
        "outputId": "05df3650-de9d-4a30-d6cd-1c849901b8db"
      },
      "execution_count": null,
      "outputs": [
        {
          "output_type": "execute_result",
          "data": {
            "text/plain": [
              "0"
            ]
          },
          "metadata": {},
          "execution_count": 10
        }
      ]
    },
    {
      "cell_type": "markdown",
      "source": [
        "0 nulo <br/>\n",
        "0 duplicado"
      ],
      "metadata": {
        "id": "35NYB_454qKt"
      }
    },
    {
      "cell_type": "markdown",
      "source": [
        "### Gender"
      ],
      "metadata": {
        "id": "6DYmw_Hh4PQM"
      }
    },
    {
      "cell_type": "code",
      "source": [
        "df_customers['Gender'].value_counts()"
      ],
      "metadata": {
        "colab": {
          "base_uri": "https://localhost:8080/"
        },
        "id": "gVf9S0h831bL",
        "outputId": "8ba5d154-29c4-480b-9b8c-f16668f7a5c9"
      },
      "execution_count": null,
      "outputs": [
        {
          "output_type": "execute_result",
          "data": {
            "text/plain": [
              "Male      3555\n",
              "Female    3488\n",
              "Name: Gender, dtype: int64"
            ]
          },
          "metadata": {},
          "execution_count": 11
        }
      ]
    },
    {
      "cell_type": "code",
      "source": [
        "df_customers['Gender'].value_counts() / df_customers.shape[0] * 100"
      ],
      "metadata": {
        "colab": {
          "base_uri": "https://localhost:8080/"
        },
        "id": "_RemNsMh4Y4q",
        "outputId": "50dae211-1c8e-46ee-fe94-6a17549c6fa6"
      },
      "execution_count": null,
      "outputs": [
        {
          "output_type": "execute_result",
          "data": {
            "text/plain": [
              "Male      50.47565\n",
              "Female    49.52435\n",
              "Name: Gender, dtype: float64"
            ]
          },
          "metadata": {},
          "execution_count": 12
        }
      ]
    },
    {
      "cell_type": "markdown",
      "source": [
        "0 nulo <br/>\n",
        "50,47% Masculino <br/>\n",
        "49,52% Feminino"
      ],
      "metadata": {
        "id": "_N-jTvzY4x7w"
      }
    },
    {
      "cell_type": "markdown",
      "source": [
        "### Age"
      ],
      "metadata": {
        "id": "y5morUKg473u"
      }
    },
    {
      "cell_type": "code",
      "source": [
        "df_customers['Age'].min()"
      ],
      "metadata": {
        "colab": {
          "base_uri": "https://localhost:8080/"
        },
        "id": "_mS7603Y4fR6",
        "outputId": "ceeba9bf-deb1-468d-ed1d-3e031560fef5"
      },
      "execution_count": null,
      "outputs": [
        {
          "output_type": "execute_result",
          "data": {
            "text/plain": [
              "19"
            ]
          },
          "metadata": {},
          "execution_count": 13
        }
      ]
    },
    {
      "cell_type": "code",
      "source": [
        "df_customers['Age'].max()"
      ],
      "metadata": {
        "colab": {
          "base_uri": "https://localhost:8080/"
        },
        "id": "3PxExxdY5FjC",
        "outputId": "a7eb8bdb-50d8-4df8-bd3b-162c79cb21c0"
      },
      "execution_count": null,
      "outputs": [
        {
          "output_type": "execute_result",
          "data": {
            "text/plain": [
              "80"
            ]
          },
          "metadata": {},
          "execution_count": 14
        }
      ]
    },
    {
      "cell_type": "code",
      "source": [
        "df_customers['Age'].value_counts()"
      ],
      "metadata": {
        "colab": {
          "base_uri": "https://localhost:8080/"
        },
        "id": "bqsSSWv45HWZ",
        "outputId": "72a62e98-c4c2-4a5b-e48c-85df33aec245"
      },
      "execution_count": null,
      "outputs": [
        {
          "output_type": "execute_result",
          "data": {
            "text/plain": [
              "42    156\n",
              "47    153\n",
              "40    150\n",
              "44    148\n",
              "23    146\n",
              "     ... \n",
              "80     66\n",
              "78     63\n",
              "66     63\n",
              "67     61\n",
              "72     58\n",
              "Name: Age, Length: 62, dtype: int64"
            ]
          },
          "metadata": {},
          "execution_count": 15
        }
      ]
    },
    {
      "cell_type": "code",
      "source": [
        "df_customers['Age'].hist()"
      ],
      "metadata": {
        "colab": {
          "base_uri": "https://localhost:8080/"
        },
        "id": "agEQ1bXH5KbR",
        "outputId": "6d820e6d-769b-4ad0-a7a3-0cc502fac1e1"
      },
      "execution_count": null,
      "outputs": [
        {
          "output_type": "execute_result",
          "data": {
            "text/plain": [
              "<matplotlib.axes._subplots.AxesSubplot at 0x7f1126e2ca10>"
            ]
          },
          "metadata": {},
          "execution_count": 16
        },
        {
          "output_type": "display_data",
          "data": {
            "text/plain": [
              "<Figure size 432x288 with 1 Axes>"
            ],
            "image/png": "[encoded data removed]"
          },
          "metadata": {
            "needs_background": "light"
          }
        }
      ]
    },
    {
      "cell_type": "markdown",
      "source": [
        "### Married"
      ],
      "metadata": {
        "id": "zvCAS3iB5xr5"
      }
    },
    {
      "cell_type": "code",
      "source": [
        "df_customers['Married'].value_counts()"
      ],
      "metadata": {
        "colab": {
          "base_uri": "https://localhost:8080/"
        },
        "id": "4IfkwLet5Zpq",
        "outputId": "4e89b98c-fe25-402b-8ed8-764f88001a4b"
      },
      "execution_count": null,
      "outputs": [
        {
          "output_type": "execute_result",
          "data": {
            "text/plain": [
              "No     3641\n",
              "Yes    3402\n",
              "Name: Married, dtype: int64"
            ]
          },
          "metadata": {},
          "execution_count": 17
        }
      ]
    },
    {
      "cell_type": "code",
      "source": [
        "df_customers['Married'].value_counts() / df_customers.shape[0] * 100"
      ],
      "metadata": {
        "colab": {
          "base_uri": "https://localhost:8080/"
        },
        "id": "zxtiveRx53iJ",
        "outputId": "ef7d911f-ade8-473e-a679-94b3c629a4d5"
      },
      "execution_count": null,
      "outputs": [
        {
          "output_type": "execute_result",
          "data": {
            "text/plain": [
              "No     51.69672\n",
              "Yes    48.30328\n",
              "Name: Married, dtype: float64"
            ]
          },
          "metadata": {},
          "execution_count": 18
        }
      ]
    },
    {
      "cell_type": "markdown",
      "source": [
        "### Number of Dependents"
      ],
      "metadata": {
        "id": "ulBOdbPu6FYu"
      }
    },
    {
      "cell_type": "code",
      "source": [
        "df_customers['Number of Dependents'].value_counts()"
      ],
      "metadata": {
        "colab": {
          "base_uri": "https://localhost:8080/"
        },
        "id": "DapVkANQ58Qx",
        "outputId": "8944c3b1-6443-49c9-dfc8-d18d5857e259"
      },
      "execution_count": null,
      "outputs": [
        {
          "output_type": "execute_result",
          "data": {
            "text/plain": [
              "0    5416\n",
              "1     553\n",
              "2     531\n",
              "3     517\n",
              "5      10\n",
              "4       9\n",
              "6       3\n",
              "7       2\n",
              "9       1\n",
              "8       1\n",
              "Name: Number of Dependents, dtype: int64"
            ]
          },
          "metadata": {},
          "execution_count": 19
        }
      ]
    },
    {
      "cell_type": "markdown",
      "source": [
        "### City"
      ],
      "metadata": {
        "id": "D6hwqevU6Xde"
      }
    },
    {
      "cell_type": "code",
      "source": [
        "df_customers['City'].value_counts()"
      ],
      "metadata": {
        "colab": {
          "base_uri": "https://localhost:8080/"
        },
        "id": "_v49ODRt6N3a",
        "outputId": "5e09a725-d23c-42ee-a6e1-c5afed358550"
      },
      "execution_count": null,
      "outputs": [
        {
          "output_type": "execute_result",
          "data": {
            "text/plain": [
              "Los Angeles         293\n",
              "San Diego           285\n",
              "San Jose            112\n",
              "Sacramento          108\n",
              "San Francisco       104\n",
              "                   ... \n",
              "Johannesburg          2\n",
              "South Lake Tahoe      2\n",
              "Jacumba               2\n",
              "Holtville             2\n",
              "Eldridge              2\n",
              "Name: City, Length: 1106, dtype: int64"
            ]
          },
          "metadata": {},
          "execution_count": 20
        }
      ]
    },
    {
      "cell_type": "markdown",
      "source": [
        "### Number of Referrals"
      ],
      "metadata": {
        "id": "o3oVSVt36tCG"
      }
    },
    {
      "cell_type": "code",
      "source": [
        "df_customers['Number of Referrals'].value_counts()"
      ],
      "metadata": {
        "colab": {
          "base_uri": "https://localhost:8080/"
        },
        "id": "z-8sZ5PG6bo5",
        "outputId": "b0913f37-c0cc-4ff1-a7ab-8e74efb99fd0"
      },
      "execution_count": null,
      "outputs": [
        {
          "output_type": "execute_result",
          "data": {
            "text/plain": [
              "0     3821\n",
              "1     1086\n",
              "5      264\n",
              "3      255\n",
              "7      248\n",
              "9      238\n",
              "2      236\n",
              "4      236\n",
              "10     223\n",
              "6      221\n",
              "8      213\n",
              "11       2\n",
              "Name: Number of Referrals, dtype: int64"
            ]
          },
          "metadata": {},
          "execution_count": 21
        }
      ]
    },
    {
      "cell_type": "markdown",
      "source": [
        "Seria válido excluir as 2 linhas que referenciaram 11 pessoas ? Totalmente diferente (desbalanceado ?) das outras "
      ],
      "metadata": {
        "id": "c9K66XYV656c"
      }
    },
    {
      "cell_type": "code",
      "source": [
        "df_customers.shape[0] - 3821"
      ],
      "metadata": {
        "colab": {
          "base_uri": "https://localhost:8080/"
        },
        "id": "Q3Y3m0E36zQB",
        "outputId": "8af496d4-32f7-4f80-a7fc-3e3eb1b8d180"
      },
      "execution_count": null,
      "outputs": [
        {
          "output_type": "execute_result",
          "data": {
            "text/plain": [
              "3222"
            ]
          },
          "metadata": {},
          "execution_count": 22
        }
      ]
    },
    {
      "cell_type": "markdown",
      "source": [
        "### Tenure in Months"
      ],
      "metadata": {
        "id": "Jt4NHTx_70Cj"
      }
    },
    {
      "cell_type": "code",
      "source": [
        "# mínimo de tempo (em mês) que um usuário se encontra na empresa \n",
        "\n",
        "df_customers['Tenure in Months'].min()"
      ],
      "metadata": {
        "colab": {
          "base_uri": "https://localhost:8080/"
        },
        "id": "0M1D5kMx8EDP",
        "outputId": "61bb3ce3-a7b6-46d9-a330-14522f297fe8"
      },
      "execution_count": null,
      "outputs": [
        {
          "output_type": "execute_result",
          "data": {
            "text/plain": [
              "1"
            ]
          },
          "metadata": {},
          "execution_count": 23
        }
      ]
    },
    {
      "cell_type": "code",
      "source": [
        "# máximo de tempo (em mês) que um usuário se encontra na empresa \n",
        "\n",
        "df_customers['Tenure in Months'].min()\n",
        "df_customers['Tenure in Months'].max()"
      ],
      "metadata": {
        "colab": {
          "base_uri": "https://localhost:8080/"
        },
        "id": "03qtxYPo8GB9",
        "outputId": "ad2b2063-4208-4a4a-e2f0-8c9d28ea0218"
      },
      "execution_count": null,
      "outputs": [
        {
          "output_type": "execute_result",
          "data": {
            "text/plain": [
              "72"
            ]
          },
          "metadata": {},
          "execution_count": 24
        }
      ]
    },
    {
      "cell_type": "code",
      "source": [
        "# máximo de tempo (em anos) que um usuário se encontra na empresa \n",
        "\n",
        "df_customers['Tenure in Months'].max() / 12"
      ],
      "metadata": {
        "colab": {
          "base_uri": "https://localhost:8080/"
        },
        "id": "qLQIcK_o8JgH",
        "outputId": "77006082-91ca-47c9-dd55-cbf523a3f402"
      },
      "execution_count": null,
      "outputs": [
        {
          "output_type": "execute_result",
          "data": {
            "text/plain": [
              "6.0"
            ]
          },
          "metadata": {},
          "execution_count": 25
        }
      ]
    },
    {
      "cell_type": "code",
      "source": [
        "df_customers['Tenure in Months'].value_counts()"
      ],
      "metadata": {
        "colab": {
          "base_uri": "https://localhost:8080/"
        },
        "id": "mM-OQbxQ7M9p",
        "outputId": "a1280ec0-797e-46a3-c8cd-a6a6bde9d6c7"
      },
      "execution_count": null,
      "outputs": [
        {
          "output_type": "execute_result",
          "data": {
            "text/plain": [
              "1     613\n",
              "72    362\n",
              "2     238\n",
              "3     200\n",
              "4     176\n",
              "     ... \n",
              "38     59\n",
              "28     57\n",
              "39     56\n",
              "44     51\n",
              "36     50\n",
              "Name: Tenure in Months, Length: 72, dtype: int64"
            ]
          },
          "metadata": {},
          "execution_count": 26
        }
      ]
    },
    {
      "cell_type": "code",
      "source": [
        "df_customers['Tenure in Months'].hist()"
      ],
      "metadata": {
        "colab": {
          "base_uri": "https://localhost:8080/"
        },
        "id": "GuzGvLa474Ep",
        "outputId": "1e0249b3-7003-4b0d-ece9-ed1b74ace7fc"
      },
      "execution_count": null,
      "outputs": [
        {
          "output_type": "execute_result",
          "data": {
            "text/plain": [
              "<matplotlib.axes._subplots.AxesSubplot at 0x7f1126edc990>"
            ]
          },
          "metadata": {},
          "execution_count": 27
        },
        {
          "output_type": "display_data",
          "data": {
            "text/plain": [
              "<Figure size 432x288 with 1 Axes>"
            ],
            "image/png": "[encoded data removed]"
          },
          "metadata": {
            "needs_background": "light"
          }
        }
      ]
    },
    {
      "cell_type": "markdown",
      "source": [
        "### Offer"
      ],
      "metadata": {
        "id": "LL-JTd4p_vd3"
      }
    },
    {
      "cell_type": "markdown",
      "source": [
        "Identifies the last marketing offer that the customer accepted: None, Offer A, Offer B, Offer C, Offer D, Offer E"
      ],
      "metadata": {
        "id": "wLZyUL6PATV6"
      }
    },
    {
      "cell_type": "code",
      "source": [
        "df_customers['Offer'].value_counts()"
      ],
      "metadata": {
        "colab": {
          "base_uri": "https://localhost:8080/"
        },
        "id": "7XuZpHE_78T4",
        "outputId": "05214d0a-2bca-407d-ea3b-ac652fbc435e"
      },
      "execution_count": null,
      "outputs": [
        {
          "output_type": "execute_result",
          "data": {
            "text/plain": [
              "None       3877\n",
              "Offer B     824\n",
              "Offer E     805\n",
              "Offer D     602\n",
              "Offer A     520\n",
              "Offer C     415\n",
              "Name: Offer, dtype: int64"
            ]
          },
          "metadata": {},
          "execution_count": 28
        }
      ]
    },
    {
      "cell_type": "markdown",
      "source": [
        "### Phone Service"
      ],
      "metadata": {
        "id": "u3sfhUakAF_A"
      }
    },
    {
      "cell_type": "markdown",
      "source": [
        "Indicates if the customer subscribes to home phone service with the company: Yes, No"
      ],
      "metadata": {
        "id": "8C-9QW0nAe1s"
      }
    },
    {
      "cell_type": "code",
      "source": [
        "df_customers['Phone Service'].value_counts()"
      ],
      "metadata": {
        "colab": {
          "base_uri": "https://localhost:8080/"
        },
        "id": "wfd6-FOB_0GQ",
        "outputId": "b5b81d61-8c41-4b95-a099-87fa0b6de2b0"
      },
      "execution_count": null,
      "outputs": [
        {
          "output_type": "execute_result",
          "data": {
            "text/plain": [
              "Yes    6361\n",
              "No      682\n",
              "Name: Phone Service, dtype: int64"
            ]
          },
          "metadata": {},
          "execution_count": 29
        }
      ]
    },
    {
      "cell_type": "code",
      "source": [
        "df_customers['Phone Service'].value_counts() / df_customers.shape[0] *  100"
      ],
      "metadata": {
        "colab": {
          "base_uri": "https://localhost:8080/"
        },
        "id": "WaWxyPMJAcp3",
        "outputId": "6284b33e-c379-4025-ad3b-83d12ba9d972"
      },
      "execution_count": null,
      "outputs": [
        {
          "output_type": "execute_result",
          "data": {
            "text/plain": [
              "Yes    90.316626\n",
              "No      9.683374\n",
              "Name: Phone Service, dtype: float64"
            ]
          },
          "metadata": {},
          "execution_count": 30
        }
      ]
    },
    {
      "cell_type": "markdown",
      "source": [
        "### Avg Monthly Long Distance Charges"
      ],
      "metadata": {
        "id": "p8JZnr3SBSlQ"
      }
    },
    {
      "cell_type": "markdown",
      "source": [
        "Indicates the customer’s average long distance charges, calculated to the end of the quarter specified above (if the customer is not subscribed to home phone service, this will be 0)"
      ],
      "metadata": {
        "id": "6O_1JFxqBkeW"
      }
    },
    {
      "cell_type": "code",
      "source": [
        "df_customers['Avg Monthly Long Distance Charges'].value_counts()"
      ],
      "metadata": {
        "colab": {
          "base_uri": "https://localhost:8080/"
        },
        "id": "GPn1BbPYBHNe",
        "outputId": "ae56378b-8c13-451c-f1b2-f6aa48fc7025"
      },
      "execution_count": null,
      "outputs": [
        {
          "output_type": "execute_result",
          "data": {
            "text/plain": [
              "18.26    7\n",
              "25.57    6\n",
              "22.83    6\n",
              "30.07    6\n",
              "42.55    6\n",
              "        ..\n",
              "32.23    1\n",
              "22.26    1\n",
              "47.03    1\n",
              "42.21    1\n",
              "2.01     1\n",
              "Name: Avg Monthly Long Distance Charges, Length: 3583, dtype: int64"
            ]
          },
          "metadata": {},
          "execution_count": 31
        }
      ]
    },
    {
      "cell_type": "code",
      "source": [
        "df_customers['Avg Monthly Long Distance Charges'].min()"
      ],
      "metadata": {
        "colab": {
          "base_uri": "https://localhost:8080/"
        },
        "id": "ARzFvKzNBYM3",
        "outputId": "f545e4c9-8d53-46c2-eb27-e909369bd1e8"
      },
      "execution_count": null,
      "outputs": [
        {
          "output_type": "execute_result",
          "data": {
            "text/plain": [
              "1.01"
            ]
          },
          "metadata": {},
          "execution_count": 32
        }
      ]
    },
    {
      "cell_type": "markdown",
      "source": [
        "Aparentemente, diferente do que está no dicionários sobre as variáveis, aqueles que não possuem o serviço de telefone em casa, estão como nulos e não com o valor 0. Isso faz sentido, já que ao olhar a variável Phone Service, 682 disseram não, sendo exatamente o valor de nulos."
      ],
      "metadata": {
        "id": "RzTABmIwBlyY"
      }
    },
    {
      "cell_type": "markdown",
      "source": [
        "Seria algo bom trocar esses valores nulos por 0 ?"
      ],
      "metadata": {
        "id": "Bo2bLXvxCdr_"
      }
    },
    {
      "cell_type": "markdown",
      "source": [
        "### Multiple Lines"
      ],
      "metadata": {
        "id": "6cgF5im6Cyuo"
      }
    },
    {
      "cell_type": "markdown",
      "source": [
        "Indicates if the customer subscribes to multiple telephone lines with the company: Yes, No (if the customer is not subscribed to home phone service, this will be No)"
      ],
      "metadata": {
        "id": "2C7txLEaC5sc"
      }
    },
    {
      "cell_type": "code",
      "source": [
        "df_customers['Multiple Lines'].value_counts()"
      ],
      "metadata": {
        "colab": {
          "base_uri": "https://localhost:8080/"
        },
        "id": "gW-mP-sdCCEZ",
        "outputId": "838415d6-5fd2-4a47-c923-1f6dbb9e8233"
      },
      "execution_count": null,
      "outputs": [
        {
          "output_type": "execute_result",
          "data": {
            "text/plain": [
              "No     3390\n",
              "Yes    2971\n",
              "Name: Multiple Lines, dtype: int64"
            ]
          },
          "metadata": {},
          "execution_count": 33
        }
      ]
    },
    {
      "cell_type": "code",
      "source": [
        "df_customers['Multiple Lines'].isnull().sum()"
      ],
      "metadata": {
        "colab": {
          "base_uri": "https://localhost:8080/"
        },
        "id": "65W-H4WlIFpv",
        "outputId": "467090fe-b2c1-4d2d-c0a1-02a7db4bba22"
      },
      "execution_count": null,
      "outputs": [
        {
          "output_type": "execute_result",
          "data": {
            "text/plain": [
              "682"
            ]
          },
          "metadata": {},
          "execution_count": 34
        }
      ]
    },
    {
      "cell_type": "code",
      "source": [
        "# Daqueles que possuem linha telefônica em casa, qual a porcentagem de pessoas que possuem multiplas linhas\n",
        "# Por isso foi retirado aqueles que não possuem linha telefônica em casa\n",
        "\n",
        "df_customers['Multiple Lines'].value_counts() / (df_customers.shape[0] - df_customers['Multiple Lines'].isnull().sum())  * 100"
      ],
      "metadata": {
        "colab": {
          "base_uri": "https://localhost:8080/"
        },
        "id": "9nfoaqjQBc5m",
        "outputId": "2fd09018-9091-40b2-d269-abd6ecc91bb8"
      },
      "execution_count": null,
      "outputs": [
        {
          "output_type": "execute_result",
          "data": {
            "text/plain": [
              "No     53.293507\n",
              "Yes    46.706493\n",
              "Name: Multiple Lines, dtype: float64"
            ]
          },
          "metadata": {},
          "execution_count": 35
        }
      ]
    },
    {
      "cell_type": "markdown",
      "source": [
        "### Internet Type"
      ],
      "metadata": {
        "id": "DFjCEJmsDtiC"
      }
    },
    {
      "cell_type": "markdown",
      "source": [
        "Indicates the customer's type of internet connection: DSL, Fiber Optic, Cable (if the customer is not subscribed to internet service, this will be None)"
      ],
      "metadata": {
        "id": "AXCkFipcD5N6"
      }
    },
    {
      "cell_type": "code",
      "source": [
        "df_customers['Internet Type'].value_counts()"
      ],
      "metadata": {
        "colab": {
          "base_uri": "https://localhost:8080/"
        },
        "id": "XSBPDaTbC_QV",
        "outputId": "fbe882e7-a975-4a0b-bf7b-9a56070c3134"
      },
      "execution_count": null,
      "outputs": [
        {
          "output_type": "execute_result",
          "data": {
            "text/plain": [
              "Fiber Optic    3035\n",
              "DSL            1652\n",
              "Cable           830\n",
              "Name: Internet Type, dtype: int64"
            ]
          },
          "metadata": {},
          "execution_count": 36
        }
      ]
    },
    {
      "cell_type": "code",
      "source": [
        "df_customers['Internet Type'].value_counts() / df_customers.shape[0] * 100"
      ],
      "metadata": {
        "colab": {
          "base_uri": "https://localhost:8080/"
        },
        "id": "SDvzw0ifD0id",
        "outputId": "113f2e41-a016-4c59-de69-5cbdce3a5979"
      },
      "execution_count": null,
      "outputs": [
        {
          "output_type": "execute_result",
          "data": {
            "text/plain": [
              "Fiber Optic    43.092432\n",
              "DSL            23.455914\n",
              "Cable          11.784751\n",
              "Name: Internet Type, dtype: float64"
            ]
          },
          "metadata": {},
          "execution_count": 37
        }
      ]
    },
    {
      "cell_type": "code",
      "source": [
        "df_customers['Internet Type'].isnull().sum()"
      ],
      "metadata": {
        "colab": {
          "base_uri": "https://localhost:8080/"
        },
        "id": "-FKxVjliEOh-",
        "outputId": "3ecc5254-612f-4861-c7b8-708dbd4dc914"
      },
      "execution_count": null,
      "outputs": [
        {
          "output_type": "execute_result",
          "data": {
            "text/plain": [
              "1526"
            ]
          },
          "metadata": {},
          "execution_count": 38
        }
      ]
    },
    {
      "cell_type": "markdown",
      "source": [
        "Seria melhor alterar os nulos por none ?"
      ],
      "metadata": {
        "id": "z4xxp_ckECIZ"
      }
    },
    {
      "cell_type": "code",
      "source": [
        "# alterando os nulos por None \n",
        "\n",
        "df_customers['Internet Type'].fillna('None', inplace=True)"
      ],
      "metadata": {
        "id": "OYOb4H7_ETin"
      },
      "execution_count": null,
      "outputs": []
    },
    {
      "cell_type": "code",
      "source": [
        "df_customers['Internet Type'].isnull().sum()"
      ],
      "metadata": {
        "colab": {
          "base_uri": "https://localhost:8080/"
        },
        "id": "UYdVBpQPEB3D",
        "outputId": "37327f9a-8749-4f20-80f4-d132482855e7"
      },
      "execution_count": null,
      "outputs": [
        {
          "output_type": "execute_result",
          "data": {
            "text/plain": [
              "0"
            ]
          },
          "metadata": {},
          "execution_count": 40
        }
      ]
    },
    {
      "cell_type": "code",
      "source": [
        "df_customers['Internet Type'].value_counts()"
      ],
      "metadata": {
        "colab": {
          "base_uri": "https://localhost:8080/"
        },
        "id": "z1rM1OGxEAzN",
        "outputId": "44d6415e-7b8c-4fc3-c59d-54a6e0446458"
      },
      "execution_count": null,
      "outputs": [
        {
          "output_type": "execute_result",
          "data": {
            "text/plain": [
              "Fiber Optic    3035\n",
              "DSL            1652\n",
              "None           1526\n",
              "Cable           830\n",
              "Name: Internet Type, dtype: int64"
            ]
          },
          "metadata": {},
          "execution_count": 41
        }
      ]
    },
    {
      "cell_type": "code",
      "source": [
        "df_customers['Internet Type'].value_counts() / df_customers.shape[0] * 100"
      ],
      "metadata": {
        "colab": {
          "base_uri": "https://localhost:8080/"
        },
        "id": "1OQMy2x1EfsV",
        "outputId": "928a351a-0912-49b3-bc56-a0b9a79fa405"
      },
      "execution_count": null,
      "outputs": [
        {
          "output_type": "execute_result",
          "data": {
            "text/plain": [
              "Fiber Optic    43.092432\n",
              "DSL            23.455914\n",
              "None           21.666903\n",
              "Cable          11.784751\n",
              "Name: Internet Type, dtype: float64"
            ]
          },
          "metadata": {},
          "execution_count": 42
        }
      ]
    },
    {
      "cell_type": "markdown",
      "source": [
        "### Avg Monthly GB Download"
      ],
      "metadata": {
        "id": "aLb16pfiEkcV"
      }
    },
    {
      "cell_type": "markdown",
      "source": [
        "Indicates the customer’s average download volume in gigabytes, calculated to the end of the quarter specified above (if the customer is not subscribed to internet service, this will be 0)"
      ],
      "metadata": {
        "id": "yur2w90HGKh2"
      }
    },
    {
      "cell_type": "code",
      "source": [
        "df_customers['Avg Monthly GB Download'].value_counts()"
      ],
      "metadata": {
        "colab": {
          "base_uri": "https://localhost:8080/"
        },
        "id": "h2P7W81MEhfN",
        "outputId": "bdadcbbb-ef78-4c0f-8d09-b29fd09a3277"
      },
      "execution_count": null,
      "outputs": [
        {
          "output_type": "execute_result",
          "data": {
            "text/plain": [
              "19.0    220\n",
              "27.0    199\n",
              "30.0    193\n",
              "59.0    192\n",
              "26.0    191\n",
              "23.0    179\n",
              "22.0    172\n",
              "21.0    171\n",
              "18.0    164\n",
              "13.0    164\n",
              "17.0    155\n",
              "16.0    155\n",
              "20.0    151\n",
              "24.0    148\n",
              "28.0    147\n",
              "11.0    145\n",
              "12.0    143\n",
              "29.0    138\n",
              "15.0    132\n",
              "10.0    132\n",
              "14.0    131\n",
              "25.0    130\n",
              "3.0     130\n",
              "4.0     129\n",
              "52.0    121\n",
              "8.0     120\n",
              "2.0     116\n",
              "9.0     116\n",
              "7.0     116\n",
              "5.0     114\n",
              "6.0     114\n",
              "51.0     90\n",
              "53.0     88\n",
              "48.0     86\n",
              "73.0     81\n",
              "69.0     75\n",
              "41.0     67\n",
              "76.0     58\n",
              "85.0     48\n",
              "58.0     45\n",
              "42.0     45\n",
              "82.0     43\n",
              "71.0     42\n",
              "47.0     36\n",
              "57.0     34\n",
              "46.0     19\n",
              "56.0     16\n",
              "75.0     15\n",
              "39.0      1\n",
              "Name: Avg Monthly GB Download, dtype: int64"
            ]
          },
          "metadata": {},
          "execution_count": 43
        }
      ]
    },
    {
      "cell_type": "code",
      "source": [
        "df_customers['Avg Monthly GB Download'].hist()"
      ],
      "metadata": {
        "colab": {
          "base_uri": "https://localhost:8080/"
        },
        "id": "h1F_KWrhEr2V",
        "outputId": "aaa21938-885d-4fb6-b950-2292b4acf877"
      },
      "execution_count": null,
      "outputs": [
        {
          "output_type": "execute_result",
          "data": {
            "text/plain": [
              "<matplotlib.axes._subplots.AxesSubplot at 0x7f11268902d0>"
            ]
          },
          "metadata": {},
          "execution_count": 44
        },
        {
          "output_type": "display_data",
          "data": {
            "text/plain": [
              "<Figure size 432x288 with 1 Axes>"
            ],
            "image/png": "[encoded data removed]"
          },
          "metadata": {
            "needs_background": "light"
          }
        }
      ]
    },
    {
      "cell_type": "code",
      "source": [
        "df_customers['Avg Monthly GB Download'].mean()"
      ],
      "metadata": {
        "colab": {
          "base_uri": "https://localhost:8080/"
        },
        "id": "eQFbmeXYFgOd",
        "outputId": "c96e9c81-4b18-4a63-a9ff-867e3dc884ee"
      },
      "execution_count": null,
      "outputs": [
        {
          "output_type": "execute_result",
          "data": {
            "text/plain": [
              "26.189958310676094"
            ]
          },
          "metadata": {},
          "execution_count": 45
        }
      ]
    },
    {
      "cell_type": "code",
      "source": [
        "df_customers['Avg Monthly GB Download'].median()"
      ],
      "metadata": {
        "colab": {
          "base_uri": "https://localhost:8080/"
        },
        "id": "_FRTvEHTFr2d",
        "outputId": "a41494ca-c800-4496-afbe-4725954907db"
      },
      "execution_count": null,
      "outputs": [
        {
          "output_type": "execute_result",
          "data": {
            "text/plain": [
              "21.0"
            ]
          },
          "metadata": {},
          "execution_count": 46
        }
      ]
    },
    {
      "cell_type": "code",
      "source": [
        "df_customers['Avg Monthly GB Download'].isnull().sum()"
      ],
      "metadata": {
        "colab": {
          "base_uri": "https://localhost:8080/"
        },
        "id": "Vi_9cl8XFvNV",
        "outputId": "024dab70-f3d1-4ffe-c072-69785404eafc"
      },
      "execution_count": null,
      "outputs": [
        {
          "output_type": "execute_result",
          "data": {
            "text/plain": [
              "1526"
            ]
          },
          "metadata": {},
          "execution_count": 47
        }
      ]
    },
    {
      "cell_type": "markdown",
      "source": [
        "Essa quantidade de nulos é exatamente o número de pessoasl que não contrataram serviço de internet"
      ],
      "metadata": {
        "id": "KlfCMZAZF2tN"
      }
    },
    {
      "cell_type": "markdown",
      "source": [
        "### Online Security"
      ],
      "metadata": {
        "id": "mQDF3ArCF-DK"
      }
    },
    {
      "cell_type": "markdown",
      "source": [
        "Indicates if the customer subscribes to an additional online security service provided by the company: Yes, No (if the customer is not subscribed to internet service, this will be No)"
      ],
      "metadata": {
        "id": "3KnotaLTGM_q"
      }
    },
    {
      "cell_type": "code",
      "source": [
        "df_customers['Online Security'].value_counts()"
      ],
      "metadata": {
        "colab": {
          "base_uri": "https://localhost:8080/"
        },
        "id": "gWQd_CPAF2CE",
        "outputId": "4ff91f6b-62c0-45ce-c1de-64ce029f18e0"
      },
      "execution_count": null,
      "outputs": [
        {
          "output_type": "execute_result",
          "data": {
            "text/plain": [
              "No     3498\n",
              "Yes    2019\n",
              "Name: Online Security, dtype: int64"
            ]
          },
          "metadata": {},
          "execution_count": 48
        }
      ]
    },
    {
      "cell_type": "code",
      "source": [
        "df_customers['Online Security'].value_counts() / df_customers.shape[0] * 100"
      ],
      "metadata": {
        "colab": {
          "base_uri": "https://localhost:8080/"
        },
        "id": "liyNV9zBGIS0",
        "outputId": "b0a87fc3-b9bf-4c90-ecfe-bea868af8af0"
      },
      "execution_count": null,
      "outputs": [
        {
          "output_type": "execute_result",
          "data": {
            "text/plain": [
              "No     49.666335\n",
              "Yes    28.666761\n",
              "Name: Online Security, dtype: float64"
            ]
          },
          "metadata": {},
          "execution_count": 49
        }
      ]
    },
    {
      "cell_type": "markdown",
      "source": [
        "### Online Backup "
      ],
      "metadata": {
        "id": "igw95XJZGWYB"
      }
    },
    {
      "cell_type": "markdown",
      "source": [
        "Indicates if the customer subscribes to an additional online backup service provided by the company: Yes, No (if the customer is not subscribed to internet service, this will be No)"
      ],
      "metadata": {
        "id": "b3TbWaQfGyA0"
      }
    },
    {
      "cell_type": "code",
      "source": [
        "df_customers['Online Backup'].value_counts()"
      ],
      "metadata": {
        "colab": {
          "base_uri": "https://localhost:8080/"
        },
        "id": "0J0rVJx8GRxM",
        "outputId": "0ec50d87-46a6-4f36-b771-43a286d475f5"
      },
      "execution_count": null,
      "outputs": [
        {
          "output_type": "execute_result",
          "data": {
            "text/plain": [
              "No     3088\n",
              "Yes    2429\n",
              "Name: Online Backup, dtype: int64"
            ]
          },
          "metadata": {},
          "execution_count": 50
        }
      ]
    },
    {
      "cell_type": "code",
      "source": [
        "df_customers['Online Backup'].value_counts() / df_customers.shape[0] * 100"
      ],
      "metadata": {
        "colab": {
          "base_uri": "https://localhost:8080/"
        },
        "id": "cxVXqTSgHkr8",
        "outputId": "e46fc0a9-9823-404f-bb74-493919545679"
      },
      "execution_count": null,
      "outputs": [
        {
          "output_type": "execute_result",
          "data": {
            "text/plain": [
              "No     43.844952\n",
              "Yes    34.488144\n",
              "Name: Online Backup, dtype: float64"
            ]
          },
          "metadata": {},
          "execution_count": 51
        }
      ]
    },
    {
      "cell_type": "markdown",
      "source": [
        "### Device Protection Plan"
      ],
      "metadata": {
        "id": "9v0sTjbqHq-S"
      }
    },
    {
      "cell_type": "markdown",
      "source": [
        "Indicates if the customer subscribes to an additional device protection plan for their Internet equipment provided by the company: Yes, No (if the customer is not subscribed to internet service, this will be No)"
      ],
      "metadata": {
        "id": "tlKqXnRiH088"
      }
    },
    {
      "cell_type": "code",
      "source": [
        "df_customers['Device Protection Plan'].value_counts()"
      ],
      "metadata": {
        "colab": {
          "base_uri": "https://localhost:8080/"
        },
        "id": "fsET6P4_HpTr",
        "outputId": "89700e3b-06a7-40f3-cf51-20278d4b485b"
      },
      "execution_count": null,
      "outputs": [
        {
          "output_type": "execute_result",
          "data": {
            "text/plain": [
              "No     3095\n",
              "Yes    2422\n",
              "Name: Device Protection Plan, dtype: int64"
            ]
          },
          "metadata": {},
          "execution_count": 52
        }
      ]
    },
    {
      "cell_type": "code",
      "source": [
        "df_customers['Device Protection Plan'].value_counts() / df_customers.shape[0] * 100"
      ],
      "metadata": {
        "colab": {
          "base_uri": "https://localhost:8080/"
        },
        "id": "9HdJl4P5Hyuj",
        "outputId": "502f5bfa-9ca2-43b5-edec-cba97a8a089c"
      },
      "execution_count": null,
      "outputs": [
        {
          "output_type": "execute_result",
          "data": {
            "text/plain": [
              "No     43.944342\n",
              "Yes    34.388755\n",
              "Name: Device Protection Plan, dtype: float64"
            ]
          },
          "metadata": {},
          "execution_count": 53
        }
      ]
    },
    {
      "cell_type": "markdown",
      "source": [
        "### Premium Tech Support"
      ],
      "metadata": {
        "id": "k82e2sasIvkl"
      }
    },
    {
      "cell_type": "markdown",
      "source": [
        "Indicates if the customer subscribes to an additional technical support plan from the company with reduced wait times: Yes, No (if the customer is not subscribed to internet service, this will be No)"
      ],
      "metadata": {
        "id": "iu4r5jnEJH1A"
      }
    },
    {
      "cell_type": "code",
      "source": [
        "df_customers['Premium Tech Support'].value_counts()"
      ],
      "metadata": {
        "colab": {
          "base_uri": "https://localhost:8080/"
        },
        "id": "YRBopyOQH38E",
        "outputId": "ae8df220-9248-4de3-e17b-350647bfd507"
      },
      "execution_count": null,
      "outputs": [
        {
          "output_type": "execute_result",
          "data": {
            "text/plain": [
              "No     3473\n",
              "Yes    2044\n",
              "Name: Premium Tech Support, dtype: int64"
            ]
          },
          "metadata": {},
          "execution_count": 54
        }
      ]
    },
    {
      "cell_type": "code",
      "source": [
        "df_customers['Premium Tech Support'].value_counts() / df_customers.shape[0] * 100"
      ],
      "metadata": {
        "colab": {
          "base_uri": "https://localhost:8080/"
        },
        "id": "xgskTgmLJGLU",
        "outputId": "83f7c560-6a2d-4e0e-b816-3af2955cbdc0"
      },
      "execution_count": null,
      "outputs": [
        {
          "output_type": "execute_result",
          "data": {
            "text/plain": [
              "No     49.311373\n",
              "Yes    29.021724\n",
              "Name: Premium Tech Support, dtype: float64"
            ]
          },
          "metadata": {},
          "execution_count": 55
        }
      ]
    },
    {
      "cell_type": "markdown",
      "source": [
        "### Streaming TV"
      ],
      "metadata": {
        "id": "a_l88yd6Joiu"
      }
    },
    {
      "cell_type": "markdown",
      "source": [
        "Indicates if the customer uses their Internet service to stream television programing from a third party provider at no additional fee: Yes, No (if the customer is not subscribed to internet service, this will be No)"
      ],
      "metadata": {
        "id": "wC-dkvQUJyJX"
      }
    },
    {
      "cell_type": "code",
      "source": [
        "df_customers['Streaming TV'].value_counts()\n"
      ],
      "metadata": {
        "colab": {
          "base_uri": "https://localhost:8080/"
        },
        "id": "SjGFKhfNJUMc",
        "outputId": "922e9ce7-681e-4916-af7b-f55fa634ddc0"
      },
      "execution_count": null,
      "outputs": [
        {
          "output_type": "execute_result",
          "data": {
            "text/plain": [
              "No     2810\n",
              "Yes    2707\n",
              "Name: Streaming TV, dtype: int64"
            ]
          },
          "metadata": {},
          "execution_count": 56
        }
      ]
    },
    {
      "cell_type": "code",
      "source": [
        "df_customers['Streaming TV'].value_counts() / df_customers.shape[0] * 100"
      ],
      "metadata": {
        "colab": {
          "base_uri": "https://localhost:8080/"
        },
        "id": "SDl8SYhdJLRM",
        "outputId": "15a79ee7-77d5-4d8d-f496-04cc513160b8"
      },
      "execution_count": null,
      "outputs": [
        {
          "output_type": "execute_result",
          "data": {
            "text/plain": [
              "No     39.897771\n",
              "Yes    38.435326\n",
              "Name: Streaming TV, dtype: float64"
            ]
          },
          "metadata": {},
          "execution_count": 57
        }
      ]
    },
    {
      "cell_type": "markdown",
      "source": [
        "### Streaming Movies"
      ],
      "metadata": {
        "id": "MTsZOCd8KAB2"
      }
    },
    {
      "cell_type": "markdown",
      "source": [
        "Indicates if the customer uses their Internet service to stream movies from a third party provider at no additional fee: Yes, No (if the customer is not subscribed to internet service, this will be No)"
      ],
      "metadata": {
        "id": "eR5oEIddKH_5"
      }
    },
    {
      "cell_type": "code",
      "source": [
        "df_customers['Streaming Movies'].value_counts()"
      ],
      "metadata": {
        "colab": {
          "base_uri": "https://localhost:8080/"
        },
        "id": "YQjEgTsAJZvj",
        "outputId": "b970c085-67a5-4932-a032-e0f266212579"
      },
      "execution_count": null,
      "outputs": [
        {
          "output_type": "execute_result",
          "data": {
            "text/plain": [
              "No     2785\n",
              "Yes    2732\n",
              "Name: Streaming Movies, dtype: int64"
            ]
          },
          "metadata": {},
          "execution_count": 58
        }
      ]
    },
    {
      "cell_type": "code",
      "source": [
        "df_customers['Streaming Movies'].value_counts() / df_customers.shape[0] * 100"
      ],
      "metadata": {
        "colab": {
          "base_uri": "https://localhost:8080/"
        },
        "id": "BpTbJ56IKGdz",
        "outputId": "0c38b06a-be12-4342-d1f3-d0df02029156"
      },
      "execution_count": null,
      "outputs": [
        {
          "output_type": "execute_result",
          "data": {
            "text/plain": [
              "No     39.542808\n",
              "Yes    38.790288\n",
              "Name: Streaming Movies, dtype: float64"
            ]
          },
          "metadata": {},
          "execution_count": 59
        }
      ]
    },
    {
      "cell_type": "markdown",
      "source": [
        "### Streaming Music"
      ],
      "metadata": {
        "id": "BbKhPjoyKSof"
      }
    },
    {
      "cell_type": "markdown",
      "source": [
        "Indicates if the customer uses their Internet service to stream music from a third party provider at no additional fee: Yes, No (if the customer is not subscribed to internet service, this will be No)"
      ],
      "metadata": {
        "id": "DVN8mrPbKZTY"
      }
    },
    {
      "cell_type": "code",
      "source": [
        "df_customers['Streaming Music'].value_counts()"
      ],
      "metadata": {
        "colab": {
          "base_uri": "https://localhost:8080/"
        },
        "id": "bdbo2IaKKOxK",
        "outputId": "4248e797-c0f0-4a6b-8f31-4eb8e75be86b"
      },
      "execution_count": null,
      "outputs": [
        {
          "output_type": "execute_result",
          "data": {
            "text/plain": [
              "No     3029\n",
              "Yes    2488\n",
              "Name: Streaming Music, dtype: int64"
            ]
          },
          "metadata": {},
          "execution_count": 60
        }
      ]
    },
    {
      "cell_type": "code",
      "source": [
        "df_customers['Streaming Music'].value_counts() / df_customers.shape[0] * 100"
      ],
      "metadata": {
        "colab": {
          "base_uri": "https://localhost:8080/"
        },
        "id": "ZNQLsuStKXkq",
        "outputId": "5de6212c-7d5a-48e5-df72-bb4cd60802bc"
      },
      "execution_count": null,
      "outputs": [
        {
          "output_type": "execute_result",
          "data": {
            "text/plain": [
              "No     43.007241\n",
              "Yes    35.325855\n",
              "Name: Streaming Music, dtype: float64"
            ]
          },
          "metadata": {},
          "execution_count": 61
        }
      ]
    },
    {
      "cell_type": "markdown",
      "source": [
        "### Unlimited Data"
      ],
      "metadata": {
        "id": "S_VbmilyKjZh"
      }
    },
    {
      "cell_type": "markdown",
      "source": [
        "Indicates if the customer has paid an additional monthly fee to have unlimited data downloads/uploads: Yes, No (if the customer is not subscribed to internet service, this will be No)"
      ],
      "metadata": {
        "id": "5jLkyXRgKorx"
      }
    },
    {
      "cell_type": "code",
      "source": [
        "df_customers['Unlimited Data'].value_counts()"
      ],
      "metadata": {
        "colab": {
          "base_uri": "https://localhost:8080/"
        },
        "id": "G4j_B3qcKcfi",
        "outputId": "673f6105-699e-4168-c133-2579a42faff0"
      },
      "execution_count": null,
      "outputs": [
        {
          "output_type": "execute_result",
          "data": {
            "text/plain": [
              "Yes    4745\n",
              "No      772\n",
              "Name: Unlimited Data, dtype: int64"
            ]
          },
          "metadata": {},
          "execution_count": 62
        }
      ]
    },
    {
      "cell_type": "code",
      "source": [
        "df_customers['Unlimited Data'].value_counts() / df_customers.shape[0] * 100"
      ],
      "metadata": {
        "colab": {
          "base_uri": "https://localhost:8080/"
        },
        "id": "bNafvK-mKm4q",
        "outputId": "12271dcb-004d-4bcd-8b99-7cb6f697ed7a"
      },
      "execution_count": null,
      "outputs": [
        {
          "output_type": "execute_result",
          "data": {
            "text/plain": [
              "Yes    67.371859\n",
              "No     10.961238\n",
              "Name: Unlimited Data, dtype: float64"
            ]
          },
          "metadata": {},
          "execution_count": 63
        }
      ]
    },
    {
      "cell_type": "markdown",
      "source": [
        "### Contract\n"
      ],
      "metadata": {
        "id": "iAfmF2wCKw_Z"
      }
    },
    {
      "cell_type": "markdown",
      "source": [
        "Indicates the customer’s current contract type: Month-to-Month, One Year, Two Year"
      ],
      "metadata": {
        "id": "pNdpDnvqK29n"
      }
    },
    {
      "cell_type": "code",
      "source": [
        "df_customers['Contract'].value_counts()\n"
      ],
      "metadata": {
        "colab": {
          "base_uri": "https://localhost:8080/"
        },
        "id": "ZnNqmLAaKs1S",
        "outputId": "83536e40-12ec-4279-a096-9c1f8c6a2dcd"
      },
      "execution_count": null,
      "outputs": [
        {
          "output_type": "execute_result",
          "data": {
            "text/plain": [
              "Month-to-Month    3610\n",
              "Two Year          1883\n",
              "One Year          1550\n",
              "Name: Contract, dtype: int64"
            ]
          },
          "metadata": {},
          "execution_count": 64
        }
      ]
    },
    {
      "cell_type": "code",
      "source": [
        "df_customers['Contract'].value_counts() / df_customers.shape[0] * 100"
      ],
      "metadata": {
        "colab": {
          "base_uri": "https://localhost:8080/"
        },
        "id": "7AFVqSLpK2fC",
        "outputId": "61015f62-3c2e-410d-a062-5e0a5259e3e8"
      },
      "execution_count": null,
      "outputs": [
        {
          "output_type": "execute_result",
          "data": {
            "text/plain": [
              "Month-to-Month    51.256567\n",
              "Two Year          26.735766\n",
              "One Year          22.007667\n",
              "Name: Contract, dtype: float64"
            ]
          },
          "metadata": {},
          "execution_count": 65
        }
      ]
    },
    {
      "cell_type": "markdown",
      "source": [
        "### Paperless Billing"
      ],
      "metadata": {
        "id": "FAXov8pjK-hP"
      }
    },
    {
      "cell_type": "markdown",
      "source": [
        "Indicates if the customer has chosen paperless billing: Yes, No"
      ],
      "metadata": {
        "id": "XojENzQHL2t3"
      }
    },
    {
      "cell_type": "code",
      "source": [
        "df_customers['Paperless Billing'].value_counts()"
      ],
      "metadata": {
        "colab": {
          "base_uri": "https://localhost:8080/"
        },
        "id": "wYucW3kFK9JD",
        "outputId": "8b4bb395-3d37-4ded-d758-6204ab503db2"
      },
      "execution_count": null,
      "outputs": [
        {
          "output_type": "execute_result",
          "data": {
            "text/plain": [
              "Yes    4171\n",
              "No     2872\n",
              "Name: Paperless Billing, dtype: int64"
            ]
          },
          "metadata": {},
          "execution_count": 66
        }
      ]
    },
    {
      "cell_type": "code",
      "source": [
        "df_customers['Paperless Billing'].value_counts() / df_customers.shape[0] * 100"
      ],
      "metadata": {
        "colab": {
          "base_uri": "https://localhost:8080/"
        },
        "id": "OhsEkx7zL0yj",
        "outputId": "a830fc47-7fde-4b65-c916-8a853f3b7c28"
      },
      "execution_count": null,
      "outputs": [
        {
          "output_type": "execute_result",
          "data": {
            "text/plain": [
              "Yes    59.221922\n",
              "No     40.778078\n",
              "Name: Paperless Billing, dtype: float64"
            ]
          },
          "metadata": {},
          "execution_count": 67
        }
      ]
    },
    {
      "cell_type": "markdown",
      "source": [
        "### Payment Method"
      ],
      "metadata": {
        "id": "Tscr8zrdMrqY"
      }
    },
    {
      "cell_type": "markdown",
      "source": [
        "Indicates how the customer pays their bill: Bank Withdrawal, Credit Card, Mailed Check"
      ],
      "metadata": {
        "id": "aGhg15CLMzsk"
      }
    },
    {
      "cell_type": "code",
      "source": [
        "df_customers['Payment Method'].value_counts()"
      ],
      "metadata": {
        "colab": {
          "base_uri": "https://localhost:8080/"
        },
        "id": "Ya_85_GuL5ob",
        "outputId": "c6e9ab77-3786-4ea2-850d-16b85fffc12f"
      },
      "execution_count": null,
      "outputs": [
        {
          "output_type": "execute_result",
          "data": {
            "text/plain": [
              "Bank Withdrawal    3909\n",
              "Credit Card        2749\n",
              "Mailed Check        385\n",
              "Name: Payment Method, dtype: int64"
            ]
          },
          "metadata": {},
          "execution_count": 68
        }
      ]
    },
    {
      "cell_type": "code",
      "source": [
        "df_customers['Payment Method'].value_counts() / df_customers.shape[0] * 100"
      ],
      "metadata": {
        "colab": {
          "base_uri": "https://localhost:8080/"
        },
        "id": "-NTwxT7gMwOC",
        "outputId": "6887a1c2-1edf-4a55-e2f0-bd76111a6e0d"
      },
      "execution_count": null,
      "outputs": [
        {
          "output_type": "execute_result",
          "data": {
            "text/plain": [
              "Bank Withdrawal    55.501917\n",
              "Credit Card        39.031663\n",
              "Mailed Check        5.466421\n",
              "Name: Payment Method, dtype: float64"
            ]
          },
          "metadata": {},
          "execution_count": 69
        }
      ]
    },
    {
      "cell_type": "markdown",
      "source": [
        "### Monthly Charge"
      ],
      "metadata": {
        "id": "GYIvuOJxM9Xt"
      }
    },
    {
      "cell_type": "markdown",
      "source": [
        "Indicates the customer’s current total monthly charge for all their services from the company"
      ],
      "metadata": {
        "id": "jyj8e5PmNDp8"
      }
    },
    {
      "cell_type": "code",
      "source": [
        "df_customers['Monthly Charge'].value_counts()"
      ],
      "metadata": {
        "colab": {
          "base_uri": "https://localhost:8080/"
        },
        "id": "BiBtCd2BM2Fi",
        "outputId": "4e490974-fea3-4540-ff07-ded2319e94b1"
      },
      "execution_count": null,
      "outputs": [
        {
          "output_type": "execute_result",
          "data": {
            "text/plain": [
              "20.05    60\n",
              "19.85    45\n",
              "19.95    44\n",
              "19.90    44\n",
              "20.00    43\n",
              "         ..\n",
              "43.65     1\n",
              "34.55     1\n",
              "47.60     1\n",
              "58.70     1\n",
              "67.85     1\n",
              "Name: Monthly Charge, Length: 1591, dtype: int64"
            ]
          },
          "metadata": {},
          "execution_count": 70
        }
      ]
    },
    {
      "cell_type": "code",
      "source": [
        "df_customers['Monthly Charge'].min()"
      ],
      "metadata": {
        "colab": {
          "base_uri": "https://localhost:8080/"
        },
        "id": "Flblfab3NBMb",
        "outputId": "ac9e73db-eea4-446c-b816-afbaeca6b006"
      },
      "execution_count": null,
      "outputs": [
        {
          "output_type": "execute_result",
          "data": {
            "text/plain": [
              "-10.0"
            ]
          },
          "metadata": {},
          "execution_count": 71
        }
      ]
    },
    {
      "cell_type": "markdown",
      "source": [
        "Não faz sentido ter cobranças negativas"
      ],
      "metadata": {
        "id": "_67NsG84NYlO"
      }
    },
    {
      "cell_type": "code",
      "source": [
        "df_customers['Monthly Charge'].max()"
      ],
      "metadata": {
        "colab": {
          "base_uri": "https://localhost:8080/"
        },
        "id": "B33nKkelNIOZ",
        "outputId": "9343529a-7bee-498d-e32b-944366f5b264"
      },
      "execution_count": null,
      "outputs": [
        {
          "output_type": "execute_result",
          "data": {
            "text/plain": [
              "118.75"
            ]
          },
          "metadata": {},
          "execution_count": 72
        }
      ]
    },
    {
      "cell_type": "code",
      "source": [
        "df_customers['Monthly Charge'].hist()"
      ],
      "metadata": {
        "colab": {
          "base_uri": "https://localhost:8080/"
        },
        "id": "kL00OHJeNLOS",
        "outputId": "f6b19b02-5f8f-46d7-c291-ac632d5bc061"
      },
      "execution_count": null,
      "outputs": [
        {
          "output_type": "execute_result",
          "data": {
            "text/plain": [
              "<matplotlib.axes._subplots.AxesSubplot at 0x7f112675f610>"
            ]
          },
          "metadata": {},
          "execution_count": 73
        },
        {
          "output_type": "display_data",
          "data": {
            "text/plain": [
              "<Figure size 432x288 with 1 Axes>"
            ],
            "image/png": "[encoded data removed]"
          },
          "metadata": {
            "needs_background": "light"
          }
        }
      ]
    },
    {
      "cell_type": "code",
      "source": [
        "df_customers.loc[df_customers['Monthly Charge'] < 15]"
      ],
      "metadata": {
        "colab": {
          "base_uri": "https://localhost:8080/"
        },
        "id": "iD3VKWehOOGG",
        "outputId": "cef0cfc3-f564-47f5-cb8e-29742c6fcb26"
      },
      "execution_count": null,
      "outputs": [
        {
          "output_type": "execute_result",
          "data": {
            "text/plain": [
              "     Customer ID  Gender  Age Married  Number of Dependents           City  \\\n",
              "1     0003-MKNFE    Male   46      No                     0       Glendale   \n",
              "32    0052-DCKON    Male   28     Yes                     0    Los Angeles   \n",
              "170   0274-JKUJR    Male   21     Yes                     2    Los Angeles   \n",
              "232   0361-HJRDX  Female   38      No                     0   Sherman Oaks   \n",
              "336   0495-ZBNGW    Male   78     Yes                     0       Loma Mar   \n",
              "...          ...     ...  ...     ...                   ...            ...   \n",
              "6894  9793-WECQC    Male   53      No                     0     Foresthill   \n",
              "6918  9821-BESNZ    Male   43      No                     0     Northridge   \n",
              "6976  9898-KZQDZ  Female   65     Yes                     0     Lee Vining   \n",
              "7020  9961-JBNMK    Male   79      No                     0  Desert Center   \n",
              "7027  9971-ZWPBF    Male   70     Yes                     1         Orinda   \n",
              "\n",
              "      Zip Code   Latitude   Longitude  Number of Referrals  ...  \\\n",
              "1        91206  34.162515 -118.203869                    0  ...   \n",
              "32       90063  34.044271 -118.185237                    9  ...   \n",
              "170      90040  33.994524 -118.149953                    9  ...   \n",
              "232      91403  34.147149 -118.463365                    0  ...   \n",
              "336      94021  37.266388 -122.263080                    1  ...   \n",
              "...        ...        ...         ...                  ...  ...   \n",
              "6894     95631  39.031876 -120.811141                    0  ...   \n",
              "6918     91325  34.236683 -118.517588                    0  ...   \n",
              "6976     93541  37.890145 -119.184087                    1  ...   \n",
              "7020     92239  33.889605 -115.257009                    0  ...   \n",
              "7027     94563  37.873916 -122.205220                    7  ...   \n",
              "\n",
              "       Payment Method Monthly Charge Total Charges  Total Refunds  \\\n",
              "1         Credit Card           -4.0        542.40          38.33   \n",
              "32    Bank Withdrawal           -2.0       7942.15           0.00   \n",
              "170       Credit Card           -3.0        465.70           0.00   \n",
              "232       Credit Card           -8.0       4539.60           0.00   \n",
              "336   Bank Withdrawal           -1.0        343.95           0.00   \n",
              "...               ...            ...           ...            ...   \n",
              "6894      Credit Card           -1.0       2192.90           0.00   \n",
              "6918  Bank Withdrawal           -7.0       6860.60          44.00   \n",
              "6976      Credit Card           -1.0       3640.45           0.00   \n",
              "7020  Bank Withdrawal           -1.0       2030.30          10.20   \n",
              "7027  Bank Withdrawal           -9.0       3625.20           0.00   \n",
              "\n",
              "     Total Extra Data Charges Total Long Distance Charges Total Revenue  \\\n",
              "1                          10                       96.21        610.28   \n",
              "32                          0                     2888.82      10830.97   \n",
              "170                         0                        0.00        465.70   \n",
              "232                       130                        0.00       4669.60   \n",
              "336                        20                       33.30        397.25   \n",
              "...                       ...                         ...           ...   \n",
              "6894                        0                     1108.83       3301.73   \n",
              "6918                        0                     2179.32       8995.92   \n",
              "6976                        0                     1980.00       5620.45   \n",
              "7020                        0                      887.67       2907.77   \n",
              "7027                       30                      399.16       4054.36   \n",
              "\n",
              "      Customer Status   Churn Category                   Churn Reason  \n",
              "1              Stayed              NaN                            NaN  \n",
              "32             Stayed              NaN                            NaN  \n",
              "170            Stayed              NaN                            NaN  \n",
              "232            Stayed              NaN                            NaN  \n",
              "336           Churned       Competitor   Competitor offered more data  \n",
              "...               ...              ...                            ...  \n",
              "6894           Stayed              NaN                            NaN  \n",
              "6918           Stayed              NaN                            NaN  \n",
              "6976          Churned       Competitor  Competitor had better devices  \n",
              "7020          Churned  Dissatisfaction        Product dissatisfaction  \n",
              "7027           Stayed              NaN                            NaN  \n",
              "\n",
              "[120 rows x 38 columns]"
            ],
            "text/html": [
              "\n",
              "  <div id=\"df-363b73ea-3807-480c-b3fb-01f49d979c9e\">\n",
              "    <div class=\"colab-df-container\">\n",
              "      <div>\n",
              "<style scoped>\n",
              "    .dataframe tbody tr th:only-of-type {\n",
              "        vertical-align: middle;\n",
              "    }\n",
              "\n",
              "    .dataframe tbody tr th {\n",
              "        vertical-align: top;\n",
              "    }\n",
              "\n",
              "    .dataframe thead th {\n",
              "        text-align: right;\n",
              "    }\n",
              "</style>\n",
              "<table border=\"1\" class=\"dataframe\">\n",
              "  <thead>\n",
              "    <tr style=\"text-align: right;\">\n",
              "      <th></th>\n",
              "      <th>Customer ID</th>\n",
              "      <th>Gender</th>\n",
              "      <th>Age</th>\n",
              "      <th>Married</th>\n",
              "      <th>Number of Dependents</th>\n",
              "      <th>City</th>\n",
              "      <th>Zip Code</th>\n",
              "      <th>Latitude</th>\n",
              "      <th>Longitude</th>\n",
              "      <th>Number of Referrals</th>\n",
              "      <th>...</th>\n",
              "      <th>Payment Method</th>\n",
              "      <th>Monthly Charge</th>\n",
              "      <th>Total Charges</th>\n",
              "      <th>Total Refunds</th>\n",
              "      <th>Total Extra Data Charges</th>\n",
              "      <th>Total Long Distance Charges</th>\n",
              "      <th>Total Revenue</th>\n",
              "      <th>Customer Status</th>\n",
              "      <th>Churn Category</th>\n",
              "      <th>Churn Reason</th>\n",
              "    </tr>\n",
              "  </thead>\n",
              "  <tbody>\n",
              "    <tr>\n",
              "      <th>1</th>\n",
              "      <td>0003-MKNFE</td>\n",
              "      <td>Male</td>\n",
              "      <td>46</td>\n",
              "      <td>No</td>\n",
              "      <td>0</td>\n",
              "      <td>Glendale</td>\n",
              "      <td>91206</td>\n",
              "      <td>34.162515</td>\n",
              "      <td>-118.203869</td>\n",
              "      <td>0</td>\n",
              "      <td>...</td>\n",
              "      <td>Credit Card</td>\n",
              "      <td>-4.0</td>\n",
              "      <td>542.40</td>\n",
              "      <td>38.33</td>\n",
              "      <td>10</td>\n",
              "      <td>96.21</td>\n",
              "      <td>610.28</td>\n",
              "      <td>Stayed</td>\n",
              "      <td>NaN</td>\n",
              "      <td>NaN</td>\n",
              "    </tr>\n",
              "    <tr>\n",
              "      <th>32</th>\n",
              "      <td>0052-DCKON</td>\n",
              "      <td>Male</td>\n",
              "      <td>28</td>\n",
              "      <td>Yes</td>\n",
              "      <td>0</td>\n",
              "      <td>Los Angeles</td>\n",
              "      <td>90063</td>\n",
              "      <td>34.044271</td>\n",
              "      <td>-118.185237</td>\n",
              "      <td>9</td>\n",
              "      <td>...</td>\n",
              "      <td>Bank Withdrawal</td>\n",
              "      <td>-2.0</td>\n",
              "      <td>7942.15</td>\n",
              "      <td>0.00</td>\n",
              "      <td>0</td>\n",
              "      <td>2888.82</td>\n",
              "      <td>10830.97</td>\n",
              "      <td>Stayed</td>\n",
              "      <td>NaN</td>\n",
              "      <td>NaN</td>\n",
              "    </tr>\n",
              "    <tr>\n",
              "      <th>170</th>\n",
              "      <td>0274-JKUJR</td>\n",
              "      <td>Male</td>\n",
              "      <td>21</td>\n",
              "      <td>Yes</td>\n",
              "      <td>2</td>\n",
              "      <td>Los Angeles</td>\n",
              "      <td>90040</td>\n",
              "      <td>33.994524</td>\n",
              "      <td>-118.149953</td>\n",
              "      <td>9</td>\n",
              "      <td>...</td>\n",
              "      <td>Credit Card</td>\n",
              "      <td>-3.0</td>\n",
              "      <td>465.70</td>\n",
              "      <td>0.00</td>\n",
              "      <td>0</td>\n",
              "      <td>0.00</td>\n",
              "      <td>465.70</td>\n",
              "      <td>Stayed</td>\n",
              "      <td>NaN</td>\n",
              "      <td>NaN</td>\n",
              "    </tr>\n",
              "    <tr>\n",
              "      <th>232</th>\n",
              "      <td>0361-HJRDX</td>\n",
              "      <td>Female</td>\n",
              "      <td>38</td>\n",
              "      <td>No</td>\n",
              "      <td>0</td>\n",
              "      <td>Sherman Oaks</td>\n",
              "      <td>91403</td>\n",
              "      <td>34.147149</td>\n",
              "      <td>-118.463365</td>\n",
              "      <td>0</td>\n",
              "      <td>...</td>\n",
              "      <td>Credit Card</td>\n",
              "      <td>-8.0</td>\n",
              "      <td>4539.60</td>\n",
              "      <td>0.00</td>\n",
              "      <td>130</td>\n",
              "      <td>0.00</td>\n",
              "      <td>4669.60</td>\n",
              "      <td>Stayed</td>\n",
              "      <td>NaN</td>\n",
              "      <td>NaN</td>\n",
              "    </tr>\n",
              "    <tr>\n",
              "      <th>336</th>\n",
              "      <td>0495-ZBNGW</td>\n",
              "      <td>Male</td>\n",
              "      <td>78</td>\n",
              "      <td>Yes</td>\n",
              "      <td>0</td>\n",
              "      <td>Loma Mar</td>\n",
              "      <td>94021</td>\n",
              "      <td>37.266388</td>\n",
              "      <td>-122.263080</td>\n",
              "      <td>1</td>\n",
              "      <td>...</td>\n",
              "      <td>Bank Withdrawal</td>\n",
              "      <td>-1.0</td>\n",
              "      <td>343.95</td>\n",
              "      <td>0.00</td>\n",
              "      <td>20</td>\n",
              "      <td>33.30</td>\n",
              "      <td>397.25</td>\n",
              "      <td>Churned</td>\n",
              "      <td>Competitor</td>\n",
              "      <td>Competitor offered more data</td>\n",
              "    </tr>\n",
              "    <tr>\n",
              "      <th>...</th>\n",
              "      <td>...</td>\n",
              "      <td>...</td>\n",
              "      <td>...</td>\n",
              "      <td>...</td>\n",
              "      <td>...</td>\n",
              "      <td>...</td>\n",
              "      <td>...</td>\n",
              "      <td>...</td>\n",
              "      <td>...</td>\n",
              "      <td>...</td>\n",
              "      <td>...</td>\n",
              "      <td>...</td>\n",
              "      <td>...</td>\n",
              "      <td>...</td>\n",
              "      <td>...</td>\n",
              "      <td>...</td>\n",
              "      <td>...</td>\n",
              "      <td>...</td>\n",
              "      <td>...</td>\n",
              "      <td>...</td>\n",
              "      <td>...</td>\n",
              "    </tr>\n",
              "    <tr>\n",
              "      <th>6894</th>\n",
              "      <td>9793-WECQC</td>\n",
              "      <td>Male</td>\n",
              "      <td>53</td>\n",
              "      <td>No</td>\n",
              "      <td>0</td>\n",
              "      <td>Foresthill</td>\n",
              "      <td>95631</td>\n",
              "      <td>39.031876</td>\n",
              "      <td>-120.811141</td>\n",
              "      <td>0</td>\n",
              "      <td>...</td>\n",
              "      <td>Credit Card</td>\n",
              "      <td>-1.0</td>\n",
              "      <td>2192.90</td>\n",
              "      <td>0.00</td>\n",
              "      <td>0</td>\n",
              "      <td>1108.83</td>\n",
              "      <td>3301.73</td>\n",
              "      <td>Stayed</td>\n",
              "      <td>NaN</td>\n",
              "      <td>NaN</td>\n",
              "    </tr>\n",
              "    <tr>\n",
              "      <th>6918</th>\n",
              "      <td>9821-BESNZ</td>\n",
              "      <td>Male</td>\n",
              "      <td>43</td>\n",
              "      <td>No</td>\n",
              "      <td>0</td>\n",
              "      <td>Northridge</td>\n",
              "      <td>91325</td>\n",
              "      <td>34.236683</td>\n",
              "      <td>-118.517588</td>\n",
              "      <td>0</td>\n",
              "      <td>...</td>\n",
              "      <td>Bank Withdrawal</td>\n",
              "      <td>-7.0</td>\n",
              "      <td>6860.60</td>\n",
              "      <td>44.00</td>\n",
              "      <td>0</td>\n",
              "      <td>2179.32</td>\n",
              "      <td>8995.92</td>\n",
              "      <td>Stayed</td>\n",
              "      <td>NaN</td>\n",
              "      <td>NaN</td>\n",
              "    </tr>\n",
              "    <tr>\n",
              "      <th>6976</th>\n",
              "      <td>9898-KZQDZ</td>\n",
              "      <td>Female</td>\n",
              "      <td>65</td>\n",
              "      <td>Yes</td>\n",
              "      <td>0</td>\n",
              "      <td>Lee Vining</td>\n",
              "      <td>93541</td>\n",
              "      <td>37.890145</td>\n",
              "      <td>-119.184087</td>\n",
              "      <td>1</td>\n",
              "      <td>...</td>\n",
              "      <td>Credit Card</td>\n",
              "      <td>-1.0</td>\n",
              "      <td>3640.45</td>\n",
              "      <td>0.00</td>\n",
              "      <td>0</td>\n",
              "      <td>1980.00</td>\n",
              "      <td>5620.45</td>\n",
              "      <td>Churned</td>\n",
              "      <td>Competitor</td>\n",
              "      <td>Competitor had better devices</td>\n",
              "    </tr>\n",
              "    <tr>\n",
              "      <th>7020</th>\n",
              "      <td>9961-JBNMK</td>\n",
              "      <td>Male</td>\n",
              "      <td>79</td>\n",
              "      <td>No</td>\n",
              "      <td>0</td>\n",
              "      <td>Desert Center</td>\n",
              "      <td>92239</td>\n",
              "      <td>33.889605</td>\n",
              "      <td>-115.257009</td>\n",
              "      <td>0</td>\n",
              "      <td>...</td>\n",
              "      <td>Bank Withdrawal</td>\n",
              "      <td>-1.0</td>\n",
              "      <td>2030.30</td>\n",
              "      <td>10.20</td>\n",
              "      <td>0</td>\n",
              "      <td>887.67</td>\n",
              "      <td>2907.77</td>\n",
              "      <td>Churned</td>\n",
              "      <td>Dissatisfaction</td>\n",
              "      <td>Product dissatisfaction</td>\n",
              "    </tr>\n",
              "    <tr>\n",
              "      <th>7027</th>\n",
              "      <td>9971-ZWPBF</td>\n",
              "      <td>Male</td>\n",
              "      <td>70</td>\n",
              "      <td>Yes</td>\n",
              "      <td>1</td>\n",
              "      <td>Orinda</td>\n",
              "      <td>94563</td>\n",
              "      <td>37.873916</td>\n",
              "      <td>-122.205220</td>\n",
              "      <td>7</td>\n",
              "      <td>...</td>\n",
              "      <td>Bank Withdrawal</td>\n",
              "      <td>-9.0</td>\n",
              "      <td>3625.20</td>\n",
              "      <td>0.00</td>\n",
              "      <td>30</td>\n",
              "      <td>399.16</td>\n",
              "      <td>4054.36</td>\n",
              "      <td>Stayed</td>\n",
              "      <td>NaN</td>\n",
              "      <td>NaN</td>\n",
              "    </tr>\n",
              "  </tbody>\n",
              "</table>\n",
              "<p>120 rows × 38 columns</p>\n",
              "</div>\n",
              "      <button class=\"colab-df-convert\" onclick=\"convertToInteractive('df-363b73ea-3807-480c-b3fb-01f49d979c9e')\"\n",
              "              title=\"Convert this dataframe to an interactive table.\"\n",
              "              style=\"display:none;\">\n",
              "        \n",
              "  <svg xmlns=\"http://www.w3.org/2000/svg\" height=\"24px\"viewBox=\"0 0 24 24\"\n",
              "       width=\"24px\">\n",
              "    <path d=\"M0 0h24v24H0V0z\" fill=\"none\"/>\n",
              "    <path d=\"M18.56 5.44l.94 2.06.94-2.06 2.06-.94-2.06-.94-.94-2.06-.94 2.06-2.06.94zm-11 1L8.5 8.5l.94-2.06 2.06-.94-2.06-.94L8.5 2.5l-.94 2.06-2.06.94zm10 10l.94 2.06.94-2.06 2.06-.94-2.06-.94-.94-2.06-.94 2.06-2.06.94z\"/><path d=\"M17.41 7.96l-1.37-1.37c-.4-.4-.92-.59-1.43-.59-.52 0-1.04.2-1.43.59L10.3 9.45l-7.72 7.72c-.78.78-.78 2.05 0 2.83L4 21.41c.39.39.9.59 1.41.59.51 0 1.02-.2 1.41-.59l7.78-7.78 2.81-2.81c.8-.78.8-2.07 0-2.86zM5.41 20L4 18.59l7.72-7.72 1.47 1.35L5.41 20z\"/>\n",
              "  </svg>\n",
              "      </button>\n",
              "      \n",
              "  <style>\n",
              "    .colab-df-container {\n",
              "      display:flex;\n",
              "      flex-wrap:wrap;\n",
              "      gap: 12px;\n",
              "    }\n",
              "\n",
              "    .colab-df-convert {\n",
              "      background-color: #E8F0FE;\n",
              "      border: none;\n",
              "      border-radius: 50%;\n",
              "      cursor: pointer;\n",
              "      display: none;\n",
              "      fill: #1967D2;\n",
              "      height: 32px;\n",
              "      padding: 0 0 0 0;\n",
              "      width: 32px;\n",
              "    }\n",
              "\n",
              "    .colab-df-convert:hover {\n",
              "      background-color: #E2EBFA;\n",
              "      box-shadow: 0px 1px 2px rgba(60, 64, 67, 0.3), 0px 1px 3px 1px rgba(60, 64, 67, 0.15);\n",
              "      fill: #174EA6;\n",
              "    }\n",
              "\n",
              "    [theme=dark] .colab-df-convert {\n",
              "      background-color: #3B4455;\n",
              "      fill: #D2E3FC;\n",
              "    }\n",
              "\n",
              "    [theme=dark] .colab-df-convert:hover {\n",
              "      background-color: #434B5C;\n",
              "      box-shadow: 0px 1px 3px 1px rgba(0, 0, 0, 0.15);\n",
              "      filter: drop-shadow(0px 1px 2px rgba(0, 0, 0, 0.3));\n",
              "      fill: #FFFFFF;\n",
              "    }\n",
              "  </style>\n",
              "\n",
              "      <script>\n",
              "        const buttonEl =\n",
              "          document.querySelector('#df-363b73ea-3807-480c-b3fb-01f49d979c9e button.colab-df-convert');\n",
              "        buttonEl.style.display =\n",
              "          google.colab.kernel.accessAllowed ? 'block' : 'none';\n",
              "\n",
              "        async function convertToInteractive(key) {\n",
              "          const element = document.querySelector('#df-363b73ea-3807-480c-b3fb-01f49d979c9e');\n",
              "          const dataTable =\n",
              "            await google.colab.kernel.invokeFunction('convertToInteractive',\n",
              "                                                     [key], {});\n",
              "          if (!dataTable) return;\n",
              "\n",
              "          const docLinkHtml = 'Like what you see? Visit the ' +\n",
              "            '<a target=\"_blank\" href=https://colab.research.google.com/notebooks/data_table.ipynb>data table notebook</a>'\n",
              "            + ' to learn more about interactive tables.';\n",
              "          element.innerHTML = '';\n",
              "          dataTable['output_type'] = 'display_data';\n",
              "          await google.colab.output.renderOutput(dataTable, element);\n",
              "          const docLink = document.createElement('div');\n",
              "          docLink.innerHTML = docLinkHtml;\n",
              "          element.appendChild(docLink);\n",
              "        }\n",
              "      </script>\n",
              "    </div>\n",
              "  </div>\n",
              "  "
            ]
          },
          "metadata": {},
          "execution_count": 74
        }
      ]
    },
    {
      "cell_type": "code",
      "source": [
        "df_customers.loc[df_customers['Monthly Charge'] < 15].count()"
      ],
      "metadata": {
        "colab": {
          "base_uri": "https://localhost:8080/"
        },
        "id": "zDrXPCI8PZJ2",
        "outputId": "1a6df6b3-32fe-4199-9f49-0a5fe7d77cc7"
      },
      "execution_count": null,
      "outputs": [
        {
          "output_type": "execute_result",
          "data": {
            "text/plain": [
              "Customer ID                          120\n",
              "Gender                               120\n",
              "Age                                  120\n",
              "Married                              120\n",
              "Number of Dependents                 120\n",
              "City                                 120\n",
              "Zip Code                             120\n",
              "Latitude                             120\n",
              "Longitude                            120\n",
              "Number of Referrals                  120\n",
              "Tenure in Months                     120\n",
              "Offer                                120\n",
              "Phone Service                        120\n",
              "Avg Monthly Long Distance Charges    109\n",
              "Multiple Lines                       109\n",
              "Internet Service                     120\n",
              "Internet Type                        120\n",
              "Avg Monthly GB Download               94\n",
              "Online Security                       94\n",
              "Online Backup                         94\n",
              "Device Protection Plan                94\n",
              "Premium Tech Support                  94\n",
              "Streaming TV                          94\n",
              "Streaming Movies                      94\n",
              "Streaming Music                       94\n",
              "Unlimited Data                        94\n",
              "Contract                             120\n",
              "Paperless Billing                    120\n",
              "Payment Method                       120\n",
              "Monthly Charge                       120\n",
              "Total Charges                        120\n",
              "Total Refunds                        120\n",
              "Total Extra Data Charges             120\n",
              "Total Long Distance Charges          120\n",
              "Total Revenue                        120\n",
              "Customer Status                      120\n",
              "Churn Category                        30\n",
              "Churn Reason                          30\n",
              "dtype: int64"
            ]
          },
          "metadata": {},
          "execution_count": 75
        }
      ]
    },
    {
      "cell_type": "code",
      "source": [
        "# deletar as linhas que possuem cobranças negativas\n",
        "\n",
        "df2_cust = df_customers.loc[df_customers['Monthly Charge'] > 15]\n",
        "\n",
        "\n"
      ],
      "metadata": {
        "id": "UdX2JKxRNQMq"
      },
      "execution_count": null,
      "outputs": []
    },
    {
      "cell_type": "code",
      "source": [
        "df_customers.shape"
      ],
      "metadata": {
        "colab": {
          "base_uri": "https://localhost:8080/"
        },
        "id": "v9ebfq2IRzrr",
        "outputId": "5fedbae2-8ed7-41b2-be36-024f5a979897"
      },
      "execution_count": null,
      "outputs": [
        {
          "output_type": "execute_result",
          "data": {
            "text/plain": [
              "(7043, 38)"
            ]
          },
          "metadata": {},
          "execution_count": 77
        }
      ]
    },
    {
      "cell_type": "code",
      "source": [
        "df2_cust.shape"
      ],
      "metadata": {
        "colab": {
          "base_uri": "https://localhost:8080/"
        },
        "id": "Je2uANrBQpoh",
        "outputId": "3539a970-0798-4f70-f445-907646aff7bf"
      },
      "execution_count": null,
      "outputs": [
        {
          "output_type": "execute_result",
          "data": {
            "text/plain": [
              "(6923, 38)"
            ]
          },
          "metadata": {},
          "execution_count": 78
        }
      ]
    },
    {
      "cell_type": "markdown",
      "source": [
        "### Total Charges"
      ],
      "metadata": {
        "id": "-pE8OeA1SGje"
      }
    },
    {
      "cell_type": "markdown",
      "source": [
        "Indicates the customer’s total charges, calculated to the end of the quarter specified above"
      ],
      "metadata": {
        "id": "B_uMf_woSNDH"
      }
    },
    {
      "cell_type": "code",
      "source": [
        "df2_cust['Total Charges'].value_counts()"
      ],
      "metadata": {
        "colab": {
          "base_uri": "https://localhost:8080/"
        },
        "id": "-FEEokOrR514",
        "outputId": "06928b34-47d9-45c8-cd77-68aa5287857f"
      },
      "execution_count": null,
      "outputs": [
        {
          "output_type": "execute_result",
          "data": {
            "text/plain": [
              "20.20      10\n",
              "19.75       9\n",
              "19.90       8\n",
              "19.65       8\n",
              "20.05       8\n",
              "           ..\n",
              "675.60      1\n",
              "1132.35     1\n",
              "711.90      1\n",
              "1281.00     1\n",
              "3707.60     1\n",
              "Name: Total Charges, Length: 6435, dtype: int64"
            ]
          },
          "metadata": {},
          "execution_count": 79
        }
      ]
    },
    {
      "cell_type": "code",
      "source": [
        "df2_cust['Total Charges'].max()"
      ],
      "metadata": {
        "colab": {
          "base_uri": "https://localhost:8080/"
        },
        "id": "ch3bxoPTSLOw",
        "outputId": "344ab13b-764f-44b1-8734-6ce0f11b6aea"
      },
      "execution_count": null,
      "outputs": [
        {
          "output_type": "execute_result",
          "data": {
            "text/plain": [
              "8684.8"
            ]
          },
          "metadata": {},
          "execution_count": 80
        }
      ]
    },
    {
      "cell_type": "code",
      "source": [
        "df2_cust['Total Charges'].min()"
      ],
      "metadata": {
        "colab": {
          "base_uri": "https://localhost:8080/"
        },
        "id": "JnLz9TZ5SPmv",
        "outputId": "9730fba4-baf5-4b08-e95b-b0561092615c"
      },
      "execution_count": null,
      "outputs": [
        {
          "output_type": "execute_result",
          "data": {
            "text/plain": [
              "18.8"
            ]
          },
          "metadata": {},
          "execution_count": 81
        }
      ]
    },
    {
      "cell_type": "code",
      "source": [
        "df2_cust['Total Charges'].hist()"
      ],
      "metadata": {
        "colab": {
          "base_uri": "https://localhost:8080/"
        },
        "id": "4MZp8PPdSRQA",
        "outputId": "4d409e6a-7c0c-41f8-9265-6fb491938163"
      },
      "execution_count": null,
      "outputs": [
        {
          "output_type": "execute_result",
          "data": {
            "text/plain": [
              "<matplotlib.axes._subplots.AxesSubplot at 0x7f112670dc50>"
            ]
          },
          "metadata": {},
          "execution_count": 82
        },
        {
          "output_type": "display_data",
          "data": {
            "text/plain": [
              "<Figure size 432x288 with 1 Axes>"
            ],
            "image/png": "[encoded data removed]"
          },
          "metadata": {
            "needs_background": "light"
          }
        }
      ]
    },
    {
      "cell_type": "code",
      "source": [
        "df2_cust['Total Charges'].mean()"
      ],
      "metadata": {
        "colab": {
          "base_uri": "https://localhost:8080/"
        },
        "id": "2FPtfTkWSThw",
        "outputId": "99cbe307-1d0b-4cf9-ceb9-de770c1c8838"
      },
      "execution_count": null,
      "outputs": [
        {
          "output_type": "execute_result",
          "data": {
            "text/plain": [
              "2284.741079011989"
            ]
          },
          "metadata": {},
          "execution_count": 83
        }
      ]
    },
    {
      "cell_type": "code",
      "source": [
        "df2_cust['Total Charges'].median()"
      ],
      "metadata": {
        "colab": {
          "base_uri": "https://localhost:8080/"
        },
        "id": "IDo6kvSBSWBg",
        "outputId": "696f2e95-7d48-41b1-d9ea-038c523ca93a"
      },
      "execution_count": null,
      "outputs": [
        {
          "output_type": "execute_result",
          "data": {
            "text/plain": [
              "1396.9"
            ]
          },
          "metadata": {},
          "execution_count": 84
        }
      ]
    },
    {
      "cell_type": "markdown",
      "source": [
        "### Total Refunds"
      ],
      "metadata": {
        "id": "64TqRkT6SiVK"
      }
    },
    {
      "cell_type": "markdown",
      "source": [
        "Indicates the customer’s total refunds, calculated to the end of the quarter specified above"
      ],
      "metadata": {
        "id": "sl_rdV2KSpkX"
      }
    },
    {
      "cell_type": "code",
      "source": [
        "df2_cust['Total Refunds'].value_counts()"
      ],
      "metadata": {
        "colab": {
          "base_uri": "https://localhost:8080/"
        },
        "id": "YN0kQkXjSYGH",
        "outputId": "4fa123d0-89f5-40ea-d701-2998c7a7e7e9"
      },
      "execution_count": null,
      "outputs": [
        {
          "output_type": "execute_result",
          "data": {
            "text/plain": [
              "0.00     6412\n",
              "27.60       2\n",
              "8.74        2\n",
              "1.31        2\n",
              "41.74       2\n",
              "         ... \n",
              "37.37       1\n",
              "48.59       1\n",
              "2.93        1\n",
              "33.73       1\n",
              "9.36        1\n",
              "Name: Total Refunds, Length: 486, dtype: int64"
            ]
          },
          "metadata": {},
          "execution_count": 85
        }
      ]
    },
    {
      "cell_type": "code",
      "source": [
        "df2_cust['Total Refunds'].min()"
      ],
      "metadata": {
        "colab": {
          "base_uri": "https://localhost:8080/"
        },
        "id": "FUGMK7PoSmlP",
        "outputId": "5c0c718e-4b7c-463f-b414-f4a0db281984"
      },
      "execution_count": null,
      "outputs": [
        {
          "output_type": "execute_result",
          "data": {
            "text/plain": [
              "0.0"
            ]
          },
          "metadata": {},
          "execution_count": 86
        }
      ]
    },
    {
      "cell_type": "code",
      "source": [
        "df2_cust['Total Refunds'].max()"
      ],
      "metadata": {
        "colab": {
          "base_uri": "https://localhost:8080/"
        },
        "id": "1zKxy6CvSsPI",
        "outputId": "c9275f98-cd21-4b4e-bf50-4c2fa3e5a3c2"
      },
      "execution_count": null,
      "outputs": [
        {
          "output_type": "execute_result",
          "data": {
            "text/plain": [
              "49.79"
            ]
          },
          "metadata": {},
          "execution_count": 87
        }
      ]
    },
    {
      "cell_type": "code",
      "source": [
        "df2_cust['Total Refunds'].hist()"
      ],
      "metadata": {
        "colab": {
          "base_uri": "https://localhost:8080/"
        },
        "id": "Ra2AmwzyStWo",
        "outputId": "46c9cd28-bd17-4eca-a1a6-54872ba7f405"
      },
      "execution_count": null,
      "outputs": [
        {
          "output_type": "execute_result",
          "data": {
            "text/plain": [
              "<matplotlib.axes._subplots.AxesSubplot at 0x7f1126647bd0>"
            ]
          },
          "metadata": {},
          "execution_count": 88
        },
        {
          "output_type": "display_data",
          "data": {
            "text/plain": [
              "<Figure size 432x288 with 1 Axes>"
            ],
            "image/png": "[encoded data removed]"
          },
          "metadata": {
            "needs_background": "light"
          }
        }
      ]
    },
    {
      "cell_type": "markdown",
      "source": [
        "### Total Extra Data Charges"
      ],
      "metadata": {
        "id": "ZCjbqsV3TD0Y"
      }
    },
    {
      "cell_type": "code",
      "source": [
        "df2_cust['Total Extra Data Charges'].value_counts()"
      ],
      "metadata": {
        "colab": {
          "base_uri": "https://localhost:8080/"
        },
        "id": "-SY1SX4CS8J3",
        "outputId": "aed4b703-af7a-4902-b003-d73740671b2d"
      },
      "execution_count": null,
      "outputs": [
        {
          "output_type": "execute_result",
          "data": {
            "text/plain": [
              "0      6208\n",
              "10      134\n",
              "40       62\n",
              "30       57\n",
              "20       49\n",
              "80       47\n",
              "100      43\n",
              "50       43\n",
              "150      42\n",
              "130      39\n",
              "140      37\n",
              "60       36\n",
              "90       34\n",
              "70       33\n",
              "110      31\n",
              "120      28\n",
              "Name: Total Extra Data Charges, dtype: int64"
            ]
          },
          "metadata": {},
          "execution_count": 89
        }
      ]
    },
    {
      "cell_type": "code",
      "source": [
        "df2_cust['Total Extra Data Charges'].max()"
      ],
      "metadata": {
        "colab": {
          "base_uri": "https://localhost:8080/"
        },
        "id": "loXckMXNTKHP",
        "outputId": "a8fddbfb-076f-415f-b489-0c6b33e4c61f"
      },
      "execution_count": null,
      "outputs": [
        {
          "output_type": "execute_result",
          "data": {
            "text/plain": [
              "150"
            ]
          },
          "metadata": {},
          "execution_count": 90
        }
      ]
    },
    {
      "cell_type": "code",
      "source": [
        "df2_cust['Total Extra Data Charges'].min()"
      ],
      "metadata": {
        "colab": {
          "base_uri": "https://localhost:8080/"
        },
        "id": "nQxsnL3cTNoH",
        "outputId": "3e27b462-41e1-4b81-f83f-68cf10fd947f"
      },
      "execution_count": null,
      "outputs": [
        {
          "output_type": "execute_result",
          "data": {
            "text/plain": [
              "0"
            ]
          },
          "metadata": {},
          "execution_count": 91
        }
      ]
    },
    {
      "cell_type": "code",
      "source": [
        "df2_cust['Total Extra Data Charges'].hist()"
      ],
      "metadata": {
        "colab": {
          "base_uri": "https://localhost:8080/"
        },
        "id": "qoBbMcFxTQOf",
        "outputId": "1d91ce73-5c41-481a-d376-679d81cd94d6"
      },
      "execution_count": null,
      "outputs": [
        {
          "output_type": "execute_result",
          "data": {
            "text/plain": [
              "<matplotlib.axes._subplots.AxesSubplot at 0x7f112655d050>"
            ]
          },
          "metadata": {},
          "execution_count": 92
        },
        {
          "output_type": "display_data",
          "data": {
            "text/plain": [
              "<Figure size 432x288 with 1 Axes>"
            ],
            "image/png": "[encoded data removed]"
          },
          "metadata": {
            "needs_background": "light"
          }
        }
      ]
    },
    {
      "cell_type": "markdown",
      "source": [
        "### Total Long Distance Charges"
      ],
      "metadata": {
        "id": "Jo4gwFILULOo"
      }
    },
    {
      "cell_type": "markdown",
      "source": [
        "Indicates the customer’s total charges for long distance above those specified in their plan, by the end of the quarter specified above"
      ],
      "metadata": {
        "id": "obLFVf69UVxf"
      }
    },
    {
      "cell_type": "code",
      "source": [
        "df2_cust['Total Long Distance Charges'].value_counts()"
      ],
      "metadata": {
        "colab": {
          "base_uri": "https://localhost:8080/"
        },
        "id": "NXM11u9NTRv3",
        "outputId": "8974e0a0-d960-46ea-b4dc-00385713fdc8"
      },
      "execution_count": null,
      "outputs": [
        {
          "output_type": "execute_result",
          "data": {
            "text/plain": [
              "0.00       671\n",
              "15.60        4\n",
              "48.96        4\n",
              "22.86        4\n",
              "41.10        3\n",
              "          ... \n",
              "32.78        1\n",
              "1200.00      1\n",
              "306.88       1\n",
              "633.10       1\n",
              "142.04       1\n",
              "Name: Total Long Distance Charges, Length: 5966, dtype: int64"
            ]
          },
          "metadata": {},
          "execution_count": 93
        }
      ]
    },
    {
      "cell_type": "code",
      "source": [
        "df2_cust['Total Long Distance Charges'].max()"
      ],
      "metadata": {
        "colab": {
          "base_uri": "https://localhost:8080/"
        },
        "id": "sIOi6qn6USI3",
        "outputId": "c6e6e0ac-f6ea-4eb4-936a-9455fe15b557"
      },
      "execution_count": null,
      "outputs": [
        {
          "output_type": "execute_result",
          "data": {
            "text/plain": [
              "3564.72"
            ]
          },
          "metadata": {},
          "execution_count": 94
        }
      ]
    },
    {
      "cell_type": "code",
      "source": [
        "df2_cust['Total Long Distance Charges'].min()"
      ],
      "metadata": {
        "colab": {
          "base_uri": "https://localhost:8080/"
        },
        "id": "_n5ZT8qkUXyG",
        "outputId": "9a7b6964-2b2a-47b1-f519-4bd629f82368"
      },
      "execution_count": null,
      "outputs": [
        {
          "output_type": "execute_result",
          "data": {
            "text/plain": [
              "0.0"
            ]
          },
          "metadata": {},
          "execution_count": 95
        }
      ]
    },
    {
      "cell_type": "code",
      "source": [
        "df2_cust['Total Long Distance Charges'].hist()"
      ],
      "metadata": {
        "colab": {
          "base_uri": "https://localhost:8080/"
        },
        "id": "okVfq9KaUZgf",
        "outputId": "c52bd857-ada4-4844-f9c8-d5109f0aee94"
      },
      "execution_count": null,
      "outputs": [
        {
          "output_type": "execute_result",
          "data": {
            "text/plain": [
              "<matplotlib.axes._subplots.AxesSubplot at 0x7f11264fa790>"
            ]
          },
          "metadata": {},
          "execution_count": 96
        },
        {
          "output_type": "display_data",
          "data": {
            "text/plain": [
              "<Figure size 432x288 with 1 Axes>"
            ],
            "image/png": "[encoded data removed]"
          },
          "metadata": {
            "needs_background": "light"
          }
        }
      ]
    },
    {
      "cell_type": "markdown",
      "source": [
        "### Total Revenue"
      ],
      "metadata": {
        "id": "k7s4jK16UdfK"
      }
    },
    {
      "cell_type": "markdown",
      "source": [
        "Indicates the company's total revenue from this customer, calculated to the end of the quarter specified above (Total Charges - Total Refurnds + Total Extra Data Charges + Total Lond Distance Charges)"
      ],
      "metadata": {
        "id": "PpfXYsDWUmyy"
      }
    },
    {
      "cell_type": "code",
      "source": [
        "df2_cust['Total Revenue'].value_counts()"
      ],
      "metadata": {
        "colab": {
          "base_uri": "https://localhost:8080/"
        },
        "id": "ySQr8ksYUbpP",
        "outputId": "17b6e474-e041-47c4-a4c1-50a05060cc75"
      },
      "execution_count": null,
      "outputs": [
        {
          "output_type": "execute_result",
          "data": {
            "text/plain": [
              "66.56      3\n",
              "116.27     3\n",
              "68.41      3\n",
              "118.89     2\n",
              "118.98     2\n",
              "          ..\n",
              "789.99     1\n",
              "355.82     1\n",
              "5419.35    1\n",
              "8414.43    1\n",
              "3707.60    1\n",
              "Name: Total Revenue, Length: 6859, dtype: int64"
            ]
          },
          "metadata": {},
          "execution_count": 97
        }
      ]
    },
    {
      "cell_type": "code",
      "source": [
        "df2_cust['Total Revenue'].max()\n"
      ],
      "metadata": {
        "colab": {
          "base_uri": "https://localhost:8080/"
        },
        "id": "TaULhXHiUk7n",
        "outputId": "3ba15342-f73f-4d88-9b88-59a52c3b6335"
      },
      "execution_count": null,
      "outputs": [
        {
          "output_type": "execute_result",
          "data": {
            "text/plain": [
              "11979.34"
            ]
          },
          "metadata": {},
          "execution_count": 98
        }
      ]
    },
    {
      "cell_type": "code",
      "source": [
        "df2_cust['Total Revenue'].min()"
      ],
      "metadata": {
        "colab": {
          "base_uri": "https://localhost:8080/"
        },
        "id": "6c9bPoj6U-Cv",
        "outputId": "3d683284-c516-4ba3-f7ca-947167f4f66e"
      },
      "execution_count": null,
      "outputs": [
        {
          "output_type": "execute_result",
          "data": {
            "text/plain": [
              "21.36"
            ]
          },
          "metadata": {},
          "execution_count": 99
        }
      ]
    },
    {
      "cell_type": "code",
      "source": [
        "df2_cust['Total Revenue'].hist()"
      ],
      "metadata": {
        "colab": {
          "base_uri": "https://localhost:8080/"
        },
        "id": "vgQ_mYmGU_zX",
        "outputId": "f6023ad3-5e8a-4e92-e295-a9dab8a8da42"
      },
      "execution_count": null,
      "outputs": [
        {
          "output_type": "execute_result",
          "data": {
            "text/plain": [
              "<matplotlib.axes._subplots.AxesSubplot at 0x7f11264da250>"
            ]
          },
          "metadata": {},
          "execution_count": 100
        },
        {
          "output_type": "display_data",
          "data": {
            "text/plain": [
              "<Figure size 432x288 with 1 Axes>"
            ],
            "image/png": "[encoded data removed]"
          },
          "metadata": {
            "needs_background": "light"
          }
        }
      ]
    },
    {
      "cell_type": "code",
      "source": [
        "df2_cust['Total Revenue'].mean()"
      ],
      "metadata": {
        "colab": {
          "base_uri": "https://localhost:8080/"
        },
        "id": "e2xR1x3aVBb_",
        "outputId": "123134db-3833-4a8b-eab6-341f8bef00c3"
      },
      "execution_count": null,
      "outputs": [
        {
          "output_type": "execute_result",
          "data": {
            "text/plain": [
              "3039.70219269103"
            ]
          },
          "metadata": {},
          "execution_count": 101
        }
      ]
    },
    {
      "cell_type": "code",
      "source": [
        "df2_cust['Total Revenue'].median()"
      ],
      "metadata": {
        "colab": {
          "base_uri": "https://localhost:8080/"
        },
        "id": "jcQ8KUMWVD5e",
        "outputId": "939cd9b4-cb07-4d52-d56c-623782bc1d30"
      },
      "execution_count": null,
      "outputs": [
        {
          "output_type": "execute_result",
          "data": {
            "text/plain": [
              "2109.87"
            ]
          },
          "metadata": {},
          "execution_count": 102
        }
      ]
    },
    {
      "cell_type": "markdown",
      "source": [
        "### Customer Status"
      ],
      "metadata": {
        "id": "1BiB2sAjVJNi"
      }
    },
    {
      "cell_type": "markdown",
      "source": [
        "Indicates the status of the customer at the end of the quarter: Churned, Stayed, or Joined"
      ],
      "metadata": {
        "id": "R7yW8_ikVT8w"
      }
    },
    {
      "cell_type": "code",
      "source": [
        "df2_cust['Customer Status'].value_counts()"
      ],
      "metadata": {
        "colab": {
          "base_uri": "https://localhost:8080/"
        },
        "id": "MVT6Fj45VGDf",
        "outputId": "bc6293c8-1157-4451-de50-780c38f755be"
      },
      "execution_count": null,
      "outputs": [
        {
          "output_type": "execute_result",
          "data": {
            "text/plain": [
              "Stayed     4636\n",
              "Churned    1839\n",
              "Joined      448\n",
              "Name: Customer Status, dtype: int64"
            ]
          },
          "metadata": {},
          "execution_count": 103
        }
      ]
    },
    {
      "cell_type": "code",
      "source": [
        "df2_cust['Customer Status'].value_counts() / df2_cust.shape[0] * 100"
      ],
      "metadata": {
        "colab": {
          "base_uri": "https://localhost:8080/"
        },
        "id": "wE2sRc7uVSR3",
        "outputId": "f1707e1c-1292-44ae-8f81-d386b0c291ee"
      },
      "execution_count": null,
      "outputs": [
        {
          "output_type": "execute_result",
          "data": {
            "text/plain": [
              "Stayed     66.965189\n",
              "Churned    26.563628\n",
              "Joined      6.471183\n",
              "Name: Customer Status, dtype: float64"
            ]
          },
          "metadata": {},
          "execution_count": 104
        }
      ]
    },
    {
      "cell_type": "markdown",
      "source": [
        "### Churn Category"
      ],
      "metadata": {
        "id": "MyILDCMZVgLK"
      }
    },
    {
      "cell_type": "markdown",
      "source": [
        "A high-level category for the customer’s reason for churning, which is asked when they leave the company: Attitude, Competitor, Dissatisfaction, Other, Price (directly related to Churn Reason)"
      ],
      "metadata": {
        "id": "A-AIwOQbVouR"
      }
    },
    {
      "cell_type": "code",
      "source": [
        "df2_cust['Churn Category'].value_counts()"
      ],
      "metadata": {
        "colab": {
          "base_uri": "https://localhost:8080/"
        },
        "id": "0Dg8oXY8VaWv",
        "outputId": "390b742d-04a5-456d-b5d2-a563710c3832"
      },
      "execution_count": null,
      "outputs": [
        {
          "output_type": "execute_result",
          "data": {
            "text/plain": [
              "Competitor         831\n",
              "Dissatisfaction    312\n",
              "Attitude           307\n",
              "Price              209\n",
              "Other              180\n",
              "Name: Churn Category, dtype: int64"
            ]
          },
          "metadata": {},
          "execution_count": 105
        }
      ]
    },
    {
      "cell_type": "code",
      "source": [
        "# criar um DataFrame aoenas daqueles que saíram (Customer Status = Churned)\n",
        "\n",
        "df_churned = df2_cust.loc[df2_cust['Customer Status'] == 'Churned']"
      ],
      "metadata": {
        "id": "a7Dk1WDmqKel"
      },
      "execution_count": null,
      "outputs": []
    },
    {
      "cell_type": "code",
      "source": [
        "df_churned.head()"
      ],
      "metadata": {
        "id": "LOwgf4ojqRt-",
        "colab": {
          "base_uri": "https://localhost:8080/"
        },
        "outputId": "510d3557-ae02-4089-f2c2-4a50568ae4ff"
      },
      "execution_count": null,
      "outputs": [
        {
          "output_type": "execute_result",
          "data": {
            "text/plain": [
              "   Customer ID  Gender  Age Married  Number of Dependents         City  \\\n",
              "2   0004-TLHLJ    Male   50      No                     0   Costa Mesa   \n",
              "3   0011-IGKFF    Male   78     Yes                     0     Martinez   \n",
              "4   0013-EXCHZ  Female   75     Yes                     0    Camarillo   \n",
              "18  0022-TCJCI    Male   79      No                     0    Daly City   \n",
              "19  0023-HGHWL    Male   67      No                     0  Morgan Hill   \n",
              "\n",
              "    Zip Code   Latitude   Longitude  Number of Referrals  ...  \\\n",
              "2      92627  33.645672 -117.922613                    0  ...   \n",
              "3      94553  38.014457 -122.115432                    1  ...   \n",
              "4      93010  34.227846 -119.079903                    3  ...   \n",
              "18     94015  37.680844 -122.481310                    0  ...   \n",
              "19     95037  37.161544 -121.649371                    0  ...   \n",
              "\n",
              "     Payment Method Monthly Charge Total Charges  Total Refunds  \\\n",
              "2   Bank Withdrawal           73.9        280.85            0.0   \n",
              "3   Bank Withdrawal           98.0       1237.85            0.0   \n",
              "4       Credit Card           83.9        267.40            0.0   \n",
              "18      Credit Card           62.7       2791.50            0.0   \n",
              "19  Bank Withdrawal           25.1         25.10            0.0   \n",
              "\n",
              "   Total Extra Data Charges Total Long Distance Charges Total Revenue  \\\n",
              "2                         0                      134.60        415.45   \n",
              "3                         0                      361.66       1599.51   \n",
              "4                         0                       22.14        289.54   \n",
              "18                        0                      480.15       3271.65   \n",
              "19                        0                        0.00         25.10   \n",
              "\n",
              "    Customer Status   Churn Category                   Churn Reason  \n",
              "2           Churned       Competitor  Competitor had better devices  \n",
              "3           Churned  Dissatisfaction        Product dissatisfaction  \n",
              "4           Churned  Dissatisfaction            Network reliability  \n",
              "18          Churned  Dissatisfaction      Limited range of services  \n",
              "19          Churned       Competitor   Competitor made better offer  \n",
              "\n",
              "[5 rows x 38 columns]"
            ],
            "text/html": [
              "\n",
              "  <div id=\"df-e9763a23-9705-41be-8dc3-63c7f3ce462b\">\n",
              "    <div class=\"colab-df-container\">\n",
              "      <div>\n",
              "<style scoped>\n",
              "    .dataframe tbody tr th:only-of-type {\n",
              "        vertical-align: middle;\n",
              "    }\n",
              "\n",
              "    .dataframe tbody tr th {\n",
              "        vertical-align: top;\n",
              "    }\n",
              "\n",
              "    .dataframe thead th {\n",
              "        text-align: right;\n",
              "    }\n",
              "</style>\n",
              "<table border=\"1\" class=\"dataframe\">\n",
              "  <thead>\n",
              "    <tr style=\"text-align: right;\">\n",
              "      <th></th>\n",
              "      <th>Customer ID</th>\n",
              "      <th>Gender</th>\n",
              "      <th>Age</th>\n",
              "      <th>Married</th>\n",
              "      <th>Number of Dependents</th>\n",
              "      <th>City</th>\n",
              "      <th>Zip Code</th>\n",
              "      <th>Latitude</th>\n",
              "      <th>Longitude</th>\n",
              "      <th>Number of Referrals</th>\n",
              "      <th>...</th>\n",
              "      <th>Payment Method</th>\n",
              "      <th>Monthly Charge</th>\n",
              "      <th>Total Charges</th>\n",
              "      <th>Total Refunds</th>\n",
              "      <th>Total Extra Data Charges</th>\n",
              "      <th>Total Long Distance Charges</th>\n",
              "      <th>Total Revenue</th>\n",
              "      <th>Customer Status</th>\n",
              "      <th>Churn Category</th>\n",
              "      <th>Churn Reason</th>\n",
              "    </tr>\n",
              "  </thead>\n",
              "  <tbody>\n",
              "    <tr>\n",
              "      <th>2</th>\n",
              "      <td>0004-TLHLJ</td>\n",
              "      <td>Male</td>\n",
              "      <td>50</td>\n",
              "      <td>No</td>\n",
              "      <td>0</td>\n",
              "      <td>Costa Mesa</td>\n",
              "      <td>92627</td>\n",
              "      <td>33.645672</td>\n",
              "      <td>-117.922613</td>\n",
              "      <td>0</td>\n",
              "      <td>...</td>\n",
              "      <td>Bank Withdrawal</td>\n",
              "      <td>73.9</td>\n",
              "      <td>280.85</td>\n",
              "      <td>0.0</td>\n",
              "      <td>0</td>\n",
              "      <td>134.60</td>\n",
              "      <td>415.45</td>\n",
              "      <td>Churned</td>\n",
              "      <td>Competitor</td>\n",
              "      <td>Competitor had better devices</td>\n",
              "    </tr>\n",
              "    <tr>\n",
              "      <th>3</th>\n",
              "      <td>0011-IGKFF</td>\n",
              "      <td>Male</td>\n",
              "      <td>78</td>\n",
              "      <td>Yes</td>\n",
              "      <td>0</td>\n",
              "      <td>Martinez</td>\n",
              "      <td>94553</td>\n",
              "      <td>38.014457</td>\n",
              "      <td>-122.115432</td>\n",
              "      <td>1</td>\n",
              "      <td>...</td>\n",
              "      <td>Bank Withdrawal</td>\n",
              "      <td>98.0</td>\n",
              "      <td>1237.85</td>\n",
              "      <td>0.0</td>\n",
              "      <td>0</td>\n",
              "      <td>361.66</td>\n",
              "      <td>1599.51</td>\n",
              "      <td>Churned</td>\n",
              "      <td>Dissatisfaction</td>\n",
              "      <td>Product dissatisfaction</td>\n",
              "    </tr>\n",
              "    <tr>\n",
              "      <th>4</th>\n",
              "      <td>0013-EXCHZ</td>\n",
              "      <td>Female</td>\n",
              "      <td>75</td>\n",
              "      <td>Yes</td>\n",
              "      <td>0</td>\n",
              "      <td>Camarillo</td>\n",
              "      <td>93010</td>\n",
              "      <td>34.227846</td>\n",
              "      <td>-119.079903</td>\n",
              "      <td>3</td>\n",
              "      <td>...</td>\n",
              "      <td>Credit Card</td>\n",
              "      <td>83.9</td>\n",
              "      <td>267.40</td>\n",
              "      <td>0.0</td>\n",
              "      <td>0</td>\n",
              "      <td>22.14</td>\n",
              "      <td>289.54</td>\n",
              "      <td>Churned</td>\n",
              "      <td>Dissatisfaction</td>\n",
              "      <td>Network reliability</td>\n",
              "    </tr>\n",
              "    <tr>\n",
              "      <th>18</th>\n",
              "      <td>0022-TCJCI</td>\n",
              "      <td>Male</td>\n",
              "      <td>79</td>\n",
              "      <td>No</td>\n",
              "      <td>0</td>\n",
              "      <td>Daly City</td>\n",
              "      <td>94015</td>\n",
              "      <td>37.680844</td>\n",
              "      <td>-122.481310</td>\n",
              "      <td>0</td>\n",
              "      <td>...</td>\n",
              "      <td>Credit Card</td>\n",
              "      <td>62.7</td>\n",
              "      <td>2791.50</td>\n",
              "      <td>0.0</td>\n",
              "      <td>0</td>\n",
              "      <td>480.15</td>\n",
              "      <td>3271.65</td>\n",
              "      <td>Churned</td>\n",
              "      <td>Dissatisfaction</td>\n",
              "      <td>Limited range of services</td>\n",
              "    </tr>\n",
              "    <tr>\n",
              "      <th>19</th>\n",
              "      <td>0023-HGHWL</td>\n",
              "      <td>Male</td>\n",
              "      <td>67</td>\n",
              "      <td>No</td>\n",
              "      <td>0</td>\n",
              "      <td>Morgan Hill</td>\n",
              "      <td>95037</td>\n",
              "      <td>37.161544</td>\n",
              "      <td>-121.649371</td>\n",
              "      <td>0</td>\n",
              "      <td>...</td>\n",
              "      <td>Bank Withdrawal</td>\n",
              "      <td>25.1</td>\n",
              "      <td>25.10</td>\n",
              "      <td>0.0</td>\n",
              "      <td>0</td>\n",
              "      <td>0.00</td>\n",
              "      <td>25.10</td>\n",
              "      <td>Churned</td>\n",
              "      <td>Competitor</td>\n",
              "      <td>Competitor made better offer</td>\n",
              "    </tr>\n",
              "  </tbody>\n",
              "</table>\n",
              "<p>5 rows × 38 columns</p>\n",
              "</div>\n",
              "      <button class=\"colab-df-convert\" onclick=\"convertToInteractive('df-e9763a23-9705-41be-8dc3-63c7f3ce462b')\"\n",
              "              title=\"Convert this dataframe to an interactive table.\"\n",
              "              style=\"display:none;\">\n",
              "        \n",
              "  <svg xmlns=\"http://www.w3.org/2000/svg\" height=\"24px\"viewBox=\"0 0 24 24\"\n",
              "       width=\"24px\">\n",
              "    <path d=\"M0 0h24v24H0V0z\" fill=\"none\"/>\n",
              "    <path d=\"M18.56 5.44l.94 2.06.94-2.06 2.06-.94-2.06-.94-.94-2.06-.94 2.06-2.06.94zm-11 1L8.5 8.5l.94-2.06 2.06-.94-2.06-.94L8.5 2.5l-.94 2.06-2.06.94zm10 10l.94 2.06.94-2.06 2.06-.94-2.06-.94-.94-2.06-.94 2.06-2.06.94z\"/><path d=\"M17.41 7.96l-1.37-1.37c-.4-.4-.92-.59-1.43-.59-.52 0-1.04.2-1.43.59L10.3 9.45l-7.72 7.72c-.78.78-.78 2.05 0 2.83L4 21.41c.39.39.9.59 1.41.59.51 0 1.02-.2 1.41-.59l7.78-7.78 2.81-2.81c.8-.78.8-2.07 0-2.86zM5.41 20L4 18.59l7.72-7.72 1.47 1.35L5.41 20z\"/>\n",
              "  </svg>\n",
              "      </button>\n",
              "      \n",
              "  <style>\n",
              "    .colab-df-container {\n",
              "      display:flex;\n",
              "      flex-wrap:wrap;\n",
              "      gap: 12px;\n",
              "    }\n",
              "\n",
              "    .colab-df-convert {\n",
              "      background-color: #E8F0FE;\n",
              "      border: none;\n",
              "      border-radius: 50%;\n",
              "      cursor: pointer;\n",
              "      display: none;\n",
              "      fill: #1967D2;\n",
              "      height: 32px;\n",
              "      padding: 0 0 0 0;\n",
              "      width: 32px;\n",
              "    }\n",
              "\n",
              "    .colab-df-convert:hover {\n",
              "      background-color: #E2EBFA;\n",
              "      box-shadow: 0px 1px 2px rgba(60, 64, 67, 0.3), 0px 1px 3px 1px rgba(60, 64, 67, 0.15);\n",
              "      fill: #174EA6;\n",
              "    }\n",
              "\n",
              "    [theme=dark] .colab-df-convert {\n",
              "      background-color: #3B4455;\n",
              "      fill: #D2E3FC;\n",
              "    }\n",
              "\n",
              "    [theme=dark] .colab-df-convert:hover {\n",
              "      background-color: #434B5C;\n",
              "      box-shadow: 0px 1px 3px 1px rgba(0, 0, 0, 0.15);\n",
              "      filter: drop-shadow(0px 1px 2px rgba(0, 0, 0, 0.3));\n",
              "      fill: #FFFFFF;\n",
              "    }\n",
              "  </style>\n",
              "\n",
              "      <script>\n",
              "        const buttonEl =\n",
              "          document.querySelector('#df-e9763a23-9705-41be-8dc3-63c7f3ce462b button.colab-df-convert');\n",
              "        buttonEl.style.display =\n",
              "          google.colab.kernel.accessAllowed ? 'block' : 'none';\n",
              "\n",
              "        async function convertToInteractive(key) {\n",
              "          const element = document.querySelector('#df-e9763a23-9705-41be-8dc3-63c7f3ce462b');\n",
              "          const dataTable =\n",
              "            await google.colab.kernel.invokeFunction('convertToInteractive',\n",
              "                                                     [key], {});\n",
              "          if (!dataTable) return;\n",
              "\n",
              "          const docLinkHtml = 'Like what you see? Visit the ' +\n",
              "            '<a target=\"_blank\" href=https://colab.research.google.com/notebooks/data_table.ipynb>data table notebook</a>'\n",
              "            + ' to learn more about interactive tables.';\n",
              "          element.innerHTML = '';\n",
              "          dataTable['output_type'] = 'display_data';\n",
              "          await google.colab.output.renderOutput(dataTable, element);\n",
              "          const docLink = document.createElement('div');\n",
              "          docLink.innerHTML = docLinkHtml;\n",
              "          element.appendChild(docLink);\n",
              "        }\n",
              "      </script>\n",
              "    </div>\n",
              "  </div>\n",
              "  "
            ]
          },
          "metadata": {},
          "execution_count": 107
        }
      ]
    },
    {
      "cell_type": "code",
      "source": [
        "df_churned.shape"
      ],
      "metadata": {
        "colab": {
          "base_uri": "https://localhost:8080/"
        },
        "id": "DhTgkd-_qTn6",
        "outputId": "35984d46-2df1-4288-a494-037fc2adb69e"
      },
      "execution_count": null,
      "outputs": [
        {
          "output_type": "execute_result",
          "data": {
            "text/plain": [
              "(1839, 38)"
            ]
          },
          "metadata": {},
          "execution_count": 108
        }
      ]
    },
    {
      "cell_type": "code",
      "source": [
        "df_churned['Churn Category'].value_counts() / df_churned.shape[0] * 100"
      ],
      "metadata": {
        "colab": {
          "base_uri": "https://localhost:8080/"
        },
        "id": "TpYdxUTJqTdY",
        "outputId": "a1fc66dd-e537-4918-d9f4-1bf040e7f3ae"
      },
      "execution_count": null,
      "outputs": [
        {
          "output_type": "execute_result",
          "data": {
            "text/plain": [
              "Competitor         45.187602\n",
              "Dissatisfaction    16.965742\n",
              "Attitude           16.693855\n",
              "Price              11.364872\n",
              "Other               9.787928\n",
              "Name: Churn Category, dtype: float64"
            ]
          },
          "metadata": {},
          "execution_count": 109
        }
      ]
    },
    {
      "cell_type": "markdown",
      "source": [
        "### Churn Reason  \n",
        "\n"
      ],
      "metadata": {
        "id": "Y0TMkNl7Vuj6"
      }
    },
    {
      "cell_type": "markdown",
      "source": [
        "A customer’s specific reason for leaving the company, which is asked when they leave the company (directly related to Churn Category)"
      ],
      "metadata": {
        "id": "XMvNNcKxV3Cc"
      }
    },
    {
      "cell_type": "code",
      "source": [
        "df2_cust['Churn Reason'].value_counts()"
      ],
      "metadata": {
        "colab": {
          "base_uri": "https://localhost:8080/"
        },
        "id": "uV6gxRbcVnFX",
        "outputId": "ea4538a8-ddcb-4288-bf75-e714e29be43d"
      },
      "execution_count": null,
      "outputs": [
        {
          "output_type": "execute_result",
          "data": {
            "text/plain": [
              "Competitor had better devices                311\n",
              "Competitor made better offer                 304\n",
              "Attitude of support person                   215\n",
              "Don't know                                   128\n",
              "Competitor offered more data                 116\n",
              "Competitor offered higher download speeds    100\n",
              "Attitude of service provider                  92\n",
              "Price too high                                78\n",
              "Product dissatisfaction                       74\n",
              "Network reliability                           71\n",
              "Long distance charges                         64\n",
              "Service dissatisfaction                       60\n",
              "Moved                                         46\n",
              "Extra data charges                            38\n",
              "Limited range of services                     36\n",
              "Poor expertise of online support              30\n",
              "Lack of affordable download/upload speed      29\n",
              "Lack of self-service on Website               29\n",
              "Poor expertise of phone support               12\n",
              "Deceased                                       6\n",
              "Name: Churn Reason, dtype: int64"
            ]
          },
          "metadata": {},
          "execution_count": 110
        }
      ]
    },
    {
      "cell_type": "markdown",
      "source": [
        "#### Digging into Competitor reasons"
      ],
      "metadata": {
        "id": "G-sneHgbYVG8"
      }
    },
    {
      "cell_type": "code",
      "source": [
        "# criar um DataFrame apenas com Churn Category = Competitor\n",
        "\n",
        "df_churned_competitor = df_churned.loc[df_churned['Churn Category'] == 'Competitor']"
      ],
      "metadata": {
        "id": "fd8m-GYhV0vO"
      },
      "execution_count": null,
      "outputs": []
    },
    {
      "cell_type": "code",
      "source": [
        "df_churned_competitor['Churn Reason'].value_counts()"
      ],
      "metadata": {
        "colab": {
          "base_uri": "https://localhost:8080/"
        },
        "id": "ZdLvQ8srYUDQ",
        "outputId": "1ca3bca9-5a12-41ce-fb9e-8165f45114ac"
      },
      "execution_count": null,
      "outputs": [
        {
          "output_type": "execute_result",
          "data": {
            "text/plain": [
              "Competitor had better devices                311\n",
              "Competitor made better offer                 304\n",
              "Competitor offered more data                 116\n",
              "Competitor offered higher download speeds    100\n",
              "Name: Churn Reason, dtype: int64"
            ]
          },
          "metadata": {},
          "execution_count": 112
        }
      ]
    },
    {
      "cell_type": "code",
      "source": [
        "df_churned_competitor['Churn Reason'].value_counts() / df_churned_competitor.shape[0] * 100"
      ],
      "metadata": {
        "colab": {
          "base_uri": "https://localhost:8080/"
        },
        "id": "CXMN8kwYYwPl",
        "outputId": "2c8fcd03-8a29-4d2e-9789-846afeffd4b5"
      },
      "execution_count": null,
      "outputs": [
        {
          "output_type": "execute_result",
          "data": {
            "text/plain": [
              "Competitor had better devices                37.424789\n",
              "Competitor made better offer                 36.582431\n",
              "Competitor offered more data                 13.959085\n",
              "Competitor offered higher download speeds    12.033694\n",
              "Name: Churn Reason, dtype: float64"
            ]
          },
          "metadata": {},
          "execution_count": 113
        }
      ]
    },
    {
      "cell_type": "markdown",
      "source": [
        "Esse são os pontos interessantes a ser melhorados para tentar aumentar a retenção dos clientes "
      ],
      "metadata": {
        "id": "iTnwBf7TaOCU"
      }
    },
    {
      "cell_type": "markdown",
      "source": [
        "## HEATMAP"
      ],
      "metadata": {
        "id": "1ywR_KpBbkMi"
      }
    },
    {
      "cell_type": "markdown",
      "source": [
        "#### Primeiro é necessário mudar as variáveis categóricas para numéricas"
      ],
      "metadata": {
        "id": "2LszGyi60FN4"
      }
    },
    {
      "cell_type": "markdown",
      "source": [
        "##### Customer Status"
      ],
      "metadata": {
        "id": "j8wUURQH0MiH"
      }
    },
    {
      "cell_type": "code",
      "source": [
        "df_old_customers.shape"
      ],
      "metadata": {
        "colab": {
          "base_uri": "https://localhost:8080/"
        },
        "id": "M-jOO9YD_lm8",
        "outputId": "9fc795eb-32ef-4a98-fd33-f83cf197385f"
      },
      "execution_count": null,
      "outputs": [
        {
          "output_type": "execute_result",
          "data": {
            "text/plain": [
              "(6475, 38)"
            ]
          },
          "metadata": {},
          "execution_count": 115
        }
      ]
    },
    {
      "cell_type": "code",
      "source": [
        "# criar DataFrame apenas com aqueles que saíram ou continuaram (excluir os novos usuários)\n",
        "\n",
        "df_old_customers = df2_cust.loc[df2_cust['Customer Status'] != 'Joined']"
      ],
      "metadata": {
        "id": "xCOt8xcFdlza"
      },
      "execution_count": null,
      "outputs": []
    },
    {
      "cell_type": "code",
      "source": [
        "df_old_customers['Customer Status'].value_counts()"
      ],
      "metadata": {
        "colab": {
          "base_uri": "https://localhost:8080/"
        },
        "id": "Hw0ITX8YeCJa",
        "outputId": "94aedb17-7cbf-4173-ba41-8fa29a6ceb81"
      },
      "execution_count": null,
      "outputs": [
        {
          "output_type": "execute_result",
          "data": {
            "text/plain": [
              "Stayed     4636\n",
              "Churned    1839\n",
              "Name: Customer Status, dtype: int64"
            ]
          },
          "metadata": {},
          "execution_count": 179
        }
      ]
    },
    {
      "cell_type": "code",
      "source": [
        "# alterar os dados categóricos da coluna Customer Status\n",
        "\n",
        "df_old_customers2 = pd.get_dummies(df_old_customers[\"Customer Status\"]) \n",
        "print(df_old_customers2) \n",
        "\n"
      ],
      "metadata": {
        "colab": {
          "base_uri": "https://localhost:8080/"
        },
        "id": "C2sTCPRQebam",
        "outputId": "ce96aff4-1834-4dbd-bc15-1d495a5d67bc"
      },
      "execution_count": null,
      "outputs": [
        {
          "output_type": "stream",
          "name": "stdout",
          "text": [
            "      Churned  Stayed\n",
            "0           0       1\n",
            "2           1       0\n",
            "3           1       0\n",
            "4           1       0\n",
            "5           0       1\n",
            "...       ...     ...\n",
            "7037        1       0\n",
            "7038        0       1\n",
            "7039        1       0\n",
            "7041        0       1\n",
            "7042        0       1\n",
            "\n",
            "[6475 rows x 2 columns]\n"
          ]
        }
      ]
    },
    {
      "cell_type": "code",
      "source": [
        "# juntar as duas tabelas, uma contendo todo o dataset, e a outra contendo os dados categóricos com representação numerica\n",
        "\n",
        "df_2 = pd.concat((df_old_customers, df_old_customers2), axis=1)"
      ],
      "metadata": {
        "id": "zzIhccuzmpzY"
      },
      "execution_count": null,
      "outputs": []
    },
    {
      "cell_type": "code",
      "source": [
        "# excluir a coluna Stayed, e deixar apenas a Churned\n",
        "\n",
        "df_2 = df_2.drop([\"Stayed\"], axis=1) \n",
        "df_2 = df_2.drop([\"Customer Status\"], axis=1) \n"
      ],
      "metadata": {
        "id": "79LfOEe3mMIF"
      },
      "execution_count": null,
      "outputs": []
    },
    {
      "cell_type": "code",
      "source": [
        "df_2.head()"
      ],
      "metadata": {
        "id": "J249cUBMnhJ7",
        "colab": {
          "base_uri": "https://localhost:8080/",
          "height": 456
        },
        "outputId": "d4a1300c-b405-44a9-dad1-7deeb3898560"
      },
      "execution_count": null,
      "outputs": [
        {
          "output_type": "execute_result",
          "data": {
            "text/plain": [
              "  Customer ID  Gender  Age Married  Number of Dependents          City  \\\n",
              "0  0002-ORFBO  Female   37     Yes                     0  Frazier Park   \n",
              "2  0004-TLHLJ    Male   50      No                     0    Costa Mesa   \n",
              "3  0011-IGKFF    Male   78     Yes                     0      Martinez   \n",
              "4  0013-EXCHZ  Female   75     Yes                     0     Camarillo   \n",
              "5  0013-MHZWF  Female   23      No                     3      Midpines   \n",
              "\n",
              "   Zip Code   Latitude   Longitude  Number of Referrals  ...   Payment Method  \\\n",
              "0     93225  34.827662 -118.999073                    2  ...      Credit Card   \n",
              "2     92627  33.645672 -117.922613                    0  ...  Bank Withdrawal   \n",
              "3     94553  38.014457 -122.115432                    1  ...  Bank Withdrawal   \n",
              "4     93010  34.227846 -119.079903                    3  ...      Credit Card   \n",
              "5     95345  37.581496 -119.972762                    0  ...      Credit Card   \n",
              "\n",
              "  Monthly Charge Total Charges  Total Refunds Total Extra Data Charges  \\\n",
              "0           65.6        593.30            0.0                        0   \n",
              "2           73.9        280.85            0.0                        0   \n",
              "3           98.0       1237.85            0.0                        0   \n",
              "4           83.9        267.40            0.0                        0   \n",
              "5           69.4        571.45            0.0                        0   \n",
              "\n",
              "  Total Long Distance Charges Total Revenue   Churn Category  \\\n",
              "0                      381.51        974.81              NaN   \n",
              "2                      134.60        415.45       Competitor   \n",
              "3                      361.66       1599.51  Dissatisfaction   \n",
              "4                       22.14        289.54  Dissatisfaction   \n",
              "5                      150.93        722.38              NaN   \n",
              "\n",
              "                    Churn Reason Churned  \n",
              "0                            NaN       0  \n",
              "2  Competitor had better devices       1  \n",
              "3        Product dissatisfaction       1  \n",
              "4            Network reliability       1  \n",
              "5                            NaN       0  \n",
              "\n",
              "[5 rows x 38 columns]"
            ],
            "text/html": [
              "\n",
              "  <div id=\"df-1fdb0501-0b0e-4083-84d4-57c8fb7adfd2\">\n",
              "    <div class=\"colab-df-container\">\n",
              "      <div>\n",
              "<style scoped>\n",
              "    .dataframe tbody tr th:only-of-type {\n",
              "        vertical-align: middle;\n",
              "    }\n",
              "\n",
              "    .dataframe tbody tr th {\n",
              "        vertical-align: top;\n",
              "    }\n",
              "\n",
              "    .dataframe thead th {\n",
              "        text-align: right;\n",
              "    }\n",
              "</style>\n",
              "<table border=\"1\" class=\"dataframe\">\n",
              "  <thead>\n",
              "    <tr style=\"text-align: right;\">\n",
              "      <th></th>\n",
              "      <th>Customer ID</th>\n",
              "      <th>Gender</th>\n",
              "      <th>Age</th>\n",
              "      <th>Married</th>\n",
              "      <th>Number of Dependents</th>\n",
              "      <th>City</th>\n",
              "      <th>Zip Code</th>\n",
              "      <th>Latitude</th>\n",
              "      <th>Longitude</th>\n",
              "      <th>Number of Referrals</th>\n",
              "      <th>...</th>\n",
              "      <th>Payment Method</th>\n",
              "      <th>Monthly Charge</th>\n",
              "      <th>Total Charges</th>\n",
              "      <th>Total Refunds</th>\n",
              "      <th>Total Extra Data Charges</th>\n",
              "      <th>Total Long Distance Charges</th>\n",
              "      <th>Total Revenue</th>\n",
              "      <th>Churn Category</th>\n",
              "      <th>Churn Reason</th>\n",
              "      <th>Churned</th>\n",
              "    </tr>\n",
              "  </thead>\n",
              "  <tbody>\n",
              "    <tr>\n",
              "      <th>0</th>\n",
              "      <td>0002-ORFBO</td>\n",
              "      <td>Female</td>\n",
              "      <td>37</td>\n",
              "      <td>Yes</td>\n",
              "      <td>0</td>\n",
              "      <td>Frazier Park</td>\n",
              "      <td>93225</td>\n",
              "      <td>34.827662</td>\n",
              "      <td>-118.999073</td>\n",
              "      <td>2</td>\n",
              "      <td>...</td>\n",
              "      <td>Credit Card</td>\n",
              "      <td>65.6</td>\n",
              "      <td>593.30</td>\n",
              "      <td>0.0</td>\n",
              "      <td>0</td>\n",
              "      <td>381.51</td>\n",
              "      <td>974.81</td>\n",
              "      <td>NaN</td>\n",
              "      <td>NaN</td>\n",
              "      <td>0</td>\n",
              "    </tr>\n",
              "    <tr>\n",
              "      <th>2</th>\n",
              "      <td>0004-TLHLJ</td>\n",
              "      <td>Male</td>\n",
              "      <td>50</td>\n",
              "      <td>No</td>\n",
              "      <td>0</td>\n",
              "      <td>Costa Mesa</td>\n",
              "      <td>92627</td>\n",
              "      <td>33.645672</td>\n",
              "      <td>-117.922613</td>\n",
              "      <td>0</td>\n",
              "      <td>...</td>\n",
              "      <td>Bank Withdrawal</td>\n",
              "      <td>73.9</td>\n",
              "      <td>280.85</td>\n",
              "      <td>0.0</td>\n",
              "      <td>0</td>\n",
              "      <td>134.60</td>\n",
              "      <td>415.45</td>\n",
              "      <td>Competitor</td>\n",
              "      <td>Competitor had better devices</td>\n",
              "      <td>1</td>\n",
              "    </tr>\n",
              "    <tr>\n",
              "      <th>3</th>\n",
              "      <td>0011-IGKFF</td>\n",
              "      <td>Male</td>\n",
              "      <td>78</td>\n",
              "      <td>Yes</td>\n",
              "      <td>0</td>\n",
              "      <td>Martinez</td>\n",
              "      <td>94553</td>\n",
              "      <td>38.014457</td>\n",
              "      <td>-122.115432</td>\n",
              "      <td>1</td>\n",
              "      <td>...</td>\n",
              "      <td>Bank Withdrawal</td>\n",
              "      <td>98.0</td>\n",
              "      <td>1237.85</td>\n",
              "      <td>0.0</td>\n",
              "      <td>0</td>\n",
              "      <td>361.66</td>\n",
              "      <td>1599.51</td>\n",
              "      <td>Dissatisfaction</td>\n",
              "      <td>Product dissatisfaction</td>\n",
              "      <td>1</td>\n",
              "    </tr>\n",
              "    <tr>\n",
              "      <th>4</th>\n",
              "      <td>0013-EXCHZ</td>\n",
              "      <td>Female</td>\n",
              "      <td>75</td>\n",
              "      <td>Yes</td>\n",
              "      <td>0</td>\n",
              "      <td>Camarillo</td>\n",
              "      <td>93010</td>\n",
              "      <td>34.227846</td>\n",
              "      <td>-119.079903</td>\n",
              "      <td>3</td>\n",
              "      <td>...</td>\n",
              "      <td>Credit Card</td>\n",
              "      <td>83.9</td>\n",
              "      <td>267.40</td>\n",
              "      <td>0.0</td>\n",
              "      <td>0</td>\n",
              "      <td>22.14</td>\n",
              "      <td>289.54</td>\n",
              "      <td>Dissatisfaction</td>\n",
              "      <td>Network reliability</td>\n",
              "      <td>1</td>\n",
              "    </tr>\n",
              "    <tr>\n",
              "      <th>5</th>\n",
              "      <td>0013-MHZWF</td>\n",
              "      <td>Female</td>\n",
              "      <td>23</td>\n",
              "      <td>No</td>\n",
              "      <td>3</td>\n",
              "      <td>Midpines</td>\n",
              "      <td>95345</td>\n",
              "      <td>37.581496</td>\n",
              "      <td>-119.972762</td>\n",
              "      <td>0</td>\n",
              "      <td>...</td>\n",
              "      <td>Credit Card</td>\n",
              "      <td>69.4</td>\n",
              "      <td>571.45</td>\n",
              "      <td>0.0</td>\n",
              "      <td>0</td>\n",
              "      <td>150.93</td>\n",
              "      <td>722.38</td>\n",
              "      <td>NaN</td>\n",
              "      <td>NaN</td>\n",
              "      <td>0</td>\n",
              "    </tr>\n",
              "  </tbody>\n",
              "</table>\n",
              "<p>5 rows × 38 columns</p>\n",
              "</div>\n",
              "      <button class=\"colab-df-convert\" onclick=\"convertToInteractive('df-1fdb0501-0b0e-4083-84d4-57c8fb7adfd2')\"\n",
              "              title=\"Convert this dataframe to an interactive table.\"\n",
              "              style=\"display:none;\">\n",
              "        \n",
              "  <svg xmlns=\"http://www.w3.org/2000/svg\" height=\"24px\"viewBox=\"0 0 24 24\"\n",
              "       width=\"24px\">\n",
              "    <path d=\"M0 0h24v24H0V0z\" fill=\"none\"/>\n",
              "    <path d=\"M18.56 5.44l.94 2.06.94-2.06 2.06-.94-2.06-.94-.94-2.06-.94 2.06-2.06.94zm-11 1L8.5 8.5l.94-2.06 2.06-.94-2.06-.94L8.5 2.5l-.94 2.06-2.06.94zm10 10l.94 2.06.94-2.06 2.06-.94-2.06-.94-.94-2.06-.94 2.06-2.06.94z\"/><path d=\"M17.41 7.96l-1.37-1.37c-.4-.4-.92-.59-1.43-.59-.52 0-1.04.2-1.43.59L10.3 9.45l-7.72 7.72c-.78.78-.78 2.05 0 2.83L4 21.41c.39.39.9.59 1.41.59.51 0 1.02-.2 1.41-.59l7.78-7.78 2.81-2.81c.8-.78.8-2.07 0-2.86zM5.41 20L4 18.59l7.72-7.72 1.47 1.35L5.41 20z\"/>\n",
              "  </svg>\n",
              "      </button>\n",
              "      \n",
              "  <style>\n",
              "    .colab-df-container {\n",
              "      display:flex;\n",
              "      flex-wrap:wrap;\n",
              "      gap: 12px;\n",
              "    }\n",
              "\n",
              "    .colab-df-convert {\n",
              "      background-color: #E8F0FE;\n",
              "      border: none;\n",
              "      border-radius: 50%;\n",
              "      cursor: pointer;\n",
              "      display: none;\n",
              "      fill: #1967D2;\n",
              "      height: 32px;\n",
              "      padding: 0 0 0 0;\n",
              "      width: 32px;\n",
              "    }\n",
              "\n",
              "    .colab-df-convert:hover {\n",
              "      background-color: #E2EBFA;\n",
              "      box-shadow: 0px 1px 2px rgba(60, 64, 67, 0.3), 0px 1px 3px 1px rgba(60, 64, 67, 0.15);\n",
              "      fill: #174EA6;\n",
              "    }\n",
              "\n",
              "    [theme=dark] .colab-df-convert {\n",
              "      background-color: #3B4455;\n",
              "      fill: #D2E3FC;\n",
              "    }\n",
              "\n",
              "    [theme=dark] .colab-df-convert:hover {\n",
              "      background-color: #434B5C;\n",
              "      box-shadow: 0px 1px 3px 1px rgba(0, 0, 0, 0.15);\n",
              "      filter: drop-shadow(0px 1px 2px rgba(0, 0, 0, 0.3));\n",
              "      fill: #FFFFFF;\n",
              "    }\n",
              "  </style>\n",
              "\n",
              "      <script>\n",
              "        const buttonEl =\n",
              "          document.querySelector('#df-1fdb0501-0b0e-4083-84d4-57c8fb7adfd2 button.colab-df-convert');\n",
              "        buttonEl.style.display =\n",
              "          google.colab.kernel.accessAllowed ? 'block' : 'none';\n",
              "\n",
              "        async function convertToInteractive(key) {\n",
              "          const element = document.querySelector('#df-1fdb0501-0b0e-4083-84d4-57c8fb7adfd2');\n",
              "          const dataTable =\n",
              "            await google.colab.kernel.invokeFunction('convertToInteractive',\n",
              "                                                     [key], {});\n",
              "          if (!dataTable) return;\n",
              "\n",
              "          const docLinkHtml = 'Like what you see? Visit the ' +\n",
              "            '<a target=\"_blank\" href=https://colab.research.google.com/notebooks/data_table.ipynb>data table notebook</a>'\n",
              "            + ' to learn more about interactive tables.';\n",
              "          element.innerHTML = '';\n",
              "          dataTable['output_type'] = 'display_data';\n",
              "          await google.colab.output.renderOutput(dataTable, element);\n",
              "          const docLink = document.createElement('div');\n",
              "          docLink.innerHTML = docLinkHtml;\n",
              "          element.appendChild(docLink);\n",
              "        }\n",
              "      </script>\n",
              "    </div>\n",
              "  </div>\n",
              "  "
            ]
          },
          "metadata": {},
          "execution_count": 183
        }
      ]
    },
    {
      "cell_type": "markdown",
      "source": [
        "##### Gender"
      ],
      "metadata": {
        "id": "rlZ76R1H0dIw"
      }
    },
    {
      "cell_type": "code",
      "source": [
        "df_2['Gender'].value_counts()"
      ],
      "metadata": {
        "colab": {
          "base_uri": "https://localhost:8080/"
        },
        "id": "YannSyHC0hTw",
        "outputId": "d0fb0f09-9c41-428e-c47f-f768693b2214"
      },
      "execution_count": null,
      "outputs": [
        {
          "output_type": "execute_result",
          "data": {
            "text/plain": [
              "Male      3246\n",
              "Female    3229\n",
              "Name: Gender, dtype: int64"
            ]
          },
          "metadata": {},
          "execution_count": 185
        }
      ]
    },
    {
      "cell_type": "code",
      "source": [
        "# alterar os dados categóricos da coluna Gender\n",
        "\n",
        "df_2_temp = pd.get_dummies(df_2[\"Gender\"]) \n",
        "print(df_2_temp) "
      ],
      "metadata": {
        "colab": {
          "base_uri": "https://localhost:8080/"
        },
        "id": "gRgGXB_u0sN0",
        "outputId": "28eac464-fc3c-4961-d30f-50e1afcaafee"
      },
      "execution_count": null,
      "outputs": [
        {
          "output_type": "stream",
          "name": "stdout",
          "text": [
            "      Female  Male\n",
            "0          1     0\n",
            "2          0     1\n",
            "3          0     1\n",
            "4          1     0\n",
            "5          1     0\n",
            "...      ...   ...\n",
            "7037       1     0\n",
            "7038       1     0\n",
            "7039       0     1\n",
            "7041       0     1\n",
            "7042       0     1\n",
            "\n",
            "[6475 rows x 2 columns]\n"
          ]
        }
      ]
    },
    {
      "cell_type": "code",
      "source": [
        "# juntar as duas tabelas, uma contendo todo o dataset, e a outra contendo os dados categóricos com representação numerica\n",
        "\n",
        "df_3 = pd.concat((df_2, df_2_temp), axis=1)"
      ],
      "metadata": {
        "id": "OVOnt9sz1DWT"
      },
      "execution_count": null,
      "outputs": []
    },
    {
      "cell_type": "code",
      "source": [
        "# excluir a coluna Female, e deixar apenas a Male\n",
        "\n",
        "df_3 = df_3.drop([\"Female\"], axis=1) \n",
        "df_3 = df_3.drop([\"Gender\"], axis=1)\n"
      ],
      "metadata": {
        "id": "7atyzZ9q1PrC"
      },
      "execution_count": null,
      "outputs": []
    },
    {
      "cell_type": "code",
      "source": [
        "df_3.head()"
      ],
      "metadata": {
        "id": "o7puHPxn1YlM",
        "colab": {
          "base_uri": "https://localhost:8080/"
        },
        "outputId": "65a5f5a5-482a-4341-c04a-919377ce4580"
      },
      "execution_count": null,
      "outputs": [
        {
          "output_type": "execute_result",
          "data": {
            "text/plain": [
              "  Customer ID  Age Married  Number of Dependents          City  Zip Code  \\\n",
              "0  0002-ORFBO   37     Yes                     0  Frazier Park     93225   \n",
              "2  0004-TLHLJ   50      No                     0    Costa Mesa     92627   \n",
              "3  0011-IGKFF   78     Yes                     0      Martinez     94553   \n",
              "4  0013-EXCHZ   75     Yes                     0     Camarillo     93010   \n",
              "5  0013-MHZWF   23      No                     3      Midpines     95345   \n",
              "\n",
              "    Latitude   Longitude  Number of Referrals  Tenure in Months  ...  \\\n",
              "0  34.827662 -118.999073                    2                 9  ...   \n",
              "2  33.645672 -117.922613                    0                 4  ...   \n",
              "3  38.014457 -122.115432                    1                13  ...   \n",
              "4  34.227846 -119.079903                    3                 3  ...   \n",
              "5  37.581496 -119.972762                    0                 9  ...   \n",
              "\n",
              "  Monthly Charge Total Charges  Total Refunds Total Extra Data Charges  \\\n",
              "0           65.6        593.30            0.0                        0   \n",
              "2           73.9        280.85            0.0                        0   \n",
              "3           98.0       1237.85            0.0                        0   \n",
              "4           83.9        267.40            0.0                        0   \n",
              "5           69.4        571.45            0.0                        0   \n",
              "\n",
              "  Total Long Distance Charges Total Revenue   Churn Category  \\\n",
              "0                      381.51        974.81              NaN   \n",
              "2                      134.60        415.45       Competitor   \n",
              "3                      361.66       1599.51  Dissatisfaction   \n",
              "4                       22.14        289.54  Dissatisfaction   \n",
              "5                      150.93        722.38              NaN   \n",
              "\n",
              "                    Churn Reason Churned Male  \n",
              "0                            NaN       0    0  \n",
              "2  Competitor had better devices       1    1  \n",
              "3        Product dissatisfaction       1    1  \n",
              "4            Network reliability       1    0  \n",
              "5                            NaN       0    0  \n",
              "\n",
              "[5 rows x 38 columns]"
            ],
            "text/html": [
              "\n",
              "  <div id=\"df-9d99cc68-53eb-486c-b7d4-f10eb30a834c\">\n",
              "    <div class=\"colab-df-container\">\n",
              "      <div>\n",
              "<style scoped>\n",
              "    .dataframe tbody tr th:only-of-type {\n",
              "        vertical-align: middle;\n",
              "    }\n",
              "\n",
              "    .dataframe tbody tr th {\n",
              "        vertical-align: top;\n",
              "    }\n",
              "\n",
              "    .dataframe thead th {\n",
              "        text-align: right;\n",
              "    }\n",
              "</style>\n",
              "<table border=\"1\" class=\"dataframe\">\n",
              "  <thead>\n",
              "    <tr style=\"text-align: right;\">\n",
              "      <th></th>\n",
              "      <th>Customer ID</th>\n",
              "      <th>Age</th>\n",
              "      <th>Married</th>\n",
              "      <th>Number of Dependents</th>\n",
              "      <th>City</th>\n",
              "      <th>Zip Code</th>\n",
              "      <th>Latitude</th>\n",
              "      <th>Longitude</th>\n",
              "      <th>Number of Referrals</th>\n",
              "      <th>Tenure in Months</th>\n",
              "      <th>...</th>\n",
              "      <th>Monthly Charge</th>\n",
              "      <th>Total Charges</th>\n",
              "      <th>Total Refunds</th>\n",
              "      <th>Total Extra Data Charges</th>\n",
              "      <th>Total Long Distance Charges</th>\n",
              "      <th>Total Revenue</th>\n",
              "      <th>Churn Category</th>\n",
              "      <th>Churn Reason</th>\n",
              "      <th>Churned</th>\n",
              "      <th>Male</th>\n",
              "    </tr>\n",
              "  </thead>\n",
              "  <tbody>\n",
              "    <tr>\n",
              "      <th>0</th>\n",
              "      <td>0002-ORFBO</td>\n",
              "      <td>37</td>\n",
              "      <td>Yes</td>\n",
              "      <td>0</td>\n",
              "      <td>Frazier Park</td>\n",
              "      <td>93225</td>\n",
              "      <td>34.827662</td>\n",
              "      <td>-118.999073</td>\n",
              "      <td>2</td>\n",
              "      <td>9</td>\n",
              "      <td>...</td>\n",
              "      <td>65.6</td>\n",
              "      <td>593.30</td>\n",
              "      <td>0.0</td>\n",
              "      <td>0</td>\n",
              "      <td>381.51</td>\n",
              "      <td>974.81</td>\n",
              "      <td>NaN</td>\n",
              "      <td>NaN</td>\n",
              "      <td>0</td>\n",
              "      <td>0</td>\n",
              "    </tr>\n",
              "    <tr>\n",
              "      <th>2</th>\n",
              "      <td>0004-TLHLJ</td>\n",
              "      <td>50</td>\n",
              "      <td>No</td>\n",
              "      <td>0</td>\n",
              "      <td>Costa Mesa</td>\n",
              "      <td>92627</td>\n",
              "      <td>33.645672</td>\n",
              "      <td>-117.922613</td>\n",
              "      <td>0</td>\n",
              "      <td>4</td>\n",
              "      <td>...</td>\n",
              "      <td>73.9</td>\n",
              "      <td>280.85</td>\n",
              "      <td>0.0</td>\n",
              "      <td>0</td>\n",
              "      <td>134.60</td>\n",
              "      <td>415.45</td>\n",
              "      <td>Competitor</td>\n",
              "      <td>Competitor had better devices</td>\n",
              "      <td>1</td>\n",
              "      <td>1</td>\n",
              "    </tr>\n",
              "    <tr>\n",
              "      <th>3</th>\n",
              "      <td>0011-IGKFF</td>\n",
              "      <td>78</td>\n",
              "      <td>Yes</td>\n",
              "      <td>0</td>\n",
              "      <td>Martinez</td>\n",
              "      <td>94553</td>\n",
              "      <td>38.014457</td>\n",
              "      <td>-122.115432</td>\n",
              "      <td>1</td>\n",
              "      <td>13</td>\n",
              "      <td>...</td>\n",
              "      <td>98.0</td>\n",
              "      <td>1237.85</td>\n",
              "      <td>0.0</td>\n",
              "      <td>0</td>\n",
              "      <td>361.66</td>\n",
              "      <td>1599.51</td>\n",
              "      <td>Dissatisfaction</td>\n",
              "      <td>Product dissatisfaction</td>\n",
              "      <td>1</td>\n",
              "      <td>1</td>\n",
              "    </tr>\n",
              "    <tr>\n",
              "      <th>4</th>\n",
              "      <td>0013-EXCHZ</td>\n",
              "      <td>75</td>\n",
              "      <td>Yes</td>\n",
              "      <td>0</td>\n",
              "      <td>Camarillo</td>\n",
              "      <td>93010</td>\n",
              "      <td>34.227846</td>\n",
              "      <td>-119.079903</td>\n",
              "      <td>3</td>\n",
              "      <td>3</td>\n",
              "      <td>...</td>\n",
              "      <td>83.9</td>\n",
              "      <td>267.40</td>\n",
              "      <td>0.0</td>\n",
              "      <td>0</td>\n",
              "      <td>22.14</td>\n",
              "      <td>289.54</td>\n",
              "      <td>Dissatisfaction</td>\n",
              "      <td>Network reliability</td>\n",
              "      <td>1</td>\n",
              "      <td>0</td>\n",
              "    </tr>\n",
              "    <tr>\n",
              "      <th>5</th>\n",
              "      <td>0013-MHZWF</td>\n",
              "      <td>23</td>\n",
              "      <td>No</td>\n",
              "      <td>3</td>\n",
              "      <td>Midpines</td>\n",
              "      <td>95345</td>\n",
              "      <td>37.581496</td>\n",
              "      <td>-119.972762</td>\n",
              "      <td>0</td>\n",
              "      <td>9</td>\n",
              "      <td>...</td>\n",
              "      <td>69.4</td>\n",
              "      <td>571.45</td>\n",
              "      <td>0.0</td>\n",
              "      <td>0</td>\n",
              "      <td>150.93</td>\n",
              "      <td>722.38</td>\n",
              "      <td>NaN</td>\n",
              "      <td>NaN</td>\n",
              "      <td>0</td>\n",
              "      <td>0</td>\n",
              "    </tr>\n",
              "  </tbody>\n",
              "</table>\n",
              "<p>5 rows × 38 columns</p>\n",
              "</div>\n",
              "      <button class=\"colab-df-convert\" onclick=\"convertToInteractive('df-9d99cc68-53eb-486c-b7d4-f10eb30a834c')\"\n",
              "              title=\"Convert this dataframe to an interactive table.\"\n",
              "              style=\"display:none;\">\n",
              "        \n",
              "  <svg xmlns=\"http://www.w3.org/2000/svg\" height=\"24px\"viewBox=\"0 0 24 24\"\n",
              "       width=\"24px\">\n",
              "    <path d=\"M0 0h24v24H0V0z\" fill=\"none\"/>\n",
              "    <path d=\"M18.56 5.44l.94 2.06.94-2.06 2.06-.94-2.06-.94-.94-2.06-.94 2.06-2.06.94zm-11 1L8.5 8.5l.94-2.06 2.06-.94-2.06-.94L8.5 2.5l-.94 2.06-2.06.94zm10 10l.94 2.06.94-2.06 2.06-.94-2.06-.94-.94-2.06-.94 2.06-2.06.94z\"/><path d=\"M17.41 7.96l-1.37-1.37c-.4-.4-.92-.59-1.43-.59-.52 0-1.04.2-1.43.59L10.3 9.45l-7.72 7.72c-.78.78-.78 2.05 0 2.83L4 21.41c.39.39.9.59 1.41.59.51 0 1.02-.2 1.41-.59l7.78-7.78 2.81-2.81c.8-.78.8-2.07 0-2.86zM5.41 20L4 18.59l7.72-7.72 1.47 1.35L5.41 20z\"/>\n",
              "  </svg>\n",
              "      </button>\n",
              "      \n",
              "  <style>\n",
              "    .colab-df-container {\n",
              "      display:flex;\n",
              "      flex-wrap:wrap;\n",
              "      gap: 12px;\n",
              "    }\n",
              "\n",
              "    .colab-df-convert {\n",
              "      background-color: #E8F0FE;\n",
              "      border: none;\n",
              "      border-radius: 50%;\n",
              "      cursor: pointer;\n",
              "      display: none;\n",
              "      fill: #1967D2;\n",
              "      height: 32px;\n",
              "      padding: 0 0 0 0;\n",
              "      width: 32px;\n",
              "    }\n",
              "\n",
              "    .colab-df-convert:hover {\n",
              "      background-color: #E2EBFA;\n",
              "      box-shadow: 0px 1px 2px rgba(60, 64, 67, 0.3), 0px 1px 3px 1px rgba(60, 64, 67, 0.15);\n",
              "      fill: #174EA6;\n",
              "    }\n",
              "\n",
              "    [theme=dark] .colab-df-convert {\n",
              "      background-color: #3B4455;\n",
              "      fill: #D2E3FC;\n",
              "    }\n",
              "\n",
              "    [theme=dark] .colab-df-convert:hover {\n",
              "      background-color: #434B5C;\n",
              "      box-shadow: 0px 1px 3px 1px rgba(0, 0, 0, 0.15);\n",
              "      filter: drop-shadow(0px 1px 2px rgba(0, 0, 0, 0.3));\n",
              "      fill: #FFFFFF;\n",
              "    }\n",
              "  </style>\n",
              "\n",
              "      <script>\n",
              "        const buttonEl =\n",
              "          document.querySelector('#df-9d99cc68-53eb-486c-b7d4-f10eb30a834c button.colab-df-convert');\n",
              "        buttonEl.style.display =\n",
              "          google.colab.kernel.accessAllowed ? 'block' : 'none';\n",
              "\n",
              "        async function convertToInteractive(key) {\n",
              "          const element = document.querySelector('#df-9d99cc68-53eb-486c-b7d4-f10eb30a834c');\n",
              "          const dataTable =\n",
              "            await google.colab.kernel.invokeFunction('convertToInteractive',\n",
              "                                                     [key], {});\n",
              "          if (!dataTable) return;\n",
              "\n",
              "          const docLinkHtml = 'Like what you see? Visit the ' +\n",
              "            '<a target=\"_blank\" href=https://colab.research.google.com/notebooks/data_table.ipynb>data table notebook</a>'\n",
              "            + ' to learn more about interactive tables.';\n",
              "          element.innerHTML = '';\n",
              "          dataTable['output_type'] = 'display_data';\n",
              "          await google.colab.output.renderOutput(dataTable, element);\n",
              "          const docLink = document.createElement('div');\n",
              "          docLink.innerHTML = docLinkHtml;\n",
              "          element.appendChild(docLink);\n",
              "        }\n",
              "      </script>\n",
              "    </div>\n",
              "  </div>\n",
              "  "
            ]
          },
          "metadata": {},
          "execution_count": 189
        }
      ]
    },
    {
      "cell_type": "markdown",
      "source": [
        "##### Married"
      ],
      "metadata": {
        "id": "xOxW8ze51r6m"
      }
    },
    {
      "cell_type": "code",
      "source": [
        "df_3['Married'].value_counts()"
      ],
      "metadata": {
        "colab": {
          "base_uri": "https://localhost:8080/"
        },
        "id": "j3ZRNdrv1wW8",
        "outputId": "b5cfe21f-2b8a-435f-bb80-80b6c41fa84f"
      },
      "execution_count": null,
      "outputs": [
        {
          "output_type": "execute_result",
          "data": {
            "text/plain": [
              "Yes    3264\n",
              "No     3211\n",
              "Name: Married, dtype: int64"
            ]
          },
          "metadata": {},
          "execution_count": 190
        }
      ]
    },
    {
      "cell_type": "code",
      "source": [
        "# alterar os dados categóricos da coluna Gender\n",
        "\n",
        "df_3_temp = pd.get_dummies(df_3[\"Married\"]) \n",
        "print(df_3_temp) "
      ],
      "metadata": {
        "colab": {
          "base_uri": "https://localhost:8080/"
        },
        "id": "9Dw-ytxL14I0",
        "outputId": "afb5b920-2ff7-495a-eb42-e16f7e9d405d"
      },
      "execution_count": null,
      "outputs": [
        {
          "output_type": "stream",
          "name": "stdout",
          "text": [
            "      No  Yes\n",
            "0      0    1\n",
            "2      1    0\n",
            "3      0    1\n",
            "4      0    1\n",
            "5      1    0\n",
            "...   ..  ...\n",
            "7037   1    0\n",
            "7038   1    0\n",
            "7039   0    1\n",
            "7041   0    1\n",
            "7042   0    1\n",
            "\n",
            "[6475 rows x 2 columns]\n"
          ]
        }
      ]
    },
    {
      "cell_type": "code",
      "source": [
        "# juntar as duas tabelas, uma contendo todo o dataset, e a outra contendo os dados categóricos com representação numerica\n",
        "\n",
        "df_4 = pd.concat((df_3, df_3_temp), axis=1)\n",
        "df_4.head()"
      ],
      "metadata": {
        "id": "gEsHE-W-2AWy",
        "colab": {
          "base_uri": "https://localhost:8080/"
        },
        "outputId": "851e0148-365f-4153-9942-7184ad516e41"
      },
      "execution_count": null,
      "outputs": [
        {
          "output_type": "execute_result",
          "data": {
            "text/plain": [
              "  Customer ID  Age Married  Number of Dependents          City  Zip Code  \\\n",
              "0  0002-ORFBO   37     Yes                     0  Frazier Park     93225   \n",
              "2  0004-TLHLJ   50      No                     0    Costa Mesa     92627   \n",
              "3  0011-IGKFF   78     Yes                     0      Martinez     94553   \n",
              "4  0013-EXCHZ   75     Yes                     0     Camarillo     93010   \n",
              "5  0013-MHZWF   23      No                     3      Midpines     95345   \n",
              "\n",
              "    Latitude   Longitude  Number of Referrals  Tenure in Months  ...  \\\n",
              "0  34.827662 -118.999073                    2                 9  ...   \n",
              "2  33.645672 -117.922613                    0                 4  ...   \n",
              "3  38.014457 -122.115432                    1                13  ...   \n",
              "4  34.227846 -119.079903                    3                 3  ...   \n",
              "5  37.581496 -119.972762                    0                 9  ...   \n",
              "\n",
              "  Total Refunds Total Extra Data Charges  Total Long Distance Charges  \\\n",
              "0           0.0                        0                       381.51   \n",
              "2           0.0                        0                       134.60   \n",
              "3           0.0                        0                       361.66   \n",
              "4           0.0                        0                        22.14   \n",
              "5           0.0                        0                       150.93   \n",
              "\n",
              "  Total Revenue   Churn Category                   Churn Reason  Churned Male  \\\n",
              "0        974.81              NaN                            NaN        0    0   \n",
              "2        415.45       Competitor  Competitor had better devices        1    1   \n",
              "3       1599.51  Dissatisfaction        Product dissatisfaction        1    1   \n",
              "4        289.54  Dissatisfaction            Network reliability        1    0   \n",
              "5        722.38              NaN                            NaN        0    0   \n",
              "\n",
              "  No Yes  \n",
              "0  0   1  \n",
              "2  1   0  \n",
              "3  0   1  \n",
              "4  0   1  \n",
              "5  1   0  \n",
              "\n",
              "[5 rows x 40 columns]"
            ],
            "text/html": [
              "\n",
              "  <div id=\"df-1bd132aa-5680-45aa-85b1-11ea19ed3ecf\">\n",
              "    <div class=\"colab-df-container\">\n",
              "      <div>\n",
              "<style scoped>\n",
              "    .dataframe tbody tr th:only-of-type {\n",
              "        vertical-align: middle;\n",
              "    }\n",
              "\n",
              "    .dataframe tbody tr th {\n",
              "        vertical-align: top;\n",
              "    }\n",
              "\n",
              "    .dataframe thead th {\n",
              "        text-align: right;\n",
              "    }\n",
              "</style>\n",
              "<table border=\"1\" class=\"dataframe\">\n",
              "  <thead>\n",
              "    <tr style=\"text-align: right;\">\n",
              "      <th></th>\n",
              "      <th>Customer ID</th>\n",
              "      <th>Age</th>\n",
              "      <th>Married</th>\n",
              "      <th>Number of Dependents</th>\n",
              "      <th>City</th>\n",
              "      <th>Zip Code</th>\n",
              "      <th>Latitude</th>\n",
              "      <th>Longitude</th>\n",
              "      <th>Number of Referrals</th>\n",
              "      <th>Tenure in Months</th>\n",
              "      <th>...</th>\n",
              "      <th>Total Refunds</th>\n",
              "      <th>Total Extra Data Charges</th>\n",
              "      <th>Total Long Distance Charges</th>\n",
              "      <th>Total Revenue</th>\n",
              "      <th>Churn Category</th>\n",
              "      <th>Churn Reason</th>\n",
              "      <th>Churned</th>\n",
              "      <th>Male</th>\n",
              "      <th>No</th>\n",
              "      <th>Yes</th>\n",
              "    </tr>\n",
              "  </thead>\n",
              "  <tbody>\n",
              "    <tr>\n",
              "      <th>0</th>\n",
              "      <td>0002-ORFBO</td>\n",
              "      <td>37</td>\n",
              "      <td>Yes</td>\n",
              "      <td>0</td>\n",
              "      <td>Frazier Park</td>\n",
              "      <td>93225</td>\n",
              "      <td>34.827662</td>\n",
              "      <td>-118.999073</td>\n",
              "      <td>2</td>\n",
              "      <td>9</td>\n",
              "      <td>...</td>\n",
              "      <td>0.0</td>\n",
              "      <td>0</td>\n",
              "      <td>381.51</td>\n",
              "      <td>974.81</td>\n",
              "      <td>NaN</td>\n",
              "      <td>NaN</td>\n",
              "      <td>0</td>\n",
              "      <td>0</td>\n",
              "      <td>0</td>\n",
              "      <td>1</td>\n",
              "    </tr>\n",
              "    <tr>\n",
              "      <th>2</th>\n",
              "      <td>0004-TLHLJ</td>\n",
              "      <td>50</td>\n",
              "      <td>No</td>\n",
              "      <td>0</td>\n",
              "      <td>Costa Mesa</td>\n",
              "      <td>92627</td>\n",
              "      <td>33.645672</td>\n",
              "      <td>-117.922613</td>\n",
              "      <td>0</td>\n",
              "      <td>4</td>\n",
              "      <td>...</td>\n",
              "      <td>0.0</td>\n",
              "      <td>0</td>\n",
              "      <td>134.60</td>\n",
              "      <td>415.45</td>\n",
              "      <td>Competitor</td>\n",
              "      <td>Competitor had better devices</td>\n",
              "      <td>1</td>\n",
              "      <td>1</td>\n",
              "      <td>1</td>\n",
              "      <td>0</td>\n",
              "    </tr>\n",
              "    <tr>\n",
              "      <th>3</th>\n",
              "      <td>0011-IGKFF</td>\n",
              "      <td>78</td>\n",
              "      <td>Yes</td>\n",
              "      <td>0</td>\n",
              "      <td>Martinez</td>\n",
              "      <td>94553</td>\n",
              "      <td>38.014457</td>\n",
              "      <td>-122.115432</td>\n",
              "      <td>1</td>\n",
              "      <td>13</td>\n",
              "      <td>...</td>\n",
              "      <td>0.0</td>\n",
              "      <td>0</td>\n",
              "      <td>361.66</td>\n",
              "      <td>1599.51</td>\n",
              "      <td>Dissatisfaction</td>\n",
              "      <td>Product dissatisfaction</td>\n",
              "      <td>1</td>\n",
              "      <td>1</td>\n",
              "      <td>0</td>\n",
              "      <td>1</td>\n",
              "    </tr>\n",
              "    <tr>\n",
              "      <th>4</th>\n",
              "      <td>0013-EXCHZ</td>\n",
              "      <td>75</td>\n",
              "      <td>Yes</td>\n",
              "      <td>0</td>\n",
              "      <td>Camarillo</td>\n",
              "      <td>93010</td>\n",
              "      <td>34.227846</td>\n",
              "      <td>-119.079903</td>\n",
              "      <td>3</td>\n",
              "      <td>3</td>\n",
              "      <td>...</td>\n",
              "      <td>0.0</td>\n",
              "      <td>0</td>\n",
              "      <td>22.14</td>\n",
              "      <td>289.54</td>\n",
              "      <td>Dissatisfaction</td>\n",
              "      <td>Network reliability</td>\n",
              "      <td>1</td>\n",
              "      <td>0</td>\n",
              "      <td>0</td>\n",
              "      <td>1</td>\n",
              "    </tr>\n",
              "    <tr>\n",
              "      <th>5</th>\n",
              "      <td>0013-MHZWF</td>\n",
              "      <td>23</td>\n",
              "      <td>No</td>\n",
              "      <td>3</td>\n",
              "      <td>Midpines</td>\n",
              "      <td>95345</td>\n",
              "      <td>37.581496</td>\n",
              "      <td>-119.972762</td>\n",
              "      <td>0</td>\n",
              "      <td>9</td>\n",
              "      <td>...</td>\n",
              "      <td>0.0</td>\n",
              "      <td>0</td>\n",
              "      <td>150.93</td>\n",
              "      <td>722.38</td>\n",
              "      <td>NaN</td>\n",
              "      <td>NaN</td>\n",
              "      <td>0</td>\n",
              "      <td>0</td>\n",
              "      <td>1</td>\n",
              "      <td>0</td>\n",
              "    </tr>\n",
              "  </tbody>\n",
              "</table>\n",
              "<p>5 rows × 40 columns</p>\n",
              "</div>\n",
              "      <button class=\"colab-df-convert\" onclick=\"convertToInteractive('df-1bd132aa-5680-45aa-85b1-11ea19ed3ecf')\"\n",
              "              title=\"Convert this dataframe to an interactive table.\"\n",
              "              style=\"display:none;\">\n",
              "        \n",
              "  <svg xmlns=\"http://www.w3.org/2000/svg\" height=\"24px\"viewBox=\"0 0 24 24\"\n",
              "       width=\"24px\">\n",
              "    <path d=\"M0 0h24v24H0V0z\" fill=\"none\"/>\n",
              "    <path d=\"M18.56 5.44l.94 2.06.94-2.06 2.06-.94-2.06-.94-.94-2.06-.94 2.06-2.06.94zm-11 1L8.5 8.5l.94-2.06 2.06-.94-2.06-.94L8.5 2.5l-.94 2.06-2.06.94zm10 10l.94 2.06.94-2.06 2.06-.94-2.06-.94-.94-2.06-.94 2.06-2.06.94z\"/><path d=\"M17.41 7.96l-1.37-1.37c-.4-.4-.92-.59-1.43-.59-.52 0-1.04.2-1.43.59L10.3 9.45l-7.72 7.72c-.78.78-.78 2.05 0 2.83L4 21.41c.39.39.9.59 1.41.59.51 0 1.02-.2 1.41-.59l7.78-7.78 2.81-2.81c.8-.78.8-2.07 0-2.86zM5.41 20L4 18.59l7.72-7.72 1.47 1.35L5.41 20z\"/>\n",
              "  </svg>\n",
              "      </button>\n",
              "      \n",
              "  <style>\n",
              "    .colab-df-container {\n",
              "      display:flex;\n",
              "      flex-wrap:wrap;\n",
              "      gap: 12px;\n",
              "    }\n",
              "\n",
              "    .colab-df-convert {\n",
              "      background-color: #E8F0FE;\n",
              "      border: none;\n",
              "      border-radius: 50%;\n",
              "      cursor: pointer;\n",
              "      display: none;\n",
              "      fill: #1967D2;\n",
              "      height: 32px;\n",
              "      padding: 0 0 0 0;\n",
              "      width: 32px;\n",
              "    }\n",
              "\n",
              "    .colab-df-convert:hover {\n",
              "      background-color: #E2EBFA;\n",
              "      box-shadow: 0px 1px 2px rgba(60, 64, 67, 0.3), 0px 1px 3px 1px rgba(60, 64, 67, 0.15);\n",
              "      fill: #174EA6;\n",
              "    }\n",
              "\n",
              "    [theme=dark] .colab-df-convert {\n",
              "      background-color: #3B4455;\n",
              "      fill: #D2E3FC;\n",
              "    }\n",
              "\n",
              "    [theme=dark] .colab-df-convert:hover {\n",
              "      background-color: #434B5C;\n",
              "      box-shadow: 0px 1px 3px 1px rgba(0, 0, 0, 0.15);\n",
              "      filter: drop-shadow(0px 1px 2px rgba(0, 0, 0, 0.3));\n",
              "      fill: #FFFFFF;\n",
              "    }\n",
              "  </style>\n",
              "\n",
              "      <script>\n",
              "        const buttonEl =\n",
              "          document.querySelector('#df-1bd132aa-5680-45aa-85b1-11ea19ed3ecf button.colab-df-convert');\n",
              "        buttonEl.style.display =\n",
              "          google.colab.kernel.accessAllowed ? 'block' : 'none';\n",
              "\n",
              "        async function convertToInteractive(key) {\n",
              "          const element = document.querySelector('#df-1bd132aa-5680-45aa-85b1-11ea19ed3ecf');\n",
              "          const dataTable =\n",
              "            await google.colab.kernel.invokeFunction('convertToInteractive',\n",
              "                                                     [key], {});\n",
              "          if (!dataTable) return;\n",
              "\n",
              "          const docLinkHtml = 'Like what you see? Visit the ' +\n",
              "            '<a target=\"_blank\" href=https://colab.research.google.com/notebooks/data_table.ipynb>data table notebook</a>'\n",
              "            + ' to learn more about interactive tables.';\n",
              "          element.innerHTML = '';\n",
              "          dataTable['output_type'] = 'display_data';\n",
              "          await google.colab.output.renderOutput(dataTable, element);\n",
              "          const docLink = document.createElement('div');\n",
              "          docLink.innerHTML = docLinkHtml;\n",
              "          element.appendChild(docLink);\n",
              "        }\n",
              "      </script>\n",
              "    </div>\n",
              "  </div>\n",
              "  "
            ]
          },
          "metadata": {},
          "execution_count": 192
        }
      ]
    },
    {
      "cell_type": "code",
      "source": [
        "# excluir a coluna No, e deixar apenas a Yes\n",
        "\n",
        "df_4 = df_4.drop([\"No\"], axis=1) \n",
        "df_4 = df_4.drop([\"Married\"], axis=1)\n"
      ],
      "metadata": {
        "id": "RA1Lg5eC2NQD"
      },
      "execution_count": null,
      "outputs": []
    },
    {
      "cell_type": "code",
      "source": [
        "df_4.head()"
      ],
      "metadata": {
        "id": "uG7oAULr2aSQ",
        "colab": {
          "base_uri": "https://localhost:8080/"
        },
        "outputId": "a703bce8-9cad-45cb-eb95-8820a7f32644"
      },
      "execution_count": null,
      "outputs": [
        {
          "output_type": "execute_result",
          "data": {
            "text/plain": [
              "  Customer ID  Age  Number of Dependents          City  Zip Code   Latitude  \\\n",
              "0  0002-ORFBO   37                     0  Frazier Park     93225  34.827662   \n",
              "2  0004-TLHLJ   50                     0    Costa Mesa     92627  33.645672   \n",
              "3  0011-IGKFF   78                     0      Martinez     94553  38.014457   \n",
              "4  0013-EXCHZ   75                     0     Camarillo     93010  34.227846   \n",
              "5  0013-MHZWF   23                     3      Midpines     95345  37.581496   \n",
              "\n",
              "    Longitude  Number of Referrals  Tenure in Months    Offer  ...  \\\n",
              "0 -118.999073                    2                 9     None  ...   \n",
              "2 -117.922613                    0                 4  Offer E  ...   \n",
              "3 -122.115432                    1                13  Offer D  ...   \n",
              "4 -119.079903                    3                 3     None  ...   \n",
              "5 -119.972762                    0                 9  Offer E  ...   \n",
              "\n",
              "  Total Charges  Total Refunds Total Extra Data Charges  \\\n",
              "0        593.30            0.0                        0   \n",
              "2        280.85            0.0                        0   \n",
              "3       1237.85            0.0                        0   \n",
              "4        267.40            0.0                        0   \n",
              "5        571.45            0.0                        0   \n",
              "\n",
              "  Total Long Distance Charges Total Revenue   Churn Category  \\\n",
              "0                      381.51        974.81              NaN   \n",
              "2                      134.60        415.45       Competitor   \n",
              "3                      361.66       1599.51  Dissatisfaction   \n",
              "4                       22.14        289.54  Dissatisfaction   \n",
              "5                      150.93        722.38              NaN   \n",
              "\n",
              "                    Churn Reason Churned Male Yes  \n",
              "0                            NaN       0    0   1  \n",
              "2  Competitor had better devices       1    1   0  \n",
              "3        Product dissatisfaction       1    1   1  \n",
              "4            Network reliability       1    0   1  \n",
              "5                            NaN       0    0   0  \n",
              "\n",
              "[5 rows x 38 columns]"
            ],
            "text/html": [
              "\n",
              "  <div id=\"df-5e58c95f-a6bd-4914-9d60-c3b63ccd4c39\">\n",
              "    <div class=\"colab-df-container\">\n",
              "      <div>\n",
              "<style scoped>\n",
              "    .dataframe tbody tr th:only-of-type {\n",
              "        vertical-align: middle;\n",
              "    }\n",
              "\n",
              "    .dataframe tbody tr th {\n",
              "        vertical-align: top;\n",
              "    }\n",
              "\n",
              "    .dataframe thead th {\n",
              "        text-align: right;\n",
              "    }\n",
              "</style>\n",
              "<table border=\"1\" class=\"dataframe\">\n",
              "  <thead>\n",
              "    <tr style=\"text-align: right;\">\n",
              "      <th></th>\n",
              "      <th>Customer ID</th>\n",
              "      <th>Age</th>\n",
              "      <th>Number of Dependents</th>\n",
              "      <th>City</th>\n",
              "      <th>Zip Code</th>\n",
              "      <th>Latitude</th>\n",
              "      <th>Longitude</th>\n",
              "      <th>Number of Referrals</th>\n",
              "      <th>Tenure in Months</th>\n",
              "      <th>Offer</th>\n",
              "      <th>...</th>\n",
              "      <th>Total Charges</th>\n",
              "      <th>Total Refunds</th>\n",
              "      <th>Total Extra Data Charges</th>\n",
              "      <th>Total Long Distance Charges</th>\n",
              "      <th>Total Revenue</th>\n",
              "      <th>Churn Category</th>\n",
              "      <th>Churn Reason</th>\n",
              "      <th>Churned</th>\n",
              "      <th>Male</th>\n",
              "      <th>Yes</th>\n",
              "    </tr>\n",
              "  </thead>\n",
              "  <tbody>\n",
              "    <tr>\n",
              "      <th>0</th>\n",
              "      <td>0002-ORFBO</td>\n",
              "      <td>37</td>\n",
              "      <td>0</td>\n",
              "      <td>Frazier Park</td>\n",
              "      <td>93225</td>\n",
              "      <td>34.827662</td>\n",
              "      <td>-118.999073</td>\n",
              "      <td>2</td>\n",
              "      <td>9</td>\n",
              "      <td>None</td>\n",
              "      <td>...</td>\n",
              "      <td>593.30</td>\n",
              "      <td>0.0</td>\n",
              "      <td>0</td>\n",
              "      <td>381.51</td>\n",
              "      <td>974.81</td>\n",
              "      <td>NaN</td>\n",
              "      <td>NaN</td>\n",
              "      <td>0</td>\n",
              "      <td>0</td>\n",
              "      <td>1</td>\n",
              "    </tr>\n",
              "    <tr>\n",
              "      <th>2</th>\n",
              "      <td>0004-TLHLJ</td>\n",
              "      <td>50</td>\n",
              "      <td>0</td>\n",
              "      <td>Costa Mesa</td>\n",
              "      <td>92627</td>\n",
              "      <td>33.645672</td>\n",
              "      <td>-117.922613</td>\n",
              "      <td>0</td>\n",
              "      <td>4</td>\n",
              "      <td>Offer E</td>\n",
              "      <td>...</td>\n",
              "      <td>280.85</td>\n",
              "      <td>0.0</td>\n",
              "      <td>0</td>\n",
              "      <td>134.60</td>\n",
              "      <td>415.45</td>\n",
              "      <td>Competitor</td>\n",
              "      <td>Competitor had better devices</td>\n",
              "      <td>1</td>\n",
              "      <td>1</td>\n",
              "      <td>0</td>\n",
              "    </tr>\n",
              "    <tr>\n",
              "      <th>3</th>\n",
              "      <td>0011-IGKFF</td>\n",
              "      <td>78</td>\n",
              "      <td>0</td>\n",
              "      <td>Martinez</td>\n",
              "      <td>94553</td>\n",
              "      <td>38.014457</td>\n",
              "      <td>-122.115432</td>\n",
              "      <td>1</td>\n",
              "      <td>13</td>\n",
              "      <td>Offer D</td>\n",
              "      <td>...</td>\n",
              "      <td>1237.85</td>\n",
              "      <td>0.0</td>\n",
              "      <td>0</td>\n",
              "      <td>361.66</td>\n",
              "      <td>1599.51</td>\n",
              "      <td>Dissatisfaction</td>\n",
              "      <td>Product dissatisfaction</td>\n",
              "      <td>1</td>\n",
              "      <td>1</td>\n",
              "      <td>1</td>\n",
              "    </tr>\n",
              "    <tr>\n",
              "      <th>4</th>\n",
              "      <td>0013-EXCHZ</td>\n",
              "      <td>75</td>\n",
              "      <td>0</td>\n",
              "      <td>Camarillo</td>\n",
              "      <td>93010</td>\n",
              "      <td>34.227846</td>\n",
              "      <td>-119.079903</td>\n",
              "      <td>3</td>\n",
              "      <td>3</td>\n",
              "      <td>None</td>\n",
              "      <td>...</td>\n",
              "      <td>267.40</td>\n",
              "      <td>0.0</td>\n",
              "      <td>0</td>\n",
              "      <td>22.14</td>\n",
              "      <td>289.54</td>\n",
              "      <td>Dissatisfaction</td>\n",
              "      <td>Network reliability</td>\n",
              "      <td>1</td>\n",
              "      <td>0</td>\n",
              "      <td>1</td>\n",
              "    </tr>\n",
              "    <tr>\n",
              "      <th>5</th>\n",
              "      <td>0013-MHZWF</td>\n",
              "      <td>23</td>\n",
              "      <td>3</td>\n",
              "      <td>Midpines</td>\n",
              "      <td>95345</td>\n",
              "      <td>37.581496</td>\n",
              "      <td>-119.972762</td>\n",
              "      <td>0</td>\n",
              "      <td>9</td>\n",
              "      <td>Offer E</td>\n",
              "      <td>...</td>\n",
              "      <td>571.45</td>\n",
              "      <td>0.0</td>\n",
              "      <td>0</td>\n",
              "      <td>150.93</td>\n",
              "      <td>722.38</td>\n",
              "      <td>NaN</td>\n",
              "      <td>NaN</td>\n",
              "      <td>0</td>\n",
              "      <td>0</td>\n",
              "      <td>0</td>\n",
              "    </tr>\n",
              "  </tbody>\n",
              "</table>\n",
              "<p>5 rows × 38 columns</p>\n",
              "</div>\n",
              "      <button class=\"colab-df-convert\" onclick=\"convertToInteractive('df-5e58c95f-a6bd-4914-9d60-c3b63ccd4c39')\"\n",
              "              title=\"Convert this dataframe to an interactive table.\"\n",
              "              style=\"display:none;\">\n",
              "        \n",
              "  <svg xmlns=\"http://www.w3.org/2000/svg\" height=\"24px\"viewBox=\"0 0 24 24\"\n",
              "       width=\"24px\">\n",
              "    <path d=\"M0 0h24v24H0V0z\" fill=\"none\"/>\n",
              "    <path d=\"M18.56 5.44l.94 2.06.94-2.06 2.06-.94-2.06-.94-.94-2.06-.94 2.06-2.06.94zm-11 1L8.5 8.5l.94-2.06 2.06-.94-2.06-.94L8.5 2.5l-.94 2.06-2.06.94zm10 10l.94 2.06.94-2.06 2.06-.94-2.06-.94-.94-2.06-.94 2.06-2.06.94z\"/><path d=\"M17.41 7.96l-1.37-1.37c-.4-.4-.92-.59-1.43-.59-.52 0-1.04.2-1.43.59L10.3 9.45l-7.72 7.72c-.78.78-.78 2.05 0 2.83L4 21.41c.39.39.9.59 1.41.59.51 0 1.02-.2 1.41-.59l7.78-7.78 2.81-2.81c.8-.78.8-2.07 0-2.86zM5.41 20L4 18.59l7.72-7.72 1.47 1.35L5.41 20z\"/>\n",
              "  </svg>\n",
              "      </button>\n",
              "      \n",
              "  <style>\n",
              "    .colab-df-container {\n",
              "      display:flex;\n",
              "      flex-wrap:wrap;\n",
              "      gap: 12px;\n",
              "    }\n",
              "\n",
              "    .colab-df-convert {\n",
              "      background-color: #E8F0FE;\n",
              "      border: none;\n",
              "      border-radius: 50%;\n",
              "      cursor: pointer;\n",
              "      display: none;\n",
              "      fill: #1967D2;\n",
              "      height: 32px;\n",
              "      padding: 0 0 0 0;\n",
              "      width: 32px;\n",
              "    }\n",
              "\n",
              "    .colab-df-convert:hover {\n",
              "      background-color: #E2EBFA;\n",
              "      box-shadow: 0px 1px 2px rgba(60, 64, 67, 0.3), 0px 1px 3px 1px rgba(60, 64, 67, 0.15);\n",
              "      fill: #174EA6;\n",
              "    }\n",
              "\n",
              "    [theme=dark] .colab-df-convert {\n",
              "      background-color: #3B4455;\n",
              "      fill: #D2E3FC;\n",
              "    }\n",
              "\n",
              "    [theme=dark] .colab-df-convert:hover {\n",
              "      background-color: #434B5C;\n",
              "      box-shadow: 0px 1px 3px 1px rgba(0, 0, 0, 0.15);\n",
              "      filter: drop-shadow(0px 1px 2px rgba(0, 0, 0, 0.3));\n",
              "      fill: #FFFFFF;\n",
              "    }\n",
              "  </style>\n",
              "\n",
              "      <script>\n",
              "        const buttonEl =\n",
              "          document.querySelector('#df-5e58c95f-a6bd-4914-9d60-c3b63ccd4c39 button.colab-df-convert');\n",
              "        buttonEl.style.display =\n",
              "          google.colab.kernel.accessAllowed ? 'block' : 'none';\n",
              "\n",
              "        async function convertToInteractive(key) {\n",
              "          const element = document.querySelector('#df-5e58c95f-a6bd-4914-9d60-c3b63ccd4c39');\n",
              "          const dataTable =\n",
              "            await google.colab.kernel.invokeFunction('convertToInteractive',\n",
              "                                                     [key], {});\n",
              "          if (!dataTable) return;\n",
              "\n",
              "          const docLinkHtml = 'Like what you see? Visit the ' +\n",
              "            '<a target=\"_blank\" href=https://colab.research.google.com/notebooks/data_table.ipynb>data table notebook</a>'\n",
              "            + ' to learn more about interactive tables.';\n",
              "          element.innerHTML = '';\n",
              "          dataTable['output_type'] = 'display_data';\n",
              "          await google.colab.output.renderOutput(dataTable, element);\n",
              "          const docLink = document.createElement('div');\n",
              "          docLink.innerHTML = docLinkHtml;\n",
              "          element.appendChild(docLink);\n",
              "        }\n",
              "      </script>\n",
              "    </div>\n",
              "  </div>\n",
              "  "
            ]
          },
          "metadata": {},
          "execution_count": 194
        }
      ]
    },
    {
      "cell_type": "code",
      "source": [
        "# renomear a coluna Yes para Married\n",
        "\n",
        "df_4_renamed = df_4.rename(columns={\"Yes\": \"Married\"})"
      ],
      "metadata": {
        "id": "QseLaCj12ebq"
      },
      "execution_count": null,
      "outputs": []
    },
    {
      "cell_type": "code",
      "source": [
        "df_4_renamed.head()"
      ],
      "metadata": {
        "id": "ImMMtOT92vb7",
        "colab": {
          "base_uri": "https://localhost:8080/"
        },
        "outputId": "b112efb0-0d98-4e21-93ae-5f4867c6da56"
      },
      "execution_count": null,
      "outputs": [
        {
          "output_type": "execute_result",
          "data": {
            "text/plain": [
              "  Customer ID  Age  Number of Dependents          City  Zip Code   Latitude  \\\n",
              "0  0002-ORFBO   37                     0  Frazier Park     93225  34.827662   \n",
              "2  0004-TLHLJ   50                     0    Costa Mesa     92627  33.645672   \n",
              "3  0011-IGKFF   78                     0      Martinez     94553  38.014457   \n",
              "4  0013-EXCHZ   75                     0     Camarillo     93010  34.227846   \n",
              "5  0013-MHZWF   23                     3      Midpines     95345  37.581496   \n",
              "\n",
              "    Longitude  Number of Referrals  Tenure in Months    Offer  ...  \\\n",
              "0 -118.999073                    2                 9     None  ...   \n",
              "2 -117.922613                    0                 4  Offer E  ...   \n",
              "3 -122.115432                    1                13  Offer D  ...   \n",
              "4 -119.079903                    3                 3     None  ...   \n",
              "5 -119.972762                    0                 9  Offer E  ...   \n",
              "\n",
              "  Total Charges  Total Refunds Total Extra Data Charges  \\\n",
              "0        593.30            0.0                        0   \n",
              "2        280.85            0.0                        0   \n",
              "3       1237.85            0.0                        0   \n",
              "4        267.40            0.0                        0   \n",
              "5        571.45            0.0                        0   \n",
              "\n",
              "  Total Long Distance Charges Total Revenue   Churn Category  \\\n",
              "0                      381.51        974.81              NaN   \n",
              "2                      134.60        415.45       Competitor   \n",
              "3                      361.66       1599.51  Dissatisfaction   \n",
              "4                       22.14        289.54  Dissatisfaction   \n",
              "5                      150.93        722.38              NaN   \n",
              "\n",
              "                    Churn Reason Churned Male Married  \n",
              "0                            NaN       0    0       1  \n",
              "2  Competitor had better devices       1    1       0  \n",
              "3        Product dissatisfaction       1    1       1  \n",
              "4            Network reliability       1    0       1  \n",
              "5                            NaN       0    0       0  \n",
              "\n",
              "[5 rows x 38 columns]"
            ],
            "text/html": [
              "\n",
              "  <div id=\"df-2e2d6bad-0ebc-4a9c-96a4-5330530cf43f\">\n",
              "    <div class=\"colab-df-container\">\n",
              "      <div>\n",
              "<style scoped>\n",
              "    .dataframe tbody tr th:only-of-type {\n",
              "        vertical-align: middle;\n",
              "    }\n",
              "\n",
              "    .dataframe tbody tr th {\n",
              "        vertical-align: top;\n",
              "    }\n",
              "\n",
              "    .dataframe thead th {\n",
              "        text-align: right;\n",
              "    }\n",
              "</style>\n",
              "<table border=\"1\" class=\"dataframe\">\n",
              "  <thead>\n",
              "    <tr style=\"text-align: right;\">\n",
              "      <th></th>\n",
              "      <th>Customer ID</th>\n",
              "      <th>Age</th>\n",
              "      <th>Number of Dependents</th>\n",
              "      <th>City</th>\n",
              "      <th>Zip Code</th>\n",
              "      <th>Latitude</th>\n",
              "      <th>Longitude</th>\n",
              "      <th>Number of Referrals</th>\n",
              "      <th>Tenure in Months</th>\n",
              "      <th>Offer</th>\n",
              "      <th>...</th>\n",
              "      <th>Total Charges</th>\n",
              "      <th>Total Refunds</th>\n",
              "      <th>Total Extra Data Charges</th>\n",
              "      <th>Total Long Distance Charges</th>\n",
              "      <th>Total Revenue</th>\n",
              "      <th>Churn Category</th>\n",
              "      <th>Churn Reason</th>\n",
              "      <th>Churned</th>\n",
              "      <th>Male</th>\n",
              "      <th>Married</th>\n",
              "    </tr>\n",
              "  </thead>\n",
              "  <tbody>\n",
              "    <tr>\n",
              "      <th>0</th>\n",
              "      <td>0002-ORFBO</td>\n",
              "      <td>37</td>\n",
              "      <td>0</td>\n",
              "      <td>Frazier Park</td>\n",
              "      <td>93225</td>\n",
              "      <td>34.827662</td>\n",
              "      <td>-118.999073</td>\n",
              "      <td>2</td>\n",
              "      <td>9</td>\n",
              "      <td>None</td>\n",
              "      <td>...</td>\n",
              "      <td>593.30</td>\n",
              "      <td>0.0</td>\n",
              "      <td>0</td>\n",
              "      <td>381.51</td>\n",
              "      <td>974.81</td>\n",
              "      <td>NaN</td>\n",
              "      <td>NaN</td>\n",
              "      <td>0</td>\n",
              "      <td>0</td>\n",
              "      <td>1</td>\n",
              "    </tr>\n",
              "    <tr>\n",
              "      <th>2</th>\n",
              "      <td>0004-TLHLJ</td>\n",
              "      <td>50</td>\n",
              "      <td>0</td>\n",
              "      <td>Costa Mesa</td>\n",
              "      <td>92627</td>\n",
              "      <td>33.645672</td>\n",
              "      <td>-117.922613</td>\n",
              "      <td>0</td>\n",
              "      <td>4</td>\n",
              "      <td>Offer E</td>\n",
              "      <td>...</td>\n",
              "      <td>280.85</td>\n",
              "      <td>0.0</td>\n",
              "      <td>0</td>\n",
              "      <td>134.60</td>\n",
              "      <td>415.45</td>\n",
              "      <td>Competitor</td>\n",
              "      <td>Competitor had better devices</td>\n",
              "      <td>1</td>\n",
              "      <td>1</td>\n",
              "      <td>0</td>\n",
              "    </tr>\n",
              "    <tr>\n",
              "      <th>3</th>\n",
              "      <td>0011-IGKFF</td>\n",
              "      <td>78</td>\n",
              "      <td>0</td>\n",
              "      <td>Martinez</td>\n",
              "      <td>94553</td>\n",
              "      <td>38.014457</td>\n",
              "      <td>-122.115432</td>\n",
              "      <td>1</td>\n",
              "      <td>13</td>\n",
              "      <td>Offer D</td>\n",
              "      <td>...</td>\n",
              "      <td>1237.85</td>\n",
              "      <td>0.0</td>\n",
              "      <td>0</td>\n",
              "      <td>361.66</td>\n",
              "      <td>1599.51</td>\n",
              "      <td>Dissatisfaction</td>\n",
              "      <td>Product dissatisfaction</td>\n",
              "      <td>1</td>\n",
              "      <td>1</td>\n",
              "      <td>1</td>\n",
              "    </tr>\n",
              "    <tr>\n",
              "      <th>4</th>\n",
              "      <td>0013-EXCHZ</td>\n",
              "      <td>75</td>\n",
              "      <td>0</td>\n",
              "      <td>Camarillo</td>\n",
              "      <td>93010</td>\n",
              "      <td>34.227846</td>\n",
              "      <td>-119.079903</td>\n",
              "      <td>3</td>\n",
              "      <td>3</td>\n",
              "      <td>None</td>\n",
              "      <td>...</td>\n",
              "      <td>267.40</td>\n",
              "      <td>0.0</td>\n",
              "      <td>0</td>\n",
              "      <td>22.14</td>\n",
              "      <td>289.54</td>\n",
              "      <td>Dissatisfaction</td>\n",
              "      <td>Network reliability</td>\n",
              "      <td>1</td>\n",
              "      <td>0</td>\n",
              "      <td>1</td>\n",
              "    </tr>\n",
              "    <tr>\n",
              "      <th>5</th>\n",
              "      <td>0013-MHZWF</td>\n",
              "      <td>23</td>\n",
              "      <td>3</td>\n",
              "      <td>Midpines</td>\n",
              "      <td>95345</td>\n",
              "      <td>37.581496</td>\n",
              "      <td>-119.972762</td>\n",
              "      <td>0</td>\n",
              "      <td>9</td>\n",
              "      <td>Offer E</td>\n",
              "      <td>...</td>\n",
              "      <td>571.45</td>\n",
              "      <td>0.0</td>\n",
              "      <td>0</td>\n",
              "      <td>150.93</td>\n",
              "      <td>722.38</td>\n",
              "      <td>NaN</td>\n",
              "      <td>NaN</td>\n",
              "      <td>0</td>\n",
              "      <td>0</td>\n",
              "      <td>0</td>\n",
              "    </tr>\n",
              "  </tbody>\n",
              "</table>\n",
              "<p>5 rows × 38 columns</p>\n",
              "</div>\n",
              "      <button class=\"colab-df-convert\" onclick=\"convertToInteractive('df-2e2d6bad-0ebc-4a9c-96a4-5330530cf43f')\"\n",
              "              title=\"Convert this dataframe to an interactive table.\"\n",
              "              style=\"display:none;\">\n",
              "        \n",
              "  <svg xmlns=\"http://www.w3.org/2000/svg\" height=\"24px\"viewBox=\"0 0 24 24\"\n",
              "       width=\"24px\">\n",
              "    <path d=\"M0 0h24v24H0V0z\" fill=\"none\"/>\n",
              "    <path d=\"M18.56 5.44l.94 2.06.94-2.06 2.06-.94-2.06-.94-.94-2.06-.94 2.06-2.06.94zm-11 1L8.5 8.5l.94-2.06 2.06-.94-2.06-.94L8.5 2.5l-.94 2.06-2.06.94zm10 10l.94 2.06.94-2.06 2.06-.94-2.06-.94-.94-2.06-.94 2.06-2.06.94z\"/><path d=\"M17.41 7.96l-1.37-1.37c-.4-.4-.92-.59-1.43-.59-.52 0-1.04.2-1.43.59L10.3 9.45l-7.72 7.72c-.78.78-.78 2.05 0 2.83L4 21.41c.39.39.9.59 1.41.59.51 0 1.02-.2 1.41-.59l7.78-7.78 2.81-2.81c.8-.78.8-2.07 0-2.86zM5.41 20L4 18.59l7.72-7.72 1.47 1.35L5.41 20z\"/>\n",
              "  </svg>\n",
              "      </button>\n",
              "      \n",
              "  <style>\n",
              "    .colab-df-container {\n",
              "      display:flex;\n",
              "      flex-wrap:wrap;\n",
              "      gap: 12px;\n",
              "    }\n",
              "\n",
              "    .colab-df-convert {\n",
              "      background-color: #E8F0FE;\n",
              "      border: none;\n",
              "      border-radius: 50%;\n",
              "      cursor: pointer;\n",
              "      display: none;\n",
              "      fill: #1967D2;\n",
              "      height: 32px;\n",
              "      padding: 0 0 0 0;\n",
              "      width: 32px;\n",
              "    }\n",
              "\n",
              "    .colab-df-convert:hover {\n",
              "      background-color: #E2EBFA;\n",
              "      box-shadow: 0px 1px 2px rgba(60, 64, 67, 0.3), 0px 1px 3px 1px rgba(60, 64, 67, 0.15);\n",
              "      fill: #174EA6;\n",
              "    }\n",
              "\n",
              "    [theme=dark] .colab-df-convert {\n",
              "      background-color: #3B4455;\n",
              "      fill: #D2E3FC;\n",
              "    }\n",
              "\n",
              "    [theme=dark] .colab-df-convert:hover {\n",
              "      background-color: #434B5C;\n",
              "      box-shadow: 0px 1px 3px 1px rgba(0, 0, 0, 0.15);\n",
              "      filter: drop-shadow(0px 1px 2px rgba(0, 0, 0, 0.3));\n",
              "      fill: #FFFFFF;\n",
              "    }\n",
              "  </style>\n",
              "\n",
              "      <script>\n",
              "        const buttonEl =\n",
              "          document.querySelector('#df-2e2d6bad-0ebc-4a9c-96a4-5330530cf43f button.colab-df-convert');\n",
              "        buttonEl.style.display =\n",
              "          google.colab.kernel.accessAllowed ? 'block' : 'none';\n",
              "\n",
              "        async function convertToInteractive(key) {\n",
              "          const element = document.querySelector('#df-2e2d6bad-0ebc-4a9c-96a4-5330530cf43f');\n",
              "          const dataTable =\n",
              "            await google.colab.kernel.invokeFunction('convertToInteractive',\n",
              "                                                     [key], {});\n",
              "          if (!dataTable) return;\n",
              "\n",
              "          const docLinkHtml = 'Like what you see? Visit the ' +\n",
              "            '<a target=\"_blank\" href=https://colab.research.google.com/notebooks/data_table.ipynb>data table notebook</a>'\n",
              "            + ' to learn more about interactive tables.';\n",
              "          element.innerHTML = '';\n",
              "          dataTable['output_type'] = 'display_data';\n",
              "          await google.colab.output.renderOutput(dataTable, element);\n",
              "          const docLink = document.createElement('div');\n",
              "          docLink.innerHTML = docLinkHtml;\n",
              "          element.appendChild(docLink);\n",
              "        }\n",
              "      </script>\n",
              "    </div>\n",
              "  </div>\n",
              "  "
            ]
          },
          "metadata": {},
          "execution_count": 196
        }
      ]
    },
    {
      "cell_type": "markdown",
      "source": [
        "##### Phone Service\n"
      ],
      "metadata": {
        "id": "xR1xHQZK25FM"
      }
    },
    {
      "cell_type": "code",
      "source": [
        "df_4_renamed['Phone Service'].value_counts()"
      ],
      "metadata": {
        "colab": {
          "base_uri": "https://localhost:8080/",
          "height": 172
        },
        "id": "_rjSRHCY27zN",
        "outputId": "0078a827-a5cf-4149-f286-32c7d003f749"
      },
      "execution_count": null,
      "outputs": [
        {
          "output_type": "error",
          "ename": "NameError",
          "evalue": "ignored",
          "traceback": [
            "\u001b[0;31m---------------------------------------------------------------------------\u001b[0m",
            "\u001b[0;31mNameError\u001b[0m                                 Traceback (most recent call last)",
            "\u001b[0;32m<ipython-input-116-c451c9d17cc5>\u001b[0m in \u001b[0;36m<module>\u001b[0;34m()\u001b[0m\n\u001b[0;32m----> 1\u001b[0;31m \u001b[0mdf_4_renamed\u001b[0m\u001b[0;34m[\u001b[0m\u001b[0;34m'Phone Service'\u001b[0m\u001b[0;34m]\u001b[0m\u001b[0;34m.\u001b[0m\u001b[0mvalue_counts\u001b[0m\u001b[0;34m(\u001b[0m\u001b[0;34m)\u001b[0m\u001b[0;34m\u001b[0m\u001b[0;34m\u001b[0m\u001b[0m\n\u001b[0m",
            "\u001b[0;31mNameError\u001b[0m: name 'df_4_renamed' is not defined"
          ]
        }
      ]
    },
    {
      "cell_type": "code",
      "source": [
        "# alterar os dados categóricos da coluna Phone Service\n",
        "\n",
        "df_4_temp = pd.get_dummies(df_4_renamed['Phone Service'])\n",
        "print(df_4_temp)"
      ],
      "metadata": {
        "colab": {
          "base_uri": "https://localhost:8080/"
        },
        "id": "DAL9JpQs3pXF",
        "outputId": "f6925bd9-56bb-4442-9bdc-aa0c2309ec5b"
      },
      "execution_count": null,
      "outputs": [
        {
          "output_type": "stream",
          "name": "stdout",
          "text": [
            "      No  Yes\n",
            "0      0    1\n",
            "2      0    1\n",
            "3      0    1\n",
            "4      0    1\n",
            "5      0    1\n",
            "...   ..  ...\n",
            "7037   0    1\n",
            "7038   0    1\n",
            "7039   0    1\n",
            "7041   0    1\n",
            "7042   1    0\n",
            "\n",
            "[6475 rows x 2 columns]\n"
          ]
        }
      ]
    },
    {
      "cell_type": "code",
      "source": [
        "# juntar as duas tabelas, uma contendo todo o dataset, e a outra contendo os dados categóricos com representação numerica\n",
        "\n",
        "df_4_temp2 = pd.concat((df_4_renamed, df_4_temp), axis=1)\n",
        "df_4_temp2.head()"
      ],
      "metadata": {
        "id": "M-3ji-v24Gr7",
        "colab": {
          "base_uri": "https://localhost:8080/"
        },
        "outputId": "48fb29e0-a495-473a-8ce0-43a4dad5365b"
      },
      "execution_count": null,
      "outputs": [
        {
          "output_type": "execute_result",
          "data": {
            "text/plain": [
              "  Customer ID  Age  Number of Dependents          City  Zip Code   Latitude  \\\n",
              "0  0002-ORFBO   37                     0  Frazier Park     93225  34.827662   \n",
              "2  0004-TLHLJ   50                     0    Costa Mesa     92627  33.645672   \n",
              "3  0011-IGKFF   78                     0      Martinez     94553  38.014457   \n",
              "4  0013-EXCHZ   75                     0     Camarillo     93010  34.227846   \n",
              "5  0013-MHZWF   23                     3      Midpines     95345  37.581496   \n",
              "\n",
              "    Longitude  Number of Referrals  Tenure in Months    Offer  ...  \\\n",
              "0 -118.999073                    2                 9     None  ...   \n",
              "2 -117.922613                    0                 4  Offer E  ...   \n",
              "3 -122.115432                    1                13  Offer D  ...   \n",
              "4 -119.079903                    3                 3     None  ...   \n",
              "5 -119.972762                    0                 9  Offer E  ...   \n",
              "\n",
              "  Total Extra Data Charges  Total Long Distance Charges Total Revenue  \\\n",
              "0                        0                       381.51        974.81   \n",
              "2                        0                       134.60        415.45   \n",
              "3                        0                       361.66       1599.51   \n",
              "4                        0                        22.14        289.54   \n",
              "5                        0                       150.93        722.38   \n",
              "\n",
              "    Churn Category                   Churn Reason  Churned Male Married No Yes  \n",
              "0              NaN                            NaN        0    0       1  0   1  \n",
              "2       Competitor  Competitor had better devices        1    1       0  0   1  \n",
              "3  Dissatisfaction        Product dissatisfaction        1    1       1  0   1  \n",
              "4  Dissatisfaction            Network reliability        1    0       1  0   1  \n",
              "5              NaN                            NaN        0    0       0  0   1  \n",
              "\n",
              "[5 rows x 40 columns]"
            ],
            "text/html": [
              "\n",
              "  <div id=\"df-adcf41fa-ace4-4969-bfb7-1db40b8d4c36\">\n",
              "    <div class=\"colab-df-container\">\n",
              "      <div>\n",
              "<style scoped>\n",
              "    .dataframe tbody tr th:only-of-type {\n",
              "        vertical-align: middle;\n",
              "    }\n",
              "\n",
              "    .dataframe tbody tr th {\n",
              "        vertical-align: top;\n",
              "    }\n",
              "\n",
              "    .dataframe thead th {\n",
              "        text-align: right;\n",
              "    }\n",
              "</style>\n",
              "<table border=\"1\" class=\"dataframe\">\n",
              "  <thead>\n",
              "    <tr style=\"text-align: right;\">\n",
              "      <th></th>\n",
              "      <th>Customer ID</th>\n",
              "      <th>Age</th>\n",
              "      <th>Number of Dependents</th>\n",
              "      <th>City</th>\n",
              "      <th>Zip Code</th>\n",
              "      <th>Latitude</th>\n",
              "      <th>Longitude</th>\n",
              "      <th>Number of Referrals</th>\n",
              "      <th>Tenure in Months</th>\n",
              "      <th>Offer</th>\n",
              "      <th>...</th>\n",
              "      <th>Total Extra Data Charges</th>\n",
              "      <th>Total Long Distance Charges</th>\n",
              "      <th>Total Revenue</th>\n",
              "      <th>Churn Category</th>\n",
              "      <th>Churn Reason</th>\n",
              "      <th>Churned</th>\n",
              "      <th>Male</th>\n",
              "      <th>Married</th>\n",
              "      <th>No</th>\n",
              "      <th>Yes</th>\n",
              "    </tr>\n",
              "  </thead>\n",
              "  <tbody>\n",
              "    <tr>\n",
              "      <th>0</th>\n",
              "      <td>0002-ORFBO</td>\n",
              "      <td>37</td>\n",
              "      <td>0</td>\n",
              "      <td>Frazier Park</td>\n",
              "      <td>93225</td>\n",
              "      <td>34.827662</td>\n",
              "      <td>-118.999073</td>\n",
              "      <td>2</td>\n",
              "      <td>9</td>\n",
              "      <td>None</td>\n",
              "      <td>...</td>\n",
              "      <td>0</td>\n",
              "      <td>381.51</td>\n",
              "      <td>974.81</td>\n",
              "      <td>NaN</td>\n",
              "      <td>NaN</td>\n",
              "      <td>0</td>\n",
              "      <td>0</td>\n",
              "      <td>1</td>\n",
              "      <td>0</td>\n",
              "      <td>1</td>\n",
              "    </tr>\n",
              "    <tr>\n",
              "      <th>2</th>\n",
              "      <td>0004-TLHLJ</td>\n",
              "      <td>50</td>\n",
              "      <td>0</td>\n",
              "      <td>Costa Mesa</td>\n",
              "      <td>92627</td>\n",
              "      <td>33.645672</td>\n",
              "      <td>-117.922613</td>\n",
              "      <td>0</td>\n",
              "      <td>4</td>\n",
              "      <td>Offer E</td>\n",
              "      <td>...</td>\n",
              "      <td>0</td>\n",
              "      <td>134.60</td>\n",
              "      <td>415.45</td>\n",
              "      <td>Competitor</td>\n",
              "      <td>Competitor had better devices</td>\n",
              "      <td>1</td>\n",
              "      <td>1</td>\n",
              "      <td>0</td>\n",
              "      <td>0</td>\n",
              "      <td>1</td>\n",
              "    </tr>\n",
              "    <tr>\n",
              "      <th>3</th>\n",
              "      <td>0011-IGKFF</td>\n",
              "      <td>78</td>\n",
              "      <td>0</td>\n",
              "      <td>Martinez</td>\n",
              "      <td>94553</td>\n",
              "      <td>38.014457</td>\n",
              "      <td>-122.115432</td>\n",
              "      <td>1</td>\n",
              "      <td>13</td>\n",
              "      <td>Offer D</td>\n",
              "      <td>...</td>\n",
              "      <td>0</td>\n",
              "      <td>361.66</td>\n",
              "      <td>1599.51</td>\n",
              "      <td>Dissatisfaction</td>\n",
              "      <td>Product dissatisfaction</td>\n",
              "      <td>1</td>\n",
              "      <td>1</td>\n",
              "      <td>1</td>\n",
              "      <td>0</td>\n",
              "      <td>1</td>\n",
              "    </tr>\n",
              "    <tr>\n",
              "      <th>4</th>\n",
              "      <td>0013-EXCHZ</td>\n",
              "      <td>75</td>\n",
              "      <td>0</td>\n",
              "      <td>Camarillo</td>\n",
              "      <td>93010</td>\n",
              "      <td>34.227846</td>\n",
              "      <td>-119.079903</td>\n",
              "      <td>3</td>\n",
              "      <td>3</td>\n",
              "      <td>None</td>\n",
              "      <td>...</td>\n",
              "      <td>0</td>\n",
              "      <td>22.14</td>\n",
              "      <td>289.54</td>\n",
              "      <td>Dissatisfaction</td>\n",
              "      <td>Network reliability</td>\n",
              "      <td>1</td>\n",
              "      <td>0</td>\n",
              "      <td>1</td>\n",
              "      <td>0</td>\n",
              "      <td>1</td>\n",
              "    </tr>\n",
              "    <tr>\n",
              "      <th>5</th>\n",
              "      <td>0013-MHZWF</td>\n",
              "      <td>23</td>\n",
              "      <td>3</td>\n",
              "      <td>Midpines</td>\n",
              "      <td>95345</td>\n",
              "      <td>37.581496</td>\n",
              "      <td>-119.972762</td>\n",
              "      <td>0</td>\n",
              "      <td>9</td>\n",
              "      <td>Offer E</td>\n",
              "      <td>...</td>\n",
              "      <td>0</td>\n",
              "      <td>150.93</td>\n",
              "      <td>722.38</td>\n",
              "      <td>NaN</td>\n",
              "      <td>NaN</td>\n",
              "      <td>0</td>\n",
              "      <td>0</td>\n",
              "      <td>0</td>\n",
              "      <td>0</td>\n",
              "      <td>1</td>\n",
              "    </tr>\n",
              "  </tbody>\n",
              "</table>\n",
              "<p>5 rows × 40 columns</p>\n",
              "</div>\n",
              "      <button class=\"colab-df-convert\" onclick=\"convertToInteractive('df-adcf41fa-ace4-4969-bfb7-1db40b8d4c36')\"\n",
              "              title=\"Convert this dataframe to an interactive table.\"\n",
              "              style=\"display:none;\">\n",
              "        \n",
              "  <svg xmlns=\"http://www.w3.org/2000/svg\" height=\"24px\"viewBox=\"0 0 24 24\"\n",
              "       width=\"24px\">\n",
              "    <path d=\"M0 0h24v24H0V0z\" fill=\"none\"/>\n",
              "    <path d=\"M18.56 5.44l.94 2.06.94-2.06 2.06-.94-2.06-.94-.94-2.06-.94 2.06-2.06.94zm-11 1L8.5 8.5l.94-2.06 2.06-.94-2.06-.94L8.5 2.5l-.94 2.06-2.06.94zm10 10l.94 2.06.94-2.06 2.06-.94-2.06-.94-.94-2.06-.94 2.06-2.06.94z\"/><path d=\"M17.41 7.96l-1.37-1.37c-.4-.4-.92-.59-1.43-.59-.52 0-1.04.2-1.43.59L10.3 9.45l-7.72 7.72c-.78.78-.78 2.05 0 2.83L4 21.41c.39.39.9.59 1.41.59.51 0 1.02-.2 1.41-.59l7.78-7.78 2.81-2.81c.8-.78.8-2.07 0-2.86zM5.41 20L4 18.59l7.72-7.72 1.47 1.35L5.41 20z\"/>\n",
              "  </svg>\n",
              "      </button>\n",
              "      \n",
              "  <style>\n",
              "    .colab-df-container {\n",
              "      display:flex;\n",
              "      flex-wrap:wrap;\n",
              "      gap: 12px;\n",
              "    }\n",
              "\n",
              "    .colab-df-convert {\n",
              "      background-color: #E8F0FE;\n",
              "      border: none;\n",
              "      border-radius: 50%;\n",
              "      cursor: pointer;\n",
              "      display: none;\n",
              "      fill: #1967D2;\n",
              "      height: 32px;\n",
              "      padding: 0 0 0 0;\n",
              "      width: 32px;\n",
              "    }\n",
              "\n",
              "    .colab-df-convert:hover {\n",
              "      background-color: #E2EBFA;\n",
              "      box-shadow: 0px 1px 2px rgba(60, 64, 67, 0.3), 0px 1px 3px 1px rgba(60, 64, 67, 0.15);\n",
              "      fill: #174EA6;\n",
              "    }\n",
              "\n",
              "    [theme=dark] .colab-df-convert {\n",
              "      background-color: #3B4455;\n",
              "      fill: #D2E3FC;\n",
              "    }\n",
              "\n",
              "    [theme=dark] .colab-df-convert:hover {\n",
              "      background-color: #434B5C;\n",
              "      box-shadow: 0px 1px 3px 1px rgba(0, 0, 0, 0.15);\n",
              "      filter: drop-shadow(0px 1px 2px rgba(0, 0, 0, 0.3));\n",
              "      fill: #FFFFFF;\n",
              "    }\n",
              "  </style>\n",
              "\n",
              "      <script>\n",
              "        const buttonEl =\n",
              "          document.querySelector('#df-adcf41fa-ace4-4969-bfb7-1db40b8d4c36 button.colab-df-convert');\n",
              "        buttonEl.style.display =\n",
              "          google.colab.kernel.accessAllowed ? 'block' : 'none';\n",
              "\n",
              "        async function convertToInteractive(key) {\n",
              "          const element = document.querySelector('#df-adcf41fa-ace4-4969-bfb7-1db40b8d4c36');\n",
              "          const dataTable =\n",
              "            await google.colab.kernel.invokeFunction('convertToInteractive',\n",
              "                                                     [key], {});\n",
              "          if (!dataTable) return;\n",
              "\n",
              "          const docLinkHtml = 'Like what you see? Visit the ' +\n",
              "            '<a target=\"_blank\" href=https://colab.research.google.com/notebooks/data_table.ipynb>data table notebook</a>'\n",
              "            + ' to learn more about interactive tables.';\n",
              "          element.innerHTML = '';\n",
              "          dataTable['output_type'] = 'display_data';\n",
              "          await google.colab.output.renderOutput(dataTable, element);\n",
              "          const docLink = document.createElement('div');\n",
              "          docLink.innerHTML = docLinkHtml;\n",
              "          element.appendChild(docLink);\n",
              "        }\n",
              "      </script>\n",
              "    </div>\n",
              "  </div>\n",
              "  "
            ]
          },
          "metadata": {},
          "execution_count": 199
        }
      ]
    },
    {
      "cell_type": "code",
      "source": [
        "# excluir a coluna No, e deixar apenas a Yes\n",
        "\n",
        "df_4_temp2 = df_4_temp2.drop([\"No\"], axis=1) \n",
        "df_4_temp2 = df_4_temp2.drop([\"Phone Service\"], axis=1)"
      ],
      "metadata": {
        "id": "1XSsKJot4ZbR"
      },
      "execution_count": null,
      "outputs": []
    },
    {
      "cell_type": "code",
      "source": [
        "# renomear a coluna Yes para Phone Service\n",
        "\n",
        "df_5 = df_4_temp2.rename(columns={\"Yes\": \"Phone Service\"})"
      ],
      "metadata": {
        "id": "W12_QkPL4i2l"
      },
      "execution_count": null,
      "outputs": []
    },
    {
      "cell_type": "code",
      "source": [
        "df_5.head()"
      ],
      "metadata": {
        "id": "pkLun84A4yFV",
        "colab": {
          "base_uri": "https://localhost:8080/"
        },
        "outputId": "37c7c027-1a48-43b9-a4b9-9380a02e9367"
      },
      "execution_count": null,
      "outputs": [
        {
          "output_type": "execute_result",
          "data": {
            "text/plain": [
              "  Customer ID  Age  Number of Dependents          City  Zip Code   Latitude  \\\n",
              "0  0002-ORFBO   37                     0  Frazier Park     93225  34.827662   \n",
              "2  0004-TLHLJ   50                     0    Costa Mesa     92627  33.645672   \n",
              "3  0011-IGKFF   78                     0      Martinez     94553  38.014457   \n",
              "4  0013-EXCHZ   75                     0     Camarillo     93010  34.227846   \n",
              "5  0013-MHZWF   23                     3      Midpines     95345  37.581496   \n",
              "\n",
              "    Longitude  Number of Referrals  Tenure in Months    Offer  ...  \\\n",
              "0 -118.999073                    2                 9     None  ...   \n",
              "2 -117.922613                    0                 4  Offer E  ...   \n",
              "3 -122.115432                    1                13  Offer D  ...   \n",
              "4 -119.079903                    3                 3     None  ...   \n",
              "5 -119.972762                    0                 9  Offer E  ...   \n",
              "\n",
              "   Total Refunds Total Extra Data Charges Total Long Distance Charges  \\\n",
              "0            0.0                        0                      381.51   \n",
              "2            0.0                        0                      134.60   \n",
              "3            0.0                        0                      361.66   \n",
              "4            0.0                        0                       22.14   \n",
              "5            0.0                        0                      150.93   \n",
              "\n",
              "  Total Revenue   Churn Category                   Churn Reason Churned Male  \\\n",
              "0        974.81              NaN                            NaN       0    0   \n",
              "2        415.45       Competitor  Competitor had better devices       1    1   \n",
              "3       1599.51  Dissatisfaction        Product dissatisfaction       1    1   \n",
              "4        289.54  Dissatisfaction            Network reliability       1    0   \n",
              "5        722.38              NaN                            NaN       0    0   \n",
              "\n",
              "  Married Phone Service  \n",
              "0       1             1  \n",
              "2       0             1  \n",
              "3       1             1  \n",
              "4       1             1  \n",
              "5       0             1  \n",
              "\n",
              "[5 rows x 38 columns]"
            ],
            "text/html": [
              "\n",
              "  <div id=\"df-bd4adaa4-ea45-428f-8fa7-58d1cd657a8f\">\n",
              "    <div class=\"colab-df-container\">\n",
              "      <div>\n",
              "<style scoped>\n",
              "    .dataframe tbody tr th:only-of-type {\n",
              "        vertical-align: middle;\n",
              "    }\n",
              "\n",
              "    .dataframe tbody tr th {\n",
              "        vertical-align: top;\n",
              "    }\n",
              "\n",
              "    .dataframe thead th {\n",
              "        text-align: right;\n",
              "    }\n",
              "</style>\n",
              "<table border=\"1\" class=\"dataframe\">\n",
              "  <thead>\n",
              "    <tr style=\"text-align: right;\">\n",
              "      <th></th>\n",
              "      <th>Customer ID</th>\n",
              "      <th>Age</th>\n",
              "      <th>Number of Dependents</th>\n",
              "      <th>City</th>\n",
              "      <th>Zip Code</th>\n",
              "      <th>Latitude</th>\n",
              "      <th>Longitude</th>\n",
              "      <th>Number of Referrals</th>\n",
              "      <th>Tenure in Months</th>\n",
              "      <th>Offer</th>\n",
              "      <th>...</th>\n",
              "      <th>Total Refunds</th>\n",
              "      <th>Total Extra Data Charges</th>\n",
              "      <th>Total Long Distance Charges</th>\n",
              "      <th>Total Revenue</th>\n",
              "      <th>Churn Category</th>\n",
              "      <th>Churn Reason</th>\n",
              "      <th>Churned</th>\n",
              "      <th>Male</th>\n",
              "      <th>Married</th>\n",
              "      <th>Phone Service</th>\n",
              "    </tr>\n",
              "  </thead>\n",
              "  <tbody>\n",
              "    <tr>\n",
              "      <th>0</th>\n",
              "      <td>0002-ORFBO</td>\n",
              "      <td>37</td>\n",
              "      <td>0</td>\n",
              "      <td>Frazier Park</td>\n",
              "      <td>93225</td>\n",
              "      <td>34.827662</td>\n",
              "      <td>-118.999073</td>\n",
              "      <td>2</td>\n",
              "      <td>9</td>\n",
              "      <td>None</td>\n",
              "      <td>...</td>\n",
              "      <td>0.0</td>\n",
              "      <td>0</td>\n",
              "      <td>381.51</td>\n",
              "      <td>974.81</td>\n",
              "      <td>NaN</td>\n",
              "      <td>NaN</td>\n",
              "      <td>0</td>\n",
              "      <td>0</td>\n",
              "      <td>1</td>\n",
              "      <td>1</td>\n",
              "    </tr>\n",
              "    <tr>\n",
              "      <th>2</th>\n",
              "      <td>0004-TLHLJ</td>\n",
              "      <td>50</td>\n",
              "      <td>0</td>\n",
              "      <td>Costa Mesa</td>\n",
              "      <td>92627</td>\n",
              "      <td>33.645672</td>\n",
              "      <td>-117.922613</td>\n",
              "      <td>0</td>\n",
              "      <td>4</td>\n",
              "      <td>Offer E</td>\n",
              "      <td>...</td>\n",
              "      <td>0.0</td>\n",
              "      <td>0</td>\n",
              "      <td>134.60</td>\n",
              "      <td>415.45</td>\n",
              "      <td>Competitor</td>\n",
              "      <td>Competitor had better devices</td>\n",
              "      <td>1</td>\n",
              "      <td>1</td>\n",
              "      <td>0</td>\n",
              "      <td>1</td>\n",
              "    </tr>\n",
              "    <tr>\n",
              "      <th>3</th>\n",
              "      <td>0011-IGKFF</td>\n",
              "      <td>78</td>\n",
              "      <td>0</td>\n",
              "      <td>Martinez</td>\n",
              "      <td>94553</td>\n",
              "      <td>38.014457</td>\n",
              "      <td>-122.115432</td>\n",
              "      <td>1</td>\n",
              "      <td>13</td>\n",
              "      <td>Offer D</td>\n",
              "      <td>...</td>\n",
              "      <td>0.0</td>\n",
              "      <td>0</td>\n",
              "      <td>361.66</td>\n",
              "      <td>1599.51</td>\n",
              "      <td>Dissatisfaction</td>\n",
              "      <td>Product dissatisfaction</td>\n",
              "      <td>1</td>\n",
              "      <td>1</td>\n",
              "      <td>1</td>\n",
              "      <td>1</td>\n",
              "    </tr>\n",
              "    <tr>\n",
              "      <th>4</th>\n",
              "      <td>0013-EXCHZ</td>\n",
              "      <td>75</td>\n",
              "      <td>0</td>\n",
              "      <td>Camarillo</td>\n",
              "      <td>93010</td>\n",
              "      <td>34.227846</td>\n",
              "      <td>-119.079903</td>\n",
              "      <td>3</td>\n",
              "      <td>3</td>\n",
              "      <td>None</td>\n",
              "      <td>...</td>\n",
              "      <td>0.0</td>\n",
              "      <td>0</td>\n",
              "      <td>22.14</td>\n",
              "      <td>289.54</td>\n",
              "      <td>Dissatisfaction</td>\n",
              "      <td>Network reliability</td>\n",
              "      <td>1</td>\n",
              "      <td>0</td>\n",
              "      <td>1</td>\n",
              "      <td>1</td>\n",
              "    </tr>\n",
              "    <tr>\n",
              "      <th>5</th>\n",
              "      <td>0013-MHZWF</td>\n",
              "      <td>23</td>\n",
              "      <td>3</td>\n",
              "      <td>Midpines</td>\n",
              "      <td>95345</td>\n",
              "      <td>37.581496</td>\n",
              "      <td>-119.972762</td>\n",
              "      <td>0</td>\n",
              "      <td>9</td>\n",
              "      <td>Offer E</td>\n",
              "      <td>...</td>\n",
              "      <td>0.0</td>\n",
              "      <td>0</td>\n",
              "      <td>150.93</td>\n",
              "      <td>722.38</td>\n",
              "      <td>NaN</td>\n",
              "      <td>NaN</td>\n",
              "      <td>0</td>\n",
              "      <td>0</td>\n",
              "      <td>0</td>\n",
              "      <td>1</td>\n",
              "    </tr>\n",
              "  </tbody>\n",
              "</table>\n",
              "<p>5 rows × 38 columns</p>\n",
              "</div>\n",
              "      <button class=\"colab-df-convert\" onclick=\"convertToInteractive('df-bd4adaa4-ea45-428f-8fa7-58d1cd657a8f')\"\n",
              "              title=\"Convert this dataframe to an interactive table.\"\n",
              "              style=\"display:none;\">\n",
              "        \n",
              "  <svg xmlns=\"http://www.w3.org/2000/svg\" height=\"24px\"viewBox=\"0 0 24 24\"\n",
              "       width=\"24px\">\n",
              "    <path d=\"M0 0h24v24H0V0z\" fill=\"none\"/>\n",
              "    <path d=\"M18.56 5.44l.94 2.06.94-2.06 2.06-.94-2.06-.94-.94-2.06-.94 2.06-2.06.94zm-11 1L8.5 8.5l.94-2.06 2.06-.94-2.06-.94L8.5 2.5l-.94 2.06-2.06.94zm10 10l.94 2.06.94-2.06 2.06-.94-2.06-.94-.94-2.06-.94 2.06-2.06.94z\"/><path d=\"M17.41 7.96l-1.37-1.37c-.4-.4-.92-.59-1.43-.59-.52 0-1.04.2-1.43.59L10.3 9.45l-7.72 7.72c-.78.78-.78 2.05 0 2.83L4 21.41c.39.39.9.59 1.41.59.51 0 1.02-.2 1.41-.59l7.78-7.78 2.81-2.81c.8-.78.8-2.07 0-2.86zM5.41 20L4 18.59l7.72-7.72 1.47 1.35L5.41 20z\"/>\n",
              "  </svg>\n",
              "      </button>\n",
              "      \n",
              "  <style>\n",
              "    .colab-df-container {\n",
              "      display:flex;\n",
              "      flex-wrap:wrap;\n",
              "      gap: 12px;\n",
              "    }\n",
              "\n",
              "    .colab-df-convert {\n",
              "      background-color: #E8F0FE;\n",
              "      border: none;\n",
              "      border-radius: 50%;\n",
              "      cursor: pointer;\n",
              "      display: none;\n",
              "      fill: #1967D2;\n",
              "      height: 32px;\n",
              "      padding: 0 0 0 0;\n",
              "      width: 32px;\n",
              "    }\n",
              "\n",
              "    .colab-df-convert:hover {\n",
              "      background-color: #E2EBFA;\n",
              "      box-shadow: 0px 1px 2px rgba(60, 64, 67, 0.3), 0px 1px 3px 1px rgba(60, 64, 67, 0.15);\n",
              "      fill: #174EA6;\n",
              "    }\n",
              "\n",
              "    [theme=dark] .colab-df-convert {\n",
              "      background-color: #3B4455;\n",
              "      fill: #D2E3FC;\n",
              "    }\n",
              "\n",
              "    [theme=dark] .colab-df-convert:hover {\n",
              "      background-color: #434B5C;\n",
              "      box-shadow: 0px 1px 3px 1px rgba(0, 0, 0, 0.15);\n",
              "      filter: drop-shadow(0px 1px 2px rgba(0, 0, 0, 0.3));\n",
              "      fill: #FFFFFF;\n",
              "    }\n",
              "  </style>\n",
              "\n",
              "      <script>\n",
              "        const buttonEl =\n",
              "          document.querySelector('#df-bd4adaa4-ea45-428f-8fa7-58d1cd657a8f button.colab-df-convert');\n",
              "        buttonEl.style.display =\n",
              "          google.colab.kernel.accessAllowed ? 'block' : 'none';\n",
              "\n",
              "        async function convertToInteractive(key) {\n",
              "          const element = document.querySelector('#df-bd4adaa4-ea45-428f-8fa7-58d1cd657a8f');\n",
              "          const dataTable =\n",
              "            await google.colab.kernel.invokeFunction('convertToInteractive',\n",
              "                                                     [key], {});\n",
              "          if (!dataTable) return;\n",
              "\n",
              "          const docLinkHtml = 'Like what you see? Visit the ' +\n",
              "            '<a target=\"_blank\" href=https://colab.research.google.com/notebooks/data_table.ipynb>data table notebook</a>'\n",
              "            + ' to learn more about interactive tables.';\n",
              "          element.innerHTML = '';\n",
              "          dataTable['output_type'] = 'display_data';\n",
              "          await google.colab.output.renderOutput(dataTable, element);\n",
              "          const docLink = document.createElement('div');\n",
              "          docLink.innerHTML = docLinkHtml;\n",
              "          element.appendChild(docLink);\n",
              "        }\n",
              "      </script>\n",
              "    </div>\n",
              "  </div>\n",
              "  "
            ]
          },
          "metadata": {},
          "execution_count": 202
        }
      ]
    },
    {
      "cell_type": "markdown",
      "source": [
        "##### Multiple Lines"
      ],
      "metadata": {
        "id": "HmZCfhQK5AII"
      }
    },
    {
      "cell_type": "code",
      "source": [
        "df_5['Multiple Lines'].value_counts()"
      ],
      "metadata": {
        "colab": {
          "base_uri": "https://localhost:8080/"
        },
        "id": "4PD0OiDM49wc",
        "outputId": "2b0cc3bc-d44f-4ac8-9c32-e57ac1d0f300"
      },
      "execution_count": null,
      "outputs": [
        {
          "output_type": "execute_result",
          "data": {
            "text/plain": [
              "No     2962\n",
              "Yes    2880\n",
              "Name: Multiple Lines, dtype: int64"
            ]
          },
          "metadata": {},
          "execution_count": 203
        }
      ]
    },
    {
      "cell_type": "code",
      "source": [
        "# alterar os dados categóricos da coluna Phone Service\n",
        "\n",
        "df_5_temp = pd.get_dummies(df_5['Multiple Lines'])\n",
        "print(df_5_temp)"
      ],
      "metadata": {
        "colab": {
          "base_uri": "https://localhost:8080/"
        },
        "id": "7EEi01AA4_eN",
        "outputId": "694656a9-4455-4e8f-90b6-aae47914a618"
      },
      "execution_count": null,
      "outputs": [
        {
          "output_type": "stream",
          "name": "stdout",
          "text": [
            "      No  Yes\n",
            "0      1    0\n",
            "2      1    0\n",
            "3      1    0\n",
            "4      1    0\n",
            "5      1    0\n",
            "...   ..  ...\n",
            "7037   1    0\n",
            "7038   1    0\n",
            "7039   0    1\n",
            "7041   1    0\n",
            "7042   0    0\n",
            "\n",
            "[6475 rows x 2 columns]\n"
          ]
        }
      ]
    },
    {
      "cell_type": "code",
      "source": [
        "# juntar as duas tabelas, uma contendo todo o dataset, e a outra contendo os dados categóricos com representação numerica\n",
        "\n",
        "df_5_temp2 = pd.concat((df_5, df_5_temp), axis=1)\n",
        "df_5_temp2.head()"
      ],
      "metadata": {
        "id": "2-evvNaK56G9",
        "colab": {
          "base_uri": "https://localhost:8080/"
        },
        "outputId": "c98e3332-5cef-4ca8-96e0-9501bba603f2"
      },
      "execution_count": null,
      "outputs": [
        {
          "output_type": "execute_result",
          "data": {
            "text/plain": [
              "  Customer ID  Age  Number of Dependents          City  Zip Code   Latitude  \\\n",
              "0  0002-ORFBO   37                     0  Frazier Park     93225  34.827662   \n",
              "2  0004-TLHLJ   50                     0    Costa Mesa     92627  33.645672   \n",
              "3  0011-IGKFF   78                     0      Martinez     94553  38.014457   \n",
              "4  0013-EXCHZ   75                     0     Camarillo     93010  34.227846   \n",
              "5  0013-MHZWF   23                     3      Midpines     95345  37.581496   \n",
              "\n",
              "    Longitude  Number of Referrals  Tenure in Months    Offer  ...  \\\n",
              "0 -118.999073                    2                 9     None  ...   \n",
              "2 -117.922613                    0                 4  Offer E  ...   \n",
              "3 -122.115432                    1                13  Offer D  ...   \n",
              "4 -119.079903                    3                 3     None  ...   \n",
              "5 -119.972762                    0                 9  Offer E  ...   \n",
              "\n",
              "   Total Long Distance Charges Total Revenue   Churn Category  \\\n",
              "0                       381.51        974.81              NaN   \n",
              "2                       134.60        415.45       Competitor   \n",
              "3                       361.66       1599.51  Dissatisfaction   \n",
              "4                        22.14        289.54  Dissatisfaction   \n",
              "5                       150.93        722.38              NaN   \n",
              "\n",
              "                    Churn Reason  Churned Male Married Phone Service No Yes  \n",
              "0                            NaN        0    0       1             1  1   0  \n",
              "2  Competitor had better devices        1    1       0             1  1   0  \n",
              "3        Product dissatisfaction        1    1       1             1  1   0  \n",
              "4            Network reliability        1    0       1             1  1   0  \n",
              "5                            NaN        0    0       0             1  1   0  \n",
              "\n",
              "[5 rows x 40 columns]"
            ],
            "text/html": [
              "\n",
              "  <div id=\"df-033acba2-f9d1-428b-9520-d8ed6655afff\">\n",
              "    <div class=\"colab-df-container\">\n",
              "      <div>\n",
              "<style scoped>\n",
              "    .dataframe tbody tr th:only-of-type {\n",
              "        vertical-align: middle;\n",
              "    }\n",
              "\n",
              "    .dataframe tbody tr th {\n",
              "        vertical-align: top;\n",
              "    }\n",
              "\n",
              "    .dataframe thead th {\n",
              "        text-align: right;\n",
              "    }\n",
              "</style>\n",
              "<table border=\"1\" class=\"dataframe\">\n",
              "  <thead>\n",
              "    <tr style=\"text-align: right;\">\n",
              "      <th></th>\n",
              "      <th>Customer ID</th>\n",
              "      <th>Age</th>\n",
              "      <th>Number of Dependents</th>\n",
              "      <th>City</th>\n",
              "      <th>Zip Code</th>\n",
              "      <th>Latitude</th>\n",
              "      <th>Longitude</th>\n",
              "      <th>Number of Referrals</th>\n",
              "      <th>Tenure in Months</th>\n",
              "      <th>Offer</th>\n",
              "      <th>...</th>\n",
              "      <th>Total Long Distance Charges</th>\n",
              "      <th>Total Revenue</th>\n",
              "      <th>Churn Category</th>\n",
              "      <th>Churn Reason</th>\n",
              "      <th>Churned</th>\n",
              "      <th>Male</th>\n",
              "      <th>Married</th>\n",
              "      <th>Phone Service</th>\n",
              "      <th>No</th>\n",
              "      <th>Yes</th>\n",
              "    </tr>\n",
              "  </thead>\n",
              "  <tbody>\n",
              "    <tr>\n",
              "      <th>0</th>\n",
              "      <td>0002-ORFBO</td>\n",
              "      <td>37</td>\n",
              "      <td>0</td>\n",
              "      <td>Frazier Park</td>\n",
              "      <td>93225</td>\n",
              "      <td>34.827662</td>\n",
              "      <td>-118.999073</td>\n",
              "      <td>2</td>\n",
              "      <td>9</td>\n",
              "      <td>None</td>\n",
              "      <td>...</td>\n",
              "      <td>381.51</td>\n",
              "      <td>974.81</td>\n",
              "      <td>NaN</td>\n",
              "      <td>NaN</td>\n",
              "      <td>0</td>\n",
              "      <td>0</td>\n",
              "      <td>1</td>\n",
              "      <td>1</td>\n",
              "      <td>1</td>\n",
              "      <td>0</td>\n",
              "    </tr>\n",
              "    <tr>\n",
              "      <th>2</th>\n",
              "      <td>0004-TLHLJ</td>\n",
              "      <td>50</td>\n",
              "      <td>0</td>\n",
              "      <td>Costa Mesa</td>\n",
              "      <td>92627</td>\n",
              "      <td>33.645672</td>\n",
              "      <td>-117.922613</td>\n",
              "      <td>0</td>\n",
              "      <td>4</td>\n",
              "      <td>Offer E</td>\n",
              "      <td>...</td>\n",
              "      <td>134.60</td>\n",
              "      <td>415.45</td>\n",
              "      <td>Competitor</td>\n",
              "      <td>Competitor had better devices</td>\n",
              "      <td>1</td>\n",
              "      <td>1</td>\n",
              "      <td>0</td>\n",
              "      <td>1</td>\n",
              "      <td>1</td>\n",
              "      <td>0</td>\n",
              "    </tr>\n",
              "    <tr>\n",
              "      <th>3</th>\n",
              "      <td>0011-IGKFF</td>\n",
              "      <td>78</td>\n",
              "      <td>0</td>\n",
              "      <td>Martinez</td>\n",
              "      <td>94553</td>\n",
              "      <td>38.014457</td>\n",
              "      <td>-122.115432</td>\n",
              "      <td>1</td>\n",
              "      <td>13</td>\n",
              "      <td>Offer D</td>\n",
              "      <td>...</td>\n",
              "      <td>361.66</td>\n",
              "      <td>1599.51</td>\n",
              "      <td>Dissatisfaction</td>\n",
              "      <td>Product dissatisfaction</td>\n",
              "      <td>1</td>\n",
              "      <td>1</td>\n",
              "      <td>1</td>\n",
              "      <td>1</td>\n",
              "      <td>1</td>\n",
              "      <td>0</td>\n",
              "    </tr>\n",
              "    <tr>\n",
              "      <th>4</th>\n",
              "      <td>0013-EXCHZ</td>\n",
              "      <td>75</td>\n",
              "      <td>0</td>\n",
              "      <td>Camarillo</td>\n",
              "      <td>93010</td>\n",
              "      <td>34.227846</td>\n",
              "      <td>-119.079903</td>\n",
              "      <td>3</td>\n",
              "      <td>3</td>\n",
              "      <td>None</td>\n",
              "      <td>...</td>\n",
              "      <td>22.14</td>\n",
              "      <td>289.54</td>\n",
              "      <td>Dissatisfaction</td>\n",
              "      <td>Network reliability</td>\n",
              "      <td>1</td>\n",
              "      <td>0</td>\n",
              "      <td>1</td>\n",
              "      <td>1</td>\n",
              "      <td>1</td>\n",
              "      <td>0</td>\n",
              "    </tr>\n",
              "    <tr>\n",
              "      <th>5</th>\n",
              "      <td>0013-MHZWF</td>\n",
              "      <td>23</td>\n",
              "      <td>3</td>\n",
              "      <td>Midpines</td>\n",
              "      <td>95345</td>\n",
              "      <td>37.581496</td>\n",
              "      <td>-119.972762</td>\n",
              "      <td>0</td>\n",
              "      <td>9</td>\n",
              "      <td>Offer E</td>\n",
              "      <td>...</td>\n",
              "      <td>150.93</td>\n",
              "      <td>722.38</td>\n",
              "      <td>NaN</td>\n",
              "      <td>NaN</td>\n",
              "      <td>0</td>\n",
              "      <td>0</td>\n",
              "      <td>0</td>\n",
              "      <td>1</td>\n",
              "      <td>1</td>\n",
              "      <td>0</td>\n",
              "    </tr>\n",
              "  </tbody>\n",
              "</table>\n",
              "<p>5 rows × 40 columns</p>\n",
              "</div>\n",
              "      <button class=\"colab-df-convert\" onclick=\"convertToInteractive('df-033acba2-f9d1-428b-9520-d8ed6655afff')\"\n",
              "              title=\"Convert this dataframe to an interactive table.\"\n",
              "              style=\"display:none;\">\n",
              "        \n",
              "  <svg xmlns=\"http://www.w3.org/2000/svg\" height=\"24px\"viewBox=\"0 0 24 24\"\n",
              "       width=\"24px\">\n",
              "    <path d=\"M0 0h24v24H0V0z\" fill=\"none\"/>\n",
              "    <path d=\"M18.56 5.44l.94 2.06.94-2.06 2.06-.94-2.06-.94-.94-2.06-.94 2.06-2.06.94zm-11 1L8.5 8.5l.94-2.06 2.06-.94-2.06-.94L8.5 2.5l-.94 2.06-2.06.94zm10 10l.94 2.06.94-2.06 2.06-.94-2.06-.94-.94-2.06-.94 2.06-2.06.94z\"/><path d=\"M17.41 7.96l-1.37-1.37c-.4-.4-.92-.59-1.43-.59-.52 0-1.04.2-1.43.59L10.3 9.45l-7.72 7.72c-.78.78-.78 2.05 0 2.83L4 21.41c.39.39.9.59 1.41.59.51 0 1.02-.2 1.41-.59l7.78-7.78 2.81-2.81c.8-.78.8-2.07 0-2.86zM5.41 20L4 18.59l7.72-7.72 1.47 1.35L5.41 20z\"/>\n",
              "  </svg>\n",
              "      </button>\n",
              "      \n",
              "  <style>\n",
              "    .colab-df-container {\n",
              "      display:flex;\n",
              "      flex-wrap:wrap;\n",
              "      gap: 12px;\n",
              "    }\n",
              "\n",
              "    .colab-df-convert {\n",
              "      background-color: #E8F0FE;\n",
              "      border: none;\n",
              "      border-radius: 50%;\n",
              "      cursor: pointer;\n",
              "      display: none;\n",
              "      fill: #1967D2;\n",
              "      height: 32px;\n",
              "      padding: 0 0 0 0;\n",
              "      width: 32px;\n",
              "    }\n",
              "\n",
              "    .colab-df-convert:hover {\n",
              "      background-color: #E2EBFA;\n",
              "      box-shadow: 0px 1px 2px rgba(60, 64, 67, 0.3), 0px 1px 3px 1px rgba(60, 64, 67, 0.15);\n",
              "      fill: #174EA6;\n",
              "    }\n",
              "\n",
              "    [theme=dark] .colab-df-convert {\n",
              "      background-color: #3B4455;\n",
              "      fill: #D2E3FC;\n",
              "    }\n",
              "\n",
              "    [theme=dark] .colab-df-convert:hover {\n",
              "      background-color: #434B5C;\n",
              "      box-shadow: 0px 1px 3px 1px rgba(0, 0, 0, 0.15);\n",
              "      filter: drop-shadow(0px 1px 2px rgba(0, 0, 0, 0.3));\n",
              "      fill: #FFFFFF;\n",
              "    }\n",
              "  </style>\n",
              "\n",
              "      <script>\n",
              "        const buttonEl =\n",
              "          document.querySelector('#df-033acba2-f9d1-428b-9520-d8ed6655afff button.colab-df-convert');\n",
              "        buttonEl.style.display =\n",
              "          google.colab.kernel.accessAllowed ? 'block' : 'none';\n",
              "\n",
              "        async function convertToInteractive(key) {\n",
              "          const element = document.querySelector('#df-033acba2-f9d1-428b-9520-d8ed6655afff');\n",
              "          const dataTable =\n",
              "            await google.colab.kernel.invokeFunction('convertToInteractive',\n",
              "                                                     [key], {});\n",
              "          if (!dataTable) return;\n",
              "\n",
              "          const docLinkHtml = 'Like what you see? Visit the ' +\n",
              "            '<a target=\"_blank\" href=https://colab.research.google.com/notebooks/data_table.ipynb>data table notebook</a>'\n",
              "            + ' to learn more about interactive tables.';\n",
              "          element.innerHTML = '';\n",
              "          dataTable['output_type'] = 'display_data';\n",
              "          await google.colab.output.renderOutput(dataTable, element);\n",
              "          const docLink = document.createElement('div');\n",
              "          docLink.innerHTML = docLinkHtml;\n",
              "          element.appendChild(docLink);\n",
              "        }\n",
              "      </script>\n",
              "    </div>\n",
              "  </div>\n",
              "  "
            ]
          },
          "metadata": {},
          "execution_count": 205
        }
      ]
    },
    {
      "cell_type": "code",
      "source": [
        "# excluir a coluna No, e deixar apenas a Yes\n",
        "\n",
        "df_5_temp2 = df_5_temp2.drop([\"No\"], axis=1) \n",
        "df_5_temp2 = df_5_temp2.drop([\"Multiple Lines\"], axis=1)"
      ],
      "metadata": {
        "id": "qKFmuJV76CFH"
      },
      "execution_count": null,
      "outputs": []
    },
    {
      "cell_type": "code",
      "source": [
        "# renomear a coluna Yes para Multiple Lines\n",
        "\n",
        "df_6 = df_5_temp2.rename(columns={\"Yes\": \"Multiple Lines\"})"
      ],
      "metadata": {
        "id": "ZmNLGcRl6OCj"
      },
      "execution_count": null,
      "outputs": []
    },
    {
      "cell_type": "code",
      "source": [
        "df_6.head()"
      ],
      "metadata": {
        "id": "PqMC7UHr6YAr",
        "colab": {
          "base_uri": "https://localhost:8080/"
        },
        "outputId": "3b6dc549-09e1-4f18-ae7b-45ab175ac442"
      },
      "execution_count": null,
      "outputs": [
        {
          "output_type": "execute_result",
          "data": {
            "text/plain": [
              "  Customer ID  Age  Number of Dependents          City  Zip Code   Latitude  \\\n",
              "0  0002-ORFBO   37                     0  Frazier Park     93225  34.827662   \n",
              "2  0004-TLHLJ   50                     0    Costa Mesa     92627  33.645672   \n",
              "3  0011-IGKFF   78                     0      Martinez     94553  38.014457   \n",
              "4  0013-EXCHZ   75                     0     Camarillo     93010  34.227846   \n",
              "5  0013-MHZWF   23                     3      Midpines     95345  37.581496   \n",
              "\n",
              "    Longitude  Number of Referrals  Tenure in Months    Offer  ...  \\\n",
              "0 -118.999073                    2                 9     None  ...   \n",
              "2 -117.922613                    0                 4  Offer E  ...   \n",
              "3 -122.115432                    1                13  Offer D  ...   \n",
              "4 -119.079903                    3                 3     None  ...   \n",
              "5 -119.972762                    0                 9  Offer E  ...   \n",
              "\n",
              "   Total Extra Data Charges Total Long Distance Charges Total Revenue  \\\n",
              "0                         0                      381.51        974.81   \n",
              "2                         0                      134.60        415.45   \n",
              "3                         0                      361.66       1599.51   \n",
              "4                         0                       22.14        289.54   \n",
              "5                         0                      150.93        722.38   \n",
              "\n",
              "    Churn Category                   Churn Reason Churned Male Married  \\\n",
              "0              NaN                            NaN       0    0       1   \n",
              "2       Competitor  Competitor had better devices       1    1       0   \n",
              "3  Dissatisfaction        Product dissatisfaction       1    1       1   \n",
              "4  Dissatisfaction            Network reliability       1    0       1   \n",
              "5              NaN                            NaN       0    0       0   \n",
              "\n",
              "  Phone Service Multiple Lines  \n",
              "0             1              0  \n",
              "2             1              0  \n",
              "3             1              0  \n",
              "4             1              0  \n",
              "5             1              0  \n",
              "\n",
              "[5 rows x 38 columns]"
            ],
            "text/html": [
              "\n",
              "  <div id=\"df-ca347893-326c-4e92-aef5-066105065f6a\">\n",
              "    <div class=\"colab-df-container\">\n",
              "      <div>\n",
              "<style scoped>\n",
              "    .dataframe tbody tr th:only-of-type {\n",
              "        vertical-align: middle;\n",
              "    }\n",
              "\n",
              "    .dataframe tbody tr th {\n",
              "        vertical-align: top;\n",
              "    }\n",
              "\n",
              "    .dataframe thead th {\n",
              "        text-align: right;\n",
              "    }\n",
              "</style>\n",
              "<table border=\"1\" class=\"dataframe\">\n",
              "  <thead>\n",
              "    <tr style=\"text-align: right;\">\n",
              "      <th></th>\n",
              "      <th>Customer ID</th>\n",
              "      <th>Age</th>\n",
              "      <th>Number of Dependents</th>\n",
              "      <th>City</th>\n",
              "      <th>Zip Code</th>\n",
              "      <th>Latitude</th>\n",
              "      <th>Longitude</th>\n",
              "      <th>Number of Referrals</th>\n",
              "      <th>Tenure in Months</th>\n",
              "      <th>Offer</th>\n",
              "      <th>...</th>\n",
              "      <th>Total Extra Data Charges</th>\n",
              "      <th>Total Long Distance Charges</th>\n",
              "      <th>Total Revenue</th>\n",
              "      <th>Churn Category</th>\n",
              "      <th>Churn Reason</th>\n",
              "      <th>Churned</th>\n",
              "      <th>Male</th>\n",
              "      <th>Married</th>\n",
              "      <th>Phone Service</th>\n",
              "      <th>Multiple Lines</th>\n",
              "    </tr>\n",
              "  </thead>\n",
              "  <tbody>\n",
              "    <tr>\n",
              "      <th>0</th>\n",
              "      <td>0002-ORFBO</td>\n",
              "      <td>37</td>\n",
              "      <td>0</td>\n",
              "      <td>Frazier Park</td>\n",
              "      <td>93225</td>\n",
              "      <td>34.827662</td>\n",
              "      <td>-118.999073</td>\n",
              "      <td>2</td>\n",
              "      <td>9</td>\n",
              "      <td>None</td>\n",
              "      <td>...</td>\n",
              "      <td>0</td>\n",
              "      <td>381.51</td>\n",
              "      <td>974.81</td>\n",
              "      <td>NaN</td>\n",
              "      <td>NaN</td>\n",
              "      <td>0</td>\n",
              "      <td>0</td>\n",
              "      <td>1</td>\n",
              "      <td>1</td>\n",
              "      <td>0</td>\n",
              "    </tr>\n",
              "    <tr>\n",
              "      <th>2</th>\n",
              "      <td>0004-TLHLJ</td>\n",
              "      <td>50</td>\n",
              "      <td>0</td>\n",
              "      <td>Costa Mesa</td>\n",
              "      <td>92627</td>\n",
              "      <td>33.645672</td>\n",
              "      <td>-117.922613</td>\n",
              "      <td>0</td>\n",
              "      <td>4</td>\n",
              "      <td>Offer E</td>\n",
              "      <td>...</td>\n",
              "      <td>0</td>\n",
              "      <td>134.60</td>\n",
              "      <td>415.45</td>\n",
              "      <td>Competitor</td>\n",
              "      <td>Competitor had better devices</td>\n",
              "      <td>1</td>\n",
              "      <td>1</td>\n",
              "      <td>0</td>\n",
              "      <td>1</td>\n",
              "      <td>0</td>\n",
              "    </tr>\n",
              "    <tr>\n",
              "      <th>3</th>\n",
              "      <td>0011-IGKFF</td>\n",
              "      <td>78</td>\n",
              "      <td>0</td>\n",
              "      <td>Martinez</td>\n",
              "      <td>94553</td>\n",
              "      <td>38.014457</td>\n",
              "      <td>-122.115432</td>\n",
              "      <td>1</td>\n",
              "      <td>13</td>\n",
              "      <td>Offer D</td>\n",
              "      <td>...</td>\n",
              "      <td>0</td>\n",
              "      <td>361.66</td>\n",
              "      <td>1599.51</td>\n",
              "      <td>Dissatisfaction</td>\n",
              "      <td>Product dissatisfaction</td>\n",
              "      <td>1</td>\n",
              "      <td>1</td>\n",
              "      <td>1</td>\n",
              "      <td>1</td>\n",
              "      <td>0</td>\n",
              "    </tr>\n",
              "    <tr>\n",
              "      <th>4</th>\n",
              "      <td>0013-EXCHZ</td>\n",
              "      <td>75</td>\n",
              "      <td>0</td>\n",
              "      <td>Camarillo</td>\n",
              "      <td>93010</td>\n",
              "      <td>34.227846</td>\n",
              "      <td>-119.079903</td>\n",
              "      <td>3</td>\n",
              "      <td>3</td>\n",
              "      <td>None</td>\n",
              "      <td>...</td>\n",
              "      <td>0</td>\n",
              "      <td>22.14</td>\n",
              "      <td>289.54</td>\n",
              "      <td>Dissatisfaction</td>\n",
              "      <td>Network reliability</td>\n",
              "      <td>1</td>\n",
              "      <td>0</td>\n",
              "      <td>1</td>\n",
              "      <td>1</td>\n",
              "      <td>0</td>\n",
              "    </tr>\n",
              "    <tr>\n",
              "      <th>5</th>\n",
              "      <td>0013-MHZWF</td>\n",
              "      <td>23</td>\n",
              "      <td>3</td>\n",
              "      <td>Midpines</td>\n",
              "      <td>95345</td>\n",
              "      <td>37.581496</td>\n",
              "      <td>-119.972762</td>\n",
              "      <td>0</td>\n",
              "      <td>9</td>\n",
              "      <td>Offer E</td>\n",
              "      <td>...</td>\n",
              "      <td>0</td>\n",
              "      <td>150.93</td>\n",
              "      <td>722.38</td>\n",
              "      <td>NaN</td>\n",
              "      <td>NaN</td>\n",
              "      <td>0</td>\n",
              "      <td>0</td>\n",
              "      <td>0</td>\n",
              "      <td>1</td>\n",
              "      <td>0</td>\n",
              "    </tr>\n",
              "  </tbody>\n",
              "</table>\n",
              "<p>5 rows × 38 columns</p>\n",
              "</div>\n",
              "      <button class=\"colab-df-convert\" onclick=\"convertToInteractive('df-ca347893-326c-4e92-aef5-066105065f6a')\"\n",
              "              title=\"Convert this dataframe to an interactive table.\"\n",
              "              style=\"display:none;\">\n",
              "        \n",
              "  <svg xmlns=\"http://www.w3.org/2000/svg\" height=\"24px\"viewBox=\"0 0 24 24\"\n",
              "       width=\"24px\">\n",
              "    <path d=\"M0 0h24v24H0V0z\" fill=\"none\"/>\n",
              "    <path d=\"M18.56 5.44l.94 2.06.94-2.06 2.06-.94-2.06-.94-.94-2.06-.94 2.06-2.06.94zm-11 1L8.5 8.5l.94-2.06 2.06-.94-2.06-.94L8.5 2.5l-.94 2.06-2.06.94zm10 10l.94 2.06.94-2.06 2.06-.94-2.06-.94-.94-2.06-.94 2.06-2.06.94z\"/><path d=\"M17.41 7.96l-1.37-1.37c-.4-.4-.92-.59-1.43-.59-.52 0-1.04.2-1.43.59L10.3 9.45l-7.72 7.72c-.78.78-.78 2.05 0 2.83L4 21.41c.39.39.9.59 1.41.59.51 0 1.02-.2 1.41-.59l7.78-7.78 2.81-2.81c.8-.78.8-2.07 0-2.86zM5.41 20L4 18.59l7.72-7.72 1.47 1.35L5.41 20z\"/>\n",
              "  </svg>\n",
              "      </button>\n",
              "      \n",
              "  <style>\n",
              "    .colab-df-container {\n",
              "      display:flex;\n",
              "      flex-wrap:wrap;\n",
              "      gap: 12px;\n",
              "    }\n",
              "\n",
              "    .colab-df-convert {\n",
              "      background-color: #E8F0FE;\n",
              "      border: none;\n",
              "      border-radius: 50%;\n",
              "      cursor: pointer;\n",
              "      display: none;\n",
              "      fill: #1967D2;\n",
              "      height: 32px;\n",
              "      padding: 0 0 0 0;\n",
              "      width: 32px;\n",
              "    }\n",
              "\n",
              "    .colab-df-convert:hover {\n",
              "      background-color: #E2EBFA;\n",
              "      box-shadow: 0px 1px 2px rgba(60, 64, 67, 0.3), 0px 1px 3px 1px rgba(60, 64, 67, 0.15);\n",
              "      fill: #174EA6;\n",
              "    }\n",
              "\n",
              "    [theme=dark] .colab-df-convert {\n",
              "      background-color: #3B4455;\n",
              "      fill: #D2E3FC;\n",
              "    }\n",
              "\n",
              "    [theme=dark] .colab-df-convert:hover {\n",
              "      background-color: #434B5C;\n",
              "      box-shadow: 0px 1px 3px 1px rgba(0, 0, 0, 0.15);\n",
              "      filter: drop-shadow(0px 1px 2px rgba(0, 0, 0, 0.3));\n",
              "      fill: #FFFFFF;\n",
              "    }\n",
              "  </style>\n",
              "\n",
              "      <script>\n",
              "        const buttonEl =\n",
              "          document.querySelector('#df-ca347893-326c-4e92-aef5-066105065f6a button.colab-df-convert');\n",
              "        buttonEl.style.display =\n",
              "          google.colab.kernel.accessAllowed ? 'block' : 'none';\n",
              "\n",
              "        async function convertToInteractive(key) {\n",
              "          const element = document.querySelector('#df-ca347893-326c-4e92-aef5-066105065f6a');\n",
              "          const dataTable =\n",
              "            await google.colab.kernel.invokeFunction('convertToInteractive',\n",
              "                                                     [key], {});\n",
              "          if (!dataTable) return;\n",
              "\n",
              "          const docLinkHtml = 'Like what you see? Visit the ' +\n",
              "            '<a target=\"_blank\" href=https://colab.research.google.com/notebooks/data_table.ipynb>data table notebook</a>'\n",
              "            + ' to learn more about interactive tables.';\n",
              "          element.innerHTML = '';\n",
              "          dataTable['output_type'] = 'display_data';\n",
              "          await google.colab.output.renderOutput(dataTable, element);\n",
              "          const docLink = document.createElement('div');\n",
              "          docLink.innerHTML = docLinkHtml;\n",
              "          element.appendChild(docLink);\n",
              "        }\n",
              "      </script>\n",
              "    </div>\n",
              "  </div>\n",
              "  "
            ]
          },
          "metadata": {},
          "execution_count": 208
        }
      ]
    },
    {
      "cell_type": "markdown",
      "source": [
        "##### Internet Service"
      ],
      "metadata": {
        "id": "JSn6fxeL63qV"
      }
    },
    {
      "cell_type": "code",
      "source": [
        "df_6['Internet Service'].value_counts()"
      ],
      "metadata": {
        "colab": {
          "base_uri": "https://localhost:8080/"
        },
        "id": "GuaqSxB77C5b",
        "outputId": "de2f640c-576c-43e8-fd69-edc905eb9b1c"
      },
      "execution_count": null,
      "outputs": [
        {
          "output_type": "execute_result",
          "data": {
            "text/plain": [
              "Yes    5155\n",
              "No     1320\n",
              "Name: Internet Service, dtype: int64"
            ]
          },
          "metadata": {},
          "execution_count": 209
        }
      ]
    },
    {
      "cell_type": "code",
      "source": [
        "# alterar os dados categóricos da coluna Phone Service\n",
        "\n",
        "df_6_temp = pd.get_dummies(df_6['Internet Service'])"
      ],
      "metadata": {
        "id": "PBFYMHhC7S1A"
      },
      "execution_count": null,
      "outputs": []
    },
    {
      "cell_type": "code",
      "source": [
        "df_6_temp.head()"
      ],
      "metadata": {
        "colab": {
          "base_uri": "https://localhost:8080/"
        },
        "id": "-JFKVQM17ai4",
        "outputId": "34adc588-1715-438f-dac0-8c256669d42e"
      },
      "execution_count": null,
      "outputs": [
        {
          "output_type": "execute_result",
          "data": {
            "text/plain": [
              "   No  Yes\n",
              "0   0    1\n",
              "2   0    1\n",
              "3   0    1\n",
              "4   0    1\n",
              "5   0    1"
            ],
            "text/html": [
              "\n",
              "  <div id=\"df-d77d060e-7fd6-41db-8407-94afff405d04\">\n",
              "    <div class=\"colab-df-container\">\n",
              "      <div>\n",
              "<style scoped>\n",
              "    .dataframe tbody tr th:only-of-type {\n",
              "        vertical-align: middle;\n",
              "    }\n",
              "\n",
              "    .dataframe tbody tr th {\n",
              "        vertical-align: top;\n",
              "    }\n",
              "\n",
              "    .dataframe thead th {\n",
              "        text-align: right;\n",
              "    }\n",
              "</style>\n",
              "<table border=\"1\" class=\"dataframe\">\n",
              "  <thead>\n",
              "    <tr style=\"text-align: right;\">\n",
              "      <th></th>\n",
              "      <th>No</th>\n",
              "      <th>Yes</th>\n",
              "    </tr>\n",
              "  </thead>\n",
              "  <tbody>\n",
              "    <tr>\n",
              "      <th>0</th>\n",
              "      <td>0</td>\n",
              "      <td>1</td>\n",
              "    </tr>\n",
              "    <tr>\n",
              "      <th>2</th>\n",
              "      <td>0</td>\n",
              "      <td>1</td>\n",
              "    </tr>\n",
              "    <tr>\n",
              "      <th>3</th>\n",
              "      <td>0</td>\n",
              "      <td>1</td>\n",
              "    </tr>\n",
              "    <tr>\n",
              "      <th>4</th>\n",
              "      <td>0</td>\n",
              "      <td>1</td>\n",
              "    </tr>\n",
              "    <tr>\n",
              "      <th>5</th>\n",
              "      <td>0</td>\n",
              "      <td>1</td>\n",
              "    </tr>\n",
              "  </tbody>\n",
              "</table>\n",
              "</div>\n",
              "      <button class=\"colab-df-convert\" onclick=\"convertToInteractive('df-d77d060e-7fd6-41db-8407-94afff405d04')\"\n",
              "              title=\"Convert this dataframe to an interactive table.\"\n",
              "              style=\"display:none;\">\n",
              "        \n",
              "  <svg xmlns=\"http://www.w3.org/2000/svg\" height=\"24px\"viewBox=\"0 0 24 24\"\n",
              "       width=\"24px\">\n",
              "    <path d=\"M0 0h24v24H0V0z\" fill=\"none\"/>\n",
              "    <path d=\"M18.56 5.44l.94 2.06.94-2.06 2.06-.94-2.06-.94-.94-2.06-.94 2.06-2.06.94zm-11 1L8.5 8.5l.94-2.06 2.06-.94-2.06-.94L8.5 2.5l-.94 2.06-2.06.94zm10 10l.94 2.06.94-2.06 2.06-.94-2.06-.94-.94-2.06-.94 2.06-2.06.94z\"/><path d=\"M17.41 7.96l-1.37-1.37c-.4-.4-.92-.59-1.43-.59-.52 0-1.04.2-1.43.59L10.3 9.45l-7.72 7.72c-.78.78-.78 2.05 0 2.83L4 21.41c.39.39.9.59 1.41.59.51 0 1.02-.2 1.41-.59l7.78-7.78 2.81-2.81c.8-.78.8-2.07 0-2.86zM5.41 20L4 18.59l7.72-7.72 1.47 1.35L5.41 20z\"/>\n",
              "  </svg>\n",
              "      </button>\n",
              "      \n",
              "  <style>\n",
              "    .colab-df-container {\n",
              "      display:flex;\n",
              "      flex-wrap:wrap;\n",
              "      gap: 12px;\n",
              "    }\n",
              "\n",
              "    .colab-df-convert {\n",
              "      background-color: #E8F0FE;\n",
              "      border: none;\n",
              "      border-radius: 50%;\n",
              "      cursor: pointer;\n",
              "      display: none;\n",
              "      fill: #1967D2;\n",
              "      height: 32px;\n",
              "      padding: 0 0 0 0;\n",
              "      width: 32px;\n",
              "    }\n",
              "\n",
              "    .colab-df-convert:hover {\n",
              "      background-color: #E2EBFA;\n",
              "      box-shadow: 0px 1px 2px rgba(60, 64, 67, 0.3), 0px 1px 3px 1px rgba(60, 64, 67, 0.15);\n",
              "      fill: #174EA6;\n",
              "    }\n",
              "\n",
              "    [theme=dark] .colab-df-convert {\n",
              "      background-color: #3B4455;\n",
              "      fill: #D2E3FC;\n",
              "    }\n",
              "\n",
              "    [theme=dark] .colab-df-convert:hover {\n",
              "      background-color: #434B5C;\n",
              "      box-shadow: 0px 1px 3px 1px rgba(0, 0, 0, 0.15);\n",
              "      filter: drop-shadow(0px 1px 2px rgba(0, 0, 0, 0.3));\n",
              "      fill: #FFFFFF;\n",
              "    }\n",
              "  </style>\n",
              "\n",
              "      <script>\n",
              "        const buttonEl =\n",
              "          document.querySelector('#df-d77d060e-7fd6-41db-8407-94afff405d04 button.colab-df-convert');\n",
              "        buttonEl.style.display =\n",
              "          google.colab.kernel.accessAllowed ? 'block' : 'none';\n",
              "\n",
              "        async function convertToInteractive(key) {\n",
              "          const element = document.querySelector('#df-d77d060e-7fd6-41db-8407-94afff405d04');\n",
              "          const dataTable =\n",
              "            await google.colab.kernel.invokeFunction('convertToInteractive',\n",
              "                                                     [key], {});\n",
              "          if (!dataTable) return;\n",
              "\n",
              "          const docLinkHtml = 'Like what you see? Visit the ' +\n",
              "            '<a target=\"_blank\" href=https://colab.research.google.com/notebooks/data_table.ipynb>data table notebook</a>'\n",
              "            + ' to learn more about interactive tables.';\n",
              "          element.innerHTML = '';\n",
              "          dataTable['output_type'] = 'display_data';\n",
              "          await google.colab.output.renderOutput(dataTable, element);\n",
              "          const docLink = document.createElement('div');\n",
              "          docLink.innerHTML = docLinkHtml;\n",
              "          element.appendChild(docLink);\n",
              "        }\n",
              "      </script>\n",
              "    </div>\n",
              "  </div>\n",
              "  "
            ]
          },
          "metadata": {},
          "execution_count": 211
        }
      ]
    },
    {
      "cell_type": "code",
      "source": [
        "# juntar as duas tabelas, uma contendo todo o dataset, e a outra contendo os dados categóricos com representação numerica\n",
        "\n",
        "df_6_temp2 = pd.concat((df_6, df_6_temp), axis=1)\n",
        "df_6_temp2.head()"
      ],
      "metadata": {
        "id": "MmYRjWl67eoC",
        "colab": {
          "base_uri": "https://localhost:8080/"
        },
        "outputId": "67be578b-83e8-4f0b-9f2d-63733c82180d"
      },
      "execution_count": null,
      "outputs": [
        {
          "output_type": "execute_result",
          "data": {
            "text/plain": [
              "  Customer ID  Age  Number of Dependents          City  Zip Code   Latitude  \\\n",
              "0  0002-ORFBO   37                     0  Frazier Park     93225  34.827662   \n",
              "2  0004-TLHLJ   50                     0    Costa Mesa     92627  33.645672   \n",
              "3  0011-IGKFF   78                     0      Martinez     94553  38.014457   \n",
              "4  0013-EXCHZ   75                     0     Camarillo     93010  34.227846   \n",
              "5  0013-MHZWF   23                     3      Midpines     95345  37.581496   \n",
              "\n",
              "    Longitude  Number of Referrals  Tenure in Months    Offer  ...  \\\n",
              "0 -118.999073                    2                 9     None  ...   \n",
              "2 -117.922613                    0                 4  Offer E  ...   \n",
              "3 -122.115432                    1                13  Offer D  ...   \n",
              "4 -119.079903                    3                 3     None  ...   \n",
              "5 -119.972762                    0                 9  Offer E  ...   \n",
              "\n",
              "   Total Revenue   Churn Category                   Churn Reason  Churned  \\\n",
              "0         974.81              NaN                            NaN        0   \n",
              "2         415.45       Competitor  Competitor had better devices        1   \n",
              "3        1599.51  Dissatisfaction        Product dissatisfaction        1   \n",
              "4         289.54  Dissatisfaction            Network reliability        1   \n",
              "5         722.38              NaN                            NaN        0   \n",
              "\n",
              "  Male Married Phone Service Multiple Lines No Yes  \n",
              "0    0       1             1              0  0   1  \n",
              "2    1       0             1              0  0   1  \n",
              "3    1       1             1              0  0   1  \n",
              "4    0       1             1              0  0   1  \n",
              "5    0       0             1              0  0   1  \n",
              "\n",
              "[5 rows x 40 columns]"
            ],
            "text/html": [
              "\n",
              "  <div id=\"df-b579135a-0bc6-4cb0-a0c5-72f04ec66f18\">\n",
              "    <div class=\"colab-df-container\">\n",
              "      <div>\n",
              "<style scoped>\n",
              "    .dataframe tbody tr th:only-of-type {\n",
              "        vertical-align: middle;\n",
              "    }\n",
              "\n",
              "    .dataframe tbody tr th {\n",
              "        vertical-align: top;\n",
              "    }\n",
              "\n",
              "    .dataframe thead th {\n",
              "        text-align: right;\n",
              "    }\n",
              "</style>\n",
              "<table border=\"1\" class=\"dataframe\">\n",
              "  <thead>\n",
              "    <tr style=\"text-align: right;\">\n",
              "      <th></th>\n",
              "      <th>Customer ID</th>\n",
              "      <th>Age</th>\n",
              "      <th>Number of Dependents</th>\n",
              "      <th>City</th>\n",
              "      <th>Zip Code</th>\n",
              "      <th>Latitude</th>\n",
              "      <th>Longitude</th>\n",
              "      <th>Number of Referrals</th>\n",
              "      <th>Tenure in Months</th>\n",
              "      <th>Offer</th>\n",
              "      <th>...</th>\n",
              "      <th>Total Revenue</th>\n",
              "      <th>Churn Category</th>\n",
              "      <th>Churn Reason</th>\n",
              "      <th>Churned</th>\n",
              "      <th>Male</th>\n",
              "      <th>Married</th>\n",
              "      <th>Phone Service</th>\n",
              "      <th>Multiple Lines</th>\n",
              "      <th>No</th>\n",
              "      <th>Yes</th>\n",
              "    </tr>\n",
              "  </thead>\n",
              "  <tbody>\n",
              "    <tr>\n",
              "      <th>0</th>\n",
              "      <td>0002-ORFBO</td>\n",
              "      <td>37</td>\n",
              "      <td>0</td>\n",
              "      <td>Frazier Park</td>\n",
              "      <td>93225</td>\n",
              "      <td>34.827662</td>\n",
              "      <td>-118.999073</td>\n",
              "      <td>2</td>\n",
              "      <td>9</td>\n",
              "      <td>None</td>\n",
              "      <td>...</td>\n",
              "      <td>974.81</td>\n",
              "      <td>NaN</td>\n",
              "      <td>NaN</td>\n",
              "      <td>0</td>\n",
              "      <td>0</td>\n",
              "      <td>1</td>\n",
              "      <td>1</td>\n",
              "      <td>0</td>\n",
              "      <td>0</td>\n",
              "      <td>1</td>\n",
              "    </tr>\n",
              "    <tr>\n",
              "      <th>2</th>\n",
              "      <td>0004-TLHLJ</td>\n",
              "      <td>50</td>\n",
              "      <td>0</td>\n",
              "      <td>Costa Mesa</td>\n",
              "      <td>92627</td>\n",
              "      <td>33.645672</td>\n",
              "      <td>-117.922613</td>\n",
              "      <td>0</td>\n",
              "      <td>4</td>\n",
              "      <td>Offer E</td>\n",
              "      <td>...</td>\n",
              "      <td>415.45</td>\n",
              "      <td>Competitor</td>\n",
              "      <td>Competitor had better devices</td>\n",
              "      <td>1</td>\n",
              "      <td>1</td>\n",
              "      <td>0</td>\n",
              "      <td>1</td>\n",
              "      <td>0</td>\n",
              "      <td>0</td>\n",
              "      <td>1</td>\n",
              "    </tr>\n",
              "    <tr>\n",
              "      <th>3</th>\n",
              "      <td>0011-IGKFF</td>\n",
              "      <td>78</td>\n",
              "      <td>0</td>\n",
              "      <td>Martinez</td>\n",
              "      <td>94553</td>\n",
              "      <td>38.014457</td>\n",
              "      <td>-122.115432</td>\n",
              "      <td>1</td>\n",
              "      <td>13</td>\n",
              "      <td>Offer D</td>\n",
              "      <td>...</td>\n",
              "      <td>1599.51</td>\n",
              "      <td>Dissatisfaction</td>\n",
              "      <td>Product dissatisfaction</td>\n",
              "      <td>1</td>\n",
              "      <td>1</td>\n",
              "      <td>1</td>\n",
              "      <td>1</td>\n",
              "      <td>0</td>\n",
              "      <td>0</td>\n",
              "      <td>1</td>\n",
              "    </tr>\n",
              "    <tr>\n",
              "      <th>4</th>\n",
              "      <td>0013-EXCHZ</td>\n",
              "      <td>75</td>\n",
              "      <td>0</td>\n",
              "      <td>Camarillo</td>\n",
              "      <td>93010</td>\n",
              "      <td>34.227846</td>\n",
              "      <td>-119.079903</td>\n",
              "      <td>3</td>\n",
              "      <td>3</td>\n",
              "      <td>None</td>\n",
              "      <td>...</td>\n",
              "      <td>289.54</td>\n",
              "      <td>Dissatisfaction</td>\n",
              "      <td>Network reliability</td>\n",
              "      <td>1</td>\n",
              "      <td>0</td>\n",
              "      <td>1</td>\n",
              "      <td>1</td>\n",
              "      <td>0</td>\n",
              "      <td>0</td>\n",
              "      <td>1</td>\n",
              "    </tr>\n",
              "    <tr>\n",
              "      <th>5</th>\n",
              "      <td>0013-MHZWF</td>\n",
              "      <td>23</td>\n",
              "      <td>3</td>\n",
              "      <td>Midpines</td>\n",
              "      <td>95345</td>\n",
              "      <td>37.581496</td>\n",
              "      <td>-119.972762</td>\n",
              "      <td>0</td>\n",
              "      <td>9</td>\n",
              "      <td>Offer E</td>\n",
              "      <td>...</td>\n",
              "      <td>722.38</td>\n",
              "      <td>NaN</td>\n",
              "      <td>NaN</td>\n",
              "      <td>0</td>\n",
              "      <td>0</td>\n",
              "      <td>0</td>\n",
              "      <td>1</td>\n",
              "      <td>0</td>\n",
              "      <td>0</td>\n",
              "      <td>1</td>\n",
              "    </tr>\n",
              "  </tbody>\n",
              "</table>\n",
              "<p>5 rows × 40 columns</p>\n",
              "</div>\n",
              "      <button class=\"colab-df-convert\" onclick=\"convertToInteractive('df-b579135a-0bc6-4cb0-a0c5-72f04ec66f18')\"\n",
              "              title=\"Convert this dataframe to an interactive table.\"\n",
              "              style=\"display:none;\">\n",
              "        \n",
              "  <svg xmlns=\"http://www.w3.org/2000/svg\" height=\"24px\"viewBox=\"0 0 24 24\"\n",
              "       width=\"24px\">\n",
              "    <path d=\"M0 0h24v24H0V0z\" fill=\"none\"/>\n",
              "    <path d=\"M18.56 5.44l.94 2.06.94-2.06 2.06-.94-2.06-.94-.94-2.06-.94 2.06-2.06.94zm-11 1L8.5 8.5l.94-2.06 2.06-.94-2.06-.94L8.5 2.5l-.94 2.06-2.06.94zm10 10l.94 2.06.94-2.06 2.06-.94-2.06-.94-.94-2.06-.94 2.06-2.06.94z\"/><path d=\"M17.41 7.96l-1.37-1.37c-.4-.4-.92-.59-1.43-.59-.52 0-1.04.2-1.43.59L10.3 9.45l-7.72 7.72c-.78.78-.78 2.05 0 2.83L4 21.41c.39.39.9.59 1.41.59.51 0 1.02-.2 1.41-.59l7.78-7.78 2.81-2.81c.8-.78.8-2.07 0-2.86zM5.41 20L4 18.59l7.72-7.72 1.47 1.35L5.41 20z\"/>\n",
              "  </svg>\n",
              "      </button>\n",
              "      \n",
              "  <style>\n",
              "    .colab-df-container {\n",
              "      display:flex;\n",
              "      flex-wrap:wrap;\n",
              "      gap: 12px;\n",
              "    }\n",
              "\n",
              "    .colab-df-convert {\n",
              "      background-color: #E8F0FE;\n",
              "      border: none;\n",
              "      border-radius: 50%;\n",
              "      cursor: pointer;\n",
              "      display: none;\n",
              "      fill: #1967D2;\n",
              "      height: 32px;\n",
              "      padding: 0 0 0 0;\n",
              "      width: 32px;\n",
              "    }\n",
              "\n",
              "    .colab-df-convert:hover {\n",
              "      background-color: #E2EBFA;\n",
              "      box-shadow: 0px 1px 2px rgba(60, 64, 67, 0.3), 0px 1px 3px 1px rgba(60, 64, 67, 0.15);\n",
              "      fill: #174EA6;\n",
              "    }\n",
              "\n",
              "    [theme=dark] .colab-df-convert {\n",
              "      background-color: #3B4455;\n",
              "      fill: #D2E3FC;\n",
              "    }\n",
              "\n",
              "    [theme=dark] .colab-df-convert:hover {\n",
              "      background-color: #434B5C;\n",
              "      box-shadow: 0px 1px 3px 1px rgba(0, 0, 0, 0.15);\n",
              "      filter: drop-shadow(0px 1px 2px rgba(0, 0, 0, 0.3));\n",
              "      fill: #FFFFFF;\n",
              "    }\n",
              "  </style>\n",
              "\n",
              "      <script>\n",
              "        const buttonEl =\n",
              "          document.querySelector('#df-b579135a-0bc6-4cb0-a0c5-72f04ec66f18 button.colab-df-convert');\n",
              "        buttonEl.style.display =\n",
              "          google.colab.kernel.accessAllowed ? 'block' : 'none';\n",
              "\n",
              "        async function convertToInteractive(key) {\n",
              "          const element = document.querySelector('#df-b579135a-0bc6-4cb0-a0c5-72f04ec66f18');\n",
              "          const dataTable =\n",
              "            await google.colab.kernel.invokeFunction('convertToInteractive',\n",
              "                                                     [key], {});\n",
              "          if (!dataTable) return;\n",
              "\n",
              "          const docLinkHtml = 'Like what you see? Visit the ' +\n",
              "            '<a target=\"_blank\" href=https://colab.research.google.com/notebooks/data_table.ipynb>data table notebook</a>'\n",
              "            + ' to learn more about interactive tables.';\n",
              "          element.innerHTML = '';\n",
              "          dataTable['output_type'] = 'display_data';\n",
              "          await google.colab.output.renderOutput(dataTable, element);\n",
              "          const docLink = document.createElement('div');\n",
              "          docLink.innerHTML = docLinkHtml;\n",
              "          element.appendChild(docLink);\n",
              "        }\n",
              "      </script>\n",
              "    </div>\n",
              "  </div>\n",
              "  "
            ]
          },
          "metadata": {},
          "execution_count": 212
        }
      ]
    },
    {
      "cell_type": "code",
      "source": [
        "# excluir a coluna No, e deixar apenas a Yes\n",
        "\n",
        "df_6_temp2 = df_6_temp2.drop([\"No\"], axis=1) \n",
        "df_6_temp2 = df_6_temp2.drop([\"Internet Service\"], axis=1)"
      ],
      "metadata": {
        "id": "JFr9msPe7rQI"
      },
      "execution_count": null,
      "outputs": []
    },
    {
      "cell_type": "code",
      "source": [
        "# renomear a coluna Yes para Internet Service\n",
        "\n",
        "df_7 = df_6_temp2.rename(columns={\"Yes\": \"Internet Service\"})"
      ],
      "metadata": {
        "id": "Bbr2XALb8I91"
      },
      "execution_count": null,
      "outputs": []
    },
    {
      "cell_type": "code",
      "source": [
        "df_7.head()"
      ],
      "metadata": {
        "id": "6Aoso8FD8Tug",
        "colab": {
          "base_uri": "https://localhost:8080/"
        },
        "outputId": "53b39b01-8d74-45ab-8fd5-b276f6e5cbd0"
      },
      "execution_count": null,
      "outputs": [
        {
          "output_type": "execute_result",
          "data": {
            "text/plain": [
              "  Customer ID  Age  Number of Dependents          City  Zip Code   Latitude  \\\n",
              "0  0002-ORFBO   37                     0  Frazier Park     93225  34.827662   \n",
              "2  0004-TLHLJ   50                     0    Costa Mesa     92627  33.645672   \n",
              "3  0011-IGKFF   78                     0      Martinez     94553  38.014457   \n",
              "4  0013-EXCHZ   75                     0     Camarillo     93010  34.227846   \n",
              "5  0013-MHZWF   23                     3      Midpines     95345  37.581496   \n",
              "\n",
              "    Longitude  Number of Referrals  Tenure in Months    Offer  ...  \\\n",
              "0 -118.999073                    2                 9     None  ...   \n",
              "2 -117.922613                    0                 4  Offer E  ...   \n",
              "3 -122.115432                    1                13  Offer D  ...   \n",
              "4 -119.079903                    3                 3     None  ...   \n",
              "5 -119.972762                    0                 9  Offer E  ...   \n",
              "\n",
              "   Total Long Distance Charges Total Revenue   Churn Category  \\\n",
              "0                       381.51        974.81              NaN   \n",
              "2                       134.60        415.45       Competitor   \n",
              "3                       361.66       1599.51  Dissatisfaction   \n",
              "4                        22.14        289.54  Dissatisfaction   \n",
              "5                       150.93        722.38              NaN   \n",
              "\n",
              "                    Churn Reason Churned Male Married Phone Service  \\\n",
              "0                            NaN       0    0       1             1   \n",
              "2  Competitor had better devices       1    1       0             1   \n",
              "3        Product dissatisfaction       1    1       1             1   \n",
              "4            Network reliability       1    0       1             1   \n",
              "5                            NaN       0    0       0             1   \n",
              "\n",
              "  Multiple Lines Internet Service  \n",
              "0              0                1  \n",
              "2              0                1  \n",
              "3              0                1  \n",
              "4              0                1  \n",
              "5              0                1  \n",
              "\n",
              "[5 rows x 38 columns]"
            ],
            "text/html": [
              "\n",
              "  <div id=\"df-37f7b4e0-83e7-4a04-a622-04280583bf83\">\n",
              "    <div class=\"colab-df-container\">\n",
              "      <div>\n",
              "<style scoped>\n",
              "    .dataframe tbody tr th:only-of-type {\n",
              "        vertical-align: middle;\n",
              "    }\n",
              "\n",
              "    .dataframe tbody tr th {\n",
              "        vertical-align: top;\n",
              "    }\n",
              "\n",
              "    .dataframe thead th {\n",
              "        text-align: right;\n",
              "    }\n",
              "</style>\n",
              "<table border=\"1\" class=\"dataframe\">\n",
              "  <thead>\n",
              "    <tr style=\"text-align: right;\">\n",
              "      <th></th>\n",
              "      <th>Customer ID</th>\n",
              "      <th>Age</th>\n",
              "      <th>Number of Dependents</th>\n",
              "      <th>City</th>\n",
              "      <th>Zip Code</th>\n",
              "      <th>Latitude</th>\n",
              "      <th>Longitude</th>\n",
              "      <th>Number of Referrals</th>\n",
              "      <th>Tenure in Months</th>\n",
              "      <th>Offer</th>\n",
              "      <th>...</th>\n",
              "      <th>Total Long Distance Charges</th>\n",
              "      <th>Total Revenue</th>\n",
              "      <th>Churn Category</th>\n",
              "      <th>Churn Reason</th>\n",
              "      <th>Churned</th>\n",
              "      <th>Male</th>\n",
              "      <th>Married</th>\n",
              "      <th>Phone Service</th>\n",
              "      <th>Multiple Lines</th>\n",
              "      <th>Internet Service</th>\n",
              "    </tr>\n",
              "  </thead>\n",
              "  <tbody>\n",
              "    <tr>\n",
              "      <th>0</th>\n",
              "      <td>0002-ORFBO</td>\n",
              "      <td>37</td>\n",
              "      <td>0</td>\n",
              "      <td>Frazier Park</td>\n",
              "      <td>93225</td>\n",
              "      <td>34.827662</td>\n",
              "      <td>-118.999073</td>\n",
              "      <td>2</td>\n",
              "      <td>9</td>\n",
              "      <td>None</td>\n",
              "      <td>...</td>\n",
              "      <td>381.51</td>\n",
              "      <td>974.81</td>\n",
              "      <td>NaN</td>\n",
              "      <td>NaN</td>\n",
              "      <td>0</td>\n",
              "      <td>0</td>\n",
              "      <td>1</td>\n",
              "      <td>1</td>\n",
              "      <td>0</td>\n",
              "      <td>1</td>\n",
              "    </tr>\n",
              "    <tr>\n",
              "      <th>2</th>\n",
              "      <td>0004-TLHLJ</td>\n",
              "      <td>50</td>\n",
              "      <td>0</td>\n",
              "      <td>Costa Mesa</td>\n",
              "      <td>92627</td>\n",
              "      <td>33.645672</td>\n",
              "      <td>-117.922613</td>\n",
              "      <td>0</td>\n",
              "      <td>4</td>\n",
              "      <td>Offer E</td>\n",
              "      <td>...</td>\n",
              "      <td>134.60</td>\n",
              "      <td>415.45</td>\n",
              "      <td>Competitor</td>\n",
              "      <td>Competitor had better devices</td>\n",
              "      <td>1</td>\n",
              "      <td>1</td>\n",
              "      <td>0</td>\n",
              "      <td>1</td>\n",
              "      <td>0</td>\n",
              "      <td>1</td>\n",
              "    </tr>\n",
              "    <tr>\n",
              "      <th>3</th>\n",
              "      <td>0011-IGKFF</td>\n",
              "      <td>78</td>\n",
              "      <td>0</td>\n",
              "      <td>Martinez</td>\n",
              "      <td>94553</td>\n",
              "      <td>38.014457</td>\n",
              "      <td>-122.115432</td>\n",
              "      <td>1</td>\n",
              "      <td>13</td>\n",
              "      <td>Offer D</td>\n",
              "      <td>...</td>\n",
              "      <td>361.66</td>\n",
              "      <td>1599.51</td>\n",
              "      <td>Dissatisfaction</td>\n",
              "      <td>Product dissatisfaction</td>\n",
              "      <td>1</td>\n",
              "      <td>1</td>\n",
              "      <td>1</td>\n",
              "      <td>1</td>\n",
              "      <td>0</td>\n",
              "      <td>1</td>\n",
              "    </tr>\n",
              "    <tr>\n",
              "      <th>4</th>\n",
              "      <td>0013-EXCHZ</td>\n",
              "      <td>75</td>\n",
              "      <td>0</td>\n",
              "      <td>Camarillo</td>\n",
              "      <td>93010</td>\n",
              "      <td>34.227846</td>\n",
              "      <td>-119.079903</td>\n",
              "      <td>3</td>\n",
              "      <td>3</td>\n",
              "      <td>None</td>\n",
              "      <td>...</td>\n",
              "      <td>22.14</td>\n",
              "      <td>289.54</td>\n",
              "      <td>Dissatisfaction</td>\n",
              "      <td>Network reliability</td>\n",
              "      <td>1</td>\n",
              "      <td>0</td>\n",
              "      <td>1</td>\n",
              "      <td>1</td>\n",
              "      <td>0</td>\n",
              "      <td>1</td>\n",
              "    </tr>\n",
              "    <tr>\n",
              "      <th>5</th>\n",
              "      <td>0013-MHZWF</td>\n",
              "      <td>23</td>\n",
              "      <td>3</td>\n",
              "      <td>Midpines</td>\n",
              "      <td>95345</td>\n",
              "      <td>37.581496</td>\n",
              "      <td>-119.972762</td>\n",
              "      <td>0</td>\n",
              "      <td>9</td>\n",
              "      <td>Offer E</td>\n",
              "      <td>...</td>\n",
              "      <td>150.93</td>\n",
              "      <td>722.38</td>\n",
              "      <td>NaN</td>\n",
              "      <td>NaN</td>\n",
              "      <td>0</td>\n",
              "      <td>0</td>\n",
              "      <td>0</td>\n",
              "      <td>1</td>\n",
              "      <td>0</td>\n",
              "      <td>1</td>\n",
              "    </tr>\n",
              "  </tbody>\n",
              "</table>\n",
              "<p>5 rows × 38 columns</p>\n",
              "</div>\n",
              "      <button class=\"colab-df-convert\" onclick=\"convertToInteractive('df-37f7b4e0-83e7-4a04-a622-04280583bf83')\"\n",
              "              title=\"Convert this dataframe to an interactive table.\"\n",
              "              style=\"display:none;\">\n",
              "        \n",
              "  <svg xmlns=\"http://www.w3.org/2000/svg\" height=\"24px\"viewBox=\"0 0 24 24\"\n",
              "       width=\"24px\">\n",
              "    <path d=\"M0 0h24v24H0V0z\" fill=\"none\"/>\n",
              "    <path d=\"M18.56 5.44l.94 2.06.94-2.06 2.06-.94-2.06-.94-.94-2.06-.94 2.06-2.06.94zm-11 1L8.5 8.5l.94-2.06 2.06-.94-2.06-.94L8.5 2.5l-.94 2.06-2.06.94zm10 10l.94 2.06.94-2.06 2.06-.94-2.06-.94-.94-2.06-.94 2.06-2.06.94z\"/><path d=\"M17.41 7.96l-1.37-1.37c-.4-.4-.92-.59-1.43-.59-.52 0-1.04.2-1.43.59L10.3 9.45l-7.72 7.72c-.78.78-.78 2.05 0 2.83L4 21.41c.39.39.9.59 1.41.59.51 0 1.02-.2 1.41-.59l7.78-7.78 2.81-2.81c.8-.78.8-2.07 0-2.86zM5.41 20L4 18.59l7.72-7.72 1.47 1.35L5.41 20z\"/>\n",
              "  </svg>\n",
              "      </button>\n",
              "      \n",
              "  <style>\n",
              "    .colab-df-container {\n",
              "      display:flex;\n",
              "      flex-wrap:wrap;\n",
              "      gap: 12px;\n",
              "    }\n",
              "\n",
              "    .colab-df-convert {\n",
              "      background-color: #E8F0FE;\n",
              "      border: none;\n",
              "      border-radius: 50%;\n",
              "      cursor: pointer;\n",
              "      display: none;\n",
              "      fill: #1967D2;\n",
              "      height: 32px;\n",
              "      padding: 0 0 0 0;\n",
              "      width: 32px;\n",
              "    }\n",
              "\n",
              "    .colab-df-convert:hover {\n",
              "      background-color: #E2EBFA;\n",
              "      box-shadow: 0px 1px 2px rgba(60, 64, 67, 0.3), 0px 1px 3px 1px rgba(60, 64, 67, 0.15);\n",
              "      fill: #174EA6;\n",
              "    }\n",
              "\n",
              "    [theme=dark] .colab-df-convert {\n",
              "      background-color: #3B4455;\n",
              "      fill: #D2E3FC;\n",
              "    }\n",
              "\n",
              "    [theme=dark] .colab-df-convert:hover {\n",
              "      background-color: #434B5C;\n",
              "      box-shadow: 0px 1px 3px 1px rgba(0, 0, 0, 0.15);\n",
              "      filter: drop-shadow(0px 1px 2px rgba(0, 0, 0, 0.3));\n",
              "      fill: #FFFFFF;\n",
              "    }\n",
              "  </style>\n",
              "\n",
              "      <script>\n",
              "        const buttonEl =\n",
              "          document.querySelector('#df-37f7b4e0-83e7-4a04-a622-04280583bf83 button.colab-df-convert');\n",
              "        buttonEl.style.display =\n",
              "          google.colab.kernel.accessAllowed ? 'block' : 'none';\n",
              "\n",
              "        async function convertToInteractive(key) {\n",
              "          const element = document.querySelector('#df-37f7b4e0-83e7-4a04-a622-04280583bf83');\n",
              "          const dataTable =\n",
              "            await google.colab.kernel.invokeFunction('convertToInteractive',\n",
              "                                                     [key], {});\n",
              "          if (!dataTable) return;\n",
              "\n",
              "          const docLinkHtml = 'Like what you see? Visit the ' +\n",
              "            '<a target=\"_blank\" href=https://colab.research.google.com/notebooks/data_table.ipynb>data table notebook</a>'\n",
              "            + ' to learn more about interactive tables.';\n",
              "          element.innerHTML = '';\n",
              "          dataTable['output_type'] = 'display_data';\n",
              "          await google.colab.output.renderOutput(dataTable, element);\n",
              "          const docLink = document.createElement('div');\n",
              "          docLink.innerHTML = docLinkHtml;\n",
              "          element.appendChild(docLink);\n",
              "        }\n",
              "      </script>\n",
              "    </div>\n",
              "  </div>\n",
              "  "
            ]
          },
          "metadata": {},
          "execution_count": 215
        }
      ]
    },
    {
      "cell_type": "markdown",
      "source": [
        "##### Online Security"
      ],
      "metadata": {
        "id": "g8Iuk6w68ZES"
      }
    },
    {
      "cell_type": "code",
      "source": [
        "df_7['Online Security'].value_counts()"
      ],
      "metadata": {
        "colab": {
          "base_uri": "https://localhost:8080/"
        },
        "id": "Vf9As4Mc8rb2",
        "outputId": "d6d69b2a-254f-4b69-ccfe-37fa85b19e78"
      },
      "execution_count": null,
      "outputs": [
        {
          "output_type": "execute_result",
          "data": {
            "text/plain": [
              "No     3215\n",
              "Yes    1940\n",
              "Name: Online Security, dtype: int64"
            ]
          },
          "metadata": {},
          "execution_count": 216
        }
      ]
    },
    {
      "cell_type": "code",
      "source": [
        "# alterar os dados categóricos da coluna Online Security\n",
        "\n",
        "df_7_temp = pd.get_dummies(df_7['Online Security'])"
      ],
      "metadata": {
        "id": "O4lYWFhq8yxt"
      },
      "execution_count": null,
      "outputs": []
    },
    {
      "cell_type": "code",
      "source": [
        "df_7_temp.head()"
      ],
      "metadata": {
        "colab": {
          "base_uri": "https://localhost:8080/"
        },
        "id": "ynwhny8488tb",
        "outputId": "80812c2b-2656-4b0b-8ff3-d5b9498d8ee3"
      },
      "execution_count": null,
      "outputs": [
        {
          "output_type": "execute_result",
          "data": {
            "text/plain": [
              "   No  Yes\n",
              "0   1    0\n",
              "2   1    0\n",
              "3   1    0\n",
              "4   1    0\n",
              "5   1    0"
            ],
            "text/html": [
              "\n",
              "  <div id=\"df-892c1516-678e-4558-84e1-cb3cb2011318\">\n",
              "    <div class=\"colab-df-container\">\n",
              "      <div>\n",
              "<style scoped>\n",
              "    .dataframe tbody tr th:only-of-type {\n",
              "        vertical-align: middle;\n",
              "    }\n",
              "\n",
              "    .dataframe tbody tr th {\n",
              "        vertical-align: top;\n",
              "    }\n",
              "\n",
              "    .dataframe thead th {\n",
              "        text-align: right;\n",
              "    }\n",
              "</style>\n",
              "<table border=\"1\" class=\"dataframe\">\n",
              "  <thead>\n",
              "    <tr style=\"text-align: right;\">\n",
              "      <th></th>\n",
              "      <th>No</th>\n",
              "      <th>Yes</th>\n",
              "    </tr>\n",
              "  </thead>\n",
              "  <tbody>\n",
              "    <tr>\n",
              "      <th>0</th>\n",
              "      <td>1</td>\n",
              "      <td>0</td>\n",
              "    </tr>\n",
              "    <tr>\n",
              "      <th>2</th>\n",
              "      <td>1</td>\n",
              "      <td>0</td>\n",
              "    </tr>\n",
              "    <tr>\n",
              "      <th>3</th>\n",
              "      <td>1</td>\n",
              "      <td>0</td>\n",
              "    </tr>\n",
              "    <tr>\n",
              "      <th>4</th>\n",
              "      <td>1</td>\n",
              "      <td>0</td>\n",
              "    </tr>\n",
              "    <tr>\n",
              "      <th>5</th>\n",
              "      <td>1</td>\n",
              "      <td>0</td>\n",
              "    </tr>\n",
              "  </tbody>\n",
              "</table>\n",
              "</div>\n",
              "      <button class=\"colab-df-convert\" onclick=\"convertToInteractive('df-892c1516-678e-4558-84e1-cb3cb2011318')\"\n",
              "              title=\"Convert this dataframe to an interactive table.\"\n",
              "              style=\"display:none;\">\n",
              "        \n",
              "  <svg xmlns=\"http://www.w3.org/2000/svg\" height=\"24px\"viewBox=\"0 0 24 24\"\n",
              "       width=\"24px\">\n",
              "    <path d=\"M0 0h24v24H0V0z\" fill=\"none\"/>\n",
              "    <path d=\"M18.56 5.44l.94 2.06.94-2.06 2.06-.94-2.06-.94-.94-2.06-.94 2.06-2.06.94zm-11 1L8.5 8.5l.94-2.06 2.06-.94-2.06-.94L8.5 2.5l-.94 2.06-2.06.94zm10 10l.94 2.06.94-2.06 2.06-.94-2.06-.94-.94-2.06-.94 2.06-2.06.94z\"/><path d=\"M17.41 7.96l-1.37-1.37c-.4-.4-.92-.59-1.43-.59-.52 0-1.04.2-1.43.59L10.3 9.45l-7.72 7.72c-.78.78-.78 2.05 0 2.83L4 21.41c.39.39.9.59 1.41.59.51 0 1.02-.2 1.41-.59l7.78-7.78 2.81-2.81c.8-.78.8-2.07 0-2.86zM5.41 20L4 18.59l7.72-7.72 1.47 1.35L5.41 20z\"/>\n",
              "  </svg>\n",
              "      </button>\n",
              "      \n",
              "  <style>\n",
              "    .colab-df-container {\n",
              "      display:flex;\n",
              "      flex-wrap:wrap;\n",
              "      gap: 12px;\n",
              "    }\n",
              "\n",
              "    .colab-df-convert {\n",
              "      background-color: #E8F0FE;\n",
              "      border: none;\n",
              "      border-radius: 50%;\n",
              "      cursor: pointer;\n",
              "      display: none;\n",
              "      fill: #1967D2;\n",
              "      height: 32px;\n",
              "      padding: 0 0 0 0;\n",
              "      width: 32px;\n",
              "    }\n",
              "\n",
              "    .colab-df-convert:hover {\n",
              "      background-color: #E2EBFA;\n",
              "      box-shadow: 0px 1px 2px rgba(60, 64, 67, 0.3), 0px 1px 3px 1px rgba(60, 64, 67, 0.15);\n",
              "      fill: #174EA6;\n",
              "    }\n",
              "\n",
              "    [theme=dark] .colab-df-convert {\n",
              "      background-color: #3B4455;\n",
              "      fill: #D2E3FC;\n",
              "    }\n",
              "\n",
              "    [theme=dark] .colab-df-convert:hover {\n",
              "      background-color: #434B5C;\n",
              "      box-shadow: 0px 1px 3px 1px rgba(0, 0, 0, 0.15);\n",
              "      filter: drop-shadow(0px 1px 2px rgba(0, 0, 0, 0.3));\n",
              "      fill: #FFFFFF;\n",
              "    }\n",
              "  </style>\n",
              "\n",
              "      <script>\n",
              "        const buttonEl =\n",
              "          document.querySelector('#df-892c1516-678e-4558-84e1-cb3cb2011318 button.colab-df-convert');\n",
              "        buttonEl.style.display =\n",
              "          google.colab.kernel.accessAllowed ? 'block' : 'none';\n",
              "\n",
              "        async function convertToInteractive(key) {\n",
              "          const element = document.querySelector('#df-892c1516-678e-4558-84e1-cb3cb2011318');\n",
              "          const dataTable =\n",
              "            await google.colab.kernel.invokeFunction('convertToInteractive',\n",
              "                                                     [key], {});\n",
              "          if (!dataTable) return;\n",
              "\n",
              "          const docLinkHtml = 'Like what you see? Visit the ' +\n",
              "            '<a target=\"_blank\" href=https://colab.research.google.com/notebooks/data_table.ipynb>data table notebook</a>'\n",
              "            + ' to learn more about interactive tables.';\n",
              "          element.innerHTML = '';\n",
              "          dataTable['output_type'] = 'display_data';\n",
              "          await google.colab.output.renderOutput(dataTable, element);\n",
              "          const docLink = document.createElement('div');\n",
              "          docLink.innerHTML = docLinkHtml;\n",
              "          element.appendChild(docLink);\n",
              "        }\n",
              "      </script>\n",
              "    </div>\n",
              "  </div>\n",
              "  "
            ]
          },
          "metadata": {},
          "execution_count": 218
        }
      ]
    },
    {
      "cell_type": "code",
      "source": [
        "# juntar as duas tabelas, uma contendo todo o dataset, e a outra contendo os dados categóricos com representação numerica\n",
        "\n",
        "df_7_temp2 = pd.concat((df_7, df_7_temp), axis=1)\n",
        "df_7_temp2.head()"
      ],
      "metadata": {
        "id": "0frnmp0W9BDq",
        "colab": {
          "base_uri": "https://localhost:8080/"
        },
        "outputId": "d313265b-ff4d-421e-ac31-b8e2d4bf1448"
      },
      "execution_count": null,
      "outputs": [
        {
          "output_type": "execute_result",
          "data": {
            "text/plain": [
              "  Customer ID  Age  Number of Dependents          City  Zip Code   Latitude  \\\n",
              "0  0002-ORFBO   37                     0  Frazier Park     93225  34.827662   \n",
              "2  0004-TLHLJ   50                     0    Costa Mesa     92627  33.645672   \n",
              "3  0011-IGKFF   78                     0      Martinez     94553  38.014457   \n",
              "4  0013-EXCHZ   75                     0     Camarillo     93010  34.227846   \n",
              "5  0013-MHZWF   23                     3      Midpines     95345  37.581496   \n",
              "\n",
              "    Longitude  Number of Referrals  Tenure in Months    Offer  ...  \\\n",
              "0 -118.999073                    2                 9     None  ...   \n",
              "2 -117.922613                    0                 4  Offer E  ...   \n",
              "3 -122.115432                    1                13  Offer D  ...   \n",
              "4 -119.079903                    3                 3     None  ...   \n",
              "5 -119.972762                    0                 9  Offer E  ...   \n",
              "\n",
              "    Churn Category                   Churn Reason  Churned Male Married  \\\n",
              "0              NaN                            NaN        0    0       1   \n",
              "2       Competitor  Competitor had better devices        1    1       0   \n",
              "3  Dissatisfaction        Product dissatisfaction        1    1       1   \n",
              "4  Dissatisfaction            Network reliability        1    0       1   \n",
              "5              NaN                            NaN        0    0       0   \n",
              "\n",
              "  Phone Service Multiple Lines Internet Service No Yes  \n",
              "0             1              0                1  1   0  \n",
              "2             1              0                1  1   0  \n",
              "3             1              0                1  1   0  \n",
              "4             1              0                1  1   0  \n",
              "5             1              0                1  1   0  \n",
              "\n",
              "[5 rows x 40 columns]"
            ],
            "text/html": [
              "\n",
              "  <div id=\"df-9f1d3510-22bf-4bdf-ad69-6098f2442fa5\">\n",
              "    <div class=\"colab-df-container\">\n",
              "      <div>\n",
              "<style scoped>\n",
              "    .dataframe tbody tr th:only-of-type {\n",
              "        vertical-align: middle;\n",
              "    }\n",
              "\n",
              "    .dataframe tbody tr th {\n",
              "        vertical-align: top;\n",
              "    }\n",
              "\n",
              "    .dataframe thead th {\n",
              "        text-align: right;\n",
              "    }\n",
              "</style>\n",
              "<table border=\"1\" class=\"dataframe\">\n",
              "  <thead>\n",
              "    <tr style=\"text-align: right;\">\n",
              "      <th></th>\n",
              "      <th>Customer ID</th>\n",
              "      <th>Age</th>\n",
              "      <th>Number of Dependents</th>\n",
              "      <th>City</th>\n",
              "      <th>Zip Code</th>\n",
              "      <th>Latitude</th>\n",
              "      <th>Longitude</th>\n",
              "      <th>Number of Referrals</th>\n",
              "      <th>Tenure in Months</th>\n",
              "      <th>Offer</th>\n",
              "      <th>...</th>\n",
              "      <th>Churn Category</th>\n",
              "      <th>Churn Reason</th>\n",
              "      <th>Churned</th>\n",
              "      <th>Male</th>\n",
              "      <th>Married</th>\n",
              "      <th>Phone Service</th>\n",
              "      <th>Multiple Lines</th>\n",
              "      <th>Internet Service</th>\n",
              "      <th>No</th>\n",
              "      <th>Yes</th>\n",
              "    </tr>\n",
              "  </thead>\n",
              "  <tbody>\n",
              "    <tr>\n",
              "      <th>0</th>\n",
              "      <td>0002-ORFBO</td>\n",
              "      <td>37</td>\n",
              "      <td>0</td>\n",
              "      <td>Frazier Park</td>\n",
              "      <td>93225</td>\n",
              "      <td>34.827662</td>\n",
              "      <td>-118.999073</td>\n",
              "      <td>2</td>\n",
              "      <td>9</td>\n",
              "      <td>None</td>\n",
              "      <td>...</td>\n",
              "      <td>NaN</td>\n",
              "      <td>NaN</td>\n",
              "      <td>0</td>\n",
              "      <td>0</td>\n",
              "      <td>1</td>\n",
              "      <td>1</td>\n",
              "      <td>0</td>\n",
              "      <td>1</td>\n",
              "      <td>1</td>\n",
              "      <td>0</td>\n",
              "    </tr>\n",
              "    <tr>\n",
              "      <th>2</th>\n",
              "      <td>0004-TLHLJ</td>\n",
              "      <td>50</td>\n",
              "      <td>0</td>\n",
              "      <td>Costa Mesa</td>\n",
              "      <td>92627</td>\n",
              "      <td>33.645672</td>\n",
              "      <td>-117.922613</td>\n",
              "      <td>0</td>\n",
              "      <td>4</td>\n",
              "      <td>Offer E</td>\n",
              "      <td>...</td>\n",
              "      <td>Competitor</td>\n",
              "      <td>Competitor had better devices</td>\n",
              "      <td>1</td>\n",
              "      <td>1</td>\n",
              "      <td>0</td>\n",
              "      <td>1</td>\n",
              "      <td>0</td>\n",
              "      <td>1</td>\n",
              "      <td>1</td>\n",
              "      <td>0</td>\n",
              "    </tr>\n",
              "    <tr>\n",
              "      <th>3</th>\n",
              "      <td>0011-IGKFF</td>\n",
              "      <td>78</td>\n",
              "      <td>0</td>\n",
              "      <td>Martinez</td>\n",
              "      <td>94553</td>\n",
              "      <td>38.014457</td>\n",
              "      <td>-122.115432</td>\n",
              "      <td>1</td>\n",
              "      <td>13</td>\n",
              "      <td>Offer D</td>\n",
              "      <td>...</td>\n",
              "      <td>Dissatisfaction</td>\n",
              "      <td>Product dissatisfaction</td>\n",
              "      <td>1</td>\n",
              "      <td>1</td>\n",
              "      <td>1</td>\n",
              "      <td>1</td>\n",
              "      <td>0</td>\n",
              "      <td>1</td>\n",
              "      <td>1</td>\n",
              "      <td>0</td>\n",
              "    </tr>\n",
              "    <tr>\n",
              "      <th>4</th>\n",
              "      <td>0013-EXCHZ</td>\n",
              "      <td>75</td>\n",
              "      <td>0</td>\n",
              "      <td>Camarillo</td>\n",
              "      <td>93010</td>\n",
              "      <td>34.227846</td>\n",
              "      <td>-119.079903</td>\n",
              "      <td>3</td>\n",
              "      <td>3</td>\n",
              "      <td>None</td>\n",
              "      <td>...</td>\n",
              "      <td>Dissatisfaction</td>\n",
              "      <td>Network reliability</td>\n",
              "      <td>1</td>\n",
              "      <td>0</td>\n",
              "      <td>1</td>\n",
              "      <td>1</td>\n",
              "      <td>0</td>\n",
              "      <td>1</td>\n",
              "      <td>1</td>\n",
              "      <td>0</td>\n",
              "    </tr>\n",
              "    <tr>\n",
              "      <th>5</th>\n",
              "      <td>0013-MHZWF</td>\n",
              "      <td>23</td>\n",
              "      <td>3</td>\n",
              "      <td>Midpines</td>\n",
              "      <td>95345</td>\n",
              "      <td>37.581496</td>\n",
              "      <td>-119.972762</td>\n",
              "      <td>0</td>\n",
              "      <td>9</td>\n",
              "      <td>Offer E</td>\n",
              "      <td>...</td>\n",
              "      <td>NaN</td>\n",
              "      <td>NaN</td>\n",
              "      <td>0</td>\n",
              "      <td>0</td>\n",
              "      <td>0</td>\n",
              "      <td>1</td>\n",
              "      <td>0</td>\n",
              "      <td>1</td>\n",
              "      <td>1</td>\n",
              "      <td>0</td>\n",
              "    </tr>\n",
              "  </tbody>\n",
              "</table>\n",
              "<p>5 rows × 40 columns</p>\n",
              "</div>\n",
              "      <button class=\"colab-df-convert\" onclick=\"convertToInteractive('df-9f1d3510-22bf-4bdf-ad69-6098f2442fa5')\"\n",
              "              title=\"Convert this dataframe to an interactive table.\"\n",
              "              style=\"display:none;\">\n",
              "        \n",
              "  <svg xmlns=\"http://www.w3.org/2000/svg\" height=\"24px\"viewBox=\"0 0 24 24\"\n",
              "       width=\"24px\">\n",
              "    <path d=\"M0 0h24v24H0V0z\" fill=\"none\"/>\n",
              "    <path d=\"M18.56 5.44l.94 2.06.94-2.06 2.06-.94-2.06-.94-.94-2.06-.94 2.06-2.06.94zm-11 1L8.5 8.5l.94-2.06 2.06-.94-2.06-.94L8.5 2.5l-.94 2.06-2.06.94zm10 10l.94 2.06.94-2.06 2.06-.94-2.06-.94-.94-2.06-.94 2.06-2.06.94z\"/><path d=\"M17.41 7.96l-1.37-1.37c-.4-.4-.92-.59-1.43-.59-.52 0-1.04.2-1.43.59L10.3 9.45l-7.72 7.72c-.78.78-.78 2.05 0 2.83L4 21.41c.39.39.9.59 1.41.59.51 0 1.02-.2 1.41-.59l7.78-7.78 2.81-2.81c.8-.78.8-2.07 0-2.86zM5.41 20L4 18.59l7.72-7.72 1.47 1.35L5.41 20z\"/>\n",
              "  </svg>\n",
              "      </button>\n",
              "      \n",
              "  <style>\n",
              "    .colab-df-container {\n",
              "      display:flex;\n",
              "      flex-wrap:wrap;\n",
              "      gap: 12px;\n",
              "    }\n",
              "\n",
              "    .colab-df-convert {\n",
              "      background-color: #E8F0FE;\n",
              "      border: none;\n",
              "      border-radius: 50%;\n",
              "      cursor: pointer;\n",
              "      display: none;\n",
              "      fill: #1967D2;\n",
              "      height: 32px;\n",
              "      padding: 0 0 0 0;\n",
              "      width: 32px;\n",
              "    }\n",
              "\n",
              "    .colab-df-convert:hover {\n",
              "      background-color: #E2EBFA;\n",
              "      box-shadow: 0px 1px 2px rgba(60, 64, 67, 0.3), 0px 1px 3px 1px rgba(60, 64, 67, 0.15);\n",
              "      fill: #174EA6;\n",
              "    }\n",
              "\n",
              "    [theme=dark] .colab-df-convert {\n",
              "      background-color: #3B4455;\n",
              "      fill: #D2E3FC;\n",
              "    }\n",
              "\n",
              "    [theme=dark] .colab-df-convert:hover {\n",
              "      background-color: #434B5C;\n",
              "      box-shadow: 0px 1px 3px 1px rgba(0, 0, 0, 0.15);\n",
              "      filter: drop-shadow(0px 1px 2px rgba(0, 0, 0, 0.3));\n",
              "      fill: #FFFFFF;\n",
              "    }\n",
              "  </style>\n",
              "\n",
              "      <script>\n",
              "        const buttonEl =\n",
              "          document.querySelector('#df-9f1d3510-22bf-4bdf-ad69-6098f2442fa5 button.colab-df-convert');\n",
              "        buttonEl.style.display =\n",
              "          google.colab.kernel.accessAllowed ? 'block' : 'none';\n",
              "\n",
              "        async function convertToInteractive(key) {\n",
              "          const element = document.querySelector('#df-9f1d3510-22bf-4bdf-ad69-6098f2442fa5');\n",
              "          const dataTable =\n",
              "            await google.colab.kernel.invokeFunction('convertToInteractive',\n",
              "                                                     [key], {});\n",
              "          if (!dataTable) return;\n",
              "\n",
              "          const docLinkHtml = 'Like what you see? Visit the ' +\n",
              "            '<a target=\"_blank\" href=https://colab.research.google.com/notebooks/data_table.ipynb>data table notebook</a>'\n",
              "            + ' to learn more about interactive tables.';\n",
              "          element.innerHTML = '';\n",
              "          dataTable['output_type'] = 'display_data';\n",
              "          await google.colab.output.renderOutput(dataTable, element);\n",
              "          const docLink = document.createElement('div');\n",
              "          docLink.innerHTML = docLinkHtml;\n",
              "          element.appendChild(docLink);\n",
              "        }\n",
              "      </script>\n",
              "    </div>\n",
              "  </div>\n",
              "  "
            ]
          },
          "metadata": {},
          "execution_count": 219
        }
      ]
    },
    {
      "cell_type": "code",
      "source": [
        "# excluir a coluna No, e deixar apenas a Yes\n",
        "\n",
        "df_7_temp2 = df_7_temp2.drop([\"No\"], axis=1) \n",
        "df_7_temp2 = df_7_temp2.drop([\"Online Security\"], axis=1)"
      ],
      "metadata": {
        "id": "VrjhtYkG9J4w"
      },
      "execution_count": null,
      "outputs": []
    },
    {
      "cell_type": "code",
      "source": [
        "# renomear a coluna Yes para Internet Service\n",
        "\n",
        "df_8 = df_7_temp2.rename(columns={\"Yes\": \"Online Security\"})\n",
        "df_8.head()"
      ],
      "metadata": {
        "id": "ufxtja4u9WWb",
        "colab": {
          "base_uri": "https://localhost:8080/"
        },
        "outputId": "3950b7f9-005e-422b-97e4-99d56688d89f"
      },
      "execution_count": null,
      "outputs": [
        {
          "output_type": "execute_result",
          "data": {
            "text/plain": [
              "  Customer ID  Age  Number of Dependents          City  Zip Code   Latitude  \\\n",
              "0  0002-ORFBO   37                     0  Frazier Park     93225  34.827662   \n",
              "2  0004-TLHLJ   50                     0    Costa Mesa     92627  33.645672   \n",
              "3  0011-IGKFF   78                     0      Martinez     94553  38.014457   \n",
              "4  0013-EXCHZ   75                     0     Camarillo     93010  34.227846   \n",
              "5  0013-MHZWF   23                     3      Midpines     95345  37.581496   \n",
              "\n",
              "    Longitude  Number of Referrals  Tenure in Months    Offer  ...  \\\n",
              "0 -118.999073                    2                 9     None  ...   \n",
              "2 -117.922613                    0                 4  Offer E  ...   \n",
              "3 -122.115432                    1                13  Offer D  ...   \n",
              "4 -119.079903                    3                 3     None  ...   \n",
              "5 -119.972762                    0                 9  Offer E  ...   \n",
              "\n",
              "   Total Revenue   Churn Category                   Churn Reason Churned Male  \\\n",
              "0         974.81              NaN                            NaN       0    0   \n",
              "2         415.45       Competitor  Competitor had better devices       1    1   \n",
              "3        1599.51  Dissatisfaction        Product dissatisfaction       1    1   \n",
              "4         289.54  Dissatisfaction            Network reliability       1    0   \n",
              "5         722.38              NaN                            NaN       0    0   \n",
              "\n",
              "  Married Phone Service Multiple Lines Internet Service Online Security  \n",
              "0       1             1              0                1               0  \n",
              "2       0             1              0                1               0  \n",
              "3       1             1              0                1               0  \n",
              "4       1             1              0                1               0  \n",
              "5       0             1              0                1               0  \n",
              "\n",
              "[5 rows x 38 columns]"
            ],
            "text/html": [
              "\n",
              "  <div id=\"df-e04adb65-bbbb-44b5-8d58-b0d88548c4c1\">\n",
              "    <div class=\"colab-df-container\">\n",
              "      <div>\n",
              "<style scoped>\n",
              "    .dataframe tbody tr th:only-of-type {\n",
              "        vertical-align: middle;\n",
              "    }\n",
              "\n",
              "    .dataframe tbody tr th {\n",
              "        vertical-align: top;\n",
              "    }\n",
              "\n",
              "    .dataframe thead th {\n",
              "        text-align: right;\n",
              "    }\n",
              "</style>\n",
              "<table border=\"1\" class=\"dataframe\">\n",
              "  <thead>\n",
              "    <tr style=\"text-align: right;\">\n",
              "      <th></th>\n",
              "      <th>Customer ID</th>\n",
              "      <th>Age</th>\n",
              "      <th>Number of Dependents</th>\n",
              "      <th>City</th>\n",
              "      <th>Zip Code</th>\n",
              "      <th>Latitude</th>\n",
              "      <th>Longitude</th>\n",
              "      <th>Number of Referrals</th>\n",
              "      <th>Tenure in Months</th>\n",
              "      <th>Offer</th>\n",
              "      <th>...</th>\n",
              "      <th>Total Revenue</th>\n",
              "      <th>Churn Category</th>\n",
              "      <th>Churn Reason</th>\n",
              "      <th>Churned</th>\n",
              "      <th>Male</th>\n",
              "      <th>Married</th>\n",
              "      <th>Phone Service</th>\n",
              "      <th>Multiple Lines</th>\n",
              "      <th>Internet Service</th>\n",
              "      <th>Online Security</th>\n",
              "    </tr>\n",
              "  </thead>\n",
              "  <tbody>\n",
              "    <tr>\n",
              "      <th>0</th>\n",
              "      <td>0002-ORFBO</td>\n",
              "      <td>37</td>\n",
              "      <td>0</td>\n",
              "      <td>Frazier Park</td>\n",
              "      <td>93225</td>\n",
              "      <td>34.827662</td>\n",
              "      <td>-118.999073</td>\n",
              "      <td>2</td>\n",
              "      <td>9</td>\n",
              "      <td>None</td>\n",
              "      <td>...</td>\n",
              "      <td>974.81</td>\n",
              "      <td>NaN</td>\n",
              "      <td>NaN</td>\n",
              "      <td>0</td>\n",
              "      <td>0</td>\n",
              "      <td>1</td>\n",
              "      <td>1</td>\n",
              "      <td>0</td>\n",
              "      <td>1</td>\n",
              "      <td>0</td>\n",
              "    </tr>\n",
              "    <tr>\n",
              "      <th>2</th>\n",
              "      <td>0004-TLHLJ</td>\n",
              "      <td>50</td>\n",
              "      <td>0</td>\n",
              "      <td>Costa Mesa</td>\n",
              "      <td>92627</td>\n",
              "      <td>33.645672</td>\n",
              "      <td>-117.922613</td>\n",
              "      <td>0</td>\n",
              "      <td>4</td>\n",
              "      <td>Offer E</td>\n",
              "      <td>...</td>\n",
              "      <td>415.45</td>\n",
              "      <td>Competitor</td>\n",
              "      <td>Competitor had better devices</td>\n",
              "      <td>1</td>\n",
              "      <td>1</td>\n",
              "      <td>0</td>\n",
              "      <td>1</td>\n",
              "      <td>0</td>\n",
              "      <td>1</td>\n",
              "      <td>0</td>\n",
              "    </tr>\n",
              "    <tr>\n",
              "      <th>3</th>\n",
              "      <td>0011-IGKFF</td>\n",
              "      <td>78</td>\n",
              "      <td>0</td>\n",
              "      <td>Martinez</td>\n",
              "      <td>94553</td>\n",
              "      <td>38.014457</td>\n",
              "      <td>-122.115432</td>\n",
              "      <td>1</td>\n",
              "      <td>13</td>\n",
              "      <td>Offer D</td>\n",
              "      <td>...</td>\n",
              "      <td>1599.51</td>\n",
              "      <td>Dissatisfaction</td>\n",
              "      <td>Product dissatisfaction</td>\n",
              "      <td>1</td>\n",
              "      <td>1</td>\n",
              "      <td>1</td>\n",
              "      <td>1</td>\n",
              "      <td>0</td>\n",
              "      <td>1</td>\n",
              "      <td>0</td>\n",
              "    </tr>\n",
              "    <tr>\n",
              "      <th>4</th>\n",
              "      <td>0013-EXCHZ</td>\n",
              "      <td>75</td>\n",
              "      <td>0</td>\n",
              "      <td>Camarillo</td>\n",
              "      <td>93010</td>\n",
              "      <td>34.227846</td>\n",
              "      <td>-119.079903</td>\n",
              "      <td>3</td>\n",
              "      <td>3</td>\n",
              "      <td>None</td>\n",
              "      <td>...</td>\n",
              "      <td>289.54</td>\n",
              "      <td>Dissatisfaction</td>\n",
              "      <td>Network reliability</td>\n",
              "      <td>1</td>\n",
              "      <td>0</td>\n",
              "      <td>1</td>\n",
              "      <td>1</td>\n",
              "      <td>0</td>\n",
              "      <td>1</td>\n",
              "      <td>0</td>\n",
              "    </tr>\n",
              "    <tr>\n",
              "      <th>5</th>\n",
              "      <td>0013-MHZWF</td>\n",
              "      <td>23</td>\n",
              "      <td>3</td>\n",
              "      <td>Midpines</td>\n",
              "      <td>95345</td>\n",
              "      <td>37.581496</td>\n",
              "      <td>-119.972762</td>\n",
              "      <td>0</td>\n",
              "      <td>9</td>\n",
              "      <td>Offer E</td>\n",
              "      <td>...</td>\n",
              "      <td>722.38</td>\n",
              "      <td>NaN</td>\n",
              "      <td>NaN</td>\n",
              "      <td>0</td>\n",
              "      <td>0</td>\n",
              "      <td>0</td>\n",
              "      <td>1</td>\n",
              "      <td>0</td>\n",
              "      <td>1</td>\n",
              "      <td>0</td>\n",
              "    </tr>\n",
              "  </tbody>\n",
              "</table>\n",
              "<p>5 rows × 38 columns</p>\n",
              "</div>\n",
              "      <button class=\"colab-df-convert\" onclick=\"convertToInteractive('df-e04adb65-bbbb-44b5-8d58-b0d88548c4c1')\"\n",
              "              title=\"Convert this dataframe to an interactive table.\"\n",
              "              style=\"display:none;\">\n",
              "        \n",
              "  <svg xmlns=\"http://www.w3.org/2000/svg\" height=\"24px\"viewBox=\"0 0 24 24\"\n",
              "       width=\"24px\">\n",
              "    <path d=\"M0 0h24v24H0V0z\" fill=\"none\"/>\n",
              "    <path d=\"M18.56 5.44l.94 2.06.94-2.06 2.06-.94-2.06-.94-.94-2.06-.94 2.06-2.06.94zm-11 1L8.5 8.5l.94-2.06 2.06-.94-2.06-.94L8.5 2.5l-.94 2.06-2.06.94zm10 10l.94 2.06.94-2.06 2.06-.94-2.06-.94-.94-2.06-.94 2.06-2.06.94z\"/><path d=\"M17.41 7.96l-1.37-1.37c-.4-.4-.92-.59-1.43-.59-.52 0-1.04.2-1.43.59L10.3 9.45l-7.72 7.72c-.78.78-.78 2.05 0 2.83L4 21.41c.39.39.9.59 1.41.59.51 0 1.02-.2 1.41-.59l7.78-7.78 2.81-2.81c.8-.78.8-2.07 0-2.86zM5.41 20L4 18.59l7.72-7.72 1.47 1.35L5.41 20z\"/>\n",
              "  </svg>\n",
              "      </button>\n",
              "      \n",
              "  <style>\n",
              "    .colab-df-container {\n",
              "      display:flex;\n",
              "      flex-wrap:wrap;\n",
              "      gap: 12px;\n",
              "    }\n",
              "\n",
              "    .colab-df-convert {\n",
              "      background-color: #E8F0FE;\n",
              "      border: none;\n",
              "      border-radius: 50%;\n",
              "      cursor: pointer;\n",
              "      display: none;\n",
              "      fill: #1967D2;\n",
              "      height: 32px;\n",
              "      padding: 0 0 0 0;\n",
              "      width: 32px;\n",
              "    }\n",
              "\n",
              "    .colab-df-convert:hover {\n",
              "      background-color: #E2EBFA;\n",
              "      box-shadow: 0px 1px 2px rgba(60, 64, 67, 0.3), 0px 1px 3px 1px rgba(60, 64, 67, 0.15);\n",
              "      fill: #174EA6;\n",
              "    }\n",
              "\n",
              "    [theme=dark] .colab-df-convert {\n",
              "      background-color: #3B4455;\n",
              "      fill: #D2E3FC;\n",
              "    }\n",
              "\n",
              "    [theme=dark] .colab-df-convert:hover {\n",
              "      background-color: #434B5C;\n",
              "      box-shadow: 0px 1px 3px 1px rgba(0, 0, 0, 0.15);\n",
              "      filter: drop-shadow(0px 1px 2px rgba(0, 0, 0, 0.3));\n",
              "      fill: #FFFFFF;\n",
              "    }\n",
              "  </style>\n",
              "\n",
              "      <script>\n",
              "        const buttonEl =\n",
              "          document.querySelector('#df-e04adb65-bbbb-44b5-8d58-b0d88548c4c1 button.colab-df-convert');\n",
              "        buttonEl.style.display =\n",
              "          google.colab.kernel.accessAllowed ? 'block' : 'none';\n",
              "\n",
              "        async function convertToInteractive(key) {\n",
              "          const element = document.querySelector('#df-e04adb65-bbbb-44b5-8d58-b0d88548c4c1');\n",
              "          const dataTable =\n",
              "            await google.colab.kernel.invokeFunction('convertToInteractive',\n",
              "                                                     [key], {});\n",
              "          if (!dataTable) return;\n",
              "\n",
              "          const docLinkHtml = 'Like what you see? Visit the ' +\n",
              "            '<a target=\"_blank\" href=https://colab.research.google.com/notebooks/data_table.ipynb>data table notebook</a>'\n",
              "            + ' to learn more about interactive tables.';\n",
              "          element.innerHTML = '';\n",
              "          dataTable['output_type'] = 'display_data';\n",
              "          await google.colab.output.renderOutput(dataTable, element);\n",
              "          const docLink = document.createElement('div');\n",
              "          docLink.innerHTML = docLinkHtml;\n",
              "          element.appendChild(docLink);\n",
              "        }\n",
              "      </script>\n",
              "    </div>\n",
              "  </div>\n",
              "  "
            ]
          },
          "metadata": {},
          "execution_count": 221
        }
      ]
    },
    {
      "cell_type": "markdown",
      "source": [
        "##### Online Backup"
      ],
      "metadata": {
        "id": "-Owgf7ae9fIP"
      }
    },
    {
      "cell_type": "code",
      "source": [
        "df_8['Online Backup'].value_counts()"
      ],
      "metadata": {
        "colab": {
          "base_uri": "https://localhost:8080/"
        },
        "id": "s4wpfitO9e30",
        "outputId": "d5407a67-379d-4fe9-eba0-54c5d0c2d058"
      },
      "execution_count": null,
      "outputs": [
        {
          "output_type": "execute_result",
          "data": {
            "text/plain": [
              "No     2819\n",
              "Yes    2336\n",
              "Name: Online Backup, dtype: int64"
            ]
          },
          "metadata": {},
          "execution_count": 222
        }
      ]
    },
    {
      "cell_type": "code",
      "source": [
        "# alterar os dados categóricos da coluna Online Security\n",
        "\n",
        "df_8_temp = pd.get_dummies(df_8['Online Backup'])"
      ],
      "metadata": {
        "id": "AKfZj8ka9n94"
      },
      "execution_count": null,
      "outputs": []
    },
    {
      "cell_type": "code",
      "source": [
        "# juntar as duas tabelas, uma contendo todo o dataset, e a outra contendo os dados categóricos com representação numerica\n",
        "\n",
        "df_8_temp2 = pd.concat((df_8, df_8_temp), axis=1)\n",
        "df_8_temp2.head()"
      ],
      "metadata": {
        "id": "SGqEPyZo9tWI",
        "colab": {
          "base_uri": "https://localhost:8080/"
        },
        "outputId": "500a4664-0a09-4609-fee7-5f4a8abc0473"
      },
      "execution_count": null,
      "outputs": [
        {
          "output_type": "execute_result",
          "data": {
            "text/plain": [
              "  Customer ID  Age  Number of Dependents          City  Zip Code   Latitude  \\\n",
              "0  0002-ORFBO   37                     0  Frazier Park     93225  34.827662   \n",
              "2  0004-TLHLJ   50                     0    Costa Mesa     92627  33.645672   \n",
              "3  0011-IGKFF   78                     0      Martinez     94553  38.014457   \n",
              "4  0013-EXCHZ   75                     0     Camarillo     93010  34.227846   \n",
              "5  0013-MHZWF   23                     3      Midpines     95345  37.581496   \n",
              "\n",
              "    Longitude  Number of Referrals  Tenure in Months    Offer  ...  \\\n",
              "0 -118.999073                    2                 9     None  ...   \n",
              "2 -117.922613                    0                 4  Offer E  ...   \n",
              "3 -122.115432                    1                13  Offer D  ...   \n",
              "4 -119.079903                    3                 3     None  ...   \n",
              "5 -119.972762                    0                 9  Offer E  ...   \n",
              "\n",
              "                    Churn Reason Churned  Male Married Phone Service  \\\n",
              "0                            NaN       0     0       1             1   \n",
              "2  Competitor had better devices       1     1       0             1   \n",
              "3        Product dissatisfaction       1     1       1             1   \n",
              "4            Network reliability       1     0       1             1   \n",
              "5                            NaN       0     0       0             1   \n",
              "\n",
              "  Multiple Lines Internet Service Online Security No Yes  \n",
              "0              0                1               0  0   1  \n",
              "2              0                1               0  1   0  \n",
              "3              0                1               0  0   1  \n",
              "4              0                1               0  1   0  \n",
              "5              0                1               0  1   0  \n",
              "\n",
              "[5 rows x 40 columns]"
            ],
            "text/html": [
              "\n",
              "  <div id=\"df-a44e6b05-5af0-4a2d-ae03-801d45c95f53\">\n",
              "    <div class=\"colab-df-container\">\n",
              "      <div>\n",
              "<style scoped>\n",
              "    .dataframe tbody tr th:only-of-type {\n",
              "        vertical-align: middle;\n",
              "    }\n",
              "\n",
              "    .dataframe tbody tr th {\n",
              "        vertical-align: top;\n",
              "    }\n",
              "\n",
              "    .dataframe thead th {\n",
              "        text-align: right;\n",
              "    }\n",
              "</style>\n",
              "<table border=\"1\" class=\"dataframe\">\n",
              "  <thead>\n",
              "    <tr style=\"text-align: right;\">\n",
              "      <th></th>\n",
              "      <th>Customer ID</th>\n",
              "      <th>Age</th>\n",
              "      <th>Number of Dependents</th>\n",
              "      <th>City</th>\n",
              "      <th>Zip Code</th>\n",
              "      <th>Latitude</th>\n",
              "      <th>Longitude</th>\n",
              "      <th>Number of Referrals</th>\n",
              "      <th>Tenure in Months</th>\n",
              "      <th>Offer</th>\n",
              "      <th>...</th>\n",
              "      <th>Churn Reason</th>\n",
              "      <th>Churned</th>\n",
              "      <th>Male</th>\n",
              "      <th>Married</th>\n",
              "      <th>Phone Service</th>\n",
              "      <th>Multiple Lines</th>\n",
              "      <th>Internet Service</th>\n",
              "      <th>Online Security</th>\n",
              "      <th>No</th>\n",
              "      <th>Yes</th>\n",
              "    </tr>\n",
              "  </thead>\n",
              "  <tbody>\n",
              "    <tr>\n",
              "      <th>0</th>\n",
              "      <td>0002-ORFBO</td>\n",
              "      <td>37</td>\n",
              "      <td>0</td>\n",
              "      <td>Frazier Park</td>\n",
              "      <td>93225</td>\n",
              "      <td>34.827662</td>\n",
              "      <td>-118.999073</td>\n",
              "      <td>2</td>\n",
              "      <td>9</td>\n",
              "      <td>None</td>\n",
              "      <td>...</td>\n",
              "      <td>NaN</td>\n",
              "      <td>0</td>\n",
              "      <td>0</td>\n",
              "      <td>1</td>\n",
              "      <td>1</td>\n",
              "      <td>0</td>\n",
              "      <td>1</td>\n",
              "      <td>0</td>\n",
              "      <td>0</td>\n",
              "      <td>1</td>\n",
              "    </tr>\n",
              "    <tr>\n",
              "      <th>2</th>\n",
              "      <td>0004-TLHLJ</td>\n",
              "      <td>50</td>\n",
              "      <td>0</td>\n",
              "      <td>Costa Mesa</td>\n",
              "      <td>92627</td>\n",
              "      <td>33.645672</td>\n",
              "      <td>-117.922613</td>\n",
              "      <td>0</td>\n",
              "      <td>4</td>\n",
              "      <td>Offer E</td>\n",
              "      <td>...</td>\n",
              "      <td>Competitor had better devices</td>\n",
              "      <td>1</td>\n",
              "      <td>1</td>\n",
              "      <td>0</td>\n",
              "      <td>1</td>\n",
              "      <td>0</td>\n",
              "      <td>1</td>\n",
              "      <td>0</td>\n",
              "      <td>1</td>\n",
              "      <td>0</td>\n",
              "    </tr>\n",
              "    <tr>\n",
              "      <th>3</th>\n",
              "      <td>0011-IGKFF</td>\n",
              "      <td>78</td>\n",
              "      <td>0</td>\n",
              "      <td>Martinez</td>\n",
              "      <td>94553</td>\n",
              "      <td>38.014457</td>\n",
              "      <td>-122.115432</td>\n",
              "      <td>1</td>\n",
              "      <td>13</td>\n",
              "      <td>Offer D</td>\n",
              "      <td>...</td>\n",
              "      <td>Product dissatisfaction</td>\n",
              "      <td>1</td>\n",
              "      <td>1</td>\n",
              "      <td>1</td>\n",
              "      <td>1</td>\n",
              "      <td>0</td>\n",
              "      <td>1</td>\n",
              "      <td>0</td>\n",
              "      <td>0</td>\n",
              "      <td>1</td>\n",
              "    </tr>\n",
              "    <tr>\n",
              "      <th>4</th>\n",
              "      <td>0013-EXCHZ</td>\n",
              "      <td>75</td>\n",
              "      <td>0</td>\n",
              "      <td>Camarillo</td>\n",
              "      <td>93010</td>\n",
              "      <td>34.227846</td>\n",
              "      <td>-119.079903</td>\n",
              "      <td>3</td>\n",
              "      <td>3</td>\n",
              "      <td>None</td>\n",
              "      <td>...</td>\n",
              "      <td>Network reliability</td>\n",
              "      <td>1</td>\n",
              "      <td>0</td>\n",
              "      <td>1</td>\n",
              "      <td>1</td>\n",
              "      <td>0</td>\n",
              "      <td>1</td>\n",
              "      <td>0</td>\n",
              "      <td>1</td>\n",
              "      <td>0</td>\n",
              "    </tr>\n",
              "    <tr>\n",
              "      <th>5</th>\n",
              "      <td>0013-MHZWF</td>\n",
              "      <td>23</td>\n",
              "      <td>3</td>\n",
              "      <td>Midpines</td>\n",
              "      <td>95345</td>\n",
              "      <td>37.581496</td>\n",
              "      <td>-119.972762</td>\n",
              "      <td>0</td>\n",
              "      <td>9</td>\n",
              "      <td>Offer E</td>\n",
              "      <td>...</td>\n",
              "      <td>NaN</td>\n",
              "      <td>0</td>\n",
              "      <td>0</td>\n",
              "      <td>0</td>\n",
              "      <td>1</td>\n",
              "      <td>0</td>\n",
              "      <td>1</td>\n",
              "      <td>0</td>\n",
              "      <td>1</td>\n",
              "      <td>0</td>\n",
              "    </tr>\n",
              "  </tbody>\n",
              "</table>\n",
              "<p>5 rows × 40 columns</p>\n",
              "</div>\n",
              "      <button class=\"colab-df-convert\" onclick=\"convertToInteractive('df-a44e6b05-5af0-4a2d-ae03-801d45c95f53')\"\n",
              "              title=\"Convert this dataframe to an interactive table.\"\n",
              "              style=\"display:none;\">\n",
              "        \n",
              "  <svg xmlns=\"http://www.w3.org/2000/svg\" height=\"24px\"viewBox=\"0 0 24 24\"\n",
              "       width=\"24px\">\n",
              "    <path d=\"M0 0h24v24H0V0z\" fill=\"none\"/>\n",
              "    <path d=\"M18.56 5.44l.94 2.06.94-2.06 2.06-.94-2.06-.94-.94-2.06-.94 2.06-2.06.94zm-11 1L8.5 8.5l.94-2.06 2.06-.94-2.06-.94L8.5 2.5l-.94 2.06-2.06.94zm10 10l.94 2.06.94-2.06 2.06-.94-2.06-.94-.94-2.06-.94 2.06-2.06.94z\"/><path d=\"M17.41 7.96l-1.37-1.37c-.4-.4-.92-.59-1.43-.59-.52 0-1.04.2-1.43.59L10.3 9.45l-7.72 7.72c-.78.78-.78 2.05 0 2.83L4 21.41c.39.39.9.59 1.41.59.51 0 1.02-.2 1.41-.59l7.78-7.78 2.81-2.81c.8-.78.8-2.07 0-2.86zM5.41 20L4 18.59l7.72-7.72 1.47 1.35L5.41 20z\"/>\n",
              "  </svg>\n",
              "      </button>\n",
              "      \n",
              "  <style>\n",
              "    .colab-df-container {\n",
              "      display:flex;\n",
              "      flex-wrap:wrap;\n",
              "      gap: 12px;\n",
              "    }\n",
              "\n",
              "    .colab-df-convert {\n",
              "      background-color: #E8F0FE;\n",
              "      border: none;\n",
              "      border-radius: 50%;\n",
              "      cursor: pointer;\n",
              "      display: none;\n",
              "      fill: #1967D2;\n",
              "      height: 32px;\n",
              "      padding: 0 0 0 0;\n",
              "      width: 32px;\n",
              "    }\n",
              "\n",
              "    .colab-df-convert:hover {\n",
              "      background-color: #E2EBFA;\n",
              "      box-shadow: 0px 1px 2px rgba(60, 64, 67, 0.3), 0px 1px 3px 1px rgba(60, 64, 67, 0.15);\n",
              "      fill: #174EA6;\n",
              "    }\n",
              "\n",
              "    [theme=dark] .colab-df-convert {\n",
              "      background-color: #3B4455;\n",
              "      fill: #D2E3FC;\n",
              "    }\n",
              "\n",
              "    [theme=dark] .colab-df-convert:hover {\n",
              "      background-color: #434B5C;\n",
              "      box-shadow: 0px 1px 3px 1px rgba(0, 0, 0, 0.15);\n",
              "      filter: drop-shadow(0px 1px 2px rgba(0, 0, 0, 0.3));\n",
              "      fill: #FFFFFF;\n",
              "    }\n",
              "  </style>\n",
              "\n",
              "      <script>\n",
              "        const buttonEl =\n",
              "          document.querySelector('#df-a44e6b05-5af0-4a2d-ae03-801d45c95f53 button.colab-df-convert');\n",
              "        buttonEl.style.display =\n",
              "          google.colab.kernel.accessAllowed ? 'block' : 'none';\n",
              "\n",
              "        async function convertToInteractive(key) {\n",
              "          const element = document.querySelector('#df-a44e6b05-5af0-4a2d-ae03-801d45c95f53');\n",
              "          const dataTable =\n",
              "            await google.colab.kernel.invokeFunction('convertToInteractive',\n",
              "                                                     [key], {});\n",
              "          if (!dataTable) return;\n",
              "\n",
              "          const docLinkHtml = 'Like what you see? Visit the ' +\n",
              "            '<a target=\"_blank\" href=https://colab.research.google.com/notebooks/data_table.ipynb>data table notebook</a>'\n",
              "            + ' to learn more about interactive tables.';\n",
              "          element.innerHTML = '';\n",
              "          dataTable['output_type'] = 'display_data';\n",
              "          await google.colab.output.renderOutput(dataTable, element);\n",
              "          const docLink = document.createElement('div');\n",
              "          docLink.innerHTML = docLinkHtml;\n",
              "          element.appendChild(docLink);\n",
              "        }\n",
              "      </script>\n",
              "    </div>\n",
              "  </div>\n",
              "  "
            ]
          },
          "metadata": {},
          "execution_count": 224
        }
      ]
    },
    {
      "cell_type": "code",
      "source": [
        "# excluir a coluna No, e deixar apenas a Yes\n",
        "\n",
        "df_8_temp2 = df_8_temp2.drop([\"No\"], axis=1) \n",
        "df_8_temp2 = df_8_temp2.drop([\"Online Backup\"], axis=1)"
      ],
      "metadata": {
        "id": "mLZmBrgy93hR"
      },
      "execution_count": null,
      "outputs": []
    },
    {
      "cell_type": "code",
      "source": [
        "# renomear a coluna Yes para Online Backup\n",
        "\n",
        "df_9 = df_8_temp2.rename(columns={\"Yes\": \"Online Backup\"})\n",
        "df_9.head()"
      ],
      "metadata": {
        "id": "8RclGmCj93zR",
        "colab": {
          "base_uri": "https://localhost:8080/"
        },
        "outputId": "51b0e580-1576-415d-8f28-514da67b035c"
      },
      "execution_count": null,
      "outputs": [
        {
          "output_type": "execute_result",
          "data": {
            "text/plain": [
              "  Customer ID  Age  Number of Dependents          City  Zip Code   Latitude  \\\n",
              "0  0002-ORFBO   37                     0  Frazier Park     93225  34.827662   \n",
              "2  0004-TLHLJ   50                     0    Costa Mesa     92627  33.645672   \n",
              "3  0011-IGKFF   78                     0      Martinez     94553  38.014457   \n",
              "4  0013-EXCHZ   75                     0     Camarillo     93010  34.227846   \n",
              "5  0013-MHZWF   23                     3      Midpines     95345  37.581496   \n",
              "\n",
              "    Longitude  Number of Referrals  Tenure in Months    Offer  ...  \\\n",
              "0 -118.999073                    2                 9     None  ...   \n",
              "2 -117.922613                    0                 4  Offer E  ...   \n",
              "3 -122.115432                    1                13  Offer D  ...   \n",
              "4 -119.079903                    3                 3     None  ...   \n",
              "5 -119.972762                    0                 9  Offer E  ...   \n",
              "\n",
              "    Churn Category                   Churn Reason  Churned Male Married  \\\n",
              "0              NaN                            NaN        0    0       1   \n",
              "2       Competitor  Competitor had better devices        1    1       0   \n",
              "3  Dissatisfaction        Product dissatisfaction        1    1       1   \n",
              "4  Dissatisfaction            Network reliability        1    0       1   \n",
              "5              NaN                            NaN        0    0       0   \n",
              "\n",
              "  Phone Service Multiple Lines Internet Service Online Security Online Backup  \n",
              "0             1              0                1               0             1  \n",
              "2             1              0                1               0             0  \n",
              "3             1              0                1               0             1  \n",
              "4             1              0                1               0             0  \n",
              "5             1              0                1               0             0  \n",
              "\n",
              "[5 rows x 38 columns]"
            ],
            "text/html": [
              "\n",
              "  <div id=\"df-e6a0c081-dcd0-4665-9366-011e50f67f4c\">\n",
              "    <div class=\"colab-df-container\">\n",
              "      <div>\n",
              "<style scoped>\n",
              "    .dataframe tbody tr th:only-of-type {\n",
              "        vertical-align: middle;\n",
              "    }\n",
              "\n",
              "    .dataframe tbody tr th {\n",
              "        vertical-align: top;\n",
              "    }\n",
              "\n",
              "    .dataframe thead th {\n",
              "        text-align: right;\n",
              "    }\n",
              "</style>\n",
              "<table border=\"1\" class=\"dataframe\">\n",
              "  <thead>\n",
              "    <tr style=\"text-align: right;\">\n",
              "      <th></th>\n",
              "      <th>Customer ID</th>\n",
              "      <th>Age</th>\n",
              "      <th>Number of Dependents</th>\n",
              "      <th>City</th>\n",
              "      <th>Zip Code</th>\n",
              "      <th>Latitude</th>\n",
              "      <th>Longitude</th>\n",
              "      <th>Number of Referrals</th>\n",
              "      <th>Tenure in Months</th>\n",
              "      <th>Offer</th>\n",
              "      <th>...</th>\n",
              "      <th>Churn Category</th>\n",
              "      <th>Churn Reason</th>\n",
              "      <th>Churned</th>\n",
              "      <th>Male</th>\n",
              "      <th>Married</th>\n",
              "      <th>Phone Service</th>\n",
              "      <th>Multiple Lines</th>\n",
              "      <th>Internet Service</th>\n",
              "      <th>Online Security</th>\n",
              "      <th>Online Backup</th>\n",
              "    </tr>\n",
              "  </thead>\n",
              "  <tbody>\n",
              "    <tr>\n",
              "      <th>0</th>\n",
              "      <td>0002-ORFBO</td>\n",
              "      <td>37</td>\n",
              "      <td>0</td>\n",
              "      <td>Frazier Park</td>\n",
              "      <td>93225</td>\n",
              "      <td>34.827662</td>\n",
              "      <td>-118.999073</td>\n",
              "      <td>2</td>\n",
              "      <td>9</td>\n",
              "      <td>None</td>\n",
              "      <td>...</td>\n",
              "      <td>NaN</td>\n",
              "      <td>NaN</td>\n",
              "      <td>0</td>\n",
              "      <td>0</td>\n",
              "      <td>1</td>\n",
              "      <td>1</td>\n",
              "      <td>0</td>\n",
              "      <td>1</td>\n",
              "      <td>0</td>\n",
              "      <td>1</td>\n",
              "    </tr>\n",
              "    <tr>\n",
              "      <th>2</th>\n",
              "      <td>0004-TLHLJ</td>\n",
              "      <td>50</td>\n",
              "      <td>0</td>\n",
              "      <td>Costa Mesa</td>\n",
              "      <td>92627</td>\n",
              "      <td>33.645672</td>\n",
              "      <td>-117.922613</td>\n",
              "      <td>0</td>\n",
              "      <td>4</td>\n",
              "      <td>Offer E</td>\n",
              "      <td>...</td>\n",
              "      <td>Competitor</td>\n",
              "      <td>Competitor had better devices</td>\n",
              "      <td>1</td>\n",
              "      <td>1</td>\n",
              "      <td>0</td>\n",
              "      <td>1</td>\n",
              "      <td>0</td>\n",
              "      <td>1</td>\n",
              "      <td>0</td>\n",
              "      <td>0</td>\n",
              "    </tr>\n",
              "    <tr>\n",
              "      <th>3</th>\n",
              "      <td>0011-IGKFF</td>\n",
              "      <td>78</td>\n",
              "      <td>0</td>\n",
              "      <td>Martinez</td>\n",
              "      <td>94553</td>\n",
              "      <td>38.014457</td>\n",
              "      <td>-122.115432</td>\n",
              "      <td>1</td>\n",
              "      <td>13</td>\n",
              "      <td>Offer D</td>\n",
              "      <td>...</td>\n",
              "      <td>Dissatisfaction</td>\n",
              "      <td>Product dissatisfaction</td>\n",
              "      <td>1</td>\n",
              "      <td>1</td>\n",
              "      <td>1</td>\n",
              "      <td>1</td>\n",
              "      <td>0</td>\n",
              "      <td>1</td>\n",
              "      <td>0</td>\n",
              "      <td>1</td>\n",
              "    </tr>\n",
              "    <tr>\n",
              "      <th>4</th>\n",
              "      <td>0013-EXCHZ</td>\n",
              "      <td>75</td>\n",
              "      <td>0</td>\n",
              "      <td>Camarillo</td>\n",
              "      <td>93010</td>\n",
              "      <td>34.227846</td>\n",
              "      <td>-119.079903</td>\n",
              "      <td>3</td>\n",
              "      <td>3</td>\n",
              "      <td>None</td>\n",
              "      <td>...</td>\n",
              "      <td>Dissatisfaction</td>\n",
              "      <td>Network reliability</td>\n",
              "      <td>1</td>\n",
              "      <td>0</td>\n",
              "      <td>1</td>\n",
              "      <td>1</td>\n",
              "      <td>0</td>\n",
              "      <td>1</td>\n",
              "      <td>0</td>\n",
              "      <td>0</td>\n",
              "    </tr>\n",
              "    <tr>\n",
              "      <th>5</th>\n",
              "      <td>0013-MHZWF</td>\n",
              "      <td>23</td>\n",
              "      <td>3</td>\n",
              "      <td>Midpines</td>\n",
              "      <td>95345</td>\n",
              "      <td>37.581496</td>\n",
              "      <td>-119.972762</td>\n",
              "      <td>0</td>\n",
              "      <td>9</td>\n",
              "      <td>Offer E</td>\n",
              "      <td>...</td>\n",
              "      <td>NaN</td>\n",
              "      <td>NaN</td>\n",
              "      <td>0</td>\n",
              "      <td>0</td>\n",
              "      <td>0</td>\n",
              "      <td>1</td>\n",
              "      <td>0</td>\n",
              "      <td>1</td>\n",
              "      <td>0</td>\n",
              "      <td>0</td>\n",
              "    </tr>\n",
              "  </tbody>\n",
              "</table>\n",
              "<p>5 rows × 38 columns</p>\n",
              "</div>\n",
              "      <button class=\"colab-df-convert\" onclick=\"convertToInteractive('df-e6a0c081-dcd0-4665-9366-011e50f67f4c')\"\n",
              "              title=\"Convert this dataframe to an interactive table.\"\n",
              "              style=\"display:none;\">\n",
              "        \n",
              "  <svg xmlns=\"http://www.w3.org/2000/svg\" height=\"24px\"viewBox=\"0 0 24 24\"\n",
              "       width=\"24px\">\n",
              "    <path d=\"M0 0h24v24H0V0z\" fill=\"none\"/>\n",
              "    <path d=\"M18.56 5.44l.94 2.06.94-2.06 2.06-.94-2.06-.94-.94-2.06-.94 2.06-2.06.94zm-11 1L8.5 8.5l.94-2.06 2.06-.94-2.06-.94L8.5 2.5l-.94 2.06-2.06.94zm10 10l.94 2.06.94-2.06 2.06-.94-2.06-.94-.94-2.06-.94 2.06-2.06.94z\"/><path d=\"M17.41 7.96l-1.37-1.37c-.4-.4-.92-.59-1.43-.59-.52 0-1.04.2-1.43.59L10.3 9.45l-7.72 7.72c-.78.78-.78 2.05 0 2.83L4 21.41c.39.39.9.59 1.41.59.51 0 1.02-.2 1.41-.59l7.78-7.78 2.81-2.81c.8-.78.8-2.07 0-2.86zM5.41 20L4 18.59l7.72-7.72 1.47 1.35L5.41 20z\"/>\n",
              "  </svg>\n",
              "      </button>\n",
              "      \n",
              "  <style>\n",
              "    .colab-df-container {\n",
              "      display:flex;\n",
              "      flex-wrap:wrap;\n",
              "      gap: 12px;\n",
              "    }\n",
              "\n",
              "    .colab-df-convert {\n",
              "      background-color: #E8F0FE;\n",
              "      border: none;\n",
              "      border-radius: 50%;\n",
              "      cursor: pointer;\n",
              "      display: none;\n",
              "      fill: #1967D2;\n",
              "      height: 32px;\n",
              "      padding: 0 0 0 0;\n",
              "      width: 32px;\n",
              "    }\n",
              "\n",
              "    .colab-df-convert:hover {\n",
              "      background-color: #E2EBFA;\n",
              "      box-shadow: 0px 1px 2px rgba(60, 64, 67, 0.3), 0px 1px 3px 1px rgba(60, 64, 67, 0.15);\n",
              "      fill: #174EA6;\n",
              "    }\n",
              "\n",
              "    [theme=dark] .colab-df-convert {\n",
              "      background-color: #3B4455;\n",
              "      fill: #D2E3FC;\n",
              "    }\n",
              "\n",
              "    [theme=dark] .colab-df-convert:hover {\n",
              "      background-color: #434B5C;\n",
              "      box-shadow: 0px 1px 3px 1px rgba(0, 0, 0, 0.15);\n",
              "      filter: drop-shadow(0px 1px 2px rgba(0, 0, 0, 0.3));\n",
              "      fill: #FFFFFF;\n",
              "    }\n",
              "  </style>\n",
              "\n",
              "      <script>\n",
              "        const buttonEl =\n",
              "          document.querySelector('#df-e6a0c081-dcd0-4665-9366-011e50f67f4c button.colab-df-convert');\n",
              "        buttonEl.style.display =\n",
              "          google.colab.kernel.accessAllowed ? 'block' : 'none';\n",
              "\n",
              "        async function convertToInteractive(key) {\n",
              "          const element = document.querySelector('#df-e6a0c081-dcd0-4665-9366-011e50f67f4c');\n",
              "          const dataTable =\n",
              "            await google.colab.kernel.invokeFunction('convertToInteractive',\n",
              "                                                     [key], {});\n",
              "          if (!dataTable) return;\n",
              "\n",
              "          const docLinkHtml = 'Like what you see? Visit the ' +\n",
              "            '<a target=\"_blank\" href=https://colab.research.google.com/notebooks/data_table.ipynb>data table notebook</a>'\n",
              "            + ' to learn more about interactive tables.';\n",
              "          element.innerHTML = '';\n",
              "          dataTable['output_type'] = 'display_data';\n",
              "          await google.colab.output.renderOutput(dataTable, element);\n",
              "          const docLink = document.createElement('div');\n",
              "          docLink.innerHTML = docLinkHtml;\n",
              "          element.appendChild(docLink);\n",
              "        }\n",
              "      </script>\n",
              "    </div>\n",
              "  </div>\n",
              "  "
            ]
          },
          "metadata": {},
          "execution_count": 226
        }
      ]
    },
    {
      "cell_type": "markdown",
      "source": [
        "##### Device Protection Plan"
      ],
      "metadata": {
        "id": "PHXNg3ZS-JZz"
      }
    },
    {
      "cell_type": "code",
      "source": [
        "df_9['Device Protection Plan'].value_counts()"
      ],
      "metadata": {
        "id": "XPPth56c-P__"
      },
      "execution_count": null,
      "outputs": []
    },
    {
      "cell_type": "code",
      "source": [
        "# alterar os dados categóricos da coluna Device Protection Plan\n",
        "\n",
        "df_9_temp = pd.get_dummies(df_9['Device Protection Plan'])"
      ],
      "metadata": {
        "id": "nKVCIEDA-VaB"
      },
      "execution_count": null,
      "outputs": []
    },
    {
      "cell_type": "code",
      "source": [
        "# juntar as duas tabelas, uma contendo todo o dataset, e a outra contendo os dados categóricos com representação numerica\n",
        "\n",
        "df_9_temp2 = pd.concat((df_9, df_9_temp), axis=1)\n",
        "df_9_temp2.head()"
      ],
      "metadata": {
        "id": "XLKNcUVr-qiL"
      },
      "execution_count": null,
      "outputs": []
    },
    {
      "cell_type": "code",
      "source": [
        "# excluir a coluna No, e deixar apenas a Yes\n",
        "\n",
        "df_9_temp2 = df_9_temp2.drop([\"No\"], axis=1) \n",
        "df_9_temp2 = df_9_temp2.drop([\"Device Protection Plan\"], axis=1)"
      ],
      "metadata": {
        "id": "qi7MMnue-zxP"
      },
      "execution_count": null,
      "outputs": []
    },
    {
      "cell_type": "code",
      "source": [
        "# renomear a coluna Yes para Device Protection Plan\n",
        "\n",
        "df_10 = df_9_temp2.rename(columns={\"Yes\": \"Device Protection Plan\"})\n",
        "df_10.head()"
      ],
      "metadata": {
        "id": "RYDNkVKl-5Zk"
      },
      "execution_count": null,
      "outputs": []
    },
    {
      "cell_type": "markdown",
      "source": [
        "##### Premium Tech Support"
      ],
      "metadata": {
        "id": "WSePvtNt_GJg"
      }
    },
    {
      "cell_type": "code",
      "source": [
        "df_10['Premium Tech Support'].value_counts()"
      ],
      "metadata": {
        "id": "sr8Naupy_KTZ"
      },
      "execution_count": null,
      "outputs": []
    },
    {
      "cell_type": "code",
      "source": [
        "# alterar os dados categóricos da coluna Premium Tech Support\n",
        "\n",
        "df_10_temp = pd.get_dummies(df_10['Premium Tech Support'])"
      ],
      "metadata": {
        "id": "xWLtlhK2_Psj"
      },
      "execution_count": null,
      "outputs": []
    },
    {
      "cell_type": "code",
      "source": [
        "# juntar as duas tabelas, uma contendo todo o dataset, e a outra contendo os dados categóricos com representação numerica\n",
        "\n",
        "df_10_temp2 = pd.concat((df_10, df_10_temp), axis=1)\n",
        "df_10_temp2.head()"
      ],
      "metadata": {
        "id": "tyi-KdZG_WDf"
      },
      "execution_count": null,
      "outputs": []
    },
    {
      "cell_type": "code",
      "source": [
        "# excluir a coluna No, e deixar apenas a Yes\n",
        "\n",
        "df_10_temp2 = df_10_temp2.drop([\"No\"], axis=1) \n",
        "df_10_temp2 = df_10_temp2.drop([\"Premium Tech Support\"], axis=1)"
      ],
      "metadata": {
        "id": "-FdHiRKv_e0c"
      },
      "execution_count": null,
      "outputs": []
    },
    {
      "cell_type": "code",
      "source": [
        "# renomear a coluna Yes para Premium Tech Support\n",
        "\n",
        "df_11 = df_10_temp2.rename(columns={\"Yes\": \"Premium Tech Support\"})\n",
        "df_11.head()"
      ],
      "metadata": {
        "id": "WoEtxVnl_fJN"
      },
      "execution_count": null,
      "outputs": []
    },
    {
      "cell_type": "markdown",
      "source": [
        "##### Streaming TV"
      ],
      "metadata": {
        "id": "W9BHJseL_xND"
      }
    },
    {
      "cell_type": "code",
      "source": [
        "df_11['Streaming TV'].value_counts()"
      ],
      "metadata": {
        "id": "UFVvWj_TAFPh"
      },
      "execution_count": null,
      "outputs": []
    },
    {
      "cell_type": "code",
      "source": [
        "# alterar os dados categóricos da coluna Streaming TV\n",
        "\n",
        "df_11_temp = pd.get_dummies(df_11['Streaming TV'])"
      ],
      "metadata": {
        "id": "kyFy--I7ALud"
      },
      "execution_count": null,
      "outputs": []
    },
    {
      "cell_type": "code",
      "source": [
        "# juntar as duas tabelas, uma contendo todo o dataset, e a outra contendo os dados categóricos com representação numerica\n",
        "\n",
        "df_11_temp2 = pd.concat((df_11, df_11_temp), axis=1)\n",
        "df_11_temp2.head()"
      ],
      "metadata": {
        "id": "nf3-f9mvARO4"
      },
      "execution_count": null,
      "outputs": []
    },
    {
      "cell_type": "code",
      "source": [
        "# excluir a coluna No, e deixar apenas a Yes\n",
        "\n",
        "df_11_temp2 = df_11_temp2.drop([\"No\"], axis=1) \n",
        "df_11_temp2 = df_11_temp2.drop([\"Streaming TV\"], axis=1)"
      ],
      "metadata": {
        "id": "yFw91PK8AXC_"
      },
      "execution_count": null,
      "outputs": []
    },
    {
      "cell_type": "code",
      "source": [
        "# renomear a coluna Yes para Streaming TV\n",
        "\n",
        "df_12 = df_11_temp2.rename(columns={\"Yes\": \"Streaming TV\"})\n",
        "df_12.head()"
      ],
      "metadata": {
        "id": "sOvGz8E2Acrb"
      },
      "execution_count": null,
      "outputs": []
    },
    {
      "cell_type": "markdown",
      "source": [
        "##### Streaming Movies"
      ],
      "metadata": {
        "id": "1oZWm3lJApqm"
      }
    },
    {
      "cell_type": "code",
      "source": [
        "df_12['Streaming Movies'].value_counts()"
      ],
      "metadata": {
        "id": "TOI6OoobAs-R"
      },
      "execution_count": null,
      "outputs": []
    },
    {
      "cell_type": "code",
      "source": [
        "# alterar os dados categóricos da coluna Streaming Movies\n",
        "\n",
        "df_12_temp2 = pd.get_dummies(df_12['Streaming Movies'])"
      ],
      "metadata": {
        "id": "cZj-roojBn7d"
      },
      "execution_count": null,
      "outputs": []
    },
    {
      "cell_type": "code",
      "source": [
        "df_12_temp2.head()"
      ],
      "metadata": {
        "id": "dNUUDzDJB1Z4"
      },
      "execution_count": null,
      "outputs": []
    },
    {
      "cell_type": "code",
      "source": [
        "# juntar as duas tabelas, uma contendo todo o dataset, e a outra contendo os dados categóricos com representação numerica\n",
        "\n",
        "df_12_temp3 = pd.concat((df_12, df_12_temp2), axis=1)\n",
        "df_12_temp3.head()"
      ],
      "metadata": {
        "id": "IlPjYV-1BtiC"
      },
      "execution_count": null,
      "outputs": []
    },
    {
      "cell_type": "code",
      "source": [
        "# excluir a coluna No, e deixar apenas a Yes\n",
        "\n",
        "df_12_temp3 = df_12_temp3.drop([\"No\"], axis=1) \n",
        "df_12_temp3 = df_12_temp3.drop([\"Streaming Movies\"], axis=1)"
      ],
      "metadata": {
        "id": "A2almniYCLDt"
      },
      "execution_count": null,
      "outputs": []
    },
    {
      "cell_type": "code",
      "source": [
        "# renomear a coluna Yes para Streaming Movies\n",
        "\n",
        "df_13 = df_12_temp3.rename(columns={\"Yes\": \"Streaming Movies\"})\n",
        "df_13.head()"
      ],
      "metadata": {
        "id": "hiW3MCYxCM-c"
      },
      "execution_count": null,
      "outputs": []
    },
    {
      "cell_type": "markdown",
      "source": [
        "##### Streaming Music"
      ],
      "metadata": {
        "id": "lsO4Uit2CfNc"
      }
    },
    {
      "cell_type": "code",
      "source": [
        "df_13['Streaming Music'].value_counts()"
      ],
      "metadata": {
        "id": "Y3M-E5FAChZ9"
      },
      "execution_count": null,
      "outputs": []
    },
    {
      "cell_type": "code",
      "source": [
        "# alterar os dados categóricos da coluna Streaming Music\n",
        "\n",
        "df_13_temp = pd.get_dummies(df_13['Streaming Music'])\n",
        "df_13_temp.head()"
      ],
      "metadata": {
        "id": "aSFgbBgaCy35"
      },
      "execution_count": null,
      "outputs": []
    },
    {
      "cell_type": "code",
      "source": [
        "# juntar as duas tabelas, uma contendo todo o dataset, e a outra contendo os dados categóricos com representação numerica\n",
        "\n",
        "df_13_temp2 = pd.concat((df_13, df_13_temp), axis=1)\n",
        "df_13_temp2.head()"
      ],
      "metadata": {
        "id": "7kal_waZC7jL"
      },
      "execution_count": null,
      "outputs": []
    },
    {
      "cell_type": "code",
      "source": [
        "# excluir a coluna No, e deixar apenas a Yes\n",
        "\n",
        "df_13_temp2 = df_13_temp2.drop([\"No\"], axis=1) \n",
        "df_13_temp2 = df_13_temp2.drop([\"Streaming Music\"], axis=1)"
      ],
      "metadata": {
        "id": "qR3TUA7BDFO8"
      },
      "execution_count": null,
      "outputs": []
    },
    {
      "cell_type": "code",
      "source": [
        "# renomear a coluna Yes para Streaming Music\n",
        "\n",
        "df_14 = df_13_temp2.rename(columns={\"Yes\": \"Streaming Music\"})\n",
        "df_14.head()"
      ],
      "metadata": {
        "id": "xrARahs1DE79"
      },
      "execution_count": null,
      "outputs": []
    },
    {
      "cell_type": "markdown",
      "source": [
        "##### Unlimited Data"
      ],
      "metadata": {
        "id": "yNbOGDy0DUsW"
      }
    },
    {
      "cell_type": "code",
      "source": [
        "df_14['Unlimited Data'].value_counts()"
      ],
      "metadata": {
        "id": "_zLSredpDuCa"
      },
      "execution_count": null,
      "outputs": []
    },
    {
      "cell_type": "code",
      "source": [
        "# alterar os dados categóricos da coluna Unlimited Data\n",
        "\n",
        "df_14_temp = pd.get_dummies(df_14['Unlimited Data'])\n",
        "df_14_temp.head()"
      ],
      "metadata": {
        "id": "vu56iUYpDyZ8"
      },
      "execution_count": null,
      "outputs": []
    },
    {
      "cell_type": "code",
      "source": [
        "# juntar as duas tabelas, uma contendo todo o dataset, e a outra contendo os dados categóricos com representação numerica\n",
        "\n",
        "df_14_temp2 = pd.concat((df_14, df_14_temp), axis=1)\n",
        "df_14_temp2.head()"
      ],
      "metadata": {
        "id": "hdKvOvYkD96V"
      },
      "execution_count": null,
      "outputs": []
    },
    {
      "cell_type": "code",
      "source": [
        "# excluir a coluna No, e deixar apenas a Yes\n",
        "\n",
        "df_14_temp2 = df_14_temp2.drop([\"No\"], axis=1) \n",
        "df_14_temp2 = df_14_temp2.drop([\"Unlimited Data\"], axis=1)"
      ],
      "metadata": {
        "id": "vEOrcupsED8Q"
      },
      "execution_count": null,
      "outputs": []
    },
    {
      "cell_type": "code",
      "source": [
        "# renomear a coluna Yes para Unlimited Data\n",
        "\n",
        "df_15 = df_14_temp2.rename(columns={\"Yes\": \"Unlimited Data\"})\n",
        "df_15.head()"
      ],
      "metadata": {
        "id": "1P7D89gfEIlI"
      },
      "execution_count": null,
      "outputs": []
    },
    {
      "cell_type": "markdown",
      "source": [
        "##### Payment Method"
      ],
      "metadata": {
        "id": "nzsKRm5pEP9Y"
      }
    },
    {
      "cell_type": "code",
      "source": [
        "df_15['Payment Method'].value_counts()"
      ],
      "metadata": {
        "id": "aJ9aFwiHEX8U"
      },
      "execution_count": null,
      "outputs": []
    },
    {
      "cell_type": "code",
      "source": [
        "# retirando as linhas onde o método de pagamento foi por Mailed Check\n",
        "\n",
        "df_15_payment = df_15.loc[df_15['Payment Method'] != 'Mailed Check']"
      ],
      "metadata": {
        "id": "jFpLraV8EdHk"
      },
      "execution_count": null,
      "outputs": []
    },
    {
      "cell_type": "code",
      "source": [
        "df_15_payment['Payment Method'].value_counts()"
      ],
      "metadata": {
        "id": "eDm1SsZVEqob"
      },
      "execution_count": null,
      "outputs": []
    },
    {
      "cell_type": "code",
      "source": [
        "# alterar os dados categóricos da coluna Payment Method\n",
        "\n",
        "df_15_temp = pd.get_dummies(df_15_payment['Payment Method'])\n",
        "df_15_temp.head()"
      ],
      "metadata": {
        "id": "oyyyKCd8E-AZ"
      },
      "execution_count": null,
      "outputs": []
    },
    {
      "cell_type": "code",
      "source": [
        "# juntar as duas tabelas, uma contendo todo o dataset, e a outra contendo os dados categóricos com representação numerica\n",
        "\n",
        "df_15_temp2 = pd.concat((df_15_payment, df_15_temp), axis=1)\n",
        "df_15_temp2.head()"
      ],
      "metadata": {
        "id": "WbHd4C1AFHEE"
      },
      "execution_count": null,
      "outputs": []
    },
    {
      "cell_type": "code",
      "source": [
        "# excluir a coluna Credit Card, e deixar apenas a Bank Withdrawal\n",
        "\n",
        "df_15_temp2 = df_15_temp2.drop([\"Credit Card\"], axis=1) \n",
        "df_15_temp2 = df_15_temp2.drop([\"Payment Method\"], axis=1)"
      ],
      "metadata": {
        "id": "y5P6OC3xFcQC"
      },
      "execution_count": null,
      "outputs": []
    },
    {
      "cell_type": "code",
      "source": [
        "# renomear a coluna Bank Withdrawal para Bank Withdrawal/Credit Card\n",
        "\n",
        "df_16 = df_15_temp2.rename(columns={\"Bank Withdrawal\": \"Bank Withdrawal/Credit Card\"})\n",
        "df_16.head()"
      ],
      "metadata": {
        "id": "Q_2go0YtFstt"
      },
      "execution_count": null,
      "outputs": []
    },
    {
      "cell_type": "markdown",
      "source": [
        "Bank withdrawal = 1 <br/>\n",
        "Credit Card = 0"
      ],
      "metadata": {
        "id": "mkq4XMfOGAx4"
      }
    },
    {
      "cell_type": "markdown",
      "source": [
        "##### Salvar todas as alterações em um novo csv"
      ],
      "metadata": {
        "id": "zB2S7qv6GLam"
      }
    },
    {
      "cell_type": "code",
      "source": [
        "df_16.to_csv('dados_maves_numericas.csv', index=False)"
      ],
      "metadata": {
        "id": "3Q3e6FruGPtU"
      },
      "execution_count": null,
      "outputs": []
    },
    {
      "cell_type": "markdown",
      "source": [
        "#### HeatMap"
      ],
      "metadata": {
        "id": "FlYRbAFrGfoY"
      }
    },
    {
      "cell_type": "code",
      "source": [
        "df_16.columns"
      ],
      "metadata": {
        "id": "frfX8X7EIJD3"
      },
      "execution_count": null,
      "outputs": []
    },
    {
      "cell_type": "code",
      "source": [
        "# retirar todas as colunas que permaneceram categoricas ou que não tenham relação com o desfecho\n",
        "\n",
        "# excluir a coluna No, e deixar apenas a Yes\n",
        "\n",
        "df_17 = df_16.drop(columns = ['Customer ID' , 'City', 'Zip Code','Latitude', 'Longitude',\n",
        "                              'Internet Type', 'Contract', 'Paperless Billing','Churn Category', 'Churn Reason'], axis=1)\n"
      ],
      "metadata": {
        "id": "Mc7R1YnIJrQw"
      },
      "execution_count": null,
      "outputs": []
    },
    {
      "cell_type": "code",
      "source": [
        "df_17.columns"
      ],
      "metadata": {
        "id": "afP-hNu4JzyS"
      },
      "execution_count": null,
      "outputs": []
    },
    {
      "cell_type": "code",
      "source": [
        "# heatmap (mapa de calor)\n",
        "fig, ax = plt.subplots(figsize=(10,10))\n",
        "sns.heatmap(df_17.corr(), ax=ax)\n",
        "plt.show()"
      ],
      "metadata": {
        "id": "xtvbD8-JGi5N"
      },
      "execution_count": null,
      "outputs": []
    },
    {
      "cell_type": "code",
      "source": [
        "# salvando o arquivo apenas com os dados numericos \n",
        "\n",
        "df_17.to_csv('dados_maven_apenas_numericas.csv', index=False)"
      ],
      "metadata": {
        "id": "NqpfUSujKpew"
      },
      "execution_count": null,
      "outputs": []
    },
    {
      "cell_type": "code",
      "source": [
        "df_17.head()"
      ],
      "metadata": {
        "id": "6aQoOwSNnTOt"
      },
      "execution_count": null,
      "outputs": []
    },
    {
      "cell_type": "markdown",
      "source": [
        "#### Teste Machine Learning"
      ],
      "metadata": {
        "id": "dZjTq_hKr8KT"
      }
    },
    {
      "cell_type": "code",
      "source": [
        "df_17.drop(columns = ['Offer'], axis=1, inplace=True)"
      ],
      "metadata": {
        "id": "OW5TIcQDsr54"
      },
      "execution_count": null,
      "outputs": []
    },
    {
      "cell_type": "code",
      "source": [
        "df_17.drop(columns = ['Avg Monthly Long Distance Charges'], axis=1, inplace=True)"
      ],
      "metadata": {
        "id": "M62DYR59tI4a"
      },
      "execution_count": null,
      "outputs": []
    },
    {
      "cell_type": "code",
      "source": [
        "df_17.drop(columns = ['Avg Monthly GB Download'], axis=1, inplace=True)"
      ],
      "metadata": {
        "id": "tOwLm1P_tJM-"
      },
      "execution_count": null,
      "outputs": []
    },
    {
      "cell_type": "code",
      "source": [
        "df_17.columns"
      ],
      "metadata": {
        "id": "T3G8ol7MsCIQ"
      },
      "execution_count": null,
      "outputs": []
    },
    {
      "cell_type": "code",
      "source": [
        "#escolhendo as colunas do dataframe que serão nossos valores de entrada para o modelo\n",
        "X=pd.DataFrame(columns=['Age', 'Number of Dependents', 'Number of Referrals',\n",
        "       'Tenure in Months',\n",
        "        'Monthly Charge', 'Total Charges',\n",
        "       'Total Refunds', 'Total Extra Data Charges',\n",
        "       'Total Long Distance Charges', 'Total Revenue', 'Male',\n",
        "       'Married', 'Phone Service', 'Multiple Lines', 'Internet Service',\n",
        "       'Online Security', 'Online Backup', 'Device Protection Plan',\n",
        "       'Premium Tech Support', 'Streaming TV', 'Streaming Movies',\n",
        "       'Streaming Music', 'Unlimited Data', 'Bank Withdrawal/Credit Card'],data=df_17)"
      ],
      "metadata": {
        "id": "rlcVuNNTsKLu"
      },
      "execution_count": null,
      "outputs": []
    },
    {
      "cell_type": "code",
      "source": [
        "#escolhendo a(s) coluna(s) do dataframe que serão a resposta do modelo\n",
        "y = pd.DataFrame(columns=['Churned'], data=df_17)"
      ],
      "metadata": {
        "id": "26Kt16DIsTLl"
      },
      "execution_count": null,
      "outputs": []
    },
    {
      "cell_type": "code",
      "source": [
        "#importando o pacote de divisão dos dados em treinamento e teste\n",
        "from sklearn.model_selection import train_test_split"
      ],
      "metadata": {
        "id": "r_ufncvCsaO6"
      },
      "execution_count": null,
      "outputs": []
    },
    {
      "cell_type": "code",
      "source": [
        "#dividindo os dados em treinamento e teste\n",
        "X_train, X_test, y_train, y_test = train_test_split(X, y, test_size=0.3, random_state=42)"
      ],
      "metadata": {
        "id": "RGhp-SqBsbBk"
      },
      "execution_count": null,
      "outputs": []
    },
    {
      "cell_type": "code",
      "source": [
        "#normalizando os dados\n",
        "from sklearn.preprocessing import StandardScaler\n",
        "sc_X = StandardScaler()\n",
        "X_train = sc_X.fit_transform(X_train)\n",
        "X_test = sc_X.transform(X_test)"
      ],
      "metadata": {
        "id": "ETSfCgdIsdQz"
      },
      "execution_count": null,
      "outputs": []
    },
    {
      "cell_type": "code",
      "source": [
        "X.isna().sum()"
      ],
      "metadata": {
        "id": "PLRf7w-GtARr"
      },
      "execution_count": null,
      "outputs": []
    },
    {
      "cell_type": "code",
      "source": [
        "#importando, configurando e treinando o modelo de regressão \n",
        "from sklearn.linear_model import LogisticRegression\n",
        "logit =LogisticRegression(verbose=1, max_iter=1000)\n",
        "logit.fit(X_train,np.ravel(y_train,order='C'))\n",
        "y_pred=logit.predict(X_test)"
      ],
      "metadata": {
        "id": "fZ-8v1-OtbRO"
      },
      "execution_count": null,
      "outputs": []
    },
    {
      "cell_type": "code",
      "source": [
        "#verificando os valores preditos\n",
        "y_pred"
      ],
      "metadata": {
        "id": "ahEyaIBJtoT5"
      },
      "execution_count": null,
      "outputs": []
    },
    {
      "cell_type": "code",
      "source": [
        "#importando o pacote de métricas e calculando a matriz de confusão\n",
        "from sklearn import metrics\n",
        "cnf_matrix =  metrics.confusion_matrix(y_test, y_pred)"
      ],
      "metadata": {
        "id": "zz06dLogtuUp"
      },
      "execution_count": null,
      "outputs": []
    },
    {
      "cell_type": "code",
      "source": [
        "#código para melhor visualização da matriz de confusão\n",
        "#alternativa:\n",
        "# print(cnf_matrix)\n",
        "import itertools\n",
        "def plot_confusion_matrix(cm, classes,\n",
        "                          normalize=False,\n",
        "                          title='Confusion matrix',\n",
        "                          cmap=plt.cm.Blues):\n",
        "    \"\"\"\n",
        "    This function prints and plots the confusion matrix.\n",
        "    Normalization can be applied by setting `normalize=True`.\n",
        "    \"\"\"\n",
        "    if normalize:\n",
        "        cm = cm.astype('float') / cm.sum(axis=1)[:, np.newaxis]\n",
        "\n",
        "    plt.imshow(cm, interpolation='nearest', cmap=cmap)\n",
        "    plt.title(title)\n",
        "    plt.colorbar()\n",
        "    tick_marks = np.arange(len(classes))\n",
        "    plt.xticks(tick_marks, classes, rotation=45)\n",
        "    plt.yticks(tick_marks, classes)\n",
        "\n",
        "    fmt = '.2f' if normalize else 'd'\n",
        "    thresh = cm.max() / 2.\n",
        "    for i, j in itertools.product(range(cm.shape[0]), range(cm.shape[1])):\n",
        "        plt.text(j, i, format(cm[i, j], fmt),\n",
        "                 horizontalalignment=\"center\",\n",
        "                 color=\"white\" if cm[i, j] > thresh else \"black\")\n",
        "\n",
        "    plt.ylabel('True label')\n",
        "    plt.xlabel('Predicted label')\n",
        "    plt.tight_layout()"
      ],
      "metadata": {
        "id": "ql5ydWoBtuOX"
      },
      "execution_count": null,
      "outputs": []
    },
    {
      "cell_type": "code",
      "source": [
        "#imprimindo a matriz de confusão\n",
        "plot_confusion_matrix(cnf_matrix, classes=['0','1'],\n",
        "                      title='Matriz de confusão não normalizada', normalize=False)"
      ],
      "metadata": {
        "id": "UX7Z2O0AtxVT"
      },
      "execution_count": null,
      "outputs": []
    },
    {
      "cell_type": "code",
      "source": [
        "#verificando quantos valores existem de cada categoria em 'Churned'\n",
        "df_17['Churned'].value_counts()"
      ],
      "metadata": {
        "id": "K6U0BrvzuWky"
      },
      "execution_count": null,
      "outputs": []
    },
    {
      "cell_type": "code",
      "source": [
        "#métricas finais\n",
        "print(metrics.classification_report(y_test, y_pred, target_names=['0','1']))"
      ],
      "metadata": {
        "id": "rirUHDTluiRy"
      },
      "execution_count": null,
      "outputs": []
    },
    {
      "cell_type": "markdown",
      "source": [
        "#### Customer Status = Stayed"
      ],
      "metadata": {
        "id": "ut7_oAm4bLw8"
      }
    },
    {
      "cell_type": "code",
      "source": [
        "df_cust_stayed = df2_cust.loc[df2_cust['Customer Status'] == 'Stayed']"
      ],
      "metadata": {
        "id": "JjK27WGhY1WN"
      },
      "execution_count": null,
      "outputs": []
    },
    {
      "cell_type": "code",
      "source": [
        "df_cust_stayed.head()"
      ],
      "metadata": {
        "id": "7IEw36nHba07"
      },
      "execution_count": null,
      "outputs": []
    },
    {
      "cell_type": "code",
      "source": [
        ""
      ],
      "metadata": {
        "id": "mefBQLkKbcT5"
      },
      "execution_count": null,
      "outputs": []
    },
    {
      "cell_type": "code",
      "source": [
        ""
      ],
      "metadata": {
        "id": "GszgcJvv-NKJ"
      },
      "execution_count": null,
      "outputs": []
    },
    {
      "cell_type": "markdown",
      "source": [
        "# Análise Churned X Stayed"
      ],
      "metadata": {
        "id": "n--yzea-EEbQ"
      }
    },
    {
      "cell_type": "code",
      "source": [
        "df_customers.head()"
      ],
      "metadata": {
        "id": "SfOflocBEHmp",
        "colab": {
          "base_uri": "https://localhost:8080/",
          "height": 456
        },
        "outputId": "333e7c7f-e594-496b-f145-95bc4fec7341"
      },
      "execution_count": null,
      "outputs": [
        {
          "output_type": "execute_result",
          "data": {
            "text/plain": [
              "  Customer ID  Gender  Age Married  Number of Dependents          City  \\\n",
              "0  0002-ORFBO  Female   37     Yes                     0  Frazier Park   \n",
              "1  0003-MKNFE    Male   46      No                     0      Glendale   \n",
              "2  0004-TLHLJ    Male   50      No                     0    Costa Mesa   \n",
              "3  0011-IGKFF    Male   78     Yes                     0      Martinez   \n",
              "4  0013-EXCHZ  Female   75     Yes                     0     Camarillo   \n",
              "\n",
              "   Zip Code   Latitude   Longitude  Number of Referrals  ...   Payment Method  \\\n",
              "0     93225  34.827662 -118.999073                    2  ...      Credit Card   \n",
              "1     91206  34.162515 -118.203869                    0  ...      Credit Card   \n",
              "2     92627  33.645672 -117.922613                    0  ...  Bank Withdrawal   \n",
              "3     94553  38.014457 -122.115432                    1  ...  Bank Withdrawal   \n",
              "4     93010  34.227846 -119.079903                    3  ...      Credit Card   \n",
              "\n",
              "  Monthly Charge Total Charges  Total Refunds Total Extra Data Charges  \\\n",
              "0           65.6        593.30           0.00                        0   \n",
              "1           -4.0        542.40          38.33                       10   \n",
              "2           73.9        280.85           0.00                        0   \n",
              "3           98.0       1237.85           0.00                        0   \n",
              "4           83.9        267.40           0.00                        0   \n",
              "\n",
              "  Total Long Distance Charges Total Revenue  Customer Status   Churn Category  \\\n",
              "0                      381.51        974.81           Stayed              NaN   \n",
              "1                       96.21        610.28           Stayed              NaN   \n",
              "2                      134.60        415.45          Churned       Competitor   \n",
              "3                      361.66       1599.51          Churned  Dissatisfaction   \n",
              "4                       22.14        289.54          Churned  Dissatisfaction   \n",
              "\n",
              "                    Churn Reason  \n",
              "0                            NaN  \n",
              "1                            NaN  \n",
              "2  Competitor had better devices  \n",
              "3        Product dissatisfaction  \n",
              "4            Network reliability  \n",
              "\n",
              "[5 rows x 38 columns]"
            ],
            "text/html": [
              "\n",
              "  <div id=\"df-ea49a4c5-3446-45af-b012-8a635b346774\">\n",
              "    <div class=\"colab-df-container\">\n",
              "      <div>\n",
              "<style scoped>\n",
              "    .dataframe tbody tr th:only-of-type {\n",
              "        vertical-align: middle;\n",
              "    }\n",
              "\n",
              "    .dataframe tbody tr th {\n",
              "        vertical-align: top;\n",
              "    }\n",
              "\n",
              "    .dataframe thead th {\n",
              "        text-align: right;\n",
              "    }\n",
              "</style>\n",
              "<table border=\"1\" class=\"dataframe\">\n",
              "  <thead>\n",
              "    <tr style=\"text-align: right;\">\n",
              "      <th></th>\n",
              "      <th>Customer ID</th>\n",
              "      <th>Gender</th>\n",
              "      <th>Age</th>\n",
              "      <th>Married</th>\n",
              "      <th>Number of Dependents</th>\n",
              "      <th>City</th>\n",
              "      <th>Zip Code</th>\n",
              "      <th>Latitude</th>\n",
              "      <th>Longitude</th>\n",
              "      <th>Number of Referrals</th>\n",
              "      <th>...</th>\n",
              "      <th>Payment Method</th>\n",
              "      <th>Monthly Charge</th>\n",
              "      <th>Total Charges</th>\n",
              "      <th>Total Refunds</th>\n",
              "      <th>Total Extra Data Charges</th>\n",
              "      <th>Total Long Distance Charges</th>\n",
              "      <th>Total Revenue</th>\n",
              "      <th>Customer Status</th>\n",
              "      <th>Churn Category</th>\n",
              "      <th>Churn Reason</th>\n",
              "    </tr>\n",
              "  </thead>\n",
              "  <tbody>\n",
              "    <tr>\n",
              "      <th>0</th>\n",
              "      <td>0002-ORFBO</td>\n",
              "      <td>Female</td>\n",
              "      <td>37</td>\n",
              "      <td>Yes</td>\n",
              "      <td>0</td>\n",
              "      <td>Frazier Park</td>\n",
              "      <td>93225</td>\n",
              "      <td>34.827662</td>\n",
              "      <td>-118.999073</td>\n",
              "      <td>2</td>\n",
              "      <td>...</td>\n",
              "      <td>Credit Card</td>\n",
              "      <td>65.6</td>\n",
              "      <td>593.30</td>\n",
              "      <td>0.00</td>\n",
              "      <td>0</td>\n",
              "      <td>381.51</td>\n",
              "      <td>974.81</td>\n",
              "      <td>Stayed</td>\n",
              "      <td>NaN</td>\n",
              "      <td>NaN</td>\n",
              "    </tr>\n",
              "    <tr>\n",
              "      <th>1</th>\n",
              "      <td>0003-MKNFE</td>\n",
              "      <td>Male</td>\n",
              "      <td>46</td>\n",
              "      <td>No</td>\n",
              "      <td>0</td>\n",
              "      <td>Glendale</td>\n",
              "      <td>91206</td>\n",
              "      <td>34.162515</td>\n",
              "      <td>-118.203869</td>\n",
              "      <td>0</td>\n",
              "      <td>...</td>\n",
              "      <td>Credit Card</td>\n",
              "      <td>-4.0</td>\n",
              "      <td>542.40</td>\n",
              "      <td>38.33</td>\n",
              "      <td>10</td>\n",
              "      <td>96.21</td>\n",
              "      <td>610.28</td>\n",
              "      <td>Stayed</td>\n",
              "      <td>NaN</td>\n",
              "      <td>NaN</td>\n",
              "    </tr>\n",
              "    <tr>\n",
              "      <th>2</th>\n",
              "      <td>0004-TLHLJ</td>\n",
              "      <td>Male</td>\n",
              "      <td>50</td>\n",
              "      <td>No</td>\n",
              "      <td>0</td>\n",
              "      <td>Costa Mesa</td>\n",
              "      <td>92627</td>\n",
              "      <td>33.645672</td>\n",
              "      <td>-117.922613</td>\n",
              "      <td>0</td>\n",
              "      <td>...</td>\n",
              "      <td>Bank Withdrawal</td>\n",
              "      <td>73.9</td>\n",
              "      <td>280.85</td>\n",
              "      <td>0.00</td>\n",
              "      <td>0</td>\n",
              "      <td>134.60</td>\n",
              "      <td>415.45</td>\n",
              "      <td>Churned</td>\n",
              "      <td>Competitor</td>\n",
              "      <td>Competitor had better devices</td>\n",
              "    </tr>\n",
              "    <tr>\n",
              "      <th>3</th>\n",
              "      <td>0011-IGKFF</td>\n",
              "      <td>Male</td>\n",
              "      <td>78</td>\n",
              "      <td>Yes</td>\n",
              "      <td>0</td>\n",
              "      <td>Martinez</td>\n",
              "      <td>94553</td>\n",
              "      <td>38.014457</td>\n",
              "      <td>-122.115432</td>\n",
              "      <td>1</td>\n",
              "      <td>...</td>\n",
              "      <td>Bank Withdrawal</td>\n",
              "      <td>98.0</td>\n",
              "      <td>1237.85</td>\n",
              "      <td>0.00</td>\n",
              "      <td>0</td>\n",
              "      <td>361.66</td>\n",
              "      <td>1599.51</td>\n",
              "      <td>Churned</td>\n",
              "      <td>Dissatisfaction</td>\n",
              "      <td>Product dissatisfaction</td>\n",
              "    </tr>\n",
              "    <tr>\n",
              "      <th>4</th>\n",
              "      <td>0013-EXCHZ</td>\n",
              "      <td>Female</td>\n",
              "      <td>75</td>\n",
              "      <td>Yes</td>\n",
              "      <td>0</td>\n",
              "      <td>Camarillo</td>\n",
              "      <td>93010</td>\n",
              "      <td>34.227846</td>\n",
              "      <td>-119.079903</td>\n",
              "      <td>3</td>\n",
              "      <td>...</td>\n",
              "      <td>Credit Card</td>\n",
              "      <td>83.9</td>\n",
              "      <td>267.40</td>\n",
              "      <td>0.00</td>\n",
              "      <td>0</td>\n",
              "      <td>22.14</td>\n",
              "      <td>289.54</td>\n",
              "      <td>Churned</td>\n",
              "      <td>Dissatisfaction</td>\n",
              "      <td>Network reliability</td>\n",
              "    </tr>\n",
              "  </tbody>\n",
              "</table>\n",
              "<p>5 rows × 38 columns</p>\n",
              "</div>\n",
              "      <button class=\"colab-df-convert\" onclick=\"convertToInteractive('df-ea49a4c5-3446-45af-b012-8a635b346774')\"\n",
              "              title=\"Convert this dataframe to an interactive table.\"\n",
              "              style=\"display:none;\">\n",
              "        \n",
              "  <svg xmlns=\"http://www.w3.org/2000/svg\" height=\"24px\"viewBox=\"0 0 24 24\"\n",
              "       width=\"24px\">\n",
              "    <path d=\"M0 0h24v24H0V0z\" fill=\"none\"/>\n",
              "    <path d=\"M18.56 5.44l.94 2.06.94-2.06 2.06-.94-2.06-.94-.94-2.06-.94 2.06-2.06.94zm-11 1L8.5 8.5l.94-2.06 2.06-.94-2.06-.94L8.5 2.5l-.94 2.06-2.06.94zm10 10l.94 2.06.94-2.06 2.06-.94-2.06-.94-.94-2.06-.94 2.06-2.06.94z\"/><path d=\"M17.41 7.96l-1.37-1.37c-.4-.4-.92-.59-1.43-.59-.52 0-1.04.2-1.43.59L10.3 9.45l-7.72 7.72c-.78.78-.78 2.05 0 2.83L4 21.41c.39.39.9.59 1.41.59.51 0 1.02-.2 1.41-.59l7.78-7.78 2.81-2.81c.8-.78.8-2.07 0-2.86zM5.41 20L4 18.59l7.72-7.72 1.47 1.35L5.41 20z\"/>\n",
              "  </svg>\n",
              "      </button>\n",
              "      \n",
              "  <style>\n",
              "    .colab-df-container {\n",
              "      display:flex;\n",
              "      flex-wrap:wrap;\n",
              "      gap: 12px;\n",
              "    }\n",
              "\n",
              "    .colab-df-convert {\n",
              "      background-color: #E8F0FE;\n",
              "      border: none;\n",
              "      border-radius: 50%;\n",
              "      cursor: pointer;\n",
              "      display: none;\n",
              "      fill: #1967D2;\n",
              "      height: 32px;\n",
              "      padding: 0 0 0 0;\n",
              "      width: 32px;\n",
              "    }\n",
              "\n",
              "    .colab-df-convert:hover {\n",
              "      background-color: #E2EBFA;\n",
              "      box-shadow: 0px 1px 2px rgba(60, 64, 67, 0.3), 0px 1px 3px 1px rgba(60, 64, 67, 0.15);\n",
              "      fill: #174EA6;\n",
              "    }\n",
              "\n",
              "    [theme=dark] .colab-df-convert {\n",
              "      background-color: #3B4455;\n",
              "      fill: #D2E3FC;\n",
              "    }\n",
              "\n",
              "    [theme=dark] .colab-df-convert:hover {\n",
              "      background-color: #434B5C;\n",
              "      box-shadow: 0px 1px 3px 1px rgba(0, 0, 0, 0.15);\n",
              "      filter: drop-shadow(0px 1px 2px rgba(0, 0, 0, 0.3));\n",
              "      fill: #FFFFFF;\n",
              "    }\n",
              "  </style>\n",
              "\n",
              "      <script>\n",
              "        const buttonEl =\n",
              "          document.querySelector('#df-ea49a4c5-3446-45af-b012-8a635b346774 button.colab-df-convert');\n",
              "        buttonEl.style.display =\n",
              "          google.colab.kernel.accessAllowed ? 'block' : 'none';\n",
              "\n",
              "        async function convertToInteractive(key) {\n",
              "          const element = document.querySelector('#df-ea49a4c5-3446-45af-b012-8a635b346774');\n",
              "          const dataTable =\n",
              "            await google.colab.kernel.invokeFunction('convertToInteractive',\n",
              "                                                     [key], {});\n",
              "          if (!dataTable) return;\n",
              "\n",
              "          const docLinkHtml = 'Like what you see? Visit the ' +\n",
              "            '<a target=\"_blank\" href=https://colab.research.google.com/notebooks/data_table.ipynb>data table notebook</a>'\n",
              "            + ' to learn more about interactive tables.';\n",
              "          element.innerHTML = '';\n",
              "          dataTable['output_type'] = 'display_data';\n",
              "          await google.colab.output.renderOutput(dataTable, element);\n",
              "          const docLink = document.createElement('div');\n",
              "          docLink.innerHTML = docLinkHtml;\n",
              "          element.appendChild(docLink);\n",
              "        }\n",
              "      </script>\n",
              "    </div>\n",
              "  </div>\n",
              "  "
            ]
          },
          "metadata": {},
          "execution_count": 8
        }
      ]
    },
    {
      "cell_type": "code",
      "source": [
        "# criando um DataFrame contendo apenas aqueles que saíram\n",
        "df_churned = df_customers.loc[df_customers['Customer Status'] == 'Churned']"
      ],
      "metadata": {
        "id": "C_TAEbxtEVDj"
      },
      "execution_count": null,
      "outputs": []
    },
    {
      "cell_type": "code",
      "source": [
        "df_churned.head()"
      ],
      "metadata": {
        "id": "tCMmlrtoEjmU",
        "colab": {
          "base_uri": "https://localhost:8080/",
          "height": 473
        },
        "outputId": "bcda0ab9-c26c-4bc0-d761-bc41abf14cfe"
      },
      "execution_count": null,
      "outputs": [
        {
          "output_type": "execute_result",
          "data": {
            "text/plain": [
              "   Customer ID  Gender  Age Married  Number of Dependents         City  \\\n",
              "2   0004-TLHLJ    Male   50      No                     0   Costa Mesa   \n",
              "3   0011-IGKFF    Male   78     Yes                     0     Martinez   \n",
              "4   0013-EXCHZ  Female   75     Yes                     0    Camarillo   \n",
              "18  0022-TCJCI    Male   79      No                     0    Daly City   \n",
              "19  0023-HGHWL    Male   67      No                     0  Morgan Hill   \n",
              "\n",
              "    Zip Code   Latitude   Longitude  Number of Referrals  ...  \\\n",
              "2      92627  33.645672 -117.922613                    0  ...   \n",
              "3      94553  38.014457 -122.115432                    1  ...   \n",
              "4      93010  34.227846 -119.079903                    3  ...   \n",
              "18     94015  37.680844 -122.481310                    0  ...   \n",
              "19     95037  37.161544 -121.649371                    0  ...   \n",
              "\n",
              "     Payment Method Monthly Charge Total Charges  Total Refunds  \\\n",
              "2   Bank Withdrawal           73.9        280.85            0.0   \n",
              "3   Bank Withdrawal           98.0       1237.85            0.0   \n",
              "4       Credit Card           83.9        267.40            0.0   \n",
              "18      Credit Card           62.7       2791.50            0.0   \n",
              "19  Bank Withdrawal           25.1         25.10            0.0   \n",
              "\n",
              "   Total Extra Data Charges Total Long Distance Charges Total Revenue  \\\n",
              "2                         0                      134.60        415.45   \n",
              "3                         0                      361.66       1599.51   \n",
              "4                         0                       22.14        289.54   \n",
              "18                        0                      480.15       3271.65   \n",
              "19                        0                        0.00         25.10   \n",
              "\n",
              "    Customer Status   Churn Category                   Churn Reason  \n",
              "2           Churned       Competitor  Competitor had better devices  \n",
              "3           Churned  Dissatisfaction        Product dissatisfaction  \n",
              "4           Churned  Dissatisfaction            Network reliability  \n",
              "18          Churned  Dissatisfaction      Limited range of services  \n",
              "19          Churned       Competitor   Competitor made better offer  \n",
              "\n",
              "[5 rows x 38 columns]"
            ],
            "text/html": [
              "\n",
              "  <div id=\"df-5d9cf4f5-3ec8-4279-a443-016f475ff12c\">\n",
              "    <div class=\"colab-df-container\">\n",
              "      <div>\n",
              "<style scoped>\n",
              "    .dataframe tbody tr th:only-of-type {\n",
              "        vertical-align: middle;\n",
              "    }\n",
              "\n",
              "    .dataframe tbody tr th {\n",
              "        vertical-align: top;\n",
              "    }\n",
              "\n",
              "    .dataframe thead th {\n",
              "        text-align: right;\n",
              "    }\n",
              "</style>\n",
              "<table border=\"1\" class=\"dataframe\">\n",
              "  <thead>\n",
              "    <tr style=\"text-align: right;\">\n",
              "      <th></th>\n",
              "      <th>Customer ID</th>\n",
              "      <th>Gender</th>\n",
              "      <th>Age</th>\n",
              "      <th>Married</th>\n",
              "      <th>Number of Dependents</th>\n",
              "      <th>City</th>\n",
              "      <th>Zip Code</th>\n",
              "      <th>Latitude</th>\n",
              "      <th>Longitude</th>\n",
              "      <th>Number of Referrals</th>\n",
              "      <th>...</th>\n",
              "      <th>Payment Method</th>\n",
              "      <th>Monthly Charge</th>\n",
              "      <th>Total Charges</th>\n",
              "      <th>Total Refunds</th>\n",
              "      <th>Total Extra Data Charges</th>\n",
              "      <th>Total Long Distance Charges</th>\n",
              "      <th>Total Revenue</th>\n",
              "      <th>Customer Status</th>\n",
              "      <th>Churn Category</th>\n",
              "      <th>Churn Reason</th>\n",
              "    </tr>\n",
              "  </thead>\n",
              "  <tbody>\n",
              "    <tr>\n",
              "      <th>2</th>\n",
              "      <td>0004-TLHLJ</td>\n",
              "      <td>Male</td>\n",
              "      <td>50</td>\n",
              "      <td>No</td>\n",
              "      <td>0</td>\n",
              "      <td>Costa Mesa</td>\n",
              "      <td>92627</td>\n",
              "      <td>33.645672</td>\n",
              "      <td>-117.922613</td>\n",
              "      <td>0</td>\n",
              "      <td>...</td>\n",
              "      <td>Bank Withdrawal</td>\n",
              "      <td>73.9</td>\n",
              "      <td>280.85</td>\n",
              "      <td>0.0</td>\n",
              "      <td>0</td>\n",
              "      <td>134.60</td>\n",
              "      <td>415.45</td>\n",
              "      <td>Churned</td>\n",
              "      <td>Competitor</td>\n",
              "      <td>Competitor had better devices</td>\n",
              "    </tr>\n",
              "    <tr>\n",
              "      <th>3</th>\n",
              "      <td>0011-IGKFF</td>\n",
              "      <td>Male</td>\n",
              "      <td>78</td>\n",
              "      <td>Yes</td>\n",
              "      <td>0</td>\n",
              "      <td>Martinez</td>\n",
              "      <td>94553</td>\n",
              "      <td>38.014457</td>\n",
              "      <td>-122.115432</td>\n",
              "      <td>1</td>\n",
              "      <td>...</td>\n",
              "      <td>Bank Withdrawal</td>\n",
              "      <td>98.0</td>\n",
              "      <td>1237.85</td>\n",
              "      <td>0.0</td>\n",
              "      <td>0</td>\n",
              "      <td>361.66</td>\n",
              "      <td>1599.51</td>\n",
              "      <td>Churned</td>\n",
              "      <td>Dissatisfaction</td>\n",
              "      <td>Product dissatisfaction</td>\n",
              "    </tr>\n",
              "    <tr>\n",
              "      <th>4</th>\n",
              "      <td>0013-EXCHZ</td>\n",
              "      <td>Female</td>\n",
              "      <td>75</td>\n",
              "      <td>Yes</td>\n",
              "      <td>0</td>\n",
              "      <td>Camarillo</td>\n",
              "      <td>93010</td>\n",
              "      <td>34.227846</td>\n",
              "      <td>-119.079903</td>\n",
              "      <td>3</td>\n",
              "      <td>...</td>\n",
              "      <td>Credit Card</td>\n",
              "      <td>83.9</td>\n",
              "      <td>267.40</td>\n",
              "      <td>0.0</td>\n",
              "      <td>0</td>\n",
              "      <td>22.14</td>\n",
              "      <td>289.54</td>\n",
              "      <td>Churned</td>\n",
              "      <td>Dissatisfaction</td>\n",
              "      <td>Network reliability</td>\n",
              "    </tr>\n",
              "    <tr>\n",
              "      <th>18</th>\n",
              "      <td>0022-TCJCI</td>\n",
              "      <td>Male</td>\n",
              "      <td>79</td>\n",
              "      <td>No</td>\n",
              "      <td>0</td>\n",
              "      <td>Daly City</td>\n",
              "      <td>94015</td>\n",
              "      <td>37.680844</td>\n",
              "      <td>-122.481310</td>\n",
              "      <td>0</td>\n",
              "      <td>...</td>\n",
              "      <td>Credit Card</td>\n",
              "      <td>62.7</td>\n",
              "      <td>2791.50</td>\n",
              "      <td>0.0</td>\n",
              "      <td>0</td>\n",
              "      <td>480.15</td>\n",
              "      <td>3271.65</td>\n",
              "      <td>Churned</td>\n",
              "      <td>Dissatisfaction</td>\n",
              "      <td>Limited range of services</td>\n",
              "    </tr>\n",
              "    <tr>\n",
              "      <th>19</th>\n",
              "      <td>0023-HGHWL</td>\n",
              "      <td>Male</td>\n",
              "      <td>67</td>\n",
              "      <td>No</td>\n",
              "      <td>0</td>\n",
              "      <td>Morgan Hill</td>\n",
              "      <td>95037</td>\n",
              "      <td>37.161544</td>\n",
              "      <td>-121.649371</td>\n",
              "      <td>0</td>\n",
              "      <td>...</td>\n",
              "      <td>Bank Withdrawal</td>\n",
              "      <td>25.1</td>\n",
              "      <td>25.10</td>\n",
              "      <td>0.0</td>\n",
              "      <td>0</td>\n",
              "      <td>0.00</td>\n",
              "      <td>25.10</td>\n",
              "      <td>Churned</td>\n",
              "      <td>Competitor</td>\n",
              "      <td>Competitor made better offer</td>\n",
              "    </tr>\n",
              "  </tbody>\n",
              "</table>\n",
              "<p>5 rows × 38 columns</p>\n",
              "</div>\n",
              "      <button class=\"colab-df-convert\" onclick=\"convertToInteractive('df-5d9cf4f5-3ec8-4279-a443-016f475ff12c')\"\n",
              "              title=\"Convert this dataframe to an interactive table.\"\n",
              "              style=\"display:none;\">\n",
              "        \n",
              "  <svg xmlns=\"http://www.w3.org/2000/svg\" height=\"24px\"viewBox=\"0 0 24 24\"\n",
              "       width=\"24px\">\n",
              "    <path d=\"M0 0h24v24H0V0z\" fill=\"none\"/>\n",
              "    <path d=\"M18.56 5.44l.94 2.06.94-2.06 2.06-.94-2.06-.94-.94-2.06-.94 2.06-2.06.94zm-11 1L8.5 8.5l.94-2.06 2.06-.94-2.06-.94L8.5 2.5l-.94 2.06-2.06.94zm10 10l.94 2.06.94-2.06 2.06-.94-2.06-.94-.94-2.06-.94 2.06-2.06.94z\"/><path d=\"M17.41 7.96l-1.37-1.37c-.4-.4-.92-.59-1.43-.59-.52 0-1.04.2-1.43.59L10.3 9.45l-7.72 7.72c-.78.78-.78 2.05 0 2.83L4 21.41c.39.39.9.59 1.41.59.51 0 1.02-.2 1.41-.59l7.78-7.78 2.81-2.81c.8-.78.8-2.07 0-2.86zM5.41 20L4 18.59l7.72-7.72 1.47 1.35L5.41 20z\"/>\n",
              "  </svg>\n",
              "      </button>\n",
              "      \n",
              "  <style>\n",
              "    .colab-df-container {\n",
              "      display:flex;\n",
              "      flex-wrap:wrap;\n",
              "      gap: 12px;\n",
              "    }\n",
              "\n",
              "    .colab-df-convert {\n",
              "      background-color: #E8F0FE;\n",
              "      border: none;\n",
              "      border-radius: 50%;\n",
              "      cursor: pointer;\n",
              "      display: none;\n",
              "      fill: #1967D2;\n",
              "      height: 32px;\n",
              "      padding: 0 0 0 0;\n",
              "      width: 32px;\n",
              "    }\n",
              "\n",
              "    .colab-df-convert:hover {\n",
              "      background-color: #E2EBFA;\n",
              "      box-shadow: 0px 1px 2px rgba(60, 64, 67, 0.3), 0px 1px 3px 1px rgba(60, 64, 67, 0.15);\n",
              "      fill: #174EA6;\n",
              "    }\n",
              "\n",
              "    [theme=dark] .colab-df-convert {\n",
              "      background-color: #3B4455;\n",
              "      fill: #D2E3FC;\n",
              "    }\n",
              "\n",
              "    [theme=dark] .colab-df-convert:hover {\n",
              "      background-color: #434B5C;\n",
              "      box-shadow: 0px 1px 3px 1px rgba(0, 0, 0, 0.15);\n",
              "      filter: drop-shadow(0px 1px 2px rgba(0, 0, 0, 0.3));\n",
              "      fill: #FFFFFF;\n",
              "    }\n",
              "  </style>\n",
              "\n",
              "      <script>\n",
              "        const buttonEl =\n",
              "          document.querySelector('#df-5d9cf4f5-3ec8-4279-a443-016f475ff12c button.colab-df-convert');\n",
              "        buttonEl.style.display =\n",
              "          google.colab.kernel.accessAllowed ? 'block' : 'none';\n",
              "\n",
              "        async function convertToInteractive(key) {\n",
              "          const element = document.querySelector('#df-5d9cf4f5-3ec8-4279-a443-016f475ff12c');\n",
              "          const dataTable =\n",
              "            await google.colab.kernel.invokeFunction('convertToInteractive',\n",
              "                                                     [key], {});\n",
              "          if (!dataTable) return;\n",
              "\n",
              "          const docLinkHtml = 'Like what you see? Visit the ' +\n",
              "            '<a target=\"_blank\" href=https://colab.research.google.com/notebooks/data_table.ipynb>data table notebook</a>'\n",
              "            + ' to learn more about interactive tables.';\n",
              "          element.innerHTML = '';\n",
              "          dataTable['output_type'] = 'display_data';\n",
              "          await google.colab.output.renderOutput(dataTable, element);\n",
              "          const docLink = document.createElement('div');\n",
              "          docLink.innerHTML = docLinkHtml;\n",
              "          element.appendChild(docLink);\n",
              "        }\n",
              "      </script>\n",
              "    </div>\n",
              "  </div>\n",
              "  "
            ]
          },
          "metadata": {},
          "execution_count": 10
        }
      ]
    },
    {
      "cell_type": "code",
      "source": [
        "df_churned.shape"
      ],
      "metadata": {
        "colab": {
          "base_uri": "https://localhost:8080/"
        },
        "id": "iw4CG9UGEmaD",
        "outputId": "3044bd1c-0ed8-4257-8e2b-9a11317763f8"
      },
      "execution_count": null,
      "outputs": [
        {
          "output_type": "execute_result",
          "data": {
            "text/plain": [
              "(1869, 38)"
            ]
          },
          "metadata": {},
          "execution_count": 11
        }
      ]
    },
    {
      "cell_type": "code",
      "source": [
        "# criando um DataFrame contendo apenas aqueles que ficaram\n",
        "df_stayed = df_customers.loc[df_customers['Customer Status'] == 'Stayed']"
      ],
      "metadata": {
        "id": "4ZFaOaC_GOKg"
      },
      "execution_count": null,
      "outputs": []
    },
    {
      "cell_type": "code",
      "source": [
        "df_stayed.shape"
      ],
      "metadata": {
        "colab": {
          "base_uri": "https://localhost:8080/"
        },
        "id": "f5kcxZ7dGOAL",
        "outputId": "0b687c6d-c959-4ec6-eb97-00ba26c37d26"
      },
      "execution_count": null,
      "outputs": [
        {
          "output_type": "execute_result",
          "data": {
            "text/plain": [
              "(4720, 38)"
            ]
          },
          "metadata": {},
          "execution_count": 13
        }
      ]
    },
    {
      "cell_type": "markdown",
      "source": [
        "## Age"
      ],
      "metadata": {
        "id": "VYU9WydVE5Y6"
      }
    },
    {
      "cell_type": "code",
      "source": [
        "df_churned.Age.value_counts()"
      ],
      "metadata": {
        "id": "51Il7uiBEpm7",
        "colab": {
          "base_uri": "https://localhost:8080/"
        },
        "outputId": "73bb533d-eefe-4165-e1ff-0ae51f656a87"
      },
      "execution_count": null,
      "outputs": [
        {
          "output_type": "execute_result",
          "data": {
            "text/plain": [
              "44    41\n",
              "53    41\n",
              "47    41\n",
              "68    40\n",
              "39    39\n",
              "      ..\n",
              "43    22\n",
              "45    20\n",
              "19    18\n",
              "24    18\n",
              "72    15\n",
              "Name: Age, Length: 62, dtype: int64"
            ]
          },
          "metadata": {},
          "execution_count": 14
        }
      ]
    },
    {
      "cell_type": "code",
      "source": [
        "# Distribuição de idade - CHURNED\n",
        "df_churned.Age.hist()"
      ],
      "metadata": {
        "colab": {
          "base_uri": "https://localhost:8080/",
          "height": 283
        },
        "id": "YVipoDb5E9ps",
        "outputId": "54835a90-5779-41d5-f98b-166335eeb49d"
      },
      "execution_count": null,
      "outputs": [
        {
          "output_type": "execute_result",
          "data": {
            "text/plain": [
              "<matplotlib.axes._subplots.AxesSubplot at 0x7f5255697810>"
            ]
          },
          "metadata": {},
          "execution_count": 15
        },
        {
          "output_type": "display_data",
          "data": {
            "text/plain": [
              "<Figure size 432x288 with 1 Axes>"
            ],
            "image/png": "[encoded data removed]"
          },
          "metadata": {
            "needs_background": "light"
          }
        }
      ]
    },
    {
      "cell_type": "code",
      "source": [
        "df_stayed.Age.value_counts()"
      ],
      "metadata": {
        "id": "lLvyQhkTGb9X",
        "colab": {
          "base_uri": "https://localhost:8080/"
        },
        "outputId": "e9e1b7ee-cb01-480d-8f46-fda56b72dd1f"
      },
      "execution_count": null,
      "outputs": [
        {
          "output_type": "execute_result",
          "data": {
            "text/plain": [
              "56    110\n",
              "23    109\n",
              "40    106\n",
              "42    104\n",
              "47    103\n",
              "     ... \n",
              "67     37\n",
              "66     37\n",
              "80     35\n",
              "74     35\n",
              "78     33\n",
              "Name: Age, Length: 62, dtype: int64"
            ]
          },
          "metadata": {},
          "execution_count": 16
        }
      ]
    },
    {
      "cell_type": "code",
      "source": [
        "# Distribuição de idade - STAYED\n",
        "df_stayed.Age.hist()"
      ],
      "metadata": {
        "colab": {
          "base_uri": "https://localhost:8080/",
          "height": 283
        },
        "id": "b8SvSCcgGbiV",
        "outputId": "91d6b2cf-6233-4305-a9c9-df52787555ac"
      },
      "execution_count": null,
      "outputs": [
        {
          "output_type": "execute_result",
          "data": {
            "text/plain": [
              "<matplotlib.axes._subplots.AxesSubplot at 0x7f52555f1390>"
            ]
          },
          "metadata": {},
          "execution_count": 17
        },
        {
          "output_type": "display_data",
          "data": {
            "text/plain": [
              "<Figure size 432x288 with 1 Axes>"
            ],
            "image/png": "[encoded data removed]"
          },
          "metadata": {
            "needs_background": "light"
          }
        }
      ]
    },
    {
      "cell_type": "markdown",
      "source": [
        "Na proporção de idade, os mais velhos possuem maior tendência a sair. "
      ],
      "metadata": {
        "id": "Vo3o0TuVGznl"
      }
    },
    {
      "cell_type": "markdown",
      "source": [
        "## Payment Method"
      ],
      "metadata": {
        "id": "MwPLxg_gFotv"
      }
    },
    {
      "cell_type": "code",
      "source": [
        "# Método de pagamento - CHURNED\n",
        "df_churned['Payment Method'].value_counts()"
      ],
      "metadata": {
        "colab": {
          "base_uri": "https://localhost:8080/"
        },
        "id": "Up8f-HpMFBMz",
        "outputId": "64a19de8-3382-4c30-ad33-a38e8a16f84f"
      },
      "execution_count": null,
      "outputs": [
        {
          "output_type": "execute_result",
          "data": {
            "text/plain": [
              "Bank Withdrawal    1329\n",
              "Credit Card         398\n",
              "Mailed Check        142\n",
              "Name: Payment Method, dtype: int64"
            ]
          },
          "metadata": {},
          "execution_count": 18
        }
      ]
    },
    {
      "cell_type": "code",
      "source": [
        "df_churned['Payment Method'].value_counts() / df_churned.shape[0] * 100"
      ],
      "metadata": {
        "colab": {
          "base_uri": "https://localhost:8080/"
        },
        "id": "drltTZGSIgNU",
        "outputId": "f8e3fc36-1f85-44ac-b247-a3e56275c1a5"
      },
      "execution_count": null,
      "outputs": [
        {
          "output_type": "execute_result",
          "data": {
            "text/plain": [
              "Bank Withdrawal    71.107544\n",
              "Credit Card        21.294810\n",
              "Mailed Check        7.597646\n",
              "Name: Payment Method, dtype: float64"
            ]
          },
          "metadata": {},
          "execution_count": 19
        }
      ]
    },
    {
      "cell_type": "code",
      "source": [
        "# Método de pagamento - STAYED\n",
        "df_stayed['Payment Method'].value_counts()"
      ],
      "metadata": {
        "colab": {
          "base_uri": "https://localhost:8080/"
        },
        "id": "ah29HDZZIlXa",
        "outputId": "6515a70c-5d47-4f02-f91c-50da2692139c"
      },
      "execution_count": null,
      "outputs": [
        {
          "output_type": "execute_result",
          "data": {
            "text/plain": [
              "Bank Withdrawal    2399\n",
              "Credit Card        2120\n",
              "Mailed Check        201\n",
              "Name: Payment Method, dtype: int64"
            ]
          },
          "metadata": {},
          "execution_count": 20
        }
      ]
    },
    {
      "cell_type": "code",
      "source": [
        "df_stayed['Payment Method'].value_counts() / df_stayed.shape[0] * 100"
      ],
      "metadata": {
        "colab": {
          "base_uri": "https://localhost:8080/"
        },
        "id": "QZU0tlSNIoTn",
        "outputId": "e7f1e778-9733-4917-e2b8-17b4ce34ff41"
      },
      "execution_count": null,
      "outputs": [
        {
          "output_type": "execute_result",
          "data": {
            "text/plain": [
              "Bank Withdrawal    50.826271\n",
              "Credit Card        44.915254\n",
              "Mailed Check        4.258475\n",
              "Name: Payment Method, dtype: float64"
            ]
          },
          "metadata": {},
          "execution_count": 21
        }
      ]
    },
    {
      "cell_type": "markdown",
      "source": [
        "## Internet Service"
      ],
      "metadata": {
        "id": "aUreyv0tJ4Hv"
      }
    },
    {
      "cell_type": "code",
      "source": [
        "# Adicional de internet - CHURNED\n",
        "df_churned['Internet Service'].value_counts()"
      ],
      "metadata": {
        "colab": {
          "base_uri": "https://localhost:8080/"
        },
        "id": "yxESTfFHFwJ7",
        "outputId": "1082ed6d-5e0b-4184-dfbb-e06ff123ea03"
      },
      "execution_count": null,
      "outputs": [
        {
          "output_type": "execute_result",
          "data": {
            "text/plain": [
              "Yes    1756\n",
              "No      113\n",
              "Name: Internet Service, dtype: int64"
            ]
          },
          "metadata": {},
          "execution_count": 22
        }
      ]
    },
    {
      "cell_type": "code",
      "source": [
        "df_churned['Internet Service'].value_counts() / df_churned.shape[0] * 100"
      ],
      "metadata": {
        "colab": {
          "base_uri": "https://localhost:8080/"
        },
        "id": "V7YK_6FDKDa6",
        "outputId": "6b67d6ad-11db-4edd-995b-78621a5ef4f4"
      },
      "execution_count": null,
      "outputs": [
        {
          "output_type": "execute_result",
          "data": {
            "text/plain": [
              "Yes    93.953986\n",
              "No      6.046014\n",
              "Name: Internet Service, dtype: float64"
            ]
          },
          "metadata": {},
          "execution_count": 23
        }
      ]
    },
    {
      "cell_type": "code",
      "source": [
        "# Adicional de internet - STAYED\n",
        "\n",
        "df_stayed['Internet Service'].value_counts()"
      ],
      "metadata": {
        "colab": {
          "base_uri": "https://localhost:8080/"
        },
        "id": "CwvPT4CbJ_sa",
        "outputId": "5ebc5099-46c1-4915-b4c3-a112d74cee01"
      },
      "execution_count": null,
      "outputs": [
        {
          "output_type": "execute_result",
          "data": {
            "text/plain": [
              "Yes    3489\n",
              "No     1231\n",
              "Name: Internet Service, dtype: int64"
            ]
          },
          "metadata": {},
          "execution_count": 24
        }
      ]
    },
    {
      "cell_type": "code",
      "source": [
        "df_stayed['Internet Service'].value_counts() / df_stayed.shape[0] * 100"
      ],
      "metadata": {
        "colab": {
          "base_uri": "https://localhost:8080/"
        },
        "id": "rKYLNR1_QlVH",
        "outputId": "e4e5fc0c-5640-40ba-a303-52465bb6a6b2"
      },
      "execution_count": null,
      "outputs": [
        {
          "output_type": "execute_result",
          "data": {
            "text/plain": [
              "Yes    73.919492\n",
              "No     26.080508\n",
              "Name: Internet Service, dtype: float64"
            ]
          },
          "metadata": {},
          "execution_count": 25
        }
      ]
    },
    {
      "cell_type": "markdown",
      "source": [
        "Seria uma insatisfação com o serviço de internet ?"
      ],
      "metadata": {
        "id": "66LMGPA2QwMd"
      }
    },
    {
      "cell_type": "markdown",
      "source": [
        "## Unlimited Data"
      ],
      "metadata": {
        "id": "JryRYdS3Q30e"
      }
    },
    {
      "cell_type": "code",
      "source": [
        "# Dados ilimitados - CHURNED\n",
        "df_churned['Unlimited Data'].value_counts()"
      ],
      "metadata": {
        "colab": {
          "base_uri": "https://localhost:8080/"
        },
        "id": "3WsaHHFIQzyo",
        "outputId": "3a374e87-7d12-4187-cd5a-3cb685746f54"
      },
      "execution_count": null,
      "outputs": [
        {
          "output_type": "execute_result",
          "data": {
            "text/plain": [
              "Yes    1502\n",
              "No      254\n",
              "Name: Unlimited Data, dtype: int64"
            ]
          },
          "metadata": {},
          "execution_count": 26
        }
      ]
    },
    {
      "cell_type": "code",
      "source": [
        "df_churned['Unlimited Data'].value_counts() / df_churned.shape[0] * 100"
      ],
      "metadata": {
        "colab": {
          "base_uri": "https://localhost:8080/"
        },
        "id": "5GHOGWVlQpZW",
        "outputId": "8f7c4ce2-7170-4635-b98b-f1fd7a55fde0"
      },
      "execution_count": null,
      "outputs": [
        {
          "output_type": "execute_result",
          "data": {
            "text/plain": [
              "Yes    80.363831\n",
              "No     13.590155\n",
              "Name: Unlimited Data, dtype: float64"
            ]
          },
          "metadata": {},
          "execution_count": 27
        }
      ]
    },
    {
      "cell_type": "code",
      "source": [
        "df_churned['Unlimited Data'].isnull().sum()"
      ],
      "metadata": {
        "colab": {
          "base_uri": "https://localhost:8080/"
        },
        "id": "ueG1-TgLRV0a",
        "outputId": "a7420380-7cc0-4b6f-b7fc-d4692e956b5b"
      },
      "execution_count": null,
      "outputs": [
        {
          "output_type": "execute_result",
          "data": {
            "text/plain": [
              "113"
            ]
          },
          "metadata": {},
          "execution_count": 28
        }
      ]
    },
    {
      "cell_type": "markdown",
      "source": [
        "Os nulo são aqueles que não possuem serviço de internet, e por isso, não faz sentido ter ou não o pacote de dados ilimitados"
      ],
      "metadata": {
        "id": "8_Q1kTvtVYYs"
      }
    },
    {
      "cell_type": "code",
      "source": [
        "# porcentagem correta retirando os valores nulos \n",
        "df_churned['Unlimited Data'].value_counts() / df_churned.loc[df_churned['Unlimited Data'].notnull()].shape[0] * 100"
      ],
      "metadata": {
        "colab": {
          "base_uri": "https://localhost:8080/"
        },
        "id": "sCaSw73LK3aY",
        "outputId": "0e343f00-ce27-4aca-f988-32ea3b6702c0"
      },
      "execution_count": null,
      "outputs": [
        {
          "output_type": "execute_result",
          "data": {
            "text/plain": [
              "Yes    85.535308\n",
              "No     14.464692\n",
              "Name: Unlimited Data, dtype: float64"
            ]
          },
          "metadata": {},
          "execution_count": 36
        }
      ]
    },
    {
      "cell_type": "code",
      "source": [
        "df_churned.loc[df_churned['Unlimited Data'].notnull()].shape[0]"
      ],
      "metadata": {
        "colab": {
          "base_uri": "https://localhost:8080/"
        },
        "id": "DHZmPKwkJ2Uc",
        "outputId": "3151cfe0-ac6a-4bcf-e3b7-ef9bc496262a"
      },
      "execution_count": null,
      "outputs": [
        {
          "output_type": "execute_result",
          "data": {
            "text/plain": [
              "1756"
            ]
          },
          "metadata": {},
          "execution_count": 35
        }
      ]
    },
    {
      "cell_type": "code",
      "source": [
        "# Dados ilimitados - STAYED\n",
        "df_stayed['Unlimited Data'].value_counts()"
      ],
      "metadata": {
        "colab": {
          "base_uri": "https://localhost:8080/"
        },
        "id": "yvj7JzJaRHSe",
        "outputId": "92898bec-5961-46db-c699-99ecfb4d3ae5"
      },
      "execution_count": null,
      "outputs": [
        {
          "output_type": "execute_result",
          "data": {
            "text/plain": [
              "Yes    3019\n",
              "No      470\n",
              "Name: Unlimited Data, dtype: int64"
            ]
          },
          "metadata": {},
          "execution_count": 29
        }
      ]
    },
    {
      "cell_type": "code",
      "source": [
        "df_stayed['Unlimited Data'].value_counts() / df_stayed.shape[0] * 100"
      ],
      "metadata": {
        "colab": {
          "base_uri": "https://localhost:8080/"
        },
        "id": "MFLMqugLRMBO",
        "outputId": "0031038a-1989-4b73-f5ff-c42aa8202551"
      },
      "execution_count": null,
      "outputs": [
        {
          "output_type": "execute_result",
          "data": {
            "text/plain": [
              "Yes    63.961864\n",
              "No      9.957627\n",
              "Name: Unlimited Data, dtype: float64"
            ]
          },
          "metadata": {},
          "execution_count": 30
        }
      ]
    },
    {
      "cell_type": "code",
      "source": [
        "df_stayed['Unlimited Data'].isnull().sum()"
      ],
      "metadata": {
        "colab": {
          "base_uri": "https://localhost:8080/"
        },
        "id": "4vYCzUfjRQMO",
        "outputId": "ae67c2b1-9ec4-44a2-fde3-f44acde9e2bb"
      },
      "execution_count": null,
      "outputs": [
        {
          "output_type": "execute_result",
          "data": {
            "text/plain": [
              "1231"
            ]
          },
          "metadata": {},
          "execution_count": 31
        }
      ]
    },
    {
      "cell_type": "markdown",
      "source": [
        "Os nulo são aqueles que não possuem serviço de internet, e por isso, não faz sentido ter ou não o pacote de dados ilimitados"
      ],
      "metadata": {
        "id": "j15qHfsXLvIM"
      }
    },
    {
      "cell_type": "code",
      "source": [
        "# porcentagem correta retirando os valores nulos\n",
        "df_stayed['Unlimited Data'].value_counts() / df_stayed.loc[df_stayed['Unlimited Data'].notnull()].shape[0] * 100"
      ],
      "metadata": {
        "id": "jW-3MzFGRdAX",
        "colab": {
          "base_uri": "https://localhost:8080/"
        },
        "outputId": "a9db757d-4f78-410c-ac6b-149beb0e2cc8"
      },
      "execution_count": null,
      "outputs": [
        {
          "output_type": "execute_result",
          "data": {
            "text/plain": [
              "Yes    86.529091\n",
              "No     13.470909\n",
              "Name: Unlimited Data, dtype: float64"
            ]
          },
          "metadata": {},
          "execution_count": 37
        }
      ]
    },
    {
      "cell_type": "markdown",
      "source": [
        "Depois que foram corrigidos, retirando os valores, não se percebe mais a dieferença do uso do serviço de dados ilimitados entre Churned e Stayed"
      ],
      "metadata": {
        "id": "PO2bWGFsMBm0"
      }
    },
    {
      "cell_type": "markdown",
      "source": [
        "## Monthly Charge"
      ],
      "metadata": {
        "id": "-0rDvcP0MSHR"
      }
    },
    {
      "cell_type": "code",
      "source": [
        "# CHURNED\n",
        "df_churned['Monthly Charge'].hist()"
      ],
      "metadata": {
        "colab": {
          "base_uri": "https://localhost:8080/",
          "height": 283
        },
        "id": "w9QREsIJL4XX",
        "outputId": "b8dbe0f5-48b9-4c8d-b75f-9e1d4efdf880"
      },
      "execution_count": null,
      "outputs": [
        {
          "output_type": "execute_result",
          "data": {
            "text/plain": [
              "<matplotlib.axes._subplots.AxesSubplot at 0x7f5255074850>"
            ]
          },
          "metadata": {},
          "execution_count": 38
        },
        {
          "output_type": "display_data",
          "data": {
            "text/plain": [
              "<Figure size 432x288 with 1 Axes>"
            ],
            "image/png": "[encoded data removed]"
          },
          "metadata": {
            "needs_background": "light"
          }
        }
      ]
    },
    {
      "cell_type": "code",
      "source": [
        "df_churned['Monthly Charge'].max()"
      ],
      "metadata": {
        "colab": {
          "base_uri": "https://localhost:8080/"
        },
        "id": "K91uMFlJMqM2",
        "outputId": "5411dbc5-f3b0-44f4-adb2-4a5ec1a7f36c"
      },
      "execution_count": null,
      "outputs": [
        {
          "output_type": "execute_result",
          "data": {
            "text/plain": [
              "118.35"
            ]
          },
          "metadata": {},
          "execution_count": 39
        }
      ]
    },
    {
      "cell_type": "code",
      "source": [
        "df_churned['Monthly Charge'].loc[df_churned['Monthly Charge'] > 15].min()"
      ],
      "metadata": {
        "colab": {
          "base_uri": "https://localhost:8080/"
        },
        "id": "iNe9fO_uM2l8",
        "outputId": "e908ee77-9211-48f5-9ebd-e55934c277a6"
      },
      "execution_count": null,
      "outputs": [
        {
          "output_type": "execute_result",
          "data": {
            "text/plain": [
              "18.85"
            ]
          },
          "metadata": {},
          "execution_count": 43
        }
      ]
    },
    {
      "cell_type": "code",
      "source": [
        "df_churned['Monthly Charge'].loc[df_churned['Monthly Charge'] > 15].mean()"
      ],
      "metadata": {
        "colab": {
          "base_uri": "https://localhost:8080/"
        },
        "id": "4GIEJy9NM3lH",
        "outputId": "7c057da0-0025-4d26-9852-919583037566"
      },
      "execution_count": null,
      "outputs": [
        {
          "output_type": "execute_result",
          "data": {
            "text/plain": [
              "74.62297444263186"
            ]
          },
          "metadata": {},
          "execution_count": 44
        }
      ]
    },
    {
      "cell_type": "code",
      "source": [
        "df_churned['Monthly Charge'].loc[df_churned['Monthly Charge'] > 15].median()"
      ],
      "metadata": {
        "colab": {
          "base_uri": "https://localhost:8080/"
        },
        "id": "BEp4Rx6SNJmZ",
        "outputId": "233949cc-0485-4f11-8ba1-601d7019afc3"
      },
      "execution_count": null,
      "outputs": [
        {
          "output_type": "execute_result",
          "data": {
            "text/plain": [
              "79.65"
            ]
          },
          "metadata": {},
          "execution_count": 45
        }
      ]
    },
    {
      "cell_type": "code",
      "source": [
        "# STAYED\n",
        "df_stayed['Monthly Charge'].hist()"
      ],
      "metadata": {
        "colab": {
          "base_uri": "https://localhost:8080/",
          "height": 283
        },
        "id": "2S38QBavNLWe",
        "outputId": "e674aa1e-88cd-4d7f-f31c-b9c55ab89f48"
      },
      "execution_count": null,
      "outputs": [
        {
          "output_type": "execute_result",
          "data": {
            "text/plain": [
              "<matplotlib.axes._subplots.AxesSubplot at 0x7f5252fc9ad0>"
            ]
          },
          "metadata": {},
          "execution_count": 46
        },
        {
          "output_type": "display_data",
          "data": {
            "text/plain": [
              "<Figure size 432x288 with 1 Axes>"
            ],
            "image/png": "[encoded data removed]"
          },
          "metadata": {
            "needs_background": "light"
          }
        }
      ]
    },
    {
      "cell_type": "code",
      "source": [
        "# STAYED\n",
        "df_stayed['Monthly Charge'].max()"
      ],
      "metadata": {
        "colab": {
          "base_uri": "https://localhost:8080/"
        },
        "id": "2lhUkEQfNT41",
        "outputId": "d263152c-b8cc-4999-dd29-e4cf8aa04a9f"
      },
      "execution_count": null,
      "outputs": [
        {
          "output_type": "execute_result",
          "data": {
            "text/plain": [
              "118.75"
            ]
          },
          "metadata": {},
          "execution_count": 47
        }
      ]
    },
    {
      "cell_type": "code",
      "source": [
        "df_stayed['Monthly Charge'].loc[df_stayed['Monthly Charge'] > 15].min()"
      ],
      "metadata": {
        "colab": {
          "base_uri": "https://localhost:8080/"
        },
        "id": "sbaEGWFLNbet",
        "outputId": "ba2a3364-8fef-43f9-f4b5-391a02b7f2e4"
      },
      "execution_count": null,
      "outputs": [
        {
          "output_type": "execute_result",
          "data": {
            "text/plain": [
              "18.25"
            ]
          },
          "metadata": {},
          "execution_count": 48
        }
      ]
    },
    {
      "cell_type": "code",
      "source": [
        "df_stayed['Monthly Charge'].loc[df_stayed['Monthly Charge'] > 15].mean()"
      ],
      "metadata": {
        "colab": {
          "base_uri": "https://localhost:8080/"
        },
        "id": "O5PxZOHpNjtu",
        "outputId": "2899e4dd-40cf-419a-b0a4-516a2d24d97d"
      },
      "execution_count": null,
      "outputs": [
        {
          "output_type": "execute_result",
          "data": {
            "text/plain": [
              "62.959361518550466"
            ]
          },
          "metadata": {},
          "execution_count": 49
        }
      ]
    },
    {
      "cell_type": "code",
      "source": [
        "df_stayed['Monthly Charge'].loc[df_stayed['Monthly Charge'] > 15].median()"
      ],
      "metadata": {
        "colab": {
          "base_uri": "https://localhost:8080/"
        },
        "id": "YYzoKMTGNntd",
        "outputId": "d76556de-ddc8-448f-c86f-29af90d6cd2f"
      },
      "execution_count": null,
      "outputs": [
        {
          "output_type": "execute_result",
          "data": {
            "text/plain": [
              "66.4"
            ]
          },
          "metadata": {},
          "execution_count": 50
        }
      ]
    },
    {
      "cell_type": "markdown",
      "source": [
        "# High Value Customers"
      ],
      "metadata": {
        "id": "nBKjiadLOY1y"
      }
    },
    {
      "cell_type": "code",
      "source": [
        "df_customers['Total Revenue'].value_counts()"
      ],
      "metadata": {
        "colab": {
          "base_uri": "https://localhost:8080/"
        },
        "id": "jA2C5uckOcAF",
        "outputId": "8955dc72-6035-4031-a75a-4b80afe88cb7"
      },
      "execution_count": null,
      "outputs": [
        {
          "output_type": "execute_result",
          "data": {
            "text/plain": [
              "24.80      3\n",
              "116.27     3\n",
              "68.41      3\n",
              "66.56      3\n",
              "3386.40    2\n",
              "          ..\n",
              "976.70     1\n",
              "300.65     1\n",
              "3258.42    1\n",
              "1713.52    1\n",
              "3707.60    1\n",
              "Name: Total Revenue, Length: 6975, dtype: int64"
            ]
          },
          "metadata": {},
          "execution_count": 52
        }
      ]
    },
    {
      "cell_type": "code",
      "source": [
        "df_customers['Total Revenue'].hist()"
      ],
      "metadata": {
        "colab": {
          "base_uri": "https://localhost:8080/",
          "height": 283
        },
        "id": "n0zFltLWNqsV",
        "outputId": "1cdf5148-2a36-41c8-9378-34e64e4fe9ce"
      },
      "execution_count": null,
      "outputs": [
        {
          "output_type": "execute_result",
          "data": {
            "text/plain": [
              "<matplotlib.axes._subplots.AxesSubplot at 0x7f5252f01990>"
            ]
          },
          "metadata": {},
          "execution_count": 53
        },
        {
          "output_type": "display_data",
          "data": {
            "text/plain": [
              "<Figure size 432x288 with 1 Axes>"
            ],
            "image/png": "[encoded data removed]"
          },
          "metadata": {
            "needs_background": "light"
          }
        }
      ]
    },
    {
      "cell_type": "code",
      "source": [
        "df_customers['Total Revenue'].mean()"
      ],
      "metadata": {
        "colab": {
          "base_uri": "https://localhost:8080/"
        },
        "id": "a8mF6RUNO6Xi",
        "outputId": "9806db38-575e-4b52-d9f4-a7e86ced699c"
      },
      "execution_count": null,
      "outputs": [
        {
          "output_type": "execute_result",
          "data": {
            "text/plain": [
              "3034.3790558000856"
            ]
          },
          "metadata": {},
          "execution_count": 54
        }
      ]
    },
    {
      "cell_type": "code",
      "source": [
        "df_customers['Total Revenue'].max()"
      ],
      "metadata": {
        "colab": {
          "base_uri": "https://localhost:8080/"
        },
        "id": "4gIoB4M6PAot",
        "outputId": "0a7d9e3e-c759-4b31-f78d-1eac0d6a6c28"
      },
      "execution_count": null,
      "outputs": [
        {
          "output_type": "execute_result",
          "data": {
            "text/plain": [
              "11979.34"
            ]
          },
          "metadata": {},
          "execution_count": 55
        }
      ]
    },
    {
      "cell_type": "code",
      "source": [
        "df_customers.loc[df_customers['Total Revenue'] == 11979.34]"
      ],
      "metadata": {
        "colab": {
          "base_uri": "https://localhost:8080/",
          "height": 243
        },
        "id": "ZKdrjor9Phss",
        "outputId": "3a1ffc69-7f97-48cf-bbb1-1dd30a017b30"
      },
      "execution_count": null,
      "outputs": [
        {
          "output_type": "execute_result",
          "data": {
            "text/plain": [
              "   Customer ID  Gender  Age Married  Number of Dependents       City  \\\n",
              "95  0164-APGRB  Female   56      No                     0  Calistoga   \n",
              "\n",
              "    Zip Code   Latitude   Longitude  Number of Referrals  ...  \\\n",
              "95     94515  38.629618 -122.593216                    0  ...   \n",
              "\n",
              "     Payment Method Monthly Charge Total Charges  Total Refunds  \\\n",
              "95  Bank Withdrawal          114.9        8496.7            0.0   \n",
              "\n",
              "   Total Extra Data Charges Total Long Distance Charges Total Revenue  \\\n",
              "95                        0                     3482.64      11979.34   \n",
              "\n",
              "    Customer Status Churn Category Churn Reason  \n",
              "95           Stayed            NaN          NaN  \n",
              "\n",
              "[1 rows x 38 columns]"
            ],
            "text/html": [
              "\n",
              "  <div id=\"df-2431ec27-8bed-41ad-a3e8-3694aab61e06\">\n",
              "    <div class=\"colab-df-container\">\n",
              "      <div>\n",
              "<style scoped>\n",
              "    .dataframe tbody tr th:only-of-type {\n",
              "        vertical-align: middle;\n",
              "    }\n",
              "\n",
              "    .dataframe tbody tr th {\n",
              "        vertical-align: top;\n",
              "    }\n",
              "\n",
              "    .dataframe thead th {\n",
              "        text-align: right;\n",
              "    }\n",
              "</style>\n",
              "<table border=\"1\" class=\"dataframe\">\n",
              "  <thead>\n",
              "    <tr style=\"text-align: right;\">\n",
              "      <th></th>\n",
              "      <th>Customer ID</th>\n",
              "      <th>Gender</th>\n",
              "      <th>Age</th>\n",
              "      <th>Married</th>\n",
              "      <th>Number of Dependents</th>\n",
              "      <th>City</th>\n",
              "      <th>Zip Code</th>\n",
              "      <th>Latitude</th>\n",
              "      <th>Longitude</th>\n",
              "      <th>Number of Referrals</th>\n",
              "      <th>...</th>\n",
              "      <th>Payment Method</th>\n",
              "      <th>Monthly Charge</th>\n",
              "      <th>Total Charges</th>\n",
              "      <th>Total Refunds</th>\n",
              "      <th>Total Extra Data Charges</th>\n",
              "      <th>Total Long Distance Charges</th>\n",
              "      <th>Total Revenue</th>\n",
              "      <th>Customer Status</th>\n",
              "      <th>Churn Category</th>\n",
              "      <th>Churn Reason</th>\n",
              "    </tr>\n",
              "  </thead>\n",
              "  <tbody>\n",
              "    <tr>\n",
              "      <th>95</th>\n",
              "      <td>0164-APGRB</td>\n",
              "      <td>Female</td>\n",
              "      <td>56</td>\n",
              "      <td>No</td>\n",
              "      <td>0</td>\n",
              "      <td>Calistoga</td>\n",
              "      <td>94515</td>\n",
              "      <td>38.629618</td>\n",
              "      <td>-122.593216</td>\n",
              "      <td>0</td>\n",
              "      <td>...</td>\n",
              "      <td>Bank Withdrawal</td>\n",
              "      <td>114.9</td>\n",
              "      <td>8496.7</td>\n",
              "      <td>0.0</td>\n",
              "      <td>0</td>\n",
              "      <td>3482.64</td>\n",
              "      <td>11979.34</td>\n",
              "      <td>Stayed</td>\n",
              "      <td>NaN</td>\n",
              "      <td>NaN</td>\n",
              "    </tr>\n",
              "  </tbody>\n",
              "</table>\n",
              "<p>1 rows × 38 columns</p>\n",
              "</div>\n",
              "      <button class=\"colab-df-convert\" onclick=\"convertToInteractive('df-2431ec27-8bed-41ad-a3e8-3694aab61e06')\"\n",
              "              title=\"Convert this dataframe to an interactive table.\"\n",
              "              style=\"display:none;\">\n",
              "        \n",
              "  <svg xmlns=\"http://www.w3.org/2000/svg\" height=\"24px\"viewBox=\"0 0 24 24\"\n",
              "       width=\"24px\">\n",
              "    <path d=\"M0 0h24v24H0V0z\" fill=\"none\"/>\n",
              "    <path d=\"M18.56 5.44l.94 2.06.94-2.06 2.06-.94-2.06-.94-.94-2.06-.94 2.06-2.06.94zm-11 1L8.5 8.5l.94-2.06 2.06-.94-2.06-.94L8.5 2.5l-.94 2.06-2.06.94zm10 10l.94 2.06.94-2.06 2.06-.94-2.06-.94-.94-2.06-.94 2.06-2.06.94z\"/><path d=\"M17.41 7.96l-1.37-1.37c-.4-.4-.92-.59-1.43-.59-.52 0-1.04.2-1.43.59L10.3 9.45l-7.72 7.72c-.78.78-.78 2.05 0 2.83L4 21.41c.39.39.9.59 1.41.59.51 0 1.02-.2 1.41-.59l7.78-7.78 2.81-2.81c.8-.78.8-2.07 0-2.86zM5.41 20L4 18.59l7.72-7.72 1.47 1.35L5.41 20z\"/>\n",
              "  </svg>\n",
              "      </button>\n",
              "      \n",
              "  <style>\n",
              "    .colab-df-container {\n",
              "      display:flex;\n",
              "      flex-wrap:wrap;\n",
              "      gap: 12px;\n",
              "    }\n",
              "\n",
              "    .colab-df-convert {\n",
              "      background-color: #E8F0FE;\n",
              "      border: none;\n",
              "      border-radius: 50%;\n",
              "      cursor: pointer;\n",
              "      display: none;\n",
              "      fill: #1967D2;\n",
              "      height: 32px;\n",
              "      padding: 0 0 0 0;\n",
              "      width: 32px;\n",
              "    }\n",
              "\n",
              "    .colab-df-convert:hover {\n",
              "      background-color: #E2EBFA;\n",
              "      box-shadow: 0px 1px 2px rgba(60, 64, 67, 0.3), 0px 1px 3px 1px rgba(60, 64, 67, 0.15);\n",
              "      fill: #174EA6;\n",
              "    }\n",
              "\n",
              "    [theme=dark] .colab-df-convert {\n",
              "      background-color: #3B4455;\n",
              "      fill: #D2E3FC;\n",
              "    }\n",
              "\n",
              "    [theme=dark] .colab-df-convert:hover {\n",
              "      background-color: #434B5C;\n",
              "      box-shadow: 0px 1px 3px 1px rgba(0, 0, 0, 0.15);\n",
              "      filter: drop-shadow(0px 1px 2px rgba(0, 0, 0, 0.3));\n",
              "      fill: #FFFFFF;\n",
              "    }\n",
              "  </style>\n",
              "\n",
              "      <script>\n",
              "        const buttonEl =\n",
              "          document.querySelector('#df-2431ec27-8bed-41ad-a3e8-3694aab61e06 button.colab-df-convert');\n",
              "        buttonEl.style.display =\n",
              "          google.colab.kernel.accessAllowed ? 'block' : 'none';\n",
              "\n",
              "        async function convertToInteractive(key) {\n",
              "          const element = document.querySelector('#df-2431ec27-8bed-41ad-a3e8-3694aab61e06');\n",
              "          const dataTable =\n",
              "            await google.colab.kernel.invokeFunction('convertToInteractive',\n",
              "                                                     [key], {});\n",
              "          if (!dataTable) return;\n",
              "\n",
              "          const docLinkHtml = 'Like what you see? Visit the ' +\n",
              "            '<a target=\"_blank\" href=https://colab.research.google.com/notebooks/data_table.ipynb>data table notebook</a>'\n",
              "            + ' to learn more about interactive tables.';\n",
              "          element.innerHTML = '';\n",
              "          dataTable['output_type'] = 'display_data';\n",
              "          await google.colab.output.renderOutput(dataTable, element);\n",
              "          const docLink = document.createElement('div');\n",
              "          docLink.innerHTML = docLinkHtml;\n",
              "          element.appendChild(docLink);\n",
              "        }\n",
              "      </script>\n",
              "    </div>\n",
              "  </div>\n",
              "  "
            ]
          },
          "metadata": {},
          "execution_count": 57
        }
      ]
    },
    {
      "cell_type": "markdown",
      "source": [
        "## Contract Type"
      ],
      "metadata": {
        "id": "GzDoj_eySEza"
      }
    },
    {
      "cell_type": "markdown",
      "source": [
        "Existe alguma diferença entre os tipos de contratos daqueles que gastaram abaixo da média X aqueles que gastaram acima da média ?"
      ],
      "metadata": {
        "id": "o3lsuJByQiPD"
      }
    },
    {
      "cell_type": "code",
      "source": [
        "# nova tabela daqueles que gastaram acima da média\n",
        "df_high_value = df_customers.loc[df_customers['Total Revenue'] > 3034.3790558000856]"
      ],
      "metadata": {
        "id": "BY9z-1iOPokF"
      },
      "execution_count": null,
      "outputs": []
    },
    {
      "cell_type": "code",
      "source": [
        "df_high_value['Contract'].value_counts()"
      ],
      "metadata": {
        "colab": {
          "base_uri": "https://localhost:8080/"
        },
        "id": "oAb_e-vrQ7Xj",
        "outputId": "06d90e65-8516-464a-b4d9-84ad09e14c0e"
      },
      "execution_count": null,
      "outputs": [
        {
          "output_type": "execute_result",
          "data": {
            "text/plain": [
              "Two Year          1200\n",
              "One Year           839\n",
              "Month-to-Month     723\n",
              "Name: Contract, dtype: int64"
            ]
          },
          "metadata": {},
          "execution_count": 59
        }
      ]
    },
    {
      "cell_type": "code",
      "source": [
        "df_high_value['Contract'].value_counts() / df_high_value.shape[0] * 100"
      ],
      "metadata": {
        "colab": {
          "base_uri": "https://localhost:8080/"
        },
        "id": "J5VQq-FTRJ0r",
        "outputId": "277e717d-8569-4754-e49f-43fcc5c7a5a6"
      },
      "execution_count": null,
      "outputs": [
        {
          "output_type": "execute_result",
          "data": {
            "text/plain": [
              "Two Year          43.446778\n",
              "One Year          30.376539\n",
              "Month-to-Month    26.176684\n",
              "Name: Contract, dtype: float64"
            ]
          },
          "metadata": {},
          "execution_count": 60
        }
      ]
    },
    {
      "cell_type": "code",
      "source": [
        "# nova tabela daqueles que gastaram abaixo da média\n",
        "df_low_value = df_customers.loc[df_customers['Total Revenue'] <= 3034.3790558000856]"
      ],
      "metadata": {
        "id": "jhuUxJVoRPIr"
      },
      "execution_count": null,
      "outputs": []
    },
    {
      "cell_type": "code",
      "source": [
        "df_low_value['Contract'].value_counts()"
      ],
      "metadata": {
        "colab": {
          "base_uri": "https://localhost:8080/"
        },
        "id": "InpZdCfORUHL",
        "outputId": "9252f68d-44a9-496d-91e3-cc75770aefc1"
      },
      "execution_count": null,
      "outputs": [
        {
          "output_type": "execute_result",
          "data": {
            "text/plain": [
              "Month-to-Month    2887\n",
              "One Year           711\n",
              "Two Year           683\n",
              "Name: Contract, dtype: int64"
            ]
          },
          "metadata": {},
          "execution_count": 62
        }
      ]
    },
    {
      "cell_type": "code",
      "source": [
        "df_low_value['Contract'].value_counts() / df_low_value.shape[0] * 100"
      ],
      "metadata": {
        "colab": {
          "base_uri": "https://localhost:8080/"
        },
        "id": "VQ3h5qEjRXti",
        "outputId": "c3029be9-561d-4111-e372-03e4154505a3"
      },
      "execution_count": null,
      "outputs": [
        {
          "output_type": "execute_result",
          "data": {
            "text/plain": [
              "Month-to-Month    67.437515\n",
              "One Year          16.608269\n",
              "Two Year          15.954216\n",
              "Name: Contract, dtype: float64"
            ]
          },
          "metadata": {},
          "execution_count": 63
        }
      ]
    },
    {
      "cell_type": "markdown",
      "source": [
        "Estimular o usuário a fazer o contratos mais longo"
      ],
      "metadata": {
        "id": "r8fskuK0R0Bj"
      }
    },
    {
      "cell_type": "code",
      "source": [
        ""
      ],
      "metadata": {
        "id": "WCsvpfVZR4Nn"
      },
      "execution_count": null,
      "outputs": []
    },
    {
      "cell_type": "markdown",
      "source": [
        "## Lucro perdido para o próximo trimestre"
      ],
      "metadata": {
        "id": "oUU8RPDlSXPL"
      }
    },
    {
      "cell_type": "code",
      "source": [
        "df_churned['Monthly Charge'].hist()"
      ],
      "metadata": {
        "colab": {
          "base_uri": "https://localhost:8080/",
          "height": 283
        },
        "id": "kTValvFPSa2x",
        "outputId": "d116818b-e6dc-4759-982d-3bcb485741b0"
      },
      "execution_count": null,
      "outputs": [
        {
          "output_type": "execute_result",
          "data": {
            "text/plain": [
              "<matplotlib.axes._subplots.AxesSubplot at 0x7f5252ec6e10>"
            ]
          },
          "metadata": {},
          "execution_count": 65
        },
        {
          "output_type": "display_data",
          "data": {
            "text/plain": [
              "<Figure size 432x288 with 1 Axes>"
            ],
            "image/png": "[encoded data removed]"
          },
          "metadata": {
            "needs_background": "light"
          }
        }
      ]
    },
    {
      "cell_type": "code",
      "source": [
        "df_churned['Monthly Charge'].sum()"
      ],
      "metadata": {
        "colab": {
          "base_uri": "https://localhost:8080/"
        },
        "id": "vfvgnAe5TE0T",
        "outputId": "92e17f13-dabd-4d80-97b0-7cccf66366fc"
      },
      "execution_count": null,
      "outputs": [
        {
          "output_type": "execute_result",
          "data": {
            "text/plain": [
              "137086.65"
            ]
          },
          "metadata": {},
          "execution_count": 66
        }
      ]
    },
    {
      "cell_type": "markdown",
      "source": [
        "Essa é a receita perdida por mês devido a saída dos usuário"
      ],
      "metadata": {
        "id": "VXdRdNsUTsF3"
      }
    },
    {
      "cell_type": "code",
      "source": [
        "df_churned['Monthly Charge'].sum() * 3"
      ],
      "metadata": {
        "colab": {
          "base_uri": "https://localhost:8080/"
        },
        "id": "IH0il8JmTwSv",
        "outputId": "e2de7123-6d18-4d81-eae0-5fb8ad0f76cd"
      },
      "execution_count": null,
      "outputs": [
        {
          "output_type": "execute_result",
          "data": {
            "text/plain": [
              "411259.94999999995"
            ]
          },
          "metadata": {},
          "execution_count": 68
        }
      ]
    },
    {
      "cell_type": "code",
      "source": [
        ""
      ],
      "metadata": {
        "id": "JS7qeWBQbCXI"
      },
      "execution_count": null,
      "outputs": []
    }
  ]
}